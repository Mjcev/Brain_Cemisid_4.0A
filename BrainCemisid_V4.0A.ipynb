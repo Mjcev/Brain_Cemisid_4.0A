{
 "cells": [
  {
   "attachments": {},
   "cell_type": "markdown",
   "id": "9b83a758",
   "metadata": {},
   "source": [
    "### Imports"
   ]
  },
  {
   "cell_type": "code",
   "execution_count": 2,
   "id": "d0df5613",
   "metadata": {},
   "outputs": [],
   "source": [
    "import random\n",
    "import numpy as np"
   ]
  },
  {
   "attachments": {},
   "cell_type": "markdown",
   "id": "4fdaa055",
   "metadata": {},
   "source": [
    "### Clase Need,  es una clase base para crear la clase BCE\n"
   ]
  },
  {
   "cell_type": "code",
   "execution_count": 3,
   "id": "f91f0155",
   "metadata": {},
   "outputs": [],
   "source": [
    "#random.seed(2)\n",
    "class Need():\n",
    "    def __init__(self, sign=0, degree=0, len_degree=4):\n",
    "\n",
    "        self.len_sign=2\n",
    "        self.len_degree=len_degree\n",
    "        \n",
    "        if sign==None and degree==None:\n",
    "            self.state = np.array([sign,degree]) \n",
    "        else:\n",
    "            self.state = np.array([sign,degree], dtype=np.int8) \n",
    "        \n",
    "        self.sign_str={0:\"+\",1:\"-\"}\n",
    "\n",
    "    def __str__(self):\n",
    "        if self.state[0]!=None and self.state[1]!=None:\n",
    "            return f\"{self.sign_str[self.state[0]]}{self.state[1]/self.len_degree}\"\n",
    "        else:\n",
    "            return \"Null,Null\"\n",
    "    \n",
    "    def __repr__(self):\n",
    "        if self.state[0]!=None and self.state[1]!=None:\n",
    "            return f\"{self.sign_str[self.state[0]]}{self.state[1]/self.len_degree}\"\n",
    "        else:\n",
    "            return \"Null,Null\"\n",
    "        \n",
    "    \n",
    "    def __add__(self, other):\n",
    "        if other.state[0]==None or other.state[1]==None:\n",
    "            return Need(self.state[0],self.state[1])\n",
    "        elif self.state[0]==None or self.state[1]==None:\n",
    "            return Need(other.state[0],other.state[1])\n",
    "\n",
    "        if self.state[1] == 0 and other.state[1] == 0:\n",
    "            return Need(self.state[0],self.state[1])\n",
    "        \n",
    "        elif self.state[0]==0:\n",
    "            if other.state[0] == 0:\n",
    "                sign = 0\n",
    "                degree = min(self.state[1]+other.state[1],self.len_degree)\n",
    "            else:\n",
    "                if self.state[1] >= other.state[1]:\n",
    "                    sign = 0\n",
    "                    degree = self.state[1]-other.state[1]\n",
    "                else:\n",
    "                    sign = 1\n",
    "                    degree = abs(self.state[1]-other.state[1])\n",
    "        else:\n",
    "            if other.state[0] == 1:\n",
    "                sign = 1\n",
    "                degree = min(self.state[1]+other.state[1],self.len_degree)\n",
    "            else:\n",
    "                if self.state[1] >= other.state[1]:\n",
    "                    sign = 1\n",
    "                    degree = self.state[1]-other.state[1]\n",
    "                else:\n",
    "                    sign = 0\n",
    "                    degree = abs(self.state[1]-other.state[1])\n",
    "                    \n",
    "        return Need(sign,degree)\n",
    "    \n",
    "    def reset(self):\n",
    "        sign=random.randint(0,1)\n",
    "        degree=random.randint(0,2)\n",
    "        self.state=np.array([sign,degree], dtype=np.int8)\n",
    "\n",
    "    def sample(self):\n",
    "        sign=random.randint(0,1)\n",
    "        degree=random.randint(0,3)\n",
    "        return Need(sign,degree)\n",
    "\n",
    "    def none(self):\n",
    "        return Need(None,None)\n",
    "\n",
    "#ejemplos de otros metodos magicos\n",
    "#__add__(self, other)\tTo get called on add operation using + operator\n",
    "#__sub__(self, other)\tTo get called on subtraction operation using - operator.  \n",
    "##TODO\n",
    "#__lt__(self, other)\tTo get called on comparison using < operator.\n",
    "#__le__(self, other)\tTo get called on comparison using <= operator.\n",
    "#__ge__(self, other)\tTo get called on comparison using >= operator.\n",
    "#__gt__(self, other)\tTo get called on comparison using > operator.\n",
    "#__eq__(self, other)\tTo get called on comparison using == operator.\n",
    "#__ne__(self, other)\tTo get called on comparison using != operator.\n",
    "\n"
   ]
  },
  {
   "attachments": {},
   "cell_type": "markdown",
   "id": "e9f826b7",
   "metadata": {},
   "source": [
    "### Pruebas de la clase need"
   ]
  },
  {
   "cell_type": "code",
   "execution_count": 21,
   "id": "ae971ab4",
   "metadata": {},
   "outputs": [
    {
     "name": "stdout",
     "output_type": "stream",
     "text": [
      "+0.75\n",
      "+0.0\n",
      "+0.0\n"
     ]
    },
    {
     "data": {
      "text/plain": [
       "array([None, None], dtype=object)"
      ]
     },
     "execution_count": 21,
     "metadata": {},
     "output_type": "execute_result"
    }
   ],
   "source": [
    "need1 = Need(0,0)\n",
    "need2 = Need(0,3)\n",
    "need3 = Need(None,None)\n",
    "print(need1+need2)\n",
    "print(need1+need3)\n",
    "print(need3+need1)\n",
    "\n",
    "Need(None,None).state\n",
    "\n",
    "\n"
   ]
  },
  {
   "attachments": {},
   "cell_type": "markdown",
   "id": "17e57dd6",
   "metadata": {},
   "source": [
    "###  Clase BCE "
   ]
  },
  {
   "cell_type": "code",
   "execution_count": 5,
   "id": "af342a44",
   "metadata": {},
   "outputs": [],
   "source": [
    "class BCE():\n",
    "    \n",
    "    def __init__(self,need_bio=Need().sample(),need_cul=Need().sample(),need_emo=Need().sample(),size=4):\n",
    "        #action  6*3+1 =>19\n",
    "        \n",
    "        self.biologico = need_bio\n",
    "        self.cultural = need_cul\n",
    "        self.emocional = need_emo\n",
    "    \n",
    "    def state(self):\n",
    "        return np.array([ self.biologico.state, self.cultural.state, self.emocional.state ], dtype=np.int8)  \n",
    "        \n",
    "        #self.sign_str={0:\"+\",1:\"-\"}\n",
    "    def __str__(self):\n",
    "        return f\"Biologico:{str(self.biologico)} Cultural:{str(self.cultural)} Emocional:{str(self.emocional)}\"\n",
    "\n",
    "    def __repr__(self):\n",
    "        return f\"Biologico:{str(self.biologico)} Cultural:{str(self.cultural)} Emocional:{str(self.emocional)}\"\n",
    "    \n",
    "    def __add__(self, other):\n",
    "        return BCE(self.biologico+other.biologico,self.cultural+other.cultural,self.emocional+other.emocional)\n",
    "    \n",
    "    def reset(self):\n",
    "        self.biologico.reset()\n",
    "        self.cultural.reset()\n",
    "        self.emocional.reset()\n",
    "\n",
    "    def sample(self):\n",
    "        return BCE(self.biologico.sample(),self.cultural.sample(),self.emocional.sample())\n",
    "    \n",
    "    def none(self):\n",
    "        return BCE(Need().none(), Need().none(), Need().none())\n",
    "\n"
   ]
  },
  {
   "attachments": {},
   "cell_type": "markdown",
   "id": "57dd4e3d",
   "metadata": {},
   "source": [
    "### Pruebas Clase BCE"
   ]
  },
  {
   "cell_type": "code",
   "execution_count": 19,
   "id": "9d54cb71",
   "metadata": {},
   "outputs": [
    {
     "name": "stdout",
     "output_type": "stream",
     "text": [
      "Biologico:-0.5 Cultural:+0.25 Emocional:+0.5\n",
      "[[1 2]\n",
      " [0 1]\n",
      " [0 2]]\n"
     ]
    },
    {
     "data": {
      "text/plain": [
       "Biologico:Null,Null Cultural:Null,Null Emocional:Null,Null"
      ]
     },
     "execution_count": 19,
     "metadata": {},
     "output_type": "execute_result"
    }
   ],
   "source": [
    "\n",
    "bio1=Need(0,0)\n",
    "cul1=Need(1,1)\n",
    "emo1=Need(0,2)\n",
    "\n",
    "bio2=Need(0,0)\n",
    "cul2=Need(0,1)\n",
    "emo2=Need(1,3)\n",
    "    \n",
    "bce1=BCE()\n",
    "bce2=BCE()\n",
    "\n",
    "bce1.reset()\n",
    "bce2.reset()\n",
    "print(bce1)\n",
    "print(bce1.state())\n",
    "\n",
    "BCE().none()"
   ]
  },
  {
   "attachments": {},
   "cell_type": "markdown",
   "id": "bd3952b3",
   "metadata": {},
   "source": [
    "### Clase Neuronas"
   ]
  },
  {
   "cell_type": "code",
   "execution_count": 7,
   "id": "5253a29a",
   "metadata": {},
   "outputs": [],
   "source": [
    "class Neuronas():\n",
    "    def __init__(self):\n",
    "        self.neuronas_aprendidas = {}\n",
    "        self.neurona_por_aprender = {}\n",
    "\n",
    "    def recibir_evento(self, evento):\n",
    "        if evento not in self.neuronas_aprendidas:\n",
    "            self.flag = False\n",
    "            self.neurona_por_aprender[evento]=[len(self.neuronas_aprendidas),BCE().none()]\n",
    "            return self.neurona_por_aprender[evento]\n",
    "        else:\n",
    "            return self.neuronas_aprendidas[evento]\n",
    "\n",
    "    def actualizar_bce_neurona_por_aprender(self, bce):\n",
    "        if bool(self.neurona_por_aprender):\n",
    "            evento = self.neurona_por_aprender.popitem()[0]\n",
    "            id_neurona = len(self.neuronas_aprendidas)\n",
    "            self.neuronas_aprendidas[evento]=[id_neurona,bce]\n",
    "            return [id_neurona,bce]\n",
    "            \n",
    "\n",
    "    def get_neuronas(self):\n",
    "        return self.neuronas_aprendidas\n",
    "\n"
   ]
  },
  {
   "attachments": {},
   "cell_type": "markdown",
   "id": "b6f7008d",
   "metadata": {},
   "source": [
    "### Pruebas clase Neuronas\n"
   ]
  },
  {
   "cell_type": "code",
   "execution_count": 8,
   "id": "0fad44d9",
   "metadata": {},
   "outputs": [
    {
     "name": "stdout",
     "output_type": "stream",
     "text": [
      "[0, Biologico:+0.0 Cultural:-0.25 Emocional:+0.5]\n",
      "[0, Biologico:+0.0 Cultural:-0.25 Emocional:+0.5]\n",
      "{'evento_a': [0, Biologico:+0.0 Cultural:-0.25 Emocional:+0.5], 'evento_b': [1, Biologico:-0.25 Cultural:+0.5 Emocional:+0.0]}\n",
      "{}\n"
     ]
    }
   ],
   "source": [
    "neuronas = Neuronas()\n",
    "neuronas.recibir_evento(\"evento_a\")\n",
    "print(neuronas.actualizar_bce_neurona_por_aprender(BCE(Need(0,0),Need(1,1),Need(0,2))))\n",
    "print(neuronas.recibir_evento(\"evento_a\"))\n",
    "neuronas.recibir_evento(\"evento_b\")\n",
    "neuronas.actualizar_bce_neurona_por_aprender(BCE(Need(1,1),Need(0,2),Need(0,0)))\n",
    "neuronas.recibir_evento(\"evento_a\")\n",
    "print(neuronas.get_neuronas())\n",
    "print(neuronas.neurona_por_aprender)"
   ]
  },
  {
   "attachments": {},
   "cell_type": "markdown",
   "id": "ed192002",
   "metadata": {},
   "source": [
    "### Diccionario de eventos a modo de simular la historia de los BCE generico de pruebas\n"
   ]
  },
  {
   "cell_type": "code",
   "execution_count": 9,
   "id": "451c1a2e",
   "metadata": {},
   "outputs": [
    {
     "name": "stdout",
     "output_type": "stream",
     "text": [
      "('event_0', Biologico:+0.25 Cultural:+0.5 Emocional:+0.25)\n",
      "('event_1', Biologico:-0.0 Cultural:+0.5 Emocional:-0.75)\n",
      "('event_2', Biologico:+0.0 Cultural:-0.25 Emocional:+0.5)\n",
      "('event_3', Biologico:+0.25 Cultural:+0.0 Emocional:-0.0)\n",
      "('event_4', Biologico:-0.0 Cultural:-0.0 Emocional:+0.25)\n",
      "('event_5', Biologico:+0.5 Cultural:-0.0 Emocional:-0.5)\n",
      "('event_6', Biologico:+0.5 Cultural:-0.75 Emocional:-0.0)\n",
      "('event_7', Biologico:+0.0 Cultural:+0.25 Emocional:+0.75)\n",
      "('event_8', Biologico:-0.5 Cultural:+0.25 Emocional:+0.75)\n",
      "('event_9', Biologico:+0.5 Cultural:+0.25 Emocional:-0.0)\n",
      "('event_10', Biologico:+0.5 Cultural:+0.5 Emocional:+0.5)\n",
      "('event_11', Biologico:+0.5 Cultural:-0.5 Emocional:-0.0)\n",
      "('event_12', Biologico:+0.75 Cultural:-0.0 Emocional:-0.0)\n",
      "('event_13', Biologico:+0.25 Cultural:+0.25 Emocional:+0.5)\n",
      "('event_14', Biologico:+0.75 Cultural:+0.0 Emocional:-0.5)\n",
      "('event_15', Biologico:+0.0 Cultural:+0.25 Emocional:-0.75)\n",
      "('event_16', Biologico:-0.25 Cultural:+0.0 Emocional:-0.0)\n",
      "('event_17', Biologico:-0.0 Cultural:-0.5 Emocional:+0.5)\n",
      "('event_18', Biologico:+0.0 Cultural:+0.0 Emocional:+0.0)\n",
      "('event_19', Biologico:+0.75 Cultural:+0.5 Emocional:-0.0)\n"
     ]
    }
   ],
   "source": [
    "#Creador de dicionario de eventos\n",
    "\n",
    "diccionario_evento_bce={}\n",
    "for i in range(20):\n",
    "    diccionario_evento_bce[f\"event_{i}\"]=BCE( Need(random.randint(0,1),random.randint(0,3)), Need(random.randint(0,1),random.randint(0,3)), Need(random.randint(0,1),random.randint(0,3)) )\n",
    "\n",
    "for event in diccionario_evento_bce.items():\n",
    "    print(event)\n",
    "    \n",
    "#print(diccionario_evento_bce)\n",
    "\n",
    "#str(diccionario_evento_bce[\"event_0\"])"
   ]
  },
  {
   "attachments": {},
   "cell_type": "markdown",
   "id": "1333260a",
   "metadata": {},
   "source": [
    "### Diccionario manual para pruebas"
   ]
  },
  {
   "cell_type": "code",
   "execution_count": 10,
   "id": "99f4c944",
   "metadata": {},
   "outputs": [
    {
     "data": {
      "text/plain": [
       "('Tesis', 'Led_Zeppelin', 'olor_cafe', 'neutro', 'neutro', 'frio', 'neutro')"
      ]
     },
     "execution_count": 10,
     "metadata": {},
     "output_type": "execute_result"
    }
   ],
   "source": [
    "#Cosas predeterminadas del cuerpo\n",
    "\n",
    "#Sentidos\n",
    "##Vista\n",
    "diccionario_vista = {\n",
    "    \"Tesis\": BCE(Need(0,0), Need(0,3), Need(0,1)),\n",
    "    \"Television\": BCE(Need(0,0), Need(1,1), Need(0,0)),\n",
    "    \"Vista_Montaña\": BCE(Need(0,1), Need(0,1), Need(0,2)),\n",
    "    \"Dulces\": BCE(Need(1,1), Need(0,0), Need(1,1)),\n",
    "    \"Obra_de_Arte\": BCE(Need(0,0), Need(0,2), Need(0,2)),\n",
    "    \"Neutro\": BCE(Need(0,0), Need(0,0), Need(0,0))\n",
    "}\n",
    "\n",
    "##Oido\n",
    "diccionario_oido = {\n",
    "    \"Ruido\": BCE(Need(1,1), Need(1,1), Need(0,0)),\n",
    "    \"Musica\": BCE(Need(0,1), Need(0,1), Need(0,1)),\n",
    "    \"Llamada_telefonica\": BCE(Need(1,1), Need(1,1), Need(1,1)),\n",
    "    \"Sonidos_ciudad\": BCE(Need(0,0), Need(1,1), Need(1,1)),\n",
    "    \"Led_Zeppelin\": BCE(Need(0,1), Need(0,2), Need(0,3)),\n",
    "    \"Neutro\": BCE(Need(0,0), Need(0,0), Need(0,0))\n",
    "}\n",
    "\n",
    "\n",
    "##Olfato\n",
    "diccionario_olfato = {\n",
    "    \"Cafe_olor\": BCE(Need(0,1), Need(0,1), Need(0,2)),\n",
    "    \"Flores\": BCE(Need(0,2), Need(0,1), Need(0,2)),\n",
    "    \"Olor_comida\": BCE(Need(0,2), Need(0,2), Need(0,2)),\n",
    "    \"Aromatizantes\": BCE(Need(1,1), Need(0,1), Need(0,3)),\n",
    "    \"Rocio\": BCE(Need(0,2), Need(0,1), Need(0,3)),\n",
    "    \"Neutro\": BCE(Need(0,0), Need(0,0), Need(0,0))\n",
    "}\n",
    "\n",
    "##Gusto\n",
    "diccionario_gusto = {\n",
    "    \"Cafe_gusto\": BCE(Need(0,3), Need(0,1), Need(0,2)),\n",
    "    \"Te\": BCE(Need(0,2), Need(0,1), Need(0,2)),\n",
    "    \"Jugo_naranja\": BCE(Need(0,2), Need(0,2), Need(0,2)),\n",
    "    \"Agua\": BCE(Need(0,1), Need(0,1), Need(0,3)),\n",
    "    \"Refresco\": BCE(Need(1,2), Need(0,2), Need(0,2)),\n",
    "    \"Neutro\": BCE(Need(0,0), Need(0,0), Need(0,0))\n",
    "}\n",
    "\n",
    "##Tacto\n",
    "diccionario_tacto = {\n",
    "    \"Textura_mesa\": BCE(Need(0,2), Need(0,1), Need(0,2)),\n",
    "    \"Temperatura_lapiz\": BCE(Need(0,2), Need(0,1), Need(0,2)),\n",
    "    \"Textura_silla\": BCE(Need(0,2), Need(0,1), Need(0,3)),\n",
    "    \"Textura_papel\": BCE(Need(0,2), Need(0,1), Need(0,3)),\n",
    "    \"Frio\": BCE(Need(0,2), Need(0,1), Need(0,3)),\n",
    "    \"Neutro\": BCE(Need(0,0), Need(0,0), Need(0,0))\n",
    "}\n",
    "\n",
    "##Cuerpo\n",
    "diccionario_cuerpo = {\n",
    "    \"Dolor_espalda\": BCE(Need(1, 3), Need(0, 3), Need(1, 2)),\n",
    "    \"Molestia_abdominal\": BCE(Need(1, 3), Need(0, 3), Need(1, 2)),\n",
    "    \"Sentirse_Bien\": BCE(Need(1, 4), Need(1, 4), Need(1, 4)),\n",
    "    \"Sentirse_Mal\": BCE(Need(0, 4), Need(0, 4), Need(0, 4)),\n",
    "    \"Fatiga\": BCE(Need(1, 3), Need(0, 2), Need(0, 1)),\n",
    "    \"Neutro\": BCE(Need(0,0), Need(0,0), Need(0,0))\n",
    "}\n",
    "\n",
    "##Tiempo\n",
    "diccionario_tiempo = {\n",
    "    \"Sed\": BCE(Need(1, 2), Need(0, 2), Need(0, 0)),\n",
    "    \"Hambre\": BCE(Need(1, 2), Need(0, 3), Need(0, 3)),\n",
    "    \"Sentirse_ignorante\": BCE(Need(0, 0), Need(1, 3), Need(1, 2)),\n",
    "    \"No_entender\": BCE(Need(0, 0), Need(1, 2), Need(1, 2)),\n",
    "    \"Aburrimiento\": BCE(Need(0, 0), Need(0, 0), Need(1, 2)),\n",
    "    \"Neutro\": BCE(Need(0,0), Need(0,0), Need(0,0))\n",
    "}\n",
    "\n",
    "\n",
    "diccionario_evento_bce_manual  =  {}\n",
    "diccionario_evento_bce_manual.update(diccionario_vista)\n",
    "diccionario_evento_bce_manual.update(diccionario_oido)\n",
    "diccionario_evento_bce_manual.update(diccionario_olfato)\n",
    "diccionario_evento_bce_manual.update(diccionario_gusto)\n",
    "diccionario_evento_bce_manual.update(diccionario_tacto)\n",
    "diccionario_evento_bce_manual.update(diccionario_cuerpo)\n",
    "diccionario_evento_bce_manual.update(diccionario_tiempo)\n",
    "\n",
    "##Ventanas de tiempo?\n",
    "# Vista | Oido   | Olfato | Gusto   | Tacto   | Cuerpo |  Tiempo   \n",
    "#T1\n",
    "\"Tesis\",\"Led_Zeppelin\",\"olor_cafe\",\"neutro\",\"neutro\",\"frio\",\"neutro\"\n",
    "#T2\n",
    "\"Tesis\",\"Led_Zeppelin_coro\",\"olor_cafe\",\"neutro\",\"neutro\",\"frio\",\"neutro\"\n",
    "#T3\n",
    "\"Tesis\",\"Led_Zeppelin\",\"olor_cafe\",\"neutro\",\"neutro\",\"frio\",\"neutro\"\n",
    "#T4\n",
    "\n",
    "\n",
    "#\"vista\",\"oido\",\"olfato\",\"gusto\",\"tacto\",\"cuerpo\",\"tiempo\""
   ]
  },
  {
   "attachments": {},
   "cell_type": "markdown",
   "id": "a6081e61",
   "metadata": {},
   "source": [
    "### Clase RN_sentido,  clase base para RN de todos los sentidos"
   ]
  },
  {
   "cell_type": "code",
   "execution_count": 11,
   "id": "0593dddc",
   "metadata": {},
   "outputs": [],
   "source": [
    "#Entran QR (Eventos)\n",
    "#Salen ID_Neurona, BCE\n",
    "\n",
    "#Eventos nuevos y eventos conocidos.\n",
    "\n",
    "#Nuevos eventos \n",
    "\n",
    "\n",
    "class RN_sentido():\n",
    "    \n",
    "    def __init__(self,sentido=\"vista\"):\n",
    "        self.neuronas = Neuronas()\n",
    "        self.id = sentido\n",
    "        #self.bce = BCE(Need(None,None), Need(None,None), Need(None,None))\n",
    "        \n",
    "    def recibir_evento(self,evento):\n",
    "        return [self.neuronas.recibir_evento(evento),self.id]\n",
    "        id_neurona=(self.neuronas.recibir_evento(evento),self.id)\n",
    "        #Diccionario de eventos y sus respectivos BCEs  PRUEBAS\n",
    "        #bce=diccionario_evento_bce_manual[evento]\n",
    "        #bce=BCE(Need(None,None), Need(None,None), Need(None,None))\n",
    "        return [id_neurona]\n",
    "\n",
    "\n",
    "    def actualizar_neurona(self, bce):\n",
    "        return [self.neuronas.actualizar_bce_neurona_por_aprender(bce),self.id]\n",
    "        \n",
    "        \n",
    "\n"
   ]
  },
  {
   "attachments": {},
   "cell_type": "markdown",
   "id": "e4cc2fe4",
   "metadata": {},
   "source": [
    "### Prueba clase RN_sentido"
   ]
  },
  {
   "cell_type": "code",
   "execution_count": 12,
   "id": "cf771d20",
   "metadata": {},
   "outputs": [
    {
     "name": "stdout",
     "output_type": "stream",
     "text": [
      "[[0, Biologico:Null,Null Cultural:Null,Null Emocional:Null,Null], 'vista']\n",
      "[[0, Biologico:+0.0 Cultural:-0.25 Emocional:+0.5], 'vista']\n",
      "[[0, Biologico:+0.0 Cultural:-0.25 Emocional:+0.5], 'vista']\n"
     ]
    }
   ],
   "source": [
    "\n",
    "rn_sentido_1 = RN_sentido() \n",
    "\n",
    "print(rn_sentido_1.recibir_evento(\"Tesis\"))\n",
    "\n",
    "print(rn_sentido_1.actualizar_neurona(BCE(Need(0,0),Need(1,1),Need(0,2))))\n",
    "rn_sentido_1.recibir_evento(\"Television\")\n",
    "rn_sentido_1.actualizar_neurona(BCE(Need(1,1),Need(0,2),Need(0,0)))\n",
    "print(rn_sentido_1.recibir_evento(\"Tesis\"))\n",
    "\n"
   ]
  },
  {
   "attachments": {},
   "cell_type": "markdown",
   "id": "f834c891",
   "metadata": {},
   "source": [
    "### Clase RN_7_sentidos"
   ]
  },
  {
   "cell_type": "code",
   "execution_count": 13,
   "id": "ac9a1ef3",
   "metadata": {},
   "outputs": [],
   "source": [
    "class RN_7_sentidos():\n",
    "    \n",
    "    def __init__(self):\n",
    "        \n",
    "        self.list_sentidos = [\"vista\",\"oido\",\"olfato\",\"gusto\",\"tacto\",\"cuerpo\",\"tiempo\"]\n",
    "        self.sentidos = []\n",
    "        for _, sentido in enumerate(self.list_sentidos):\n",
    "            self.sentidos.append(RN_sentido(sentido))\n",
    "        \n",
    "        #self.sentido_vista=RN_sentido(\"vista\")\n",
    "        #self.sentido_oido=RN_sentido(\"oido\")\n",
    "        #self.sentido_olfato=RN_sentido(\"olfato\")\n",
    "        #self.sentido_gusto=RN_sentido(\"gusto\")\n",
    "        #self.sentido_tacto=RN_sentido(\"tacto\")\n",
    "        #self.sentido_cuerpo=RN_sentido(\"cuerpo\")\n",
    "        #self.sentido_tiempo=RN_sentido(\"tiempo\")\n",
    "        \n",
    "    def recibir_evento(self,arr_evento):\n",
    "        list_id_bce=[]\n",
    "        for index, sentido in enumerate(self.list_sentidos):\n",
    "            list_id_bce.append(self.sentidos[index].recibir_evento(arr_evento[index]))\n",
    "        return list_id_bce\n",
    "        \n",
    "\n",
    "    def actualizar_neurona(self, arr_bce):\n",
    "        list_id_bce=[]\n",
    "        for index, sentido in enumerate(self.list_sentidos):\n",
    "            resultado = self.sentidos[index].actualizar_neurona(arr_bce[index])\n",
    "            if resultado is not None:\n",
    "                list_id_bce.append(resultado)\n",
    "        return list_id_bce\n",
    "    \n",
    "    \n",
    "    \n"
   ]
  },
  {
   "attachments": {},
   "cell_type": "markdown",
   "id": "5c7f04da",
   "metadata": {},
   "source": [
    "### Prueba clase RN_7_sentidos\n"
   ]
  },
  {
   "cell_type": "code",
   "execution_count": 25,
   "id": "f2043b2f",
   "metadata": {},
   "outputs": [
    {
     "data": {
      "text/plain": [
       "[[[0, Biologico:-0.75 Cultural:+0.0 Emocional:-0.5], 'vista'],\n",
       " [[2, Biologico:-0.0 Cultural:+0.25 Emocional:+0.25], 'oido'],\n",
       " [[0, Biologico:+0.5 Cultural:+0.25 Emocional:-0.75], 'olfato'],\n",
       " [[1, Biologico:-0.75 Cultural:+0.25 Emocional:+0.75], 'gusto'],\n",
       " [[2, Biologico:-0.25 Cultural:-0.25 Emocional:+0.25], 'tacto'],\n",
       " [[0, Biologico:+0.0 Cultural:-0.5 Emocional:-0.75], 'cuerpo'],\n",
       " [[0, Biologico:+0.75 Cultural:-0.25 Emocional:+0.75], 'tiempo']]"
      ]
     },
     "execution_count": 25,
     "metadata": {},
     "output_type": "execute_result"
    }
   ],
   "source": [
    "rn_sentidos = RN_7_sentidos()\n",
    "\n",
    "\n",
    "evento_sensorial=(\"Tesis\",\"Ruido\",\"Cafe_olor\",\"Cafe_gusto\",\n",
    "                  \"Textura_silla\",\"Neutro\",\"Neutro\")\n",
    "bce_evento_sensorial=[]\n",
    "for evento in evento_sensorial:\n",
    "    bce_evento_sensorial.append(BCE().sample())\n",
    "\n",
    "#print(RN_7_sentidos().sentidos)\n",
    "rn_sentidos.recibir_evento(evento_sensorial)\n",
    "rn_sentidos.actualizar_neurona(bce_evento_sensorial)\n",
    "\n",
    "evento_sensorial=(\"Tesisa\",\"Ruiado\",\"Cafea_olor\",\"Cafe_gausto\",\n",
    "                  \"Texturaa_silla\",\"aNeutro\",\"Neutaro\")\n",
    "\n",
    "for evento in evento_sensorial:\n",
    "    bce_evento_sensorial.append(BCE().sample())\n",
    "\n",
    "#print(RN_7_sentidos().sentidos)\n",
    "rn_sentidos.recibir_evento(evento_sensorial)\n",
    "rn_sentidos.actualizar_neurona(bce_evento_sensorial)\n",
    "\n",
    "evento_sensorial=(\"Tesis\",\"Rudsaiado\",\"Cafe_olor\",\"Cafe_gausto\",\n",
    "                  \"Texturaas_silla\",\"Neutro\",\"Neutro\")\n",
    "\n",
    "for evento in evento_sensorial:\n",
    "    bce_evento_sensorial.append(BCE().sample())\n",
    "\n",
    "#print(RN_7_sentidos().sentidos)\n",
    "rn_sentidos.recibir_evento(evento_sensorial)\n",
    "rn_sentidos.actualizar_neurona(bce_evento_sensorial)\n",
    "rn_sentidos.recibir_evento(evento_sensorial)\n"
   ]
  },
  {
   "attachments": {},
   "cell_type": "markdown",
   "id": "e52202f1",
   "metadata": {},
   "source": [
    "### Clases de Agentes"
   ]
  },
  {
   "cell_type": "code",
   "execution_count": 15,
   "id": "09f0a14f",
   "metadata": {},
   "outputs": [],
   "source": [
    "class Agente_Maria():\n",
    "    def __init__(self):\n",
    "        pass\n",
    "        #self.estado_bce = BCE()\n",
    "\n",
    "    #Evaluador general BCE,  salida solo un BCE\n",
    "    def recibir_7_bce(self,arr_bce):\n",
    "        return random.choice(arr_bce)[0][1]\n",
    "\n",
    "\n",
    "class Agente():\n",
    "    \n",
    "    def __init__(self):\n",
    "        self.estado_bce = BCE().none()\n",
    "        self.rn_sentidos = RN_7_sentidos()\n",
    "        \n",
    "\n",
    "\n",
    "    def recibir_evento(self,arr_evento):\n",
    "        return self.rn_sentidos.recibir_evento(arr_evento)\n",
    "\n",
    "    #Entradas de modulo de maria     \n",
    "    def actualizar_neurona(self,arr_bce):\n",
    "        return self.rn_sentidos.actualizar_neurona(arr_bce)\n",
    "\n",
    "    #Entrada del evaluador general BCE de maria\n",
    "    def actualizar_bce(self,bce_in):\n",
    "        self.estado_bce += bce_in\n",
    "\n",
    "\n",
    "\n",
    "\n",
    "\n",
    "\n",
    "        \n",
    "\n",
    "\n",
    "\n"
   ]
  },
  {
   "attachments": {},
   "cell_type": "markdown",
   "id": "88eb773f",
   "metadata": {},
   "source": [
    "### Prueba Agentes"
   ]
  },
  {
   "cell_type": "code",
   "execution_count": 16,
   "id": "29f8ff7b",
   "metadata": {},
   "outputs": [
    {
     "name": "stdout",
     "output_type": "stream",
     "text": [
      "[[[0, Biologico:-0.25 Cultural:-0.75 Emocional:+0.0], 'vista'], [[0, Biologico:-0.0 Cultural:-0.5 Emocional:+0.75], 'oido'], [[0, Biologico:+0.75 Cultural:+0.25 Emocional:-0.5], 'olfato'], [[0, Biologico:+0.0 Cultural:-0.5 Emocional:+0.5], 'gusto'], [[0, Biologico:+0.0 Cultural:-0.75 Emocional:+0.75], 'tacto'], [[0, Biologico:-0.25 Cultural:+0.75 Emocional:-0.0], 'cuerpo'], [[0, Biologico:+0.25 Cultural:-0.25 Emocional:+0.75], 'tiempo']]\n",
      "Biologico:+0.25 Cultural:-0.25 Emocional:+0.75\n",
      "Biologico:Null,Null Cultural:Null,Null Emocional:Null,Null\n",
      "Biologico:+0.25 Cultural:-0.25 Emocional:+0.75\n"
     ]
    }
   ],
   "source": [
    "evento_sensorial=[\"Tesis\",\"Ruido\",\"Cafe_olor\",\"Cafe_gusto\",\n",
    "                  \"Textura_silla\",\"Neutro\",\"Neutro\"]\n",
    "\n",
    "bce_evento_sensorial=[]\n",
    "for evento in evento_sensorial:\n",
    "    bce_evento_sensorial.append(BCE().sample())\n",
    "\n",
    "\n",
    "\n",
    "agente_maria=Agente_Maria()\n",
    "agente = Agente()\n",
    "\n",
    "\n",
    "agente.recibir_evento(evento_sensorial)\n",
    "bce_salida = agente.actualizar_neurona(bce_evento_sensorial)\n",
    "print(bce_salida)\n",
    "bce_entrada = agente_maria.recibir_7_bce(bce_salida)\n",
    "print(bce_entrada)\n",
    "print(agente.estado_bce)\n",
    "\n",
    "print(bce_entrada+agente.estado_bce)\n",
    "#rn_sentidos.recibir_evento(evento_sensorial)"
   ]
  },
  {
   "attachments": {},
   "cell_type": "markdown",
   "id": "e872024a",
   "metadata": {},
   "source": [
    "### Otros"
   ]
  },
  {
   "attachments": {},
   "cell_type": "markdown",
   "id": "eaaad626",
   "metadata": {},
   "source": [
    "## Definición de l os estados de BCE\n",
    "\n",
    "### Biologico\n",
    "-1 Muerte corporal\n",
    "-0.75 enfermedad corporal\n",
    "-.50 ansiedad corporal\n",
    "-.25 incomodidad\n",
    "-0 menos incomodidad\n",
    "+0 menos comodidad \n",
    "+.25 comodidad\n",
    "+.50 ansiedad mental\n",
    "+.75 enfermedad mental\n",
    "+1 Muerte Mental\n",
    "\n",
    "### Emocion\n",
    "-1 Muerte corporal\n",
    "-0.75 depresivo corporal\n",
    "-.50 agitado corporal\n",
    "-.25 Triste\n",
    "-0 menos Triste\n",
    "+0 menos Alegre \n",
    "+.25 Alegre\n",
    "+.50 euforico mental\n",
    "+.75 maniaco mental\n",
    "+1 Muerte Mental\n",
    "\n",
    "### Cultural\n",
    "-1 Muerte Vegatativo\n",
    "-0.75 ignorante\n",
    "-.50 torpe\n",
    "-.25 inseguro\n",
    "-0 menos inseguro\n",
    "+0 menos Seguro \n",
    "+.25 Seguro\n",
    "+.50 soberbia\n",
    "+.75 delirio\n",
    "+1 Muerte Mental"
   ]
  },
  {
   "attachments": {},
   "cell_type": "markdown",
   "id": "18f5d692",
   "metadata": {},
   "source": []
  }
 ],
 "metadata": {
  "kernelspec": {
   "display_name": "Python 3 (ipykernel)",
   "language": "python",
   "name": "python3"
  },
  "language_info": {
   "codemirror_mode": {
    "name": "ipython",
    "version": 3
   },
   "file_extension": ".py",
   "mimetype": "text/x-python",
   "name": "python",
   "nbconvert_exporter": "python",
   "pygments_lexer": "ipython3",
   "version": "3.9.16"
  }
 },
 "nbformat": 4,
 "nbformat_minor": 5
}
