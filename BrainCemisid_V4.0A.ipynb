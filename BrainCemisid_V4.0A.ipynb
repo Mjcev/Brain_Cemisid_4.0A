{
 "cells": [
  {
   "cell_type": "markdown",
   "id": "5269e01b",
   "metadata": {},
   "source": [
    "# Proyecto BRAIN-CEMISID 4.0 Diseño e implementación en Python del Movimiento Autónomo \n",
    "## Módulo A: Núcleo Agente Inteligente, Sentidos, Red Neuronal Sensorial"
   ]
  },
  {
   "attachments": {},
   "cell_type": "markdown",
   "id": "9b83a758",
   "metadata": {},
   "source": [
    "### Imports"
   ]
  },
  {
   "cell_type": "code",
   "execution_count": 1,
   "id": "d0df5613",
   "metadata": {},
   "outputs": [],
   "source": [
    "import os\n",
    "import sys\n",
    "import random\n",
    "import numpy as np\n",
    "import ipytest\n",
    "import pytest\n",
    "import itertools\n",
    "from itertools import product\n",
    "ipytest.autoconfig()\n",
    "from rich import print\n",
    "__file__ = 'BrainCemisid_V4.0A.ipynb'\n",
    "# # Obtiene la ruta absoluta del archivo actual\n",
    "current_file_path = os.path.abspath(__file__)\n",
    "# # Obtiene el directorio padre de la ruta actual (que es el directorio actual)\n",
    "current_directory = os.path.dirname(current_file_path)\n",
    "subdirectory_path = os.path.join(current_directory, \"src\")\n",
    "sys.path.append(subdirectory_path)"
   ]
  },
  {
   "attachments": {},
   "cell_type": "markdown",
   "id": "4fdaa055",
   "metadata": {},
   "source": [
    "## Clase Need,  es una clase base para crear la clase BCE"
   ]
  },
  {
   "cell_type": "code",
   "execution_count": 2,
   "id": "f91f0155",
   "metadata": {},
   "outputs": [],
   "source": [
    "from src.need import Need"
   ]
  },
  {
   "cell_type": "markdown",
   "id": "6194caf8",
   "metadata": {},
   "source": [
    "La clase Need representa una necesidad, que tiene dos atributos: signo y grado. El atributo signo puede tener un valor de 0 o 1, que representa positivo o negativo. El atributo grado representa la magnitud o intensidad de la necesidad.\n",
    "\n",
    "La clase Need tiene varios métodos definidos, como set(), reset(), sample(), time_sample(), zero(), none(), average(), y operadores aritméticos sobrecargados como __add__(), __sub__(), __mul__(), __truediv__(), __floordiv__(), y operadores de comparación como __lt__(), __eq__(), __ne__(), __le__(), __gt__(), __ge__(). Estos métodos permiten la manipulación y comparación de objetos Need.\n",
    "\n",
    "Además, la clase Need tiene un método __str__() para proporcionar una representación en forma de cadena del objeto Need, y un método __repr__() para proporcionar una representación más detallada cuando se imprime el objeto."
   ]
  },
  {
   "cell_type": "markdown",
   "id": "6e473c91",
   "metadata": {},
   "source": [
    "#### Ejemplos del uso de la clase Need"
   ]
  },
  {
   "cell_type": "code",
   "execution_count": 66,
   "id": "17e67e70",
   "metadata": {},
   "outputs": [
    {
     "data": {
      "text/html": [
       "<pre style=\"white-space:pre;overflow-x:auto;line-height:normal;font-family:Menlo,'DejaVu Sans Mono',consolas,'Courier New',monospace\"><span style=\"color: #008080; text-decoration-color: #008080; font-weight: bold\">-0.5</span>\n",
       "</pre>\n"
      ],
      "text/plain": [
       "\u001b[1;36m-0.5\u001b[0m\n"
      ]
     },
     "metadata": {},
     "output_type": "display_data"
    },
    {
     "data": {
      "text/html": [
       "<pre style=\"white-space:pre;overflow-x:auto;line-height:normal;font-family:Menlo,'DejaVu Sans Mono',consolas,'Courier New',monospace\"><span style=\"font-weight: bold\">[</span><span style=\"color: #008080; text-decoration-color: #008080; font-weight: bold\">1</span> <span style=\"color: #008080; text-decoration-color: #008080; font-weight: bold\">2</span><span style=\"font-weight: bold\">]</span>\n",
       "</pre>\n"
      ],
      "text/plain": [
       "\u001b[1m[\u001b[0m\u001b[1;36m1\u001b[0m \u001b[1;36m2\u001b[0m\u001b[1m]\u001b[0m\n"
      ]
     },
     "metadata": {},
     "output_type": "display_data"
    },
    {
     "data": {
      "text/html": [
       "<pre style=\"white-space:pre;overflow-x:auto;line-height:normal;font-family:Menlo,'DejaVu Sans Mono',consolas,'Courier New',monospace\">+<span style=\"color: #008080; text-decoration-color: #008080; font-weight: bold\">0.25</span>\n",
       "</pre>\n"
      ],
      "text/plain": [
       "+\u001b[1;36m0.25\u001b[0m\n"
      ]
     },
     "metadata": {},
     "output_type": "display_data"
    },
    {
     "data": {
      "text/html": [
       "<pre style=\"white-space:pre;overflow-x:auto;line-height:normal;font-family:Menlo,'DejaVu Sans Mono',consolas,'Courier New',monospace\"><span style=\"font-weight: bold\">[</span><span style=\"color: #008080; text-decoration-color: #008080; font-weight: bold\">0</span> <span style=\"color: #008080; text-decoration-color: #008080; font-weight: bold\">1</span><span style=\"font-weight: bold\">]</span>\n",
       "</pre>\n"
      ],
      "text/plain": [
       "\u001b[1m[\u001b[0m\u001b[1;36m0\u001b[0m \u001b[1;36m1\u001b[0m\u001b[1m]\u001b[0m\n"
      ]
     },
     "metadata": {},
     "output_type": "display_data"
    },
    {
     "data": {
      "text/html": [
       "<pre style=\"white-space:pre;overflow-x:auto;line-height:normal;font-family:Menlo,'DejaVu Sans Mono',consolas,'Courier New',monospace\"><span style=\"color: #008080; text-decoration-color: #008080; font-weight: bold\">-0.25</span>\n",
       "</pre>\n"
      ],
      "text/plain": [
       "\u001b[1;36m-0.25\u001b[0m\n"
      ]
     },
     "metadata": {},
     "output_type": "display_data"
    }
   ],
   "source": [
    "need1=Need().sample()\n",
    "need2=Need().sample()\n",
    "print(need1)\n",
    "print(need1.state)\n",
    "print(need2)\n",
    "print(need2.state)\n",
    "print(need1+need2)\n"
   ]
  },
  {
   "attachments": {},
   "cell_type": "markdown",
   "id": "e9f826b7",
   "metadata": {},
   "source": [
    "### Pruebas Unitarias Clase Need"
   ]
  },
  {
   "cell_type": "markdown",
   "id": "d02c9d6f",
   "metadata": {},
   "source": [
    "#### Pruebas unitarias del metodo __add__"
   ]
  },
  {
   "cell_type": "code",
   "execution_count": 248,
   "id": "b5bbef2e",
   "metadata": {},
   "outputs": [
    {
     "name": "stdout",
     "output_type": "stream",
     "text": [
      "\u001b[1m======================================= test session starts =======================================\u001b[0m\n",
      "collected 64 items\n",
      "\n",
      "test\\test_need.py \u001b[32m.\u001b[0m\u001b[32m.\u001b[0m\u001b[32m.\u001b[0m\u001b[32m.\u001b[0m\u001b[32m.\u001b[0m\u001b[32m.\u001b[0m\u001b[32m.\u001b[0m\u001b[32m.\u001b[0m\u001b[32m.\u001b[0m\u001b[32m.\u001b[0m\u001b[32m.\u001b[0m\u001b[32m.\u001b[0m\u001b[32m.\u001b[0m\u001b[32m.\u001b[0m\u001b[32m.\u001b[0m\u001b[32m.\u001b[0m\u001b[32m.\u001b[0m\u001b[32m.\u001b[0m\u001b[32m.\u001b[0m\u001b[32m.\u001b[0m\u001b[32m.\u001b[0m\u001b[32m.\u001b[0m\u001b[32m.\u001b[0m\u001b[32m.\u001b[0m\u001b[32m.\u001b[0m\u001b[32m.\u001b[0m\u001b[32m.\u001b[0m\u001b[32m.\u001b[0m\u001b[32m.\u001b[0m\u001b[32m.\u001b[0m\u001b[32m.\u001b[0m\u001b[32m.\u001b[0m\u001b[32m.\u001b[0m\u001b[32m.\u001b[0m\u001b[32m.\u001b[0m\u001b[32m.\u001b[0m\u001b[32m.\u001b[0m\u001b[32m.\u001b[0m\u001b[32m.\u001b[0m\u001b[32m.\u001b[0m\u001b[32m.\u001b[0m\u001b[32m.\u001b[0m\u001b[32m.\u001b[0m\u001b[32m.\u001b[0m\u001b[32m.\u001b[0m\u001b[32m.\u001b[0m\u001b[32m.\u001b[0m\u001b[32m.\u001b[0m\u001b[32m.\u001b[0m\u001b[32m.\u001b[0m\u001b[32m.\u001b[0m\u001b[32m.\u001b[0m\u001b[32m.\u001b[0m\u001b[32m.\u001b[0m\u001b[32m.\u001b[0m\u001b[32m.\u001b[0m\u001b[32m.\u001b[0m\u001b[32m.\u001b[0m\u001b[32m.\u001b[0m\u001b[32m.\u001b[0m\u001b[32m.\u001b[0m\u001b[32m.\u001b[0m\u001b[32m.\u001b[0m\u001b[32m.\u001b[0m\u001b[32m           [100%]\u001b[0m\n",
      "\n",
      "\u001b[32m======================================= \u001b[32m\u001b[1m64 passed\u001b[0m\u001b[32m in 9.26s\u001b[0m\u001b[32m ========================================\u001b[0m\n"
     ]
    }
   ],
   "source": [
    "!pytest --no-header test/test_need.py::test_add"
   ]
  },
  {
   "cell_type": "markdown",
   "id": "d6847d98",
   "metadata": {},
   "source": [
    "#### Pruebas Unitarias de clase Need __add__ con len_degree=10"
   ]
  },
  {
   "cell_type": "code",
   "execution_count": 249,
   "id": "d4515051",
   "metadata": {},
   "outputs": [
    {
     "name": "stdout",
     "output_type": "stream",
     "text": [
      "\u001b[1m======================================= test session starts =======================================\u001b[0m\n",
      "collected 144 items\n",
      "\n",
      "test\\test_need.py \u001b[32m.\u001b[0m\u001b[32m.\u001b[0m\u001b[32m.\u001b[0m\u001b[32m.\u001b[0m\u001b[32m.\u001b[0m\u001b[32m.\u001b[0m\u001b[32m.\u001b[0m\u001b[32m.\u001b[0m\u001b[32m.\u001b[0m\u001b[32m.\u001b[0m\u001b[32m.\u001b[0m\u001b[32m.\u001b[0m\u001b[32m.\u001b[0m\u001b[32m.\u001b[0m\u001b[32m.\u001b[0m\u001b[32m.\u001b[0m\u001b[32m.\u001b[0m\u001b[32m.\u001b[0m\u001b[32m.\u001b[0m\u001b[32m.\u001b[0m\u001b[32m.\u001b[0m\u001b[32m.\u001b[0m\u001b[32m.\u001b[0m\u001b[32m.\u001b[0m\u001b[32m.\u001b[0m\u001b[32m.\u001b[0m\u001b[32m.\u001b[0m\u001b[32m.\u001b[0m\u001b[32m.\u001b[0m\u001b[32m.\u001b[0m\u001b[32m.\u001b[0m\u001b[32m.\u001b[0m\u001b[32m.\u001b[0m\u001b[32m.\u001b[0m\u001b[32m.\u001b[0m\u001b[32m.\u001b[0m\u001b[32m.\u001b[0m\u001b[32m.\u001b[0m\u001b[32m.\u001b[0m\u001b[32m.\u001b[0m\u001b[32m.\u001b[0m\u001b[32m.\u001b[0m\u001b[32m.\u001b[0m\u001b[32m.\u001b[0m\u001b[32m.\u001b[0m\u001b[32m.\u001b[0m\u001b[32m.\u001b[0m\u001b[32m.\u001b[0m\u001b[32m.\u001b[0m\u001b[32m.\u001b[0m\u001b[32m.\u001b[0m\u001b[32m.\u001b[0m\u001b[32m.\u001b[0m\u001b[32m.\u001b[0m\u001b[32m.\u001b[0m\u001b[32m.\u001b[0m\u001b[32m.\u001b[0m\u001b[32m.\u001b[0m\u001b[32m.\u001b[0m\u001b[32m.\u001b[0m\u001b[32m.\u001b[0m\u001b[32m.\u001b[0m\u001b[32m.\u001b[0m\u001b[32m.\u001b[0m\u001b[32m.\u001b[0m\u001b[32m.\u001b[0m\u001b[32m.\u001b[0m\u001b[32m.\u001b[0m\u001b[32m.\u001b[0m\u001b[32m.\u001b[0m\u001b[32m.\u001b[0m\u001b[32m.\u001b[0m\u001b[32m.\u001b[0m\u001b[32m.\u001b[0m\u001b[32m [ 51%]\n",
      "\u001b[0m\u001b[32m.\u001b[0m\u001b[32m.\u001b[0m\u001b[32m.\u001b[0m\u001b[32m.\u001b[0m\u001b[32m.\u001b[0m\u001b[32m.\u001b[0m\u001b[32m.\u001b[0m\u001b[32m.\u001b[0m\u001b[32m.\u001b[0m\u001b[32m.\u001b[0m\u001b[32m.\u001b[0m\u001b[32m.\u001b[0m\u001b[32m.\u001b[0m\u001b[32m.\u001b[0m\u001b[32m.\u001b[0m\u001b[32m.\u001b[0m\u001b[32m.\u001b[0m\u001b[32m.\u001b[0m\u001b[32m.\u001b[0m\u001b[32m.\u001b[0m\u001b[32m.\u001b[0m\u001b[32m.\u001b[0m\u001b[32m.\u001b[0m\u001b[32m.\u001b[0m\u001b[32m.\u001b[0m\u001b[32m.\u001b[0m\u001b[32m.\u001b[0m\u001b[32m.\u001b[0m\u001b[32m.\u001b[0m\u001b[32m.\u001b[0m\u001b[32m.\u001b[0m\u001b[32m.\u001b[0m\u001b[32m.\u001b[0m\u001b[32m.\u001b[0m\u001b[32m.\u001b[0m\u001b[32m.\u001b[0m\u001b[32m.\u001b[0m\u001b[32m.\u001b[0m\u001b[32m.\u001b[0m\u001b[32m.\u001b[0m\u001b[32m.\u001b[0m\u001b[32m.\u001b[0m\u001b[32m.\u001b[0m\u001b[32m.\u001b[0m\u001b[32m.\u001b[0m\u001b[32m.\u001b[0m\u001b[32m.\u001b[0m\u001b[32m.\u001b[0m\u001b[32m.\u001b[0m\u001b[32m.\u001b[0m\u001b[32m.\u001b[0m\u001b[32m.\u001b[0m\u001b[32m.\u001b[0m\u001b[32m.\u001b[0m\u001b[32m.\u001b[0m\u001b[32m.\u001b[0m\u001b[32m.\u001b[0m\u001b[32m.\u001b[0m\u001b[32m.\u001b[0m\u001b[32m.\u001b[0m\u001b[32m.\u001b[0m\u001b[32m.\u001b[0m\u001b[32m.\u001b[0m\u001b[32m.\u001b[0m\u001b[32m.\u001b[0m\u001b[32m.\u001b[0m\u001b[32m.\u001b[0m\u001b[32m.\u001b[0m\u001b[32m.\u001b[0m\u001b[32m.\u001b[0m\u001b[32m                       [100%]\u001b[0m\n",
      "\n",
      "\u001b[32m======================================= \u001b[32m\u001b[1m144 passed\u001b[0m\u001b[32m in 3.95s\u001b[0m\u001b[32m =======================================\u001b[0m\n"
     ]
    }
   ],
   "source": [
    "!pytest --no-header test/test_need.py::test_add_10"
   ]
  },
  {
   "cell_type": "markdown",
   "id": "60da6118",
   "metadata": {},
   "source": [
    "#### Pruebas Unitarias Clase Need"
   ]
  },
  {
   "cell_type": "code",
   "execution_count": null,
   "id": "c4ad53cf",
   "metadata": {},
   "outputs": [],
   "source": [
    "!pytest --no-header test/test_need.py"
   ]
  },
  {
   "attachments": {},
   "cell_type": "markdown",
   "id": "17e57dd6",
   "metadata": {},
   "source": [
    "##  Clase BCE "
   ]
  },
  {
   "cell_type": "code",
   "execution_count": 3,
   "id": "af342a44",
   "metadata": {},
   "outputs": [],
   "source": [
    "from src.bce import BCE"
   ]
  },
  {
   "cell_type": "markdown",
   "id": "ea4d0960",
   "metadata": {},
   "source": [
    "La clase BCE es una representación de las necesidades biológicas, culturales y emocionales de un individuo. Tiene métodos para establecer los valores de estas necesidades, obtener el estado actual de las necesidades, realizar operaciones matemáticas como suma, resta y multiplicación con otras instancias de la clase BCE, y comparar instancias de la clase BCE utilizando operadores de comparación como <, ==, !=, <=, >, >=. También tiene métodos para restablecer las necesidades a sus valores iniciales, calcular el promedio de varias instancias de BCE, y generar muestras aleatorias de las necesidades."
   ]
  },
  {
   "cell_type": "markdown",
   "id": "28100ecb",
   "metadata": {},
   "source": [
    "### Ejemplo Clase BCE"
   ]
  },
  {
   "cell_type": "code",
   "execution_count": 269,
   "id": "9d54cb71",
   "metadata": {},
   "outputs": [
    {
     "data": {
      "text/html": [
       "<pre style=\"white-space:pre;overflow-x:auto;line-height:normal;font-family:Menlo,'DejaVu Sans Mono',consolas,'Courier New',monospace\">BCE <span style=\"color: #008080; text-decoration-color: #008080; font-weight: bold\">1</span>:                           Bio:+<span style=\"color: #008080; text-decoration-color: #008080; font-weight: bold\">0.75</span> Cul:<span style=\"color: #008080; text-decoration-color: #008080; font-weight: bold\">-0.5</span> Emo:+<span style=\"color: #008080; text-decoration-color: #008080; font-weight: bold\">0.5</span>\n",
       "</pre>\n"
      ],
      "text/plain": [
       "BCE \u001b[1;36m1\u001b[0m:                           Bio:+\u001b[1;36m0.75\u001b[0m Cul:\u001b[1;36m-0.5\u001b[0m Emo:+\u001b[1;36m0.5\u001b[0m\n"
      ]
     },
     "metadata": {},
     "output_type": "display_data"
    },
    {
     "data": {
      "text/html": [
       "<pre style=\"white-space:pre;overflow-x:auto;line-height:normal;font-family:Menlo,'DejaVu Sans Mono',consolas,'Courier New',monospace\">BCE <span style=\"color: #008080; text-decoration-color: #008080; font-weight: bold\">2</span>:                           Bio:+<span style=\"color: #008080; text-decoration-color: #008080; font-weight: bold\">0.5</span> Cul:<span style=\"color: #008080; text-decoration-color: #008080; font-weight: bold\">-0.0</span> Emo:<span style=\"color: #008080; text-decoration-color: #008080; font-weight: bold\">-0.0</span>\n",
       "</pre>\n"
      ],
      "text/plain": [
       "BCE \u001b[1;36m2\u001b[0m:                           Bio:+\u001b[1;36m0.5\u001b[0m Cul:\u001b[1;36m-0.0\u001b[0m Emo:\u001b[1;36m-0.0\u001b[0m\n"
      ]
     },
     "metadata": {},
     "output_type": "display_data"
    },
    {
     "data": {
      "text/html": [
       "<pre style=\"white-space:pre;overflow-x:auto;line-height:normal;font-family:Menlo,'DejaVu Sans Mono',consolas,'Courier New',monospace\">BCE <span style=\"color: #008080; text-decoration-color: #008080; font-weight: bold\">3</span>:                           Bio:<span style=\"color: #008080; text-decoration-color: #008080; font-weight: bold\">-0.0</span> Cul:<span style=\"color: #008080; text-decoration-color: #008080; font-weight: bold\">-0.75</span> Emo:+<span style=\"color: #008080; text-decoration-color: #008080; font-weight: bold\">0.0</span>\n",
       "</pre>\n"
      ],
      "text/plain": [
       "BCE \u001b[1;36m3\u001b[0m:                           Bio:\u001b[1;36m-0.0\u001b[0m Cul:\u001b[1;36m-0.75\u001b[0m Emo:+\u001b[1;36m0.0\u001b[0m\n"
      ]
     },
     "metadata": {},
     "output_type": "display_data"
    },
    {
     "data": {
      "text/html": [
       "<pre style=\"white-space:pre;overflow-x:auto;line-height:normal;font-family:Menlo,'DejaVu Sans Mono',consolas,'Courier New',monospace\">Suma de bce1 y bce2:             Bio:+<span style=\"color: #008080; text-decoration-color: #008080; font-weight: bold\">1.0</span> Cul:<span style=\"color: #008080; text-decoration-color: #008080; font-weight: bold\">-0.5</span> Emo:+<span style=\"color: #008080; text-decoration-color: #008080; font-weight: bold\">0.5</span>\n",
       "</pre>\n"
      ],
      "text/plain": [
       "Suma de bce1 y bce2:             Bio:+\u001b[1;36m1.0\u001b[0m Cul:\u001b[1;36m-0.5\u001b[0m Emo:+\u001b[1;36m0.5\u001b[0m\n"
      ]
     },
     "metadata": {},
     "output_type": "display_data"
    },
    {
     "data": {
      "text/html": [
       "<pre style=\"white-space:pre;overflow-x:auto;line-height:normal;font-family:Menlo,'DejaVu Sans Mono',consolas,'Courier New',monospace\">Suma de bce1, bce2 y bce3:               Bio:+<span style=\"color: #008080; text-decoration-color: #008080; font-weight: bold\">1.0</span> Cul:<span style=\"color: #008080; text-decoration-color: #008080; font-weight: bold\">-1.0</span> Emo:+<span style=\"color: #008080; text-decoration-color: #008080; font-weight: bold\">0.5</span>\n",
       "</pre>\n"
      ],
      "text/plain": [
       "Suma de bce1, bce2 y bce3:               Bio:+\u001b[1;36m1.0\u001b[0m Cul:\u001b[1;36m-1.0\u001b[0m Emo:+\u001b[1;36m0.5\u001b[0m\n"
      ]
     },
     "metadata": {},
     "output_type": "display_data"
    }
   ],
   "source": [
    "bce1=BCE().sample()\n",
    "bce2=BCE().sample()\n",
    "bce3=BCE().sample()\n",
    "\n",
    "print(\"BCE 1:\\t\\t\\t\\t\",bce1)\n",
    "print(\"BCE 2:\\t\\t\\t\\t\",bce2)\n",
    "print(\"BCE 3:\\t\\t\\t\\t\",bce3)\n",
    "\n",
    "print(\"Suma de bce1 y bce2:\\t\\t\",bce1+bce2)\n",
    "print(\"Suma de bce1, bce2 y bce3:\\t\\t\",bce1+bce2+bce3)\n",
    "\n"
   ]
  },
  {
   "cell_type": "markdown",
   "id": "37133e89",
   "metadata": {},
   "source": [
    "### Pruebas Unitarias clase BCE"
   ]
  },
  {
   "cell_type": "markdown",
   "id": "5a2b2fe8",
   "metadata": {},
   "source": [
    "#### Pruebas Unitarias metodo __add__ para todas las posibles combinaciones"
   ]
  },
  {
   "cell_type": "code",
   "execution_count": 253,
   "id": "fcd2e0f0",
   "metadata": {},
   "outputs": [
    {
     "name": "stdout",
     "output_type": "stream",
     "text": [
      "\u001b[1m======================================= test session starts =======================================\u001b[0m\n",
      "collected 262144 items\n",
      "\n",
      "test\\test_bce.py \u001b[32m                                                                            [100%]\u001b[0m\n",
      "\n",
      "\u001b[32m=============================== \u001b[32m\u001b[1m262144 passed\u001b[0m\u001b[32m in 304.34s (0:05:04)\u001b[0m\u001b[32m ================================\u001b[0m\n"
     ]
    }
   ],
   "source": [
    "!pytest --no-header --report-passed=\"\" test/test_bce.py::test_bce_add_all"
   ]
  },
  {
   "cell_type": "markdown",
   "id": "7f802104",
   "metadata": {},
   "source": [
    "#### Pruebas Unitarias de la clase BCE"
   ]
  },
  {
   "cell_type": "code",
   "execution_count": 227,
   "id": "227b1d0c",
   "metadata": {},
   "outputs": [
    {
     "name": "stdout",
     "output_type": "stream",
     "text": [
      "\u001b[1m======================================= test session starts =======================================\u001b[0m\n",
      "collected 318 items\n",
      "\n",
      "test\\test_bce.py \u001b[32m.\u001b[0m\u001b[32m.\u001b[0m\u001b[32m.\u001b[0m\u001b[32m.\u001b[0m\u001b[32m.\u001b[0m\u001b[32m.\u001b[0m\u001b[32m.\u001b[0m\u001b[32m.\u001b[0m\u001b[32m.\u001b[0m\u001b[32m.\u001b[0m\u001b[32m.\u001b[0m\u001b[32m.\u001b[0m\u001b[32m.\u001b[0m\u001b[32m.\u001b[0m\u001b[32m.\u001b[0m\u001b[32m.\u001b[0m\u001b[32m.\u001b[0m\u001b[32m.\u001b[0m\u001b[32m.\u001b[0m\u001b[32m.\u001b[0m\u001b[32m.\u001b[0m\u001b[32m.\u001b[0m\u001b[32m.\u001b[0m\u001b[32m.\u001b[0m\u001b[32m.\u001b[0m\u001b[32m.\u001b[0m\u001b[32m.\u001b[0m\u001b[32m.\u001b[0m\u001b[32m.\u001b[0m\u001b[32m.\u001b[0m\u001b[32m.\u001b[0m\u001b[32m.\u001b[0m\u001b[32m.\u001b[0m\u001b[32m.\u001b[0m\u001b[32m.\u001b[0m\u001b[32m.\u001b[0m\u001b[32m.\u001b[0m\u001b[32m.\u001b[0m\u001b[32m.\u001b[0m\u001b[32m.\u001b[0m\u001b[32m.\u001b[0m\u001b[32m.\u001b[0m\u001b[32m.\u001b[0m\u001b[32m.\u001b[0m\u001b[32m.\u001b[0m\u001b[32m.\u001b[0m\u001b[32m.\u001b[0m\u001b[32m.\u001b[0m\u001b[32m.\u001b[0m\u001b[32m.\u001b[0m\u001b[32m.\u001b[0m\u001b[32m.\u001b[0m\u001b[32m.\u001b[0m\u001b[32m.\u001b[0m\u001b[32m.\u001b[0m\u001b[32m.\u001b[0m\u001b[32m.\u001b[0m\u001b[32m.\u001b[0m\u001b[32m.\u001b[0m\u001b[32m.\u001b[0m\u001b[32m.\u001b[0m\u001b[32m.\u001b[0m\u001b[32m.\u001b[0m\u001b[32m.\u001b[0m\u001b[32m.\u001b[0m\u001b[32m.\u001b[0m\u001b[32m.\u001b[0m\u001b[32m.\u001b[0m\u001b[32m.\u001b[0m\u001b[32m.\u001b[0m\u001b[32m.\u001b[0m\u001b[32m.\u001b[0m\u001b[32m.\u001b[0m\u001b[32m.\u001b[0m\u001b[32m.\u001b[0m\u001b[32m [ 23%]\n",
      "\u001b[0m\u001b[32m.\u001b[0m\u001b[32m.\u001b[0m\u001b[32m.\u001b[0m\u001b[32m.\u001b[0m\u001b[32m.\u001b[0m\u001b[32m.\u001b[0m\u001b[32m.\u001b[0m\u001b[32m.\u001b[0m\u001b[32m.\u001b[0m\u001b[32m.\u001b[0m\u001b[32m.\u001b[0m\u001b[32m.\u001b[0m\u001b[32m.\u001b[0m\u001b[32m.\u001b[0m\u001b[32m.\u001b[0m\u001b[32m.\u001b[0m\u001b[32m.\u001b[0m\u001b[32m.\u001b[0m\u001b[32m.\u001b[0m\u001b[32m.\u001b[0m\u001b[32m.\u001b[0m\u001b[32m.\u001b[0m\u001b[32m.\u001b[0m\u001b[32m.\u001b[0m\u001b[32m.\u001b[0m\u001b[32m.\u001b[0m\u001b[32m.\u001b[0m\u001b[32m.\u001b[0m\u001b[32m.\u001b[0m\u001b[32m.\u001b[0m\u001b[32m.\u001b[0m\u001b[32m.\u001b[0m\u001b[32m.\u001b[0m\u001b[32m.\u001b[0m\u001b[32m.\u001b[0m\u001b[32m.\u001b[0m\u001b[32m.\u001b[0m\u001b[32m.\u001b[0m\u001b[32m.\u001b[0m\u001b[32m.\u001b[0m\u001b[32m.\u001b[0m\u001b[32m.\u001b[0m\u001b[32m.\u001b[0m\u001b[32m.\u001b[0m\u001b[32m.\u001b[0m\u001b[32m.\u001b[0m\u001b[32m.\u001b[0m\u001b[32m.\u001b[0m\u001b[32m.\u001b[0m\u001b[32m.\u001b[0m\u001b[32m.\u001b[0m\u001b[32m.\u001b[0m\u001b[32m.\u001b[0m\u001b[32m.\u001b[0m\u001b[32m.\u001b[0m\u001b[32m.\u001b[0m\u001b[32m.\u001b[0m\u001b[32m.\u001b[0m\u001b[32m.\u001b[0m\u001b[32m.\u001b[0m\u001b[32m.\u001b[0m\u001b[32m.\u001b[0m\u001b[32m.\u001b[0m\u001b[32m.\u001b[0m\u001b[32m.\u001b[0m\u001b[32m.\u001b[0m\u001b[32m.\u001b[0m\u001b[32m.\u001b[0m\u001b[32m.\u001b[0m\u001b[32m.\u001b[0m\u001b[32m.\u001b[0m\u001b[32m.\u001b[0m\u001b[32m.\u001b[0m\u001b[32m.\u001b[0m\u001b[32m.\u001b[0m\u001b[32m.\u001b[0m\u001b[32m.\u001b[0m\u001b[32m.\u001b[0m\u001b[32m.\u001b[0m\u001b[32m.\u001b[0m\u001b[32m.\u001b[0m\u001b[32m.\u001b[0m\u001b[32m.\u001b[0m\u001b[32m.\u001b[0m\u001b[32m.\u001b[0m\u001b[32m.\u001b[0m\u001b[32m.\u001b[0m\u001b[32m.\u001b[0m\u001b[32m.\u001b[0m\u001b[32m.\u001b[0m\u001b[32m.\u001b[0m\u001b[32m.\u001b[0m\u001b[32m [ 52%]\n",
      "\u001b[0m\u001b[32m.\u001b[0m\u001b[32m.\u001b[0m\u001b[32m.\u001b[0m\u001b[32m.\u001b[0m\u001b[32m.\u001b[0m\u001b[32m.\u001b[0m\u001b[32m.\u001b[0m\u001b[32m.\u001b[0m\u001b[32m.\u001b[0m\u001b[32m.\u001b[0m\u001b[32m.\u001b[0m\u001b[32m.\u001b[0m\u001b[32m.\u001b[0m\u001b[32m.\u001b[0m\u001b[32m.\u001b[0m\u001b[32m.\u001b[0m\u001b[32m.\u001b[0m\u001b[32m.\u001b[0m\u001b[32m.\u001b[0m\u001b[32m.\u001b[0m\u001b[32m.\u001b[0m\u001b[32m.\u001b[0m\u001b[32m.\u001b[0m\u001b[32m.\u001b[0m\u001b[32m.\u001b[0m\u001b[32m.\u001b[0m\u001b[32m.\u001b[0m\u001b[32m.\u001b[0m\u001b[32m.\u001b[0m\u001b[32m.\u001b[0m\u001b[32m.\u001b[0m\u001b[32m.\u001b[0m\u001b[32m.\u001b[0m\u001b[32m.\u001b[0m\u001b[32m.\u001b[0m\u001b[32m.\u001b[0m\u001b[32m.\u001b[0m\u001b[32m.\u001b[0m\u001b[32m.\u001b[0m\u001b[32m.\u001b[0m\u001b[32m.\u001b[0m\u001b[32m.\u001b[0m\u001b[32m.\u001b[0m\u001b[32m.\u001b[0m\u001b[32m.\u001b[0m\u001b[32m.\u001b[0m\u001b[32m.\u001b[0m\u001b[32m.\u001b[0m\u001b[32m.\u001b[0m\u001b[32m.\u001b[0m\u001b[32m.\u001b[0m\u001b[32m.\u001b[0m\u001b[32m.\u001b[0m\u001b[32m.\u001b[0m\u001b[32m.\u001b[0m\u001b[32m.\u001b[0m\u001b[32m.\u001b[0m\u001b[32m.\u001b[0m\u001b[32m.\u001b[0m\u001b[32m.\u001b[0m\u001b[32m.\u001b[0m\u001b[32m.\u001b[0m\u001b[32m.\u001b[0m\u001b[32m.\u001b[0m\u001b[32m.\u001b[0m\u001b[32m.\u001b[0m\u001b[32m.\u001b[0m\u001b[32m.\u001b[0m\u001b[32m.\u001b[0m\u001b[32m.\u001b[0m\u001b[32m.\u001b[0m\u001b[32m.\u001b[0m\u001b[32m.\u001b[0m\u001b[32m.\u001b[0m\u001b[32m.\u001b[0m\u001b[32m.\u001b[0m\u001b[32m.\u001b[0m\u001b[32m.\u001b[0m\u001b[32m.\u001b[0m\u001b[32m.\u001b[0m\u001b[32m.\u001b[0m\u001b[32m.\u001b[0m\u001b[32m.\u001b[0m\u001b[32m.\u001b[0m\u001b[32m.\u001b[0m\u001b[32m.\u001b[0m\u001b[32m.\u001b[0m\u001b[32m.\u001b[0m\u001b[32m.\u001b[0m\u001b[32m.\u001b[0m\u001b[32m.\u001b[0m\u001b[32m.\u001b[0m\u001b[32m [ 81%]\n",
      "\u001b[0m\u001b[32m.\u001b[0m\u001b[32m.\u001b[0m\u001b[32m.\u001b[0m\u001b[32m.\u001b[0m\u001b[32m.\u001b[0m\u001b[32m.\u001b[0m\u001b[32m.\u001b[0m\u001b[32m.\u001b[0m\u001b[32m.\u001b[0m\u001b[32m.\u001b[0m\u001b[32m.\u001b[0m\u001b[32m.\u001b[0m\u001b[32m.\u001b[0m\u001b[32m.\u001b[0m\u001b[32m.\u001b[0m\u001b[32m.\u001b[0m\u001b[32m.\u001b[0m\u001b[32m.\u001b[0m\u001b[32m.\u001b[0m\u001b[32m.\u001b[0m\u001b[32m.\u001b[0m\u001b[32m.\u001b[0m\u001b[32m.\u001b[0m\u001b[32m.\u001b[0m\u001b[32m.\u001b[0m\u001b[32m.\u001b[0m\u001b[32m.\u001b[0m\u001b[32m.\u001b[0m\u001b[32m.\u001b[0m\u001b[32m.\u001b[0m\u001b[32m.\u001b[0m\u001b[32m.\u001b[0m\u001b[32m.\u001b[0m\u001b[32m.\u001b[0m\u001b[32m.\u001b[0m\u001b[32m.\u001b[0m\u001b[32m.\u001b[0m\u001b[32m.\u001b[0m\u001b[32m.\u001b[0m\u001b[32m.\u001b[0m\u001b[32m.\u001b[0m\u001b[32m.\u001b[0m\u001b[32m.\u001b[0m\u001b[32m.\u001b[0m\u001b[32m.\u001b[0m\u001b[32m.\u001b[0m\u001b[32m.\u001b[0m\u001b[32m.\u001b[0m\u001b[32m.\u001b[0m\u001b[32m.\u001b[0m\u001b[32m.\u001b[0m\u001b[32m.\u001b[0m\u001b[32m.\u001b[0m\u001b[32m.\u001b[0m\u001b[32m.\u001b[0m\u001b[32m.\u001b[0m\u001b[32m.\u001b[0m\u001b[32m.\u001b[0m\u001b[32m.\u001b[0m\u001b[32m                                  [100%]\u001b[0m\n",
      "\n",
      "\u001b[32m======================================= \u001b[32m\u001b[1m318 passed\u001b[0m\u001b[32m in 3.92s\u001b[0m\u001b[32m =======================================\u001b[0m\n"
     ]
    }
   ],
   "source": [
    "!pytest --no-header test/test_bce.py"
   ]
  },
  {
   "cell_type": "markdown",
   "id": "f013a7a9",
   "metadata": {},
   "source": [
    "## Clase Agent Inteligente"
   ]
  },
  {
   "cell_type": "code",
   "execution_count": 240,
   "id": "66abac54",
   "metadata": {},
   "outputs": [],
   "source": [
    "from src.intelligent_agent import Intelligent_agent"
   ]
  },
  {
   "cell_type": "markdown",
   "id": "666941d6",
   "metadata": {},
   "source": [
    "#### Pruebas de comportamiento de la clase Intelligent_agent"
   ]
  },
  {
   "cell_type": "code",
   "execution_count": 257,
   "id": "9bc3d2ed",
   "metadata": {},
   "outputs": [
    {
     "name": "stdout",
     "output_type": "stream",
     "text": [
      "\u001b[1m======================================= test session starts =======================================\u001b[0m\n",
      "collected 262144 items\n",
      "\n",
      "test\\test_intelligent_agent.py \u001b[32m                                                              [100%]\u001b[0m\n",
      "\n",
      "\u001b[32m=============================== \u001b[32m\u001b[1m262144 passed\u001b[0m\u001b[32m in 271.85s (0:04:31)\u001b[0m\u001b[32m ================================\u001b[0m\n"
     ]
    }
   ],
   "source": [
    "!pytest --no-header --report-passed=\"\" test/test_intelligent_agent.py::test_intelligent_agent_behavior"
   ]
  },
  {
   "cell_type": "markdown",
   "id": "daa8fdcb",
   "metadata": {},
   "source": [
    "#### Ejemplo de la clase Intelligent_agent"
   ]
  },
  {
   "cell_type": "code",
   "execution_count": 308,
   "id": "e0652f09",
   "metadata": {},
   "outputs": [
    {
     "data": {
      "text/html": [
       "<pre style=\"white-space:pre;overflow-x:auto;line-height:normal;font-family:Menlo,'DejaVu Sans Mono',consolas,'Courier New',monospace\">Estado actual del agente:                                Bio:+<span style=\"color: #008080; text-decoration-color: #008080; font-weight: bold\">0.0</span> Cul:+<span style=\"color: #008080; text-decoration-color: #008080; font-weight: bold\">0.0</span> Emo:+<span style=\"color: #008080; text-decoration-color: #008080; font-weight: bold\">0.0</span>\n",
       "</pre>\n"
      ],
      "text/plain": [
       "Estado actual del agente:                                Bio:+\u001b[1;36m0.0\u001b[0m Cul:+\u001b[1;36m0.0\u001b[0m Emo:+\u001b[1;36m0.0\u001b[0m\n"
      ]
     },
     "metadata": {},
     "output_type": "display_data"
    },
    {
     "data": {
      "text/html": [
       "<pre style=\"white-space:pre;overflow-x:auto;line-height:normal;font-family:Menlo,'DejaVu Sans Mono',consolas,'Courier New',monospace\">BCE input1:                                              Bio:<span style=\"color: #008080; text-decoration-color: #008080; font-weight: bold\">-0.25</span> Cul:<span style=\"color: #008080; text-decoration-color: #008080; font-weight: bold\">-0.5</span> Emo:+<span style=\"color: #008080; text-decoration-color: #008080; font-weight: bold\">0.75</span>\n",
       "</pre>\n"
      ],
      "text/plain": [
       "BCE input1:                                              Bio:\u001b[1;36m-0.25\u001b[0m Cul:\u001b[1;36m-0.5\u001b[0m Emo:+\u001b[1;36m0.75\u001b[0m\n"
      ]
     },
     "metadata": {},
     "output_type": "display_data"
    },
    {
     "data": {
      "text/html": [
       "<pre style=\"white-space:pre;overflow-x:auto;line-height:normal;font-family:Menlo,'DejaVu Sans Mono',consolas,'Courier New',monospace\">Estado actual del agente posterior a la entrada <span style=\"color: #008080; text-decoration-color: #008080; font-weight: bold\">1</span>:       Bio:<span style=\"color: #008080; text-decoration-color: #008080; font-weight: bold\">-0.25</span> Cul:<span style=\"color: #008080; text-decoration-color: #008080; font-weight: bold\">-0.5</span> Emo:+<span style=\"color: #008080; text-decoration-color: #008080; font-weight: bold\">0.75</span>\n",
       "</pre>\n"
      ],
      "text/plain": [
       "Estado actual del agente posterior a la entrada \u001b[1;36m1\u001b[0m:       Bio:\u001b[1;36m-0.25\u001b[0m Cul:\u001b[1;36m-0.5\u001b[0m Emo:+\u001b[1;36m0.75\u001b[0m\n"
      ]
     },
     "metadata": {},
     "output_type": "display_data"
    },
    {
     "data": {
      "text/html": [
       "<pre style=\"white-space:pre;overflow-x:auto;line-height:normal;font-family:Menlo,'DejaVu Sans Mono',consolas,'Courier New',monospace\">BCE input2                                               Bio:<span style=\"color: #008080; text-decoration-color: #008080; font-weight: bold\">-0.25</span> Cul:+<span style=\"color: #008080; text-decoration-color: #008080; font-weight: bold\">0.5</span> Emo:+<span style=\"color: #008080; text-decoration-color: #008080; font-weight: bold\">0.25</span>\n",
       "</pre>\n"
      ],
      "text/plain": [
       "BCE input2                                               Bio:\u001b[1;36m-0.25\u001b[0m Cul:+\u001b[1;36m0.5\u001b[0m Emo:+\u001b[1;36m0.25\u001b[0m\n"
      ]
     },
     "metadata": {},
     "output_type": "display_data"
    },
    {
     "data": {
      "text/html": [
       "<pre style=\"white-space:pre;overflow-x:auto;line-height:normal;font-family:Menlo,'DejaVu Sans Mono',consolas,'Courier New',monospace\">Estado actual del agente posterior a la entrada <span style=\"color: #008080; text-decoration-color: #008080; font-weight: bold\">2</span>:       Bio:<span style=\"color: #008080; text-decoration-color: #008080; font-weight: bold\">-0.5</span> Cul:<span style=\"color: #008080; text-decoration-color: #008080; font-weight: bold\">-0.0</span> Emo:+<span style=\"color: #008080; text-decoration-color: #008080; font-weight: bold\">1.0</span>\n",
       "</pre>\n"
      ],
      "text/plain": [
       "Estado actual del agente posterior a la entrada \u001b[1;36m2\u001b[0m:       Bio:\u001b[1;36m-0.5\u001b[0m Cul:\u001b[1;36m-0.0\u001b[0m Emo:+\u001b[1;36m1.0\u001b[0m\n"
      ]
     },
     "metadata": {},
     "output_type": "display_data"
    }
   ],
   "source": [
    "intelligent_agent = Intelligent_agent()\n",
    "input_bce_1=BCE().sample()\n",
    "input_bce_2=BCE().sample()\n",
    "print(\"Estado actual del agente:\\t\\t\\t\\t\",intelligent_agent.status())\n",
    "print(\"BCE input1:\\t\\t\\t\\t\\t\\t\",input_bce_1)\n",
    "print(\"Estado actual del agente posterior a la entrada 1:\\t\",intelligent_agent.add_bce(input_bce_1))\n",
    "print(\"BCE input2\\t\\t\\t\\t\\t\\t\",input_bce_2)\n",
    "print(\"Estado actual del agente posterior a la entrada 2:\\t\",intelligent_agent.add_bce(input_bce_2))"
   ]
  },
  {
   "attachments": {},
   "cell_type": "markdown",
   "id": "bd3952b3",
   "metadata": {},
   "source": [
    "## Clase Neurons"
   ]
  },
  {
   "cell_type": "code",
   "execution_count": 93,
   "id": "5253a29a",
   "metadata": {},
   "outputs": [],
   "source": [
    "from src.neurons import Neurons"
   ]
  },
  {
   "cell_type": "markdown",
   "id": "064c2e6f",
   "metadata": {},
   "source": [
    "La clase Neurons ha sido diseñada con la finalidad de simular un sistema de almacenamiento de información sensorial, emulando el funcionamiento de las neuronas en este proceso. Su estructura y métodos están concebidos para capturar, procesar y adaptar información entrante de manera similar a cómo las neuronas biológicas procesan señales sensoriales en el cerebro.\n",
    "\n",
    "Los métodos implementados en la clase, como set_event y set_event_bce, permiten registrar y almacenar eventos sensoriales, estableciendo conexiones entre los datos ingresantes y los patrones previamente aprendidos. Estos eventos pueden ser asociados a valores Biológicos, Culturales y Emocionales, enriqueciendo la representación de la información.\n",
    "\n",
    "La función init_patterns juega un papel esencial en esta simulación al establecer patrones iniciales que actúan como puntos de referencia para interpretar eventos entrantes. Estos patrones modelan cómo el cerebro humano crea conexiones entre la información sensorial y las experiencias previas, formando una base sólida para la interpretación y adaptación de la nueva información."
   ]
  },
  {
   "cell_type": "markdown",
   "id": "f318c0a9",
   "metadata": {},
   "source": [
    "### Ejemplo de clase Neurons"
   ]
  },
  {
   "cell_type": "code",
   "execution_count": 315,
   "id": "3c989763",
   "metadata": {},
   "outputs": [
    {
     "data": {
      "text/html": [
       "<pre style=\"white-space:pre;overflow-x:auto;line-height:normal;font-family:Menlo,'DejaVu Sans Mono',consolas,'Courier New',monospace\">Estado actual de la neurona\n",
       "<span style=\"font-weight: bold\">{}</span>\n",
       "</pre>\n"
      ],
      "text/plain": [
       "Estado actual de la neurona\n",
       "\u001b[1m{\u001b[0m\u001b[1m}\u001b[0m\n"
      ]
     },
     "metadata": {},
     "output_type": "display_data"
    },
    {
     "data": {
      "text/html": [
       "<pre style=\"white-space:pre;overflow-x:auto;line-height:normal;font-family:Menlo,'DejaVu Sans Mono',consolas,'Courier New',monospace\">Estado de la neurona luego de recibir un conjunto de patrones\n",
       "</pre>\n"
      ],
      "text/plain": [
       "Estado de la neurona luego de recibir un conjunto de patrones\n"
      ]
     },
     "metadata": {},
     "output_type": "display_data"
    },
    {
     "data": {
      "text/html": [
       "<pre style=\"white-space:pre;overflow-x:auto;line-height:normal;font-family:Menlo,'DejaVu Sans Mono',consolas,'Courier New',monospace\"><span style=\"font-weight: bold\">[</span>\n",
       "    <span style=\"font-weight: bold\">(</span><span style=\"color: #008080; text-decoration-color: #008080; font-weight: bold\">0</span>, <span style=\"color: #008000; text-decoration-color: #008000\">'pattern_a'</span>, Bio:+<span style=\"color: #008080; text-decoration-color: #008080; font-weight: bold\">0.75</span> Cul:<span style=\"color: #008080; text-decoration-color: #008080; font-weight: bold\">-0.75</span> Emo:+<span style=\"color: #008080; text-decoration-color: #008080; font-weight: bold\">0.25</span><span style=\"font-weight: bold\">)</span>,\n",
       "    <span style=\"font-weight: bold\">(</span><span style=\"color: #008080; text-decoration-color: #008080; font-weight: bold\">1</span>, <span style=\"color: #008000; text-decoration-color: #008000\">'pattern_b'</span>, Bio:<span style=\"color: #008080; text-decoration-color: #008080; font-weight: bold\">-0.0</span> Cul:+<span style=\"color: #008080; text-decoration-color: #008080; font-weight: bold\">0.25</span> Emo:+<span style=\"color: #008080; text-decoration-color: #008080; font-weight: bold\">0.5</span><span style=\"font-weight: bold\">)</span>,\n",
       "    <span style=\"font-weight: bold\">(</span><span style=\"color: #008080; text-decoration-color: #008080; font-weight: bold\">2</span>, <span style=\"color: #008000; text-decoration-color: #008000\">'pattern_c'</span>, Bio:+<span style=\"color: #008080; text-decoration-color: #008080; font-weight: bold\">0.25</span> Cul:+<span style=\"color: #008080; text-decoration-color: #008080; font-weight: bold\">0.25</span> Emo:+<span style=\"color: #008080; text-decoration-color: #008080; font-weight: bold\">0.25</span><span style=\"font-weight: bold\">)</span>,\n",
       "    <span style=\"font-weight: bold\">(</span><span style=\"color: #008080; text-decoration-color: #008080; font-weight: bold\">3</span>, <span style=\"color: #008000; text-decoration-color: #008000\">'pattern_d'</span>, Bio:+<span style=\"color: #008080; text-decoration-color: #008080; font-weight: bold\">0.0</span> Cul:+<span style=\"color: #008080; text-decoration-color: #008080; font-weight: bold\">0.75</span> Emo:+<span style=\"color: #008080; text-decoration-color: #008080; font-weight: bold\">0.75</span><span style=\"font-weight: bold\">)</span>\n",
       "<span style=\"font-weight: bold\">]</span>\n",
       "</pre>\n"
      ],
      "text/plain": [
       "\u001b[1m[\u001b[0m\n",
       "    \u001b[1m(\u001b[0m\u001b[1;36m0\u001b[0m, \u001b[32m'pattern_a'\u001b[0m, Bio:+\u001b[1;36m0.75\u001b[0m Cul:\u001b[1;36m-0.75\u001b[0m Emo:+\u001b[1;36m0.25\u001b[0m\u001b[1m)\u001b[0m,\n",
       "    \u001b[1m(\u001b[0m\u001b[1;36m1\u001b[0m, \u001b[32m'pattern_b'\u001b[0m, Bio:\u001b[1;36m-0.0\u001b[0m Cul:+\u001b[1;36m0.25\u001b[0m Emo:+\u001b[1;36m0.5\u001b[0m\u001b[1m)\u001b[0m,\n",
       "    \u001b[1m(\u001b[0m\u001b[1;36m2\u001b[0m, \u001b[32m'pattern_c'\u001b[0m, Bio:+\u001b[1;36m0.25\u001b[0m Cul:+\u001b[1;36m0.25\u001b[0m Emo:+\u001b[1;36m0.25\u001b[0m\u001b[1m)\u001b[0m,\n",
       "    \u001b[1m(\u001b[0m\u001b[1;36m3\u001b[0m, \u001b[32m'pattern_d'\u001b[0m, Bio:+\u001b[1;36m0.0\u001b[0m Cul:+\u001b[1;36m0.75\u001b[0m Emo:+\u001b[1;36m0.75\u001b[0m\u001b[1m)\u001b[0m\n",
       "\u001b[1m]\u001b[0m\n"
      ]
     },
     "metadata": {},
     "output_type": "display_data"
    },
    {
     "data": {
      "text/html": [
       "<pre style=\"white-space:pre;overflow-x:auto;line-height:normal;font-family:Menlo,'DejaVu Sans Mono',consolas,'Courier New',monospace\">Estado de la neurona luego de recibir un evento\n",
       "</pre>\n"
      ],
      "text/plain": [
       "Estado de la neurona luego de recibir un evento\n"
      ]
     },
     "metadata": {},
     "output_type": "display_data"
    },
    {
     "data": {
      "text/html": [
       "<pre style=\"white-space:pre;overflow-x:auto;line-height:normal;font-family:Menlo,'DejaVu Sans Mono',consolas,'Courier New',monospace\"><span style=\"font-weight: bold\">[</span><span style=\"color: #008080; text-decoration-color: #008080; font-weight: bold\">4</span>, Bio:+<span style=\"color: #008080; text-decoration-color: #008080; font-weight: bold\">0.75</span> Cul:<span style=\"color: #008080; text-decoration-color: #008080; font-weight: bold\">-0.75</span> Emo:+<span style=\"color: #008080; text-decoration-color: #008080; font-weight: bold\">0.25</span>, <span style=\"color: #008000; text-decoration-color: #008000\">'pattern_a'</span>, <span style=\"color: #008000; text-decoration-color: #008000\">'event0'</span><span style=\"font-weight: bold\">]</span>\n",
       "</pre>\n"
      ],
      "text/plain": [
       "\u001b[1m[\u001b[0m\u001b[1;36m4\u001b[0m, Bio:+\u001b[1;36m0.75\u001b[0m Cul:\u001b[1;36m-0.75\u001b[0m Emo:+\u001b[1;36m0.25\u001b[0m, \u001b[32m'pattern_a'\u001b[0m, \u001b[32m'event0'\u001b[0m\u001b[1m]\u001b[0m\n"
      ]
     },
     "metadata": {},
     "output_type": "display_data"
    },
    {
     "data": {
      "text/html": [
       "<pre style=\"white-space:pre;overflow-x:auto;line-height:normal;font-family:Menlo,'DejaVu Sans Mono',consolas,'Courier New',monospace\">Estado de la neurona luego actualizar la neurona aprendida con un valor de BCE\n",
       "</pre>\n"
      ],
      "text/plain": [
       "Estado de la neurona luego actualizar la neurona aprendida con un valor de BCE\n"
      ]
     },
     "metadata": {},
     "output_type": "display_data"
    },
    {
     "data": {
      "text/html": [
       "<pre style=\"white-space:pre;overflow-x:auto;line-height:normal;font-family:Menlo,'DejaVu Sans Mono',consolas,'Courier New',monospace\"><span style=\"font-weight: bold\">[</span><span style=\"color: #008080; text-decoration-color: #008080; font-weight: bold\">4</span>, Bio:+<span style=\"color: #008080; text-decoration-color: #008080; font-weight: bold\">0.25</span> Cul:<span style=\"color: #008080; text-decoration-color: #008080; font-weight: bold\">-0.75</span> Emo:+<span style=\"color: #008080; text-decoration-color: #008080; font-weight: bold\">0.5</span>, <span style=\"color: #008000; text-decoration-color: #008000\">'pattern_a'</span>, <span style=\"color: #008000; text-decoration-color: #008000\">'event0'</span><span style=\"font-weight: bold\">]</span>\n",
       "</pre>\n"
      ],
      "text/plain": [
       "\u001b[1m[\u001b[0m\u001b[1;36m4\u001b[0m, Bio:+\u001b[1;36m0.25\u001b[0m Cul:\u001b[1;36m-0.75\u001b[0m Emo:+\u001b[1;36m0.5\u001b[0m, \u001b[32m'pattern_a'\u001b[0m, \u001b[32m'event0'\u001b[0m\u001b[1m]\u001b[0m\n"
      ]
     },
     "metadata": {},
     "output_type": "display_data"
    },
    {
     "data": {
      "text/html": [
       "<pre style=\"white-space:pre;overflow-x:auto;line-height:normal;font-family:Menlo,'DejaVu Sans Mono',consolas,'Courier New',monospace\">Estado actual de la neurona\n",
       "</pre>\n"
      ],
      "text/plain": [
       "Estado actual de la neurona\n"
      ]
     },
     "metadata": {},
     "output_type": "display_data"
    },
    {
     "data": {
      "text/html": [
       "<pre style=\"white-space:pre;overflow-x:auto;line-height:normal;font-family:Menlo,'DejaVu Sans Mono',consolas,'Courier New',monospace\"><span style=\"font-weight: bold\">{</span>\n",
       "    <span style=\"color: #008000; text-decoration-color: #008000\">'pattern_a'</span>: <span style=\"font-weight: bold\">[</span><span style=\"color: #008080; text-decoration-color: #008080; font-weight: bold\">0</span>, Bio:+<span style=\"color: #008080; text-decoration-color: #008080; font-weight: bold\">0.75</span> Cul:<span style=\"color: #008080; text-decoration-color: #008080; font-weight: bold\">-0.75</span> Emo:+<span style=\"color: #008080; text-decoration-color: #008080; font-weight: bold\">0.25</span>, <span style=\"color: #008000; text-decoration-color: #008000\">''</span>, <span style=\"color: #008000; text-decoration-color: #008000\">'pattern_a'</span><span style=\"font-weight: bold\">]</span>,\n",
       "    <span style=\"color: #008000; text-decoration-color: #008000\">'pattern_b'</span>: <span style=\"font-weight: bold\">[</span><span style=\"color: #008080; text-decoration-color: #008080; font-weight: bold\">1</span>, Bio:<span style=\"color: #008080; text-decoration-color: #008080; font-weight: bold\">-0.0</span> Cul:+<span style=\"color: #008080; text-decoration-color: #008080; font-weight: bold\">0.25</span> Emo:+<span style=\"color: #008080; text-decoration-color: #008080; font-weight: bold\">0.5</span>, <span style=\"color: #008000; text-decoration-color: #008000\">''</span>, <span style=\"color: #008000; text-decoration-color: #008000\">'pattern_b'</span><span style=\"font-weight: bold\">]</span>,\n",
       "    <span style=\"color: #008000; text-decoration-color: #008000\">'pattern_c'</span>: <span style=\"font-weight: bold\">[</span><span style=\"color: #008080; text-decoration-color: #008080; font-weight: bold\">2</span>, Bio:+<span style=\"color: #008080; text-decoration-color: #008080; font-weight: bold\">0.25</span> Cul:+<span style=\"color: #008080; text-decoration-color: #008080; font-weight: bold\">0.25</span> Emo:+<span style=\"color: #008080; text-decoration-color: #008080; font-weight: bold\">0.25</span>, <span style=\"color: #008000; text-decoration-color: #008000\">''</span>, <span style=\"color: #008000; text-decoration-color: #008000\">'pattern_c'</span><span style=\"font-weight: bold\">]</span>,\n",
       "    <span style=\"color: #008000; text-decoration-color: #008000\">'pattern_d'</span>: <span style=\"font-weight: bold\">[</span><span style=\"color: #008080; text-decoration-color: #008080; font-weight: bold\">3</span>, Bio:+<span style=\"color: #008080; text-decoration-color: #008080; font-weight: bold\">0.0</span> Cul:+<span style=\"color: #008080; text-decoration-color: #008080; font-weight: bold\">0.75</span> Emo:+<span style=\"color: #008080; text-decoration-color: #008080; font-weight: bold\">0.75</span>, <span style=\"color: #008000; text-decoration-color: #008000\">''</span>, <span style=\"color: #008000; text-decoration-color: #008000\">'pattern_d'</span><span style=\"font-weight: bold\">]</span>,\n",
       "    <span style=\"color: #008000; text-decoration-color: #008000\">'event0'</span>: <span style=\"font-weight: bold\">[</span><span style=\"color: #008080; text-decoration-color: #008080; font-weight: bold\">4</span>, Bio:+<span style=\"color: #008080; text-decoration-color: #008080; font-weight: bold\">0.25</span> Cul:<span style=\"color: #008080; text-decoration-color: #008080; font-weight: bold\">-0.75</span> Emo:+<span style=\"color: #008080; text-decoration-color: #008080; font-weight: bold\">0.5</span>, <span style=\"color: #008000; text-decoration-color: #008000\">'pattern_a'</span>, <span style=\"color: #008000; text-decoration-color: #008000\">'event0'</span><span style=\"font-weight: bold\">]</span>\n",
       "<span style=\"font-weight: bold\">}</span>\n",
       "</pre>\n"
      ],
      "text/plain": [
       "\u001b[1m{\u001b[0m\n",
       "    \u001b[32m'pattern_a'\u001b[0m: \u001b[1m[\u001b[0m\u001b[1;36m0\u001b[0m, Bio:+\u001b[1;36m0.75\u001b[0m Cul:\u001b[1;36m-0.75\u001b[0m Emo:+\u001b[1;36m0.25\u001b[0m, \u001b[32m''\u001b[0m, \u001b[32m'pattern_a'\u001b[0m\u001b[1m]\u001b[0m,\n",
       "    \u001b[32m'pattern_b'\u001b[0m: \u001b[1m[\u001b[0m\u001b[1;36m1\u001b[0m, Bio:\u001b[1;36m-0.0\u001b[0m Cul:+\u001b[1;36m0.25\u001b[0m Emo:+\u001b[1;36m0.5\u001b[0m, \u001b[32m''\u001b[0m, \u001b[32m'pattern_b'\u001b[0m\u001b[1m]\u001b[0m,\n",
       "    \u001b[32m'pattern_c'\u001b[0m: \u001b[1m[\u001b[0m\u001b[1;36m2\u001b[0m, Bio:+\u001b[1;36m0.25\u001b[0m Cul:+\u001b[1;36m0.25\u001b[0m Emo:+\u001b[1;36m0.25\u001b[0m, \u001b[32m''\u001b[0m, \u001b[32m'pattern_c'\u001b[0m\u001b[1m]\u001b[0m,\n",
       "    \u001b[32m'pattern_d'\u001b[0m: \u001b[1m[\u001b[0m\u001b[1;36m3\u001b[0m, Bio:+\u001b[1;36m0.0\u001b[0m Cul:+\u001b[1;36m0.75\u001b[0m Emo:+\u001b[1;36m0.75\u001b[0m, \u001b[32m''\u001b[0m, \u001b[32m'pattern_d'\u001b[0m\u001b[1m]\u001b[0m,\n",
       "    \u001b[32m'event0'\u001b[0m: \u001b[1m[\u001b[0m\u001b[1;36m4\u001b[0m, Bio:+\u001b[1;36m0.25\u001b[0m Cul:\u001b[1;36m-0.75\u001b[0m Emo:+\u001b[1;36m0.5\u001b[0m, \u001b[32m'pattern_a'\u001b[0m, \u001b[32m'event0'\u001b[0m\u001b[1m]\u001b[0m\n",
       "\u001b[1m}\u001b[0m\n"
      ]
     },
     "metadata": {},
     "output_type": "display_data"
    }
   ],
   "source": [
    "neurona=Neurons()\n",
    "\n",
    "a=BCE().sample()\n",
    "b=BCE().sample()\n",
    "c=BCE().sample()\n",
    "d=BCE().sample()\n",
    "event0=BCE().sample()\n",
    "event1=BCE().sample()\n",
    "event2=BCE().sample()\n",
    "\n",
    "arr_patternes_bce=[(\"pattern_a\",a),(\"pattern_b\",b),(\"pattern_c\",c),(\"pattern_d\",d)]\n",
    "arr_patternes_bce2=[(\"pattern_e\",a),(\"pattern_f\",b),(\"pattern_g\",c),(\"pattern_h\",d)]\n",
    "\n",
    "#Estado actual de la neurona\n",
    "print(\"Estado actual de la neurona\",neurona.get_neurons())\n",
    "\n",
    "#Inicializar conjunto de patrones\n",
    "print(\"Estado de la neurona luego de recibir un conjunto de patrones\")\n",
    "print(neurona.init_patterns(arr_patternes_bce))\n",
    "\n",
    "print(\"Estado de la neurona luego de recibir un evento\")\n",
    "print(neurona.set_event(\"pattern_a:event0\"))\n",
    "print(\"Estado de la neurona luego actualizar la neurona aprendida con un valor de BCE\")\n",
    "print(neurona.update_neuron_to_learn(event0))\n",
    "print(\"Estado actual de la neurona\")\n",
    "print(neurona.get_neurons())\n",
    "\n"
   ]
  },
  {
   "cell_type": "markdown",
   "id": "3b564f2a",
   "metadata": {},
   "source": [
    "#### Prueba de comportamiento de la clase Neurons"
   ]
  },
  {
   "cell_type": "code",
   "execution_count": 259,
   "id": "22fa31c3",
   "metadata": {},
   "outputs": [
    {
     "name": "stdout",
     "output_type": "stream",
     "text": [
      "\u001b[1m======================================= test session starts =======================================\u001b[0m\n",
      "collected 1000 items\n",
      "\n",
      "test\\test_neurons.py \u001b[32m.\u001b[0m\u001b[32m.\u001b[0m\u001b[32m.\u001b[0m\u001b[32m.\u001b[0m\u001b[32m.\u001b[0m\u001b[32m.\u001b[0m\u001b[32m.\u001b[0m\u001b[32m.\u001b[0m\u001b[32m.\u001b[0m\u001b[32m.\u001b[0m\u001b[32m.\u001b[0m\u001b[32m.\u001b[0m\u001b[32m.\u001b[0m\u001b[32m.\u001b[0m\u001b[32m.\u001b[0m\u001b[32m.\u001b[0m\u001b[32m.\u001b[0m\u001b[32m.\u001b[0m\u001b[32m.\u001b[0m\u001b[32m.\u001b[0m\u001b[32m.\u001b[0m\u001b[32m.\u001b[0m\u001b[32m.\u001b[0m\u001b[32m.\u001b[0m\u001b[32m.\u001b[0m\u001b[32m.\u001b[0m\u001b[32m.\u001b[0m\u001b[32m.\u001b[0m\u001b[32m.\u001b[0m\u001b[32m.\u001b[0m\u001b[32m.\u001b[0m\u001b[32m.\u001b[0m\u001b[32m.\u001b[0m\u001b[32m.\u001b[0m\u001b[32m.\u001b[0m\u001b[32m.\u001b[0m\u001b[32m.\u001b[0m\u001b[32m.\u001b[0m\u001b[32m.\u001b[0m\u001b[32m.\u001b[0m\u001b[32m.\u001b[0m\u001b[32m.\u001b[0m\u001b[32m.\u001b[0m\u001b[32m.\u001b[0m\u001b[32m.\u001b[0m\u001b[32m.\u001b[0m\u001b[32m.\u001b[0m\u001b[32m.\u001b[0m\u001b[32m.\u001b[0m\u001b[32m.\u001b[0m\u001b[32m.\u001b[0m\u001b[32m.\u001b[0m\u001b[32m.\u001b[0m\u001b[32m.\u001b[0m\u001b[32m.\u001b[0m\u001b[32m.\u001b[0m\u001b[32m.\u001b[0m\u001b[32m.\u001b[0m\u001b[32m.\u001b[0m\u001b[32m.\u001b[0m\u001b[32m.\u001b[0m\u001b[32m.\u001b[0m\u001b[32m.\u001b[0m\u001b[32m.\u001b[0m\u001b[32m.\u001b[0m\u001b[32m.\u001b[0m\u001b[32m.\u001b[0m\u001b[32m.\u001b[0m\u001b[32m.\u001b[0m\u001b[32m.\u001b[0m\u001b[32m.\u001b[0m\u001b[32m [  7%]\n",
      "\u001b[0m\u001b[32m.\u001b[0m\u001b[32m.\u001b[0m\u001b[32m.\u001b[0m\u001b[32m.\u001b[0m\u001b[32m.\u001b[0m\u001b[32m.\u001b[0m\u001b[32m.\u001b[0m\u001b[32m.\u001b[0m\u001b[32m.\u001b[0m\u001b[32m.\u001b[0m\u001b[32m.\u001b[0m\u001b[32m.\u001b[0m\u001b[32m.\u001b[0m\u001b[32m.\u001b[0m\u001b[32m.\u001b[0m\u001b[32m.\u001b[0m\u001b[32m.\u001b[0m\u001b[32m.\u001b[0m\u001b[32m.\u001b[0m\u001b[32m.\u001b[0m\u001b[32m.\u001b[0m\u001b[32m.\u001b[0m\u001b[32m.\u001b[0m\u001b[32m.\u001b[0m\u001b[32m.\u001b[0m\u001b[32m.\u001b[0m\u001b[32m.\u001b[0m\u001b[32m.\u001b[0m\u001b[32m.\u001b[0m\u001b[32m.\u001b[0m\u001b[32m.\u001b[0m\u001b[32m.\u001b[0m\u001b[32m.\u001b[0m\u001b[32m.\u001b[0m\u001b[32m.\u001b[0m\u001b[32m.\u001b[0m\u001b[32m.\u001b[0m\u001b[32m.\u001b[0m\u001b[32m.\u001b[0m\u001b[32m.\u001b[0m\u001b[32m.\u001b[0m\u001b[32m.\u001b[0m\u001b[32m.\u001b[0m\u001b[32m.\u001b[0m\u001b[32m.\u001b[0m\u001b[32m.\u001b[0m\u001b[32m.\u001b[0m\u001b[32m.\u001b[0m\u001b[32m.\u001b[0m\u001b[32m.\u001b[0m\u001b[32m.\u001b[0m\u001b[32m.\u001b[0m\u001b[32m.\u001b[0m\u001b[32m.\u001b[0m\u001b[32m.\u001b[0m\u001b[32m.\u001b[0m\u001b[32m.\u001b[0m\u001b[32m.\u001b[0m\u001b[32m.\u001b[0m\u001b[32m.\u001b[0m\u001b[32m.\u001b[0m\u001b[32m.\u001b[0m\u001b[32m.\u001b[0m\u001b[32m.\u001b[0m\u001b[32m.\u001b[0m\u001b[32m.\u001b[0m\u001b[32m.\u001b[0m\u001b[32m.\u001b[0m\u001b[32m.\u001b[0m\u001b[32m.\u001b[0m\u001b[32m.\u001b[0m\u001b[32m.\u001b[0m\u001b[32m.\u001b[0m\u001b[32m.\u001b[0m\u001b[32m.\u001b[0m\u001b[32m.\u001b[0m\u001b[32m.\u001b[0m\u001b[32m.\u001b[0m\u001b[32m.\u001b[0m\u001b[32m.\u001b[0m\u001b[32m.\u001b[0m\u001b[32m.\u001b[0m\u001b[32m.\u001b[0m\u001b[32m.\u001b[0m\u001b[32m.\u001b[0m\u001b[32m.\u001b[0m\u001b[32m.\u001b[0m\u001b[32m.\u001b[0m\u001b[32m.\u001b[0m\u001b[32m.\u001b[0m\u001b[32m.\u001b[0m\u001b[32m.\u001b[0m\u001b[32m [ 16%]\n",
      "\u001b[0m\u001b[32m.\u001b[0m\u001b[32m.\u001b[0m\u001b[32m.\u001b[0m\u001b[32m.\u001b[0m\u001b[32m.\u001b[0m\u001b[32m.\u001b[0m\u001b[32m.\u001b[0m\u001b[32m.\u001b[0m\u001b[32m.\u001b[0m\u001b[32m.\u001b[0m\u001b[32m.\u001b[0m\u001b[32m.\u001b[0m\u001b[32m.\u001b[0m\u001b[32m.\u001b[0m\u001b[32m.\u001b[0m\u001b[32m.\u001b[0m\u001b[32m.\u001b[0m\u001b[32m.\u001b[0m\u001b[32m.\u001b[0m\u001b[32m.\u001b[0m\u001b[32m.\u001b[0m\u001b[32m.\u001b[0m\u001b[32m.\u001b[0m\u001b[32m.\u001b[0m\u001b[32m.\u001b[0m\u001b[32m.\u001b[0m\u001b[32m.\u001b[0m\u001b[32m.\u001b[0m\u001b[32m.\u001b[0m\u001b[32m.\u001b[0m\u001b[32m.\u001b[0m\u001b[32m.\u001b[0m\u001b[32m.\u001b[0m\u001b[32m.\u001b[0m\u001b[32m.\u001b[0m\u001b[32m.\u001b[0m\u001b[32m.\u001b[0m\u001b[32m.\u001b[0m\u001b[32m.\u001b[0m\u001b[32m.\u001b[0m\u001b[32m.\u001b[0m\u001b[32m.\u001b[0m\u001b[32m.\u001b[0m\u001b[32m.\u001b[0m\u001b[32m.\u001b[0m\u001b[32m.\u001b[0m\u001b[32m.\u001b[0m\u001b[32m.\u001b[0m\u001b[32m.\u001b[0m\u001b[32m.\u001b[0m\u001b[32m.\u001b[0m\u001b[32m.\u001b[0m\u001b[32m.\u001b[0m\u001b[32m.\u001b[0m\u001b[32m.\u001b[0m\u001b[32m.\u001b[0m\u001b[32m.\u001b[0m\u001b[32m.\u001b[0m\u001b[32m.\u001b[0m\u001b[32m.\u001b[0m\u001b[32m.\u001b[0m\u001b[32m.\u001b[0m\u001b[32m.\u001b[0m\u001b[32m.\u001b[0m\u001b[32m.\u001b[0m\u001b[32m.\u001b[0m\u001b[32m.\u001b[0m\u001b[32m.\u001b[0m\u001b[32m.\u001b[0m\u001b[32m.\u001b[0m\u001b[32m.\u001b[0m\u001b[32m.\u001b[0m\u001b[32m.\u001b[0m\u001b[32m.\u001b[0m\u001b[32m.\u001b[0m\u001b[32m.\u001b[0m\u001b[32m.\u001b[0m\u001b[32m.\u001b[0m\u001b[32m.\u001b[0m\u001b[32m.\u001b[0m\u001b[32m.\u001b[0m\u001b[32m.\u001b[0m\u001b[32m.\u001b[0m\u001b[32m.\u001b[0m\u001b[32m.\u001b[0m\u001b[32m.\u001b[0m\u001b[32m.\u001b[0m\u001b[32m.\u001b[0m\u001b[32m.\u001b[0m\u001b[32m.\u001b[0m\u001b[32m.\u001b[0m\u001b[32m.\u001b[0m\u001b[32m [ 25%]\n",
      "\u001b[0m\u001b[32m.\u001b[0m\u001b[32m.\u001b[0m\u001b[32m.\u001b[0m\u001b[32m.\u001b[0m\u001b[32m.\u001b[0m\u001b[32m.\u001b[0m\u001b[32m.\u001b[0m\u001b[32m.\u001b[0m\u001b[32m.\u001b[0m\u001b[32m.\u001b[0m\u001b[32m.\u001b[0m\u001b[32m.\u001b[0m\u001b[32m.\u001b[0m\u001b[32m.\u001b[0m\u001b[32m.\u001b[0m\u001b[32m.\u001b[0m\u001b[32m.\u001b[0m\u001b[32m.\u001b[0m\u001b[32m.\u001b[0m\u001b[32m.\u001b[0m\u001b[32m.\u001b[0m\u001b[32m.\u001b[0m\u001b[32m.\u001b[0m\u001b[32m.\u001b[0m\u001b[32m.\u001b[0m\u001b[32m.\u001b[0m\u001b[32m.\u001b[0m\u001b[32m.\u001b[0m\u001b[32m.\u001b[0m\u001b[32m.\u001b[0m\u001b[32m.\u001b[0m\u001b[32m.\u001b[0m\u001b[32m.\u001b[0m\u001b[32m.\u001b[0m\u001b[32m.\u001b[0m\u001b[32m.\u001b[0m\u001b[32m.\u001b[0m\u001b[32m.\u001b[0m\u001b[32m.\u001b[0m\u001b[32m.\u001b[0m\u001b[32m.\u001b[0m\u001b[32m.\u001b[0m\u001b[32m.\u001b[0m\u001b[32m.\u001b[0m\u001b[32m.\u001b[0m\u001b[32m.\u001b[0m\u001b[32m.\u001b[0m\u001b[32m.\u001b[0m\u001b[32m.\u001b[0m\u001b[32m.\u001b[0m\u001b[32m.\u001b[0m\u001b[32m.\u001b[0m\u001b[32m.\u001b[0m\u001b[32m.\u001b[0m\u001b[32m.\u001b[0m\u001b[32m.\u001b[0m\u001b[32m.\u001b[0m\u001b[32m.\u001b[0m\u001b[32m.\u001b[0m\u001b[32m.\u001b[0m\u001b[32m.\u001b[0m\u001b[32m.\u001b[0m\u001b[32m.\u001b[0m\u001b[32m.\u001b[0m\u001b[32m.\u001b[0m\u001b[32m.\u001b[0m\u001b[32m.\u001b[0m\u001b[32m.\u001b[0m\u001b[32m.\u001b[0m\u001b[32m.\u001b[0m\u001b[32m.\u001b[0m\u001b[32m.\u001b[0m\u001b[32m.\u001b[0m\u001b[32m.\u001b[0m\u001b[32m.\u001b[0m\u001b[32m.\u001b[0m\u001b[32m.\u001b[0m\u001b[32m.\u001b[0m\u001b[32m.\u001b[0m\u001b[32m.\u001b[0m\u001b[32m.\u001b[0m\u001b[32m.\u001b[0m\u001b[32m.\u001b[0m\u001b[32m.\u001b[0m\u001b[32m.\u001b[0m\u001b[32m.\u001b[0m\u001b[32m.\u001b[0m\u001b[32m.\u001b[0m\u001b[32m.\u001b[0m\u001b[32m.\u001b[0m\u001b[32m.\u001b[0m\u001b[32m.\u001b[0m\u001b[32m [ 34%]\n",
      "\u001b[0m\u001b[32m.\u001b[0m\u001b[32m.\u001b[0m\u001b[32m.\u001b[0m\u001b[32m.\u001b[0m\u001b[32m.\u001b[0m\u001b[32m.\u001b[0m\u001b[32m.\u001b[0m\u001b[32m.\u001b[0m\u001b[32m.\u001b[0m\u001b[32m.\u001b[0m\u001b[32m.\u001b[0m\u001b[32m.\u001b[0m\u001b[32m.\u001b[0m\u001b[32m.\u001b[0m\u001b[32m.\u001b[0m\u001b[32m.\u001b[0m\u001b[32m.\u001b[0m\u001b[32m.\u001b[0m\u001b[32m.\u001b[0m\u001b[32m.\u001b[0m\u001b[32m.\u001b[0m\u001b[32m.\u001b[0m\u001b[32m.\u001b[0m\u001b[32m.\u001b[0m\u001b[32m.\u001b[0m\u001b[32m.\u001b[0m\u001b[32m.\u001b[0m\u001b[32m.\u001b[0m\u001b[32m.\u001b[0m\u001b[32m.\u001b[0m\u001b[32m.\u001b[0m\u001b[32m.\u001b[0m\u001b[32m.\u001b[0m\u001b[32m.\u001b[0m\u001b[32m.\u001b[0m\u001b[32m.\u001b[0m\u001b[32m.\u001b[0m\u001b[32m.\u001b[0m\u001b[32m.\u001b[0m\u001b[32m.\u001b[0m\u001b[32m.\u001b[0m\u001b[32m.\u001b[0m\u001b[32m.\u001b[0m\u001b[32m.\u001b[0m\u001b[32m.\u001b[0m\u001b[32m.\u001b[0m\u001b[32m.\u001b[0m\u001b[32m.\u001b[0m\u001b[32m.\u001b[0m\u001b[32m.\u001b[0m\u001b[32m.\u001b[0m\u001b[32m.\u001b[0m\u001b[32m.\u001b[0m\u001b[32m.\u001b[0m\u001b[32m.\u001b[0m\u001b[32m.\u001b[0m\u001b[32m.\u001b[0m\u001b[32m.\u001b[0m\u001b[32m.\u001b[0m\u001b[32m.\u001b[0m\u001b[32m.\u001b[0m\u001b[32m.\u001b[0m\u001b[32m.\u001b[0m\u001b[32m.\u001b[0m\u001b[32m.\u001b[0m\u001b[32m.\u001b[0m\u001b[32m.\u001b[0m\u001b[32m.\u001b[0m\u001b[32m.\u001b[0m\u001b[32m.\u001b[0m\u001b[32m.\u001b[0m\u001b[32m.\u001b[0m\u001b[32m.\u001b[0m\u001b[32m.\u001b[0m\u001b[32m.\u001b[0m\u001b[32m.\u001b[0m\u001b[32m.\u001b[0m\u001b[32m.\u001b[0m\u001b[32m.\u001b[0m\u001b[32m.\u001b[0m\u001b[32m.\u001b[0m\u001b[32m.\u001b[0m\u001b[32m.\u001b[0m\u001b[32m.\u001b[0m\u001b[32m.\u001b[0m\u001b[32m.\u001b[0m\u001b[32m.\u001b[0m\u001b[32m.\u001b[0m\u001b[32m.\u001b[0m\u001b[32m.\u001b[0m\u001b[32m.\u001b[0m\u001b[32m.\u001b[0m\u001b[32m [ 43%]\n",
      "\u001b[0m\u001b[32m.\u001b[0m\u001b[32m.\u001b[0m\u001b[32m.\u001b[0m\u001b[32m.\u001b[0m\u001b[32m.\u001b[0m\u001b[32m.\u001b[0m\u001b[32m.\u001b[0m\u001b[32m.\u001b[0m\u001b[32m.\u001b[0m\u001b[32m.\u001b[0m\u001b[32m.\u001b[0m\u001b[32m.\u001b[0m\u001b[32m.\u001b[0m\u001b[32m.\u001b[0m\u001b[32m.\u001b[0m\u001b[32m.\u001b[0m\u001b[32m.\u001b[0m\u001b[32m.\u001b[0m\u001b[32m.\u001b[0m\u001b[32m.\u001b[0m\u001b[32m.\u001b[0m\u001b[32m.\u001b[0m\u001b[32m.\u001b[0m\u001b[32m.\u001b[0m\u001b[32m.\u001b[0m\u001b[32m.\u001b[0m\u001b[32m.\u001b[0m\u001b[32m.\u001b[0m\u001b[32m.\u001b[0m\u001b[32m.\u001b[0m\u001b[32m.\u001b[0m\u001b[32m.\u001b[0m\u001b[32m.\u001b[0m\u001b[32m.\u001b[0m\u001b[32m.\u001b[0m\u001b[32m.\u001b[0m\u001b[32m.\u001b[0m\u001b[32m.\u001b[0m\u001b[32m.\u001b[0m\u001b[32m.\u001b[0m\u001b[32m.\u001b[0m\u001b[32m.\u001b[0m\u001b[32m.\u001b[0m\u001b[32m.\u001b[0m\u001b[32m.\u001b[0m\u001b[32m.\u001b[0m\u001b[32m.\u001b[0m\u001b[32m.\u001b[0m\u001b[32m.\u001b[0m\u001b[32m.\u001b[0m\u001b[32m.\u001b[0m\u001b[32m.\u001b[0m\u001b[32m.\u001b[0m\u001b[32m.\u001b[0m\u001b[32m.\u001b[0m\u001b[32m.\u001b[0m\u001b[32m.\u001b[0m\u001b[32m.\u001b[0m\u001b[32m.\u001b[0m\u001b[32m.\u001b[0m\u001b[32m.\u001b[0m\u001b[32m.\u001b[0m\u001b[32m.\u001b[0m\u001b[32m.\u001b[0m\u001b[32m.\u001b[0m\u001b[32m.\u001b[0m\u001b[32m.\u001b[0m\u001b[32m.\u001b[0m\u001b[32m.\u001b[0m\u001b[32m.\u001b[0m\u001b[32m.\u001b[0m\u001b[32m.\u001b[0m\u001b[32m.\u001b[0m\u001b[32m.\u001b[0m\u001b[32m.\u001b[0m\u001b[32m.\u001b[0m\u001b[32m.\u001b[0m\u001b[32m.\u001b[0m\u001b[32m.\u001b[0m\u001b[32m.\u001b[0m\u001b[32m.\u001b[0m\u001b[32m.\u001b[0m\u001b[32m.\u001b[0m\u001b[32m.\u001b[0m\u001b[32m.\u001b[0m\u001b[32m.\u001b[0m\u001b[32m.\u001b[0m\u001b[32m.\u001b[0m\u001b[32m.\u001b[0m\u001b[32m.\u001b[0m\u001b[32m.\u001b[0m\u001b[32m.\u001b[0m\u001b[32m [ 53%]\n",
      "\u001b[0m\u001b[32m.\u001b[0m\u001b[32m.\u001b[0m\u001b[32m.\u001b[0m\u001b[32m.\u001b[0m\u001b[32m.\u001b[0m\u001b[32m.\u001b[0m\u001b[32m.\u001b[0m\u001b[32m.\u001b[0m\u001b[32m.\u001b[0m\u001b[32m.\u001b[0m\u001b[32m.\u001b[0m\u001b[32m.\u001b[0m\u001b[32m.\u001b[0m\u001b[32m.\u001b[0m\u001b[32m.\u001b[0m\u001b[32m.\u001b[0m\u001b[32m.\u001b[0m\u001b[32m.\u001b[0m\u001b[32m.\u001b[0m\u001b[32m.\u001b[0m\u001b[32m.\u001b[0m\u001b[32m.\u001b[0m\u001b[32m.\u001b[0m\u001b[32m.\u001b[0m\u001b[32m.\u001b[0m\u001b[32m.\u001b[0m\u001b[32m.\u001b[0m\u001b[32m.\u001b[0m\u001b[32m.\u001b[0m\u001b[32m.\u001b[0m\u001b[32m.\u001b[0m\u001b[32m.\u001b[0m\u001b[32m.\u001b[0m\u001b[32m.\u001b[0m\u001b[32m.\u001b[0m\u001b[32m.\u001b[0m\u001b[32m.\u001b[0m\u001b[32m.\u001b[0m\u001b[32m.\u001b[0m\u001b[32m.\u001b[0m\u001b[32m.\u001b[0m\u001b[32m.\u001b[0m\u001b[32m.\u001b[0m\u001b[32m.\u001b[0m\u001b[32m.\u001b[0m\u001b[32m.\u001b[0m\u001b[32m.\u001b[0m\u001b[32m.\u001b[0m\u001b[32m.\u001b[0m\u001b[32m.\u001b[0m\u001b[32m.\u001b[0m\u001b[32m.\u001b[0m\u001b[32m.\u001b[0m\u001b[32m.\u001b[0m\u001b[32m.\u001b[0m\u001b[32m.\u001b[0m\u001b[32m.\u001b[0m\u001b[32m.\u001b[0m\u001b[32m.\u001b[0m\u001b[32m.\u001b[0m\u001b[32m.\u001b[0m\u001b[32m.\u001b[0m\u001b[32m.\u001b[0m\u001b[32m.\u001b[0m\u001b[32m.\u001b[0m\u001b[32m.\u001b[0m\u001b[32m.\u001b[0m\u001b[32m.\u001b[0m\u001b[32m.\u001b[0m\u001b[32m.\u001b[0m\u001b[32m.\u001b[0m\u001b[32m.\u001b[0m\u001b[32m.\u001b[0m\u001b[32m.\u001b[0m\u001b[32m.\u001b[0m\u001b[32m.\u001b[0m\u001b[32m.\u001b[0m\u001b[32m.\u001b[0m\u001b[32m.\u001b[0m\u001b[32m.\u001b[0m\u001b[32m.\u001b[0m\u001b[32m.\u001b[0m\u001b[32m.\u001b[0m\u001b[32m.\u001b[0m\u001b[32m.\u001b[0m\u001b[32m.\u001b[0m\u001b[32m.\u001b[0m\u001b[32m.\u001b[0m\u001b[32m.\u001b[0m\u001b[32m.\u001b[0m\u001b[32m.\u001b[0m\u001b[32m.\u001b[0m\u001b[32m [ 62%]\n",
      "\u001b[0m\u001b[32m.\u001b[0m\u001b[32m.\u001b[0m\u001b[32m.\u001b[0m\u001b[32m.\u001b[0m\u001b[32m.\u001b[0m\u001b[32m.\u001b[0m\u001b[32m.\u001b[0m\u001b[32m.\u001b[0m\u001b[32m.\u001b[0m\u001b[32m.\u001b[0m\u001b[32m.\u001b[0m\u001b[32m.\u001b[0m\u001b[32m.\u001b[0m\u001b[32m.\u001b[0m\u001b[32m.\u001b[0m\u001b[32m.\u001b[0m\u001b[32m.\u001b[0m\u001b[32m.\u001b[0m\u001b[32m.\u001b[0m\u001b[32m.\u001b[0m\u001b[32m.\u001b[0m\u001b[32m.\u001b[0m\u001b[32m.\u001b[0m\u001b[32m.\u001b[0m\u001b[32m.\u001b[0m\u001b[32m.\u001b[0m\u001b[32m.\u001b[0m\u001b[32m.\u001b[0m\u001b[32m.\u001b[0m\u001b[32m.\u001b[0m\u001b[32m.\u001b[0m\u001b[32m.\u001b[0m\u001b[32m.\u001b[0m\u001b[32m.\u001b[0m\u001b[32m.\u001b[0m\u001b[32m.\u001b[0m\u001b[32m.\u001b[0m\u001b[32m.\u001b[0m\u001b[32m.\u001b[0m\u001b[32m.\u001b[0m\u001b[32m.\u001b[0m\u001b[32m.\u001b[0m\u001b[32m.\u001b[0m\u001b[32m.\u001b[0m\u001b[32m.\u001b[0m\u001b[32m.\u001b[0m\u001b[32m.\u001b[0m\u001b[32m.\u001b[0m\u001b[32m.\u001b[0m\u001b[32m.\u001b[0m\u001b[32m.\u001b[0m\u001b[32m.\u001b[0m\u001b[32m.\u001b[0m\u001b[32m.\u001b[0m\u001b[32m.\u001b[0m\u001b[32m.\u001b[0m\u001b[32m.\u001b[0m\u001b[32m.\u001b[0m\u001b[32m.\u001b[0m\u001b[32m.\u001b[0m\u001b[32m.\u001b[0m\u001b[32m.\u001b[0m\u001b[32m.\u001b[0m\u001b[32m.\u001b[0m\u001b[32m.\u001b[0m\u001b[32m.\u001b[0m\u001b[32m.\u001b[0m\u001b[32m.\u001b[0m\u001b[32m.\u001b[0m\u001b[32m.\u001b[0m\u001b[32m.\u001b[0m\u001b[32m.\u001b[0m\u001b[32m.\u001b[0m\u001b[32m.\u001b[0m\u001b[32m.\u001b[0m\u001b[32m.\u001b[0m\u001b[32m.\u001b[0m\u001b[32m.\u001b[0m\u001b[32m.\u001b[0m\u001b[32m.\u001b[0m\u001b[32m.\u001b[0m\u001b[32m.\u001b[0m\u001b[32m.\u001b[0m\u001b[32m.\u001b[0m\u001b[32m.\u001b[0m\u001b[32m.\u001b[0m\u001b[32m.\u001b[0m\u001b[32m.\u001b[0m\u001b[32m.\u001b[0m\u001b[32m.\u001b[0m\u001b[32m.\u001b[0m\u001b[32m.\u001b[0m\u001b[32m [ 71%]\n",
      "\u001b[0m\u001b[32m.\u001b[0m\u001b[32m.\u001b[0m\u001b[32m.\u001b[0m\u001b[32m.\u001b[0m\u001b[32m.\u001b[0m\u001b[32m.\u001b[0m\u001b[32m.\u001b[0m\u001b[32m.\u001b[0m\u001b[32m.\u001b[0m\u001b[32m.\u001b[0m\u001b[32m.\u001b[0m\u001b[32m.\u001b[0m\u001b[32m.\u001b[0m\u001b[32m.\u001b[0m\u001b[32m.\u001b[0m\u001b[32m.\u001b[0m\u001b[32m.\u001b[0m\u001b[32m.\u001b[0m\u001b[32m.\u001b[0m\u001b[32m.\u001b[0m\u001b[32m.\u001b[0m\u001b[32m.\u001b[0m\u001b[32m.\u001b[0m\u001b[32m.\u001b[0m\u001b[32m.\u001b[0m\u001b[32m.\u001b[0m\u001b[32m.\u001b[0m\u001b[32m.\u001b[0m\u001b[32m.\u001b[0m\u001b[32m.\u001b[0m\u001b[32m.\u001b[0m\u001b[32m.\u001b[0m\u001b[32m.\u001b[0m\u001b[32m.\u001b[0m\u001b[32m.\u001b[0m\u001b[32m.\u001b[0m\u001b[32m.\u001b[0m\u001b[32m.\u001b[0m\u001b[32m.\u001b[0m\u001b[32m.\u001b[0m\u001b[32m.\u001b[0m\u001b[32m.\u001b[0m\u001b[32m.\u001b[0m\u001b[32m.\u001b[0m\u001b[32m.\u001b[0m\u001b[32m.\u001b[0m\u001b[32m.\u001b[0m\u001b[32m.\u001b[0m\u001b[32m.\u001b[0m\u001b[32m.\u001b[0m\u001b[32m.\u001b[0m\u001b[32m.\u001b[0m\u001b[32m.\u001b[0m\u001b[32m.\u001b[0m\u001b[32m.\u001b[0m\u001b[32m.\u001b[0m\u001b[32m.\u001b[0m\u001b[32m.\u001b[0m\u001b[32m.\u001b[0m\u001b[32m.\u001b[0m\u001b[32m.\u001b[0m\u001b[32m.\u001b[0m\u001b[32m.\u001b[0m\u001b[32m.\u001b[0m\u001b[32m.\u001b[0m\u001b[32m.\u001b[0m\u001b[32m.\u001b[0m\u001b[32m.\u001b[0m\u001b[32m.\u001b[0m\u001b[32m.\u001b[0m\u001b[32m.\u001b[0m\u001b[32m.\u001b[0m\u001b[32m.\u001b[0m\u001b[32m.\u001b[0m\u001b[32m.\u001b[0m\u001b[32m.\u001b[0m\u001b[32m.\u001b[0m\u001b[32m.\u001b[0m\u001b[32m.\u001b[0m\u001b[32m.\u001b[0m\u001b[32m.\u001b[0m\u001b[32m.\u001b[0m\u001b[32m.\u001b[0m\u001b[32m.\u001b[0m\u001b[32m.\u001b[0m\u001b[32m.\u001b[0m\u001b[32m.\u001b[0m\u001b[32m.\u001b[0m\u001b[32m.\u001b[0m\u001b[32m.\u001b[0m\u001b[32m.\u001b[0m\u001b[32m.\u001b[0m\u001b[32m [ 80%]\n",
      "\u001b[0m\u001b[32m.\u001b[0m\u001b[32m.\u001b[0m\u001b[32m.\u001b[0m\u001b[32m.\u001b[0m\u001b[32m.\u001b[0m\u001b[32m.\u001b[0m\u001b[32m.\u001b[0m\u001b[32m.\u001b[0m\u001b[32m.\u001b[0m\u001b[32m.\u001b[0m\u001b[32m.\u001b[0m\u001b[32m.\u001b[0m\u001b[32m.\u001b[0m\u001b[32m.\u001b[0m\u001b[32m.\u001b[0m\u001b[32m.\u001b[0m\u001b[32m.\u001b[0m\u001b[32m.\u001b[0m\u001b[32m.\u001b[0m\u001b[32m.\u001b[0m\u001b[32m.\u001b[0m\u001b[32m.\u001b[0m\u001b[32m.\u001b[0m\u001b[32m.\u001b[0m\u001b[32m.\u001b[0m\u001b[32m.\u001b[0m\u001b[32m.\u001b[0m\u001b[32m.\u001b[0m\u001b[32m.\u001b[0m\u001b[32m.\u001b[0m\u001b[32m.\u001b[0m\u001b[32m.\u001b[0m\u001b[32m.\u001b[0m\u001b[32m.\u001b[0m\u001b[32m.\u001b[0m\u001b[32m.\u001b[0m\u001b[32m.\u001b[0m\u001b[32m.\u001b[0m\u001b[32m.\u001b[0m\u001b[32m.\u001b[0m\u001b[32m.\u001b[0m\u001b[32m.\u001b[0m\u001b[32m.\u001b[0m\u001b[32m.\u001b[0m\u001b[32m.\u001b[0m\u001b[32m.\u001b[0m\u001b[32m.\u001b[0m\u001b[32m.\u001b[0m\u001b[32m.\u001b[0m\u001b[32m.\u001b[0m\u001b[32m.\u001b[0m\u001b[32m.\u001b[0m\u001b[32m.\u001b[0m\u001b[32m.\u001b[0m\u001b[32m.\u001b[0m\u001b[32m.\u001b[0m\u001b[32m.\u001b[0m\u001b[32m.\u001b[0m\u001b[32m.\u001b[0m\u001b[32m.\u001b[0m\u001b[32m.\u001b[0m\u001b[32m.\u001b[0m\u001b[32m.\u001b[0m\u001b[32m.\u001b[0m\u001b[32m.\u001b[0m\u001b[32m.\u001b[0m\u001b[32m.\u001b[0m\u001b[32m.\u001b[0m\u001b[32m.\u001b[0m\u001b[32m.\u001b[0m\u001b[32m.\u001b[0m\u001b[32m.\u001b[0m\u001b[32m.\u001b[0m\u001b[32m.\u001b[0m\u001b[32m.\u001b[0m\u001b[32m.\u001b[0m\u001b[32m.\u001b[0m\u001b[32m.\u001b[0m\u001b[32m.\u001b[0m\u001b[32m.\u001b[0m\u001b[32m.\u001b[0m\u001b[32m.\u001b[0m\u001b[32m.\u001b[0m\u001b[32m.\u001b[0m\u001b[32m.\u001b[0m\u001b[32m.\u001b[0m\u001b[32m.\u001b[0m\u001b[32m.\u001b[0m\u001b[32m.\u001b[0m\u001b[32m.\u001b[0m\u001b[32m.\u001b[0m\u001b[32m.\u001b[0m\u001b[32m [ 89%]\n",
      "\u001b[0m\u001b[32m.\u001b[0m\u001b[32m.\u001b[0m\u001b[32m.\u001b[0m\u001b[32m.\u001b[0m\u001b[32m.\u001b[0m\u001b[32m.\u001b[0m\u001b[32m.\u001b[0m\u001b[32m.\u001b[0m\u001b[32m.\u001b[0m\u001b[32m.\u001b[0m\u001b[32m.\u001b[0m\u001b[32m.\u001b[0m\u001b[32m.\u001b[0m\u001b[32m.\u001b[0m\u001b[32m.\u001b[0m\u001b[32m.\u001b[0m\u001b[32m.\u001b[0m\u001b[32m.\u001b[0m\u001b[32m.\u001b[0m\u001b[32m.\u001b[0m\u001b[32m.\u001b[0m\u001b[32m.\u001b[0m\u001b[32m.\u001b[0m\u001b[32m.\u001b[0m\u001b[32m.\u001b[0m\u001b[32m.\u001b[0m\u001b[32m.\u001b[0m\u001b[32m.\u001b[0m\u001b[32m.\u001b[0m\u001b[32m.\u001b[0m\u001b[32m.\u001b[0m\u001b[32m.\u001b[0m\u001b[32m.\u001b[0m\u001b[32m.\u001b[0m\u001b[32m.\u001b[0m\u001b[32m.\u001b[0m\u001b[32m.\u001b[0m\u001b[32m.\u001b[0m\u001b[32m.\u001b[0m\u001b[32m.\u001b[0m\u001b[32m.\u001b[0m\u001b[32m.\u001b[0m\u001b[32m.\u001b[0m\u001b[32m.\u001b[0m\u001b[32m.\u001b[0m\u001b[32m.\u001b[0m\u001b[32m.\u001b[0m\u001b[32m.\u001b[0m\u001b[32m.\u001b[0m\u001b[32m.\u001b[0m\u001b[32m.\u001b[0m\u001b[32m.\u001b[0m\u001b[32m.\u001b[0m\u001b[32m.\u001b[0m\u001b[32m.\u001b[0m\u001b[32m.\u001b[0m\u001b[32m.\u001b[0m\u001b[32m.\u001b[0m\u001b[32m.\u001b[0m\u001b[32m.\u001b[0m\u001b[32m.\u001b[0m\u001b[32m.\u001b[0m\u001b[32m.\u001b[0m\u001b[32m.\u001b[0m\u001b[32m.\u001b[0m\u001b[32m.\u001b[0m\u001b[32m.\u001b[0m\u001b[32m.\u001b[0m\u001b[32m.\u001b[0m\u001b[32m.\u001b[0m\u001b[32m.\u001b[0m\u001b[32m.\u001b[0m\u001b[32m.\u001b[0m\u001b[32m.\u001b[0m\u001b[32m.\u001b[0m\u001b[32m.\u001b[0m\u001b[32m.\u001b[0m\u001b[32m.\u001b[0m\u001b[32m.\u001b[0m\u001b[32m.\u001b[0m\u001b[32m.\u001b[0m\u001b[32m.\u001b[0m\u001b[32m.\u001b[0m\u001b[32m.\u001b[0m\u001b[32m.\u001b[0m\u001b[32m.\u001b[0m\u001b[32m.\u001b[0m\u001b[32m.\u001b[0m\u001b[32m.\u001b[0m\u001b[32m.\u001b[0m\u001b[32m.\u001b[0m\u001b[32m.\u001b[0m\u001b[32m [ 99%]\n",
      "\u001b[0m\u001b[32m.\u001b[0m\u001b[32m.\u001b[0m\u001b[32m.\u001b[0m\u001b[32m.\u001b[0m\u001b[32m.\u001b[0m\u001b[32m.\u001b[0m\u001b[32m.\u001b[0m\u001b[32m.\u001b[0m\u001b[32m.\u001b[0m\u001b[32m                                                                                    [100%]\u001b[0m\n",
      "\n",
      "\u001b[32m====================================== \u001b[32m\u001b[1m1000 passed\u001b[0m\u001b[32m in 7.88s\u001b[0m\u001b[32m =======================================\u001b[0m\n"
     ]
    }
   ],
   "source": [
    "!pytest --no-header test/test_neurons.py::test_neurons_behavior"
   ]
  },
  {
   "cell_type": "markdown",
   "id": "737208c0",
   "metadata": {},
   "source": [
    "### Pruebas Unitarias Clase Neurons"
   ]
  },
  {
   "cell_type": "markdown",
   "id": "772a02e9",
   "metadata": {},
   "source": [
    "#### Pruebas Unitarias de los metodos de interes de la clase Neurons "
   ]
  },
  {
   "cell_type": "code",
   "execution_count": 260,
   "id": "388fdb24",
   "metadata": {},
   "outputs": [
    {
     "name": "stdout",
     "output_type": "stream",
     "text": [
      "\u001b[1m======================================= test session starts =======================================\u001b[0m\n",
      "collected 1019 items\n",
      "\n",
      "test\\test_neurons.py \u001b[32m.\u001b[0m\u001b[32m.\u001b[0m\u001b[32m.\u001b[0m\u001b[32m.\u001b[0m\u001b[32m.\u001b[0m\u001b[32m.\u001b[0m\u001b[32m.\u001b[0m\u001b[32m.\u001b[0m\u001b[32m.\u001b[0m\u001b[32m.\u001b[0m\u001b[32m.\u001b[0m\u001b[32m.\u001b[0m\u001b[32m.\u001b[0m\u001b[32m.\u001b[0m\u001b[32m.\u001b[0m\u001b[32m.\u001b[0m\u001b[32m.\u001b[0m\u001b[32m.\u001b[0m\u001b[32m.\u001b[0m\u001b[32m.\u001b[0m\u001b[32m.\u001b[0m\u001b[32m.\u001b[0m\u001b[32m.\u001b[0m\u001b[32m.\u001b[0m\u001b[32m.\u001b[0m\u001b[32m.\u001b[0m\u001b[32m.\u001b[0m\u001b[32m.\u001b[0m\u001b[32m.\u001b[0m\u001b[32m.\u001b[0m\u001b[32m.\u001b[0m\u001b[32m.\u001b[0m\u001b[32m.\u001b[0m\u001b[32m.\u001b[0m\u001b[32m.\u001b[0m\u001b[32m.\u001b[0m\u001b[32m.\u001b[0m\u001b[32m.\u001b[0m\u001b[32m.\u001b[0m\u001b[32m.\u001b[0m\u001b[32m.\u001b[0m\u001b[32m.\u001b[0m\u001b[32m.\u001b[0m\u001b[32m.\u001b[0m\u001b[32m.\u001b[0m\u001b[32m.\u001b[0m\u001b[32m.\u001b[0m\u001b[32m.\u001b[0m\u001b[32m.\u001b[0m\u001b[32m.\u001b[0m\u001b[32m.\u001b[0m\u001b[32m.\u001b[0m\u001b[32m.\u001b[0m\u001b[32m.\u001b[0m\u001b[32m.\u001b[0m\u001b[32m.\u001b[0m\u001b[32m.\u001b[0m\u001b[32m.\u001b[0m\u001b[32m.\u001b[0m\u001b[32m.\u001b[0m\u001b[32m.\u001b[0m\u001b[32m.\u001b[0m\u001b[32m.\u001b[0m\u001b[32m.\u001b[0m\u001b[32m.\u001b[0m\u001b[32m.\u001b[0m\u001b[32m.\u001b[0m\u001b[32m.\u001b[0m\u001b[32m.\u001b[0m\u001b[32m.\u001b[0m\u001b[32m.\u001b[0m\u001b[32m [  6%]\n",
      "\u001b[0m\u001b[32m.\u001b[0m\u001b[32m.\u001b[0m\u001b[32m.\u001b[0m\u001b[32m.\u001b[0m\u001b[32m.\u001b[0m\u001b[32m.\u001b[0m\u001b[32m.\u001b[0m\u001b[32m.\u001b[0m\u001b[32m.\u001b[0m\u001b[32m.\u001b[0m\u001b[32m.\u001b[0m\u001b[32m.\u001b[0m\u001b[32m.\u001b[0m\u001b[32m.\u001b[0m\u001b[32m.\u001b[0m\u001b[32m.\u001b[0m\u001b[32m.\u001b[0m\u001b[32m.\u001b[0m\u001b[32m.\u001b[0m\u001b[32m.\u001b[0m\u001b[32m.\u001b[0m\u001b[32m.\u001b[0m\u001b[32m.\u001b[0m\u001b[32m.\u001b[0m\u001b[32m.\u001b[0m\u001b[32m.\u001b[0m\u001b[32m.\u001b[0m\u001b[32m.\u001b[0m\u001b[32m.\u001b[0m\u001b[32m.\u001b[0m\u001b[32m.\u001b[0m\u001b[32m.\u001b[0m\u001b[32m.\u001b[0m\u001b[32m.\u001b[0m\u001b[32m.\u001b[0m\u001b[32m.\u001b[0m\u001b[32m.\u001b[0m\u001b[32m.\u001b[0m\u001b[32m.\u001b[0m\u001b[32m.\u001b[0m\u001b[32m.\u001b[0m\u001b[32m.\u001b[0m\u001b[32m.\u001b[0m\u001b[32m.\u001b[0m\u001b[32m.\u001b[0m\u001b[32m.\u001b[0m\u001b[32m.\u001b[0m\u001b[32m.\u001b[0m\u001b[32m.\u001b[0m\u001b[32m.\u001b[0m\u001b[32m.\u001b[0m\u001b[32m.\u001b[0m\u001b[32m.\u001b[0m\u001b[32m.\u001b[0m\u001b[32m.\u001b[0m\u001b[32m.\u001b[0m\u001b[32m.\u001b[0m\u001b[32m.\u001b[0m\u001b[32m.\u001b[0m\u001b[32m.\u001b[0m\u001b[32m.\u001b[0m\u001b[32m.\u001b[0m\u001b[32m.\u001b[0m\u001b[32m.\u001b[0m\u001b[32m.\u001b[0m\u001b[32m.\u001b[0m\u001b[32m.\u001b[0m\u001b[32m.\u001b[0m\u001b[32m.\u001b[0m\u001b[32m.\u001b[0m\u001b[32m.\u001b[0m\u001b[32m.\u001b[0m\u001b[32m.\u001b[0m\u001b[32m.\u001b[0m\u001b[32m.\u001b[0m\u001b[32m.\u001b[0m\u001b[32m.\u001b[0m\u001b[32m.\u001b[0m\u001b[32m.\u001b[0m\u001b[32m.\u001b[0m\u001b[32m.\u001b[0m\u001b[32m.\u001b[0m\u001b[32m.\u001b[0m\u001b[32m.\u001b[0m\u001b[32m.\u001b[0m\u001b[32m.\u001b[0m\u001b[32m.\u001b[0m\u001b[32m.\u001b[0m\u001b[32m.\u001b[0m\u001b[32m.\u001b[0m\u001b[32m.\u001b[0m\u001b[32m.\u001b[0m\u001b[32m [ 15%]\n",
      "\u001b[0m\u001b[32m.\u001b[0m\u001b[32m.\u001b[0m\u001b[32m.\u001b[0m\u001b[32m.\u001b[0m\u001b[32m.\u001b[0m\u001b[32m.\u001b[0m\u001b[32m.\u001b[0m\u001b[32m.\u001b[0m\u001b[32m.\u001b[0m\u001b[32m.\u001b[0m\u001b[32m.\u001b[0m\u001b[32m.\u001b[0m\u001b[32m.\u001b[0m\u001b[32m.\u001b[0m\u001b[32m.\u001b[0m\u001b[32m.\u001b[0m\u001b[32m.\u001b[0m\u001b[32m.\u001b[0m\u001b[32m.\u001b[0m\u001b[32m.\u001b[0m\u001b[32m.\u001b[0m\u001b[32m.\u001b[0m\u001b[32m.\u001b[0m\u001b[32m.\u001b[0m\u001b[32m.\u001b[0m\u001b[32m.\u001b[0m\u001b[32m.\u001b[0m\u001b[32m.\u001b[0m\u001b[32m.\u001b[0m\u001b[32m.\u001b[0m\u001b[32m.\u001b[0m\u001b[32m.\u001b[0m\u001b[32m.\u001b[0m\u001b[32m.\u001b[0m\u001b[32m.\u001b[0m\u001b[32m.\u001b[0m\u001b[32m.\u001b[0m\u001b[32m.\u001b[0m\u001b[32m.\u001b[0m\u001b[32m.\u001b[0m\u001b[32m.\u001b[0m\u001b[32m.\u001b[0m\u001b[32m.\u001b[0m\u001b[32m.\u001b[0m\u001b[32m.\u001b[0m\u001b[32m.\u001b[0m\u001b[32m.\u001b[0m\u001b[32m.\u001b[0m\u001b[32m.\u001b[0m\u001b[32m.\u001b[0m\u001b[32m.\u001b[0m\u001b[32m.\u001b[0m\u001b[32m.\u001b[0m\u001b[32m.\u001b[0m\u001b[32m.\u001b[0m\u001b[32m.\u001b[0m\u001b[32m.\u001b[0m\u001b[32m.\u001b[0m\u001b[32m.\u001b[0m\u001b[32m.\u001b[0m\u001b[32m.\u001b[0m\u001b[32m.\u001b[0m\u001b[32m.\u001b[0m\u001b[32m.\u001b[0m\u001b[32m.\u001b[0m\u001b[32m.\u001b[0m\u001b[32m.\u001b[0m\u001b[32m.\u001b[0m\u001b[32m.\u001b[0m\u001b[32m.\u001b[0m\u001b[32m.\u001b[0m\u001b[32m.\u001b[0m\u001b[32m.\u001b[0m\u001b[32m.\u001b[0m\u001b[32m.\u001b[0m\u001b[32m.\u001b[0m\u001b[32m.\u001b[0m\u001b[32m.\u001b[0m\u001b[32m.\u001b[0m\u001b[32m.\u001b[0m\u001b[32m.\u001b[0m\u001b[32m.\u001b[0m\u001b[32m.\u001b[0m\u001b[32m.\u001b[0m\u001b[32m.\u001b[0m\u001b[32m.\u001b[0m\u001b[32m.\u001b[0m\u001b[32m.\u001b[0m\u001b[32m.\u001b[0m\u001b[32m.\u001b[0m\u001b[32m.\u001b[0m\u001b[32m.\u001b[0m\u001b[32m [ 25%]\n",
      "\u001b[0m\u001b[32m.\u001b[0m\u001b[32m.\u001b[0m\u001b[32m.\u001b[0m\u001b[32m.\u001b[0m\u001b[32m.\u001b[0m\u001b[32m.\u001b[0m\u001b[32m.\u001b[0m\u001b[32m.\u001b[0m\u001b[32m.\u001b[0m\u001b[32m.\u001b[0m\u001b[32m.\u001b[0m\u001b[32m.\u001b[0m\u001b[32m.\u001b[0m\u001b[32m.\u001b[0m\u001b[32m.\u001b[0m\u001b[32m.\u001b[0m\u001b[32m.\u001b[0m\u001b[32m.\u001b[0m\u001b[32m.\u001b[0m\u001b[32m.\u001b[0m\u001b[32m.\u001b[0m\u001b[32m.\u001b[0m\u001b[32m.\u001b[0m\u001b[32m.\u001b[0m\u001b[32m.\u001b[0m\u001b[32m.\u001b[0m\u001b[32m.\u001b[0m\u001b[32m.\u001b[0m\u001b[32m.\u001b[0m\u001b[32m.\u001b[0m\u001b[32m.\u001b[0m\u001b[32m.\u001b[0m\u001b[32m.\u001b[0m\u001b[32m.\u001b[0m\u001b[32m.\u001b[0m\u001b[32m.\u001b[0m\u001b[32m.\u001b[0m\u001b[32m.\u001b[0m\u001b[32m.\u001b[0m\u001b[32m.\u001b[0m\u001b[32m.\u001b[0m\u001b[32m.\u001b[0m\u001b[32m.\u001b[0m\u001b[32m.\u001b[0m\u001b[32m.\u001b[0m\u001b[32m.\u001b[0m\u001b[32m.\u001b[0m\u001b[32m.\u001b[0m\u001b[32m.\u001b[0m\u001b[32m.\u001b[0m\u001b[32m.\u001b[0m\u001b[32m.\u001b[0m\u001b[32m.\u001b[0m\u001b[32m.\u001b[0m\u001b[32m.\u001b[0m\u001b[32m.\u001b[0m\u001b[32m.\u001b[0m\u001b[32m.\u001b[0m\u001b[32m.\u001b[0m\u001b[32m.\u001b[0m\u001b[32m.\u001b[0m\u001b[32m.\u001b[0m\u001b[32m.\u001b[0m\u001b[32m.\u001b[0m\u001b[32m.\u001b[0m\u001b[32m.\u001b[0m\u001b[32m.\u001b[0m\u001b[32m.\u001b[0m\u001b[32m.\u001b[0m\u001b[32m.\u001b[0m\u001b[32m.\u001b[0m\u001b[32m.\u001b[0m\u001b[32m.\u001b[0m\u001b[32m.\u001b[0m\u001b[32m.\u001b[0m\u001b[32m.\u001b[0m\u001b[32m.\u001b[0m\u001b[32m.\u001b[0m\u001b[32m.\u001b[0m\u001b[32m.\u001b[0m\u001b[32m.\u001b[0m\u001b[32m.\u001b[0m\u001b[32m.\u001b[0m\u001b[32m.\u001b[0m\u001b[32m.\u001b[0m\u001b[32m.\u001b[0m\u001b[32m.\u001b[0m\u001b[32m.\u001b[0m\u001b[32m.\u001b[0m\u001b[32m.\u001b[0m\u001b[32m.\u001b[0m\u001b[32m.\u001b[0m\u001b[32m [ 34%]\n",
      "\u001b[0m\u001b[32m.\u001b[0m\u001b[32m.\u001b[0m\u001b[32m.\u001b[0m\u001b[32m.\u001b[0m\u001b[32m.\u001b[0m\u001b[32m.\u001b[0m\u001b[32m.\u001b[0m\u001b[32m.\u001b[0m\u001b[32m.\u001b[0m\u001b[32m.\u001b[0m\u001b[32m.\u001b[0m\u001b[32m.\u001b[0m\u001b[32m.\u001b[0m\u001b[32m.\u001b[0m\u001b[32m.\u001b[0m\u001b[32m.\u001b[0m\u001b[32m.\u001b[0m\u001b[32m.\u001b[0m\u001b[32m.\u001b[0m\u001b[32m.\u001b[0m\u001b[32m.\u001b[0m\u001b[32m.\u001b[0m\u001b[32m.\u001b[0m\u001b[32m.\u001b[0m\u001b[32m.\u001b[0m\u001b[32m.\u001b[0m\u001b[32m.\u001b[0m\u001b[32m.\u001b[0m\u001b[32m.\u001b[0m\u001b[32m.\u001b[0m\u001b[32m.\u001b[0m\u001b[32m.\u001b[0m\u001b[32m.\u001b[0m\u001b[32m.\u001b[0m\u001b[32m.\u001b[0m\u001b[32m.\u001b[0m\u001b[32m.\u001b[0m\u001b[32m.\u001b[0m\u001b[32m.\u001b[0m\u001b[32m.\u001b[0m\u001b[32m.\u001b[0m\u001b[32m.\u001b[0m\u001b[32m.\u001b[0m\u001b[32m.\u001b[0m\u001b[32m.\u001b[0m\u001b[32m.\u001b[0m\u001b[32m.\u001b[0m\u001b[32m.\u001b[0m\u001b[32m.\u001b[0m\u001b[32m.\u001b[0m\u001b[32m.\u001b[0m\u001b[32m.\u001b[0m\u001b[32m.\u001b[0m\u001b[32m.\u001b[0m\u001b[32m.\u001b[0m\u001b[32m.\u001b[0m\u001b[32m.\u001b[0m\u001b[32m.\u001b[0m\u001b[32m.\u001b[0m\u001b[32m.\u001b[0m\u001b[32m.\u001b[0m\u001b[32m.\u001b[0m\u001b[32m.\u001b[0m\u001b[32m.\u001b[0m\u001b[32m.\u001b[0m\u001b[32m.\u001b[0m\u001b[32m.\u001b[0m\u001b[32m.\u001b[0m\u001b[32m.\u001b[0m\u001b[32m.\u001b[0m\u001b[32m.\u001b[0m\u001b[32m.\u001b[0m\u001b[32m.\u001b[0m\u001b[32m.\u001b[0m\u001b[32m.\u001b[0m\u001b[32m.\u001b[0m\u001b[32m.\u001b[0m\u001b[32m.\u001b[0m\u001b[32m.\u001b[0m\u001b[32m.\u001b[0m\u001b[32m.\u001b[0m\u001b[32m.\u001b[0m\u001b[32m.\u001b[0m\u001b[32m.\u001b[0m\u001b[32m.\u001b[0m\u001b[32m.\u001b[0m\u001b[32m.\u001b[0m\u001b[32m.\u001b[0m\u001b[32m.\u001b[0m\u001b[32m.\u001b[0m\u001b[32m.\u001b[0m\u001b[32m.\u001b[0m\u001b[32m [ 43%]\n",
      "\u001b[0m\u001b[32m.\u001b[0m\u001b[32m.\u001b[0m\u001b[32m.\u001b[0m\u001b[32m.\u001b[0m\u001b[32m.\u001b[0m\u001b[32m.\u001b[0m\u001b[32m.\u001b[0m\u001b[32m.\u001b[0m\u001b[32m.\u001b[0m\u001b[32m.\u001b[0m\u001b[32m.\u001b[0m\u001b[32m.\u001b[0m\u001b[32m.\u001b[0m\u001b[32m.\u001b[0m\u001b[32m.\u001b[0m\u001b[32m.\u001b[0m\u001b[32m.\u001b[0m\u001b[32m.\u001b[0m\u001b[32m.\u001b[0m\u001b[32m.\u001b[0m\u001b[32m.\u001b[0m\u001b[32m.\u001b[0m\u001b[32m.\u001b[0m\u001b[32m.\u001b[0m\u001b[32m.\u001b[0m\u001b[32m.\u001b[0m\u001b[32m.\u001b[0m\u001b[32m.\u001b[0m\u001b[32m.\u001b[0m\u001b[32m.\u001b[0m\u001b[32m.\u001b[0m\u001b[32m.\u001b[0m\u001b[32m.\u001b[0m\u001b[32m.\u001b[0m\u001b[32m.\u001b[0m\u001b[32m.\u001b[0m\u001b[32m.\u001b[0m\u001b[32m.\u001b[0m\u001b[32m.\u001b[0m\u001b[32m.\u001b[0m\u001b[32m.\u001b[0m\u001b[32m.\u001b[0m\u001b[32m.\u001b[0m\u001b[32m.\u001b[0m\u001b[32m.\u001b[0m\u001b[32m.\u001b[0m\u001b[32m.\u001b[0m\u001b[32m.\u001b[0m\u001b[32m.\u001b[0m\u001b[32m.\u001b[0m\u001b[32m.\u001b[0m\u001b[32m.\u001b[0m\u001b[32m.\u001b[0m\u001b[32m.\u001b[0m\u001b[32m.\u001b[0m\u001b[32m.\u001b[0m\u001b[32m.\u001b[0m\u001b[32m.\u001b[0m\u001b[32m.\u001b[0m\u001b[32m.\u001b[0m\u001b[32m.\u001b[0m\u001b[32m.\u001b[0m\u001b[32m.\u001b[0m\u001b[32m.\u001b[0m\u001b[32m.\u001b[0m\u001b[32m.\u001b[0m\u001b[32m.\u001b[0m\u001b[32m.\u001b[0m\u001b[32m.\u001b[0m\u001b[32m.\u001b[0m\u001b[32m.\u001b[0m\u001b[32m.\u001b[0m\u001b[32m.\u001b[0m\u001b[32m.\u001b[0m\u001b[32m.\u001b[0m\u001b[32m.\u001b[0m\u001b[32m.\u001b[0m\u001b[32m.\u001b[0m\u001b[32m.\u001b[0m\u001b[32m.\u001b[0m\u001b[32m.\u001b[0m\u001b[32m.\u001b[0m\u001b[32m.\u001b[0m\u001b[32m.\u001b[0m\u001b[32m.\u001b[0m\u001b[32m.\u001b[0m\u001b[32m.\u001b[0m\u001b[32m.\u001b[0m\u001b[32m.\u001b[0m\u001b[32m.\u001b[0m\u001b[32m.\u001b[0m\u001b[32m.\u001b[0m\u001b[32m [ 52%]\n",
      "\u001b[0m\u001b[32m.\u001b[0m\u001b[32m.\u001b[0m\u001b[32m.\u001b[0m\u001b[32m.\u001b[0m\u001b[32m.\u001b[0m\u001b[32m.\u001b[0m\u001b[32m.\u001b[0m\u001b[32m.\u001b[0m\u001b[32m.\u001b[0m\u001b[32m.\u001b[0m\u001b[32m.\u001b[0m\u001b[32m.\u001b[0m\u001b[32m.\u001b[0m\u001b[32m.\u001b[0m\u001b[32m.\u001b[0m\u001b[32m.\u001b[0m\u001b[32m.\u001b[0m\u001b[32m.\u001b[0m\u001b[32m.\u001b[0m\u001b[32m.\u001b[0m\u001b[32m.\u001b[0m\u001b[32m.\u001b[0m\u001b[32m.\u001b[0m\u001b[32m.\u001b[0m\u001b[32m.\u001b[0m\u001b[32m.\u001b[0m\u001b[32m.\u001b[0m\u001b[32m.\u001b[0m\u001b[32m.\u001b[0m\u001b[32m.\u001b[0m\u001b[32m.\u001b[0m\u001b[32m.\u001b[0m\u001b[32m.\u001b[0m\u001b[32m.\u001b[0m\u001b[32m.\u001b[0m\u001b[32m.\u001b[0m\u001b[32m.\u001b[0m\u001b[32m.\u001b[0m\u001b[32m.\u001b[0m\u001b[32m.\u001b[0m\u001b[32m.\u001b[0m\u001b[32m.\u001b[0m\u001b[32m.\u001b[0m\u001b[32m.\u001b[0m\u001b[32m.\u001b[0m\u001b[32m.\u001b[0m\u001b[32m.\u001b[0m\u001b[32m.\u001b[0m\u001b[32m.\u001b[0m\u001b[32m.\u001b[0m\u001b[32m.\u001b[0m\u001b[32m.\u001b[0m\u001b[32m.\u001b[0m\u001b[32m.\u001b[0m\u001b[32m.\u001b[0m\u001b[32m.\u001b[0m\u001b[32m.\u001b[0m\u001b[32m.\u001b[0m\u001b[32m.\u001b[0m\u001b[32m.\u001b[0m\u001b[32m.\u001b[0m\u001b[32m.\u001b[0m\u001b[32m.\u001b[0m\u001b[32m.\u001b[0m\u001b[32m.\u001b[0m\u001b[32m.\u001b[0m\u001b[32m.\u001b[0m\u001b[32m.\u001b[0m\u001b[32m.\u001b[0m\u001b[32m.\u001b[0m\u001b[32m.\u001b[0m\u001b[32m.\u001b[0m\u001b[32m.\u001b[0m\u001b[32m.\u001b[0m\u001b[32m.\u001b[0m\u001b[32m.\u001b[0m\u001b[32m.\u001b[0m\u001b[32m.\u001b[0m\u001b[32m.\u001b[0m\u001b[32m.\u001b[0m\u001b[32m.\u001b[0m\u001b[32m.\u001b[0m\u001b[32m.\u001b[0m\u001b[32m.\u001b[0m\u001b[32m.\u001b[0m\u001b[32m.\u001b[0m\u001b[32m.\u001b[0m\u001b[32m.\u001b[0m\u001b[32m.\u001b[0m\u001b[32m.\u001b[0m\u001b[32m.\u001b[0m\u001b[32m.\u001b[0m\u001b[32m [ 61%]\n",
      "\u001b[0m\u001b[32m.\u001b[0m\u001b[32m.\u001b[0m\u001b[32m.\u001b[0m\u001b[32m.\u001b[0m\u001b[32m.\u001b[0m\u001b[32m.\u001b[0m\u001b[32m.\u001b[0m\u001b[32m.\u001b[0m\u001b[32m.\u001b[0m\u001b[32m.\u001b[0m\u001b[32m.\u001b[0m\u001b[32m.\u001b[0m\u001b[32m.\u001b[0m\u001b[32m.\u001b[0m\u001b[32m.\u001b[0m\u001b[32m.\u001b[0m\u001b[32m.\u001b[0m\u001b[32m.\u001b[0m\u001b[32m.\u001b[0m\u001b[32m.\u001b[0m\u001b[32m.\u001b[0m\u001b[32m.\u001b[0m\u001b[32m.\u001b[0m\u001b[32m.\u001b[0m\u001b[32m.\u001b[0m\u001b[32m.\u001b[0m\u001b[32m.\u001b[0m\u001b[32m.\u001b[0m\u001b[32m.\u001b[0m\u001b[32m.\u001b[0m\u001b[32m.\u001b[0m\u001b[32m.\u001b[0m\u001b[32m.\u001b[0m\u001b[32m.\u001b[0m\u001b[32m.\u001b[0m\u001b[32m.\u001b[0m\u001b[32m.\u001b[0m\u001b[32m.\u001b[0m\u001b[32m.\u001b[0m\u001b[32m.\u001b[0m\u001b[32m.\u001b[0m\u001b[32m.\u001b[0m\u001b[32m.\u001b[0m\u001b[32m.\u001b[0m\u001b[32m.\u001b[0m\u001b[32m.\u001b[0m\u001b[32m.\u001b[0m\u001b[32m.\u001b[0m\u001b[32m.\u001b[0m\u001b[32m.\u001b[0m\u001b[32m.\u001b[0m\u001b[32m.\u001b[0m\u001b[32m.\u001b[0m\u001b[32m.\u001b[0m\u001b[32m.\u001b[0m\u001b[32m.\u001b[0m\u001b[32m.\u001b[0m\u001b[32m.\u001b[0m\u001b[32m.\u001b[0m\u001b[32m.\u001b[0m\u001b[32m.\u001b[0m\u001b[32m.\u001b[0m\u001b[32m.\u001b[0m\u001b[32m.\u001b[0m\u001b[32m.\u001b[0m\u001b[32m.\u001b[0m\u001b[32m.\u001b[0m\u001b[32m.\u001b[0m\u001b[32m.\u001b[0m\u001b[32m.\u001b[0m\u001b[32m.\u001b[0m\u001b[32m.\u001b[0m\u001b[32m.\u001b[0m\u001b[32m.\u001b[0m\u001b[32m.\u001b[0m\u001b[32m.\u001b[0m\u001b[32m.\u001b[0m\u001b[32m.\u001b[0m\u001b[32m.\u001b[0m\u001b[32m.\u001b[0m\u001b[32m.\u001b[0m\u001b[32m.\u001b[0m\u001b[32m.\u001b[0m\u001b[32m.\u001b[0m\u001b[32m.\u001b[0m\u001b[32m.\u001b[0m\u001b[32m.\u001b[0m\u001b[32m.\u001b[0m\u001b[32m.\u001b[0m\u001b[32m.\u001b[0m\u001b[32m.\u001b[0m\u001b[32m.\u001b[0m\u001b[32m [ 70%]\n",
      "\u001b[0m\u001b[32m.\u001b[0m\u001b[32m.\u001b[0m\u001b[32m.\u001b[0m\u001b[32m.\u001b[0m\u001b[32m.\u001b[0m\u001b[32m.\u001b[0m\u001b[32m.\u001b[0m\u001b[32m.\u001b[0m\u001b[32m.\u001b[0m\u001b[32m.\u001b[0m\u001b[32m.\u001b[0m\u001b[32m.\u001b[0m\u001b[32m.\u001b[0m\u001b[32m.\u001b[0m\u001b[32m.\u001b[0m\u001b[32m.\u001b[0m\u001b[32m.\u001b[0m\u001b[32m.\u001b[0m\u001b[32m.\u001b[0m\u001b[32m.\u001b[0m\u001b[32m.\u001b[0m\u001b[32m.\u001b[0m\u001b[32m.\u001b[0m\u001b[32m.\u001b[0m\u001b[32m.\u001b[0m\u001b[32m.\u001b[0m\u001b[32m.\u001b[0m\u001b[32m.\u001b[0m\u001b[32m.\u001b[0m\u001b[32m.\u001b[0m\u001b[32m.\u001b[0m\u001b[32m.\u001b[0m\u001b[32m.\u001b[0m\u001b[32m.\u001b[0m\u001b[32m.\u001b[0m\u001b[32m.\u001b[0m\u001b[32m.\u001b[0m\u001b[32m.\u001b[0m\u001b[32m.\u001b[0m\u001b[32m.\u001b[0m\u001b[32m.\u001b[0m\u001b[32m.\u001b[0m\u001b[32m.\u001b[0m\u001b[32m.\u001b[0m\u001b[32m.\u001b[0m\u001b[32m.\u001b[0m\u001b[32m.\u001b[0m\u001b[32m.\u001b[0m\u001b[32m.\u001b[0m\u001b[32m.\u001b[0m\u001b[32m.\u001b[0m\u001b[32m.\u001b[0m\u001b[32m.\u001b[0m\u001b[32m.\u001b[0m\u001b[32m.\u001b[0m\u001b[32m.\u001b[0m\u001b[32m.\u001b[0m\u001b[32m.\u001b[0m\u001b[32m.\u001b[0m\u001b[32m.\u001b[0m\u001b[32m.\u001b[0m\u001b[32m.\u001b[0m\u001b[32m.\u001b[0m\u001b[32m.\u001b[0m\u001b[32m.\u001b[0m\u001b[32m.\u001b[0m\u001b[32m.\u001b[0m\u001b[32m.\u001b[0m\u001b[32m.\u001b[0m\u001b[32m.\u001b[0m\u001b[32m.\u001b[0m\u001b[32m.\u001b[0m\u001b[32m.\u001b[0m\u001b[32m.\u001b[0m\u001b[32m.\u001b[0m\u001b[32m.\u001b[0m\u001b[32m.\u001b[0m\u001b[32m.\u001b[0m\u001b[32m.\u001b[0m\u001b[32m.\u001b[0m\u001b[32m.\u001b[0m\u001b[32m.\u001b[0m\u001b[32m.\u001b[0m\u001b[32m.\u001b[0m\u001b[32m.\u001b[0m\u001b[32m.\u001b[0m\u001b[32m.\u001b[0m\u001b[32m.\u001b[0m\u001b[32m.\u001b[0m\u001b[32m.\u001b[0m\u001b[32m.\u001b[0m\u001b[32m.\u001b[0m\u001b[32m [ 79%]\n",
      "\u001b[0m\u001b[32m.\u001b[0m\u001b[32m.\u001b[0m\u001b[32m.\u001b[0m\u001b[32m.\u001b[0m\u001b[32m.\u001b[0m\u001b[32m.\u001b[0m\u001b[32m.\u001b[0m\u001b[32m.\u001b[0m\u001b[32m.\u001b[0m\u001b[32m.\u001b[0m\u001b[32m.\u001b[0m\u001b[32m.\u001b[0m\u001b[32m.\u001b[0m\u001b[32m.\u001b[0m\u001b[32m.\u001b[0m\u001b[32m.\u001b[0m\u001b[32m.\u001b[0m\u001b[32m.\u001b[0m\u001b[32m.\u001b[0m\u001b[32m.\u001b[0m\u001b[32m.\u001b[0m\u001b[32m.\u001b[0m\u001b[32m.\u001b[0m\u001b[32m.\u001b[0m\u001b[32m.\u001b[0m\u001b[32m.\u001b[0m\u001b[32m.\u001b[0m\u001b[32m.\u001b[0m\u001b[32m.\u001b[0m\u001b[32m.\u001b[0m\u001b[32m.\u001b[0m\u001b[32m.\u001b[0m\u001b[32m.\u001b[0m\u001b[32m.\u001b[0m\u001b[32m.\u001b[0m\u001b[32m.\u001b[0m\u001b[32m.\u001b[0m\u001b[32m.\u001b[0m\u001b[32m.\u001b[0m\u001b[32m.\u001b[0m\u001b[32m.\u001b[0m\u001b[32m.\u001b[0m\u001b[32m.\u001b[0m\u001b[32m.\u001b[0m\u001b[32m.\u001b[0m\u001b[32m.\u001b[0m\u001b[32m.\u001b[0m\u001b[32m.\u001b[0m\u001b[32m.\u001b[0m\u001b[32m.\u001b[0m\u001b[32m.\u001b[0m\u001b[32m.\u001b[0m\u001b[32m.\u001b[0m\u001b[32m.\u001b[0m\u001b[32m.\u001b[0m\u001b[32m.\u001b[0m\u001b[32m.\u001b[0m\u001b[32m.\u001b[0m\u001b[32m.\u001b[0m\u001b[32m.\u001b[0m\u001b[32m.\u001b[0m\u001b[32m.\u001b[0m\u001b[32m.\u001b[0m\u001b[32m.\u001b[0m\u001b[32m.\u001b[0m\u001b[32m.\u001b[0m\u001b[32m.\u001b[0m\u001b[32m.\u001b[0m\u001b[32m.\u001b[0m\u001b[32m.\u001b[0m\u001b[32m.\u001b[0m\u001b[32m.\u001b[0m\u001b[32m.\u001b[0m\u001b[32m.\u001b[0m\u001b[32m.\u001b[0m\u001b[32m.\u001b[0m\u001b[32m.\u001b[0m\u001b[32m.\u001b[0m\u001b[32m.\u001b[0m\u001b[32m.\u001b[0m\u001b[32m.\u001b[0m\u001b[32m.\u001b[0m\u001b[32m.\u001b[0m\u001b[32m.\u001b[0m\u001b[32m.\u001b[0m\u001b[32m.\u001b[0m\u001b[32m.\u001b[0m\u001b[32m.\u001b[0m\u001b[32m.\u001b[0m\u001b[32m.\u001b[0m\u001b[32m.\u001b[0m\u001b[32m.\u001b[0m\u001b[32m [ 88%]\n",
      "\u001b[0m\u001b[32m.\u001b[0m\u001b[32m.\u001b[0m\u001b[32m.\u001b[0m\u001b[32m.\u001b[0m\u001b[32m.\u001b[0m\u001b[32m.\u001b[0m\u001b[32m.\u001b[0m\u001b[32m.\u001b[0m\u001b[32m.\u001b[0m\u001b[32m.\u001b[0m\u001b[32m.\u001b[0m\u001b[32m.\u001b[0m\u001b[32m.\u001b[0m\u001b[32m.\u001b[0m\u001b[32m.\u001b[0m\u001b[32m.\u001b[0m\u001b[32m.\u001b[0m\u001b[32m.\u001b[0m\u001b[32m.\u001b[0m\u001b[32m.\u001b[0m\u001b[32m.\u001b[0m\u001b[32m.\u001b[0m\u001b[32m.\u001b[0m\u001b[32m.\u001b[0m\u001b[32m.\u001b[0m\u001b[32m.\u001b[0m\u001b[32m.\u001b[0m\u001b[32m.\u001b[0m\u001b[32m.\u001b[0m\u001b[32m.\u001b[0m\u001b[32m.\u001b[0m\u001b[32m.\u001b[0m\u001b[32m.\u001b[0m\u001b[32m.\u001b[0m\u001b[32m.\u001b[0m\u001b[32m.\u001b[0m\u001b[32m.\u001b[0m\u001b[32m.\u001b[0m\u001b[32m.\u001b[0m\u001b[32m.\u001b[0m\u001b[32m.\u001b[0m\u001b[32m.\u001b[0m\u001b[32m.\u001b[0m\u001b[32m.\u001b[0m\u001b[32m.\u001b[0m\u001b[32m.\u001b[0m\u001b[32m.\u001b[0m\u001b[32m.\u001b[0m\u001b[32m.\u001b[0m\u001b[32m.\u001b[0m\u001b[32m.\u001b[0m\u001b[32m.\u001b[0m\u001b[32m.\u001b[0m\u001b[32m.\u001b[0m\u001b[32m.\u001b[0m\u001b[32m.\u001b[0m\u001b[32m.\u001b[0m\u001b[32m.\u001b[0m\u001b[32m.\u001b[0m\u001b[32m.\u001b[0m\u001b[32m.\u001b[0m\u001b[32m.\u001b[0m\u001b[32m.\u001b[0m\u001b[32m.\u001b[0m\u001b[32m.\u001b[0m\u001b[32m.\u001b[0m\u001b[32m.\u001b[0m\u001b[32m.\u001b[0m\u001b[32m.\u001b[0m\u001b[32m.\u001b[0m\u001b[32m.\u001b[0m\u001b[32m.\u001b[0m\u001b[32m.\u001b[0m\u001b[32m.\u001b[0m\u001b[32m.\u001b[0m\u001b[32m.\u001b[0m\u001b[32m.\u001b[0m\u001b[32m.\u001b[0m\u001b[32m.\u001b[0m\u001b[32m.\u001b[0m\u001b[32m.\u001b[0m\u001b[32m.\u001b[0m\u001b[32m.\u001b[0m\u001b[32m.\u001b[0m\u001b[32m.\u001b[0m\u001b[32m.\u001b[0m\u001b[32m.\u001b[0m\u001b[32m.\u001b[0m\u001b[32m.\u001b[0m\u001b[32m.\u001b[0m\u001b[32m.\u001b[0m\u001b[32m.\u001b[0m\u001b[32m [ 97%]\n",
      "\u001b[0m\u001b[32m.\u001b[0m\u001b[32m.\u001b[0m\u001b[32m.\u001b[0m\u001b[32m.\u001b[0m\u001b[32m.\u001b[0m\u001b[32m.\u001b[0m\u001b[32m.\u001b[0m\u001b[32m.\u001b[0m\u001b[32m.\u001b[0m\u001b[32m.\u001b[0m\u001b[32m.\u001b[0m\u001b[32m.\u001b[0m\u001b[32m.\u001b[0m\u001b[32m.\u001b[0m\u001b[32m.\u001b[0m\u001b[32m.\u001b[0m\u001b[32m.\u001b[0m\u001b[32m.\u001b[0m\u001b[32m.\u001b[0m\u001b[32m.\u001b[0m\u001b[32m.\u001b[0m\u001b[32m.\u001b[0m\u001b[32m.\u001b[0m\u001b[32m.\u001b[0m\u001b[32m.\u001b[0m\u001b[32m.\u001b[0m\u001b[32m.\u001b[0m\u001b[32m.\u001b[0m\u001b[32m                                                                 [100%]\u001b[0m\n",
      "\n",
      "\u001b[32m====================================== \u001b[32m\u001b[1m1019 passed\u001b[0m\u001b[32m in 7.39s\u001b[0m\u001b[32m =======================================\u001b[0m\n"
     ]
    }
   ],
   "source": [
    "!pytest --no-header test/test_neurons.py"
   ]
  },
  {
   "attachments": {},
   "cell_type": "markdown",
   "id": "b6f7008d",
   "metadata": {},
   "source": [
    "### Pruebas clase Neurons\n"
   ]
  },
  {
   "cell_type": "code",
   "execution_count": null,
   "id": "0fad44d9",
   "metadata": {},
   "outputs": [],
   "source": [
    "neurons = Neurons()\n",
    "\n",
    "arr_patternes_bce=[(\"pattern_a\",BCE().sample()),(\"pattern_b\",BCE().sample()),(\"pattern_c\",BCE().sample()),(\"pattern_d\",BCE().sample())]\n",
    "\n",
    "neurons.init_patterns(arr_patternes_bce)\n",
    "\n",
    "neurons.set_event(\"pattern_a:event_a\")\n",
    "print(neurons.update_neuron_to_learn(BCE().sample()))\n",
    "neurons.set_event(\"pattern_b:event_b\")\n",
    "print(neurons.update_neuron_to_learn(BCE().sample()))\n",
    "print(neurons.set_event(\"pattern_b:event_b\"))\n",
    "print(neurons.set_event(\"event_b:event_X\"))\n",
    "print(neurons.update_neuron_to_learn(BCE().sample()))\n",
    "print(neurons.set_event(\"event_X:event_1\"))\n",
    "print(neurons.update_neuron_to_learn(BCE().sample()))\n",
    "print(neurons.get_neurons())\n",
    "print(neurons.neuron_to_learn)\n",
    "\n",
    "\n",
    "print(neurons.learned_neurons)"
   ]
  },
  {
   "attachments": {},
   "cell_type": "markdown",
   "id": "a6081e61",
   "metadata": {},
   "source": [
    "## Clase Sensory_NN,  clase base para RN de todos los senses"
   ]
  },
  {
   "cell_type": "code",
   "execution_count": 91,
   "id": "5508aabf",
   "metadata": {},
   "outputs": [],
   "source": [
    "from src.sensory_nn import Sensory_NN"
   ]
  },
  {
   "cell_type": "code",
   "execution_count": 98,
   "id": "1b27e51c",
   "metadata": {},
   "outputs": [
    {
     "data": {
      "text/html": [
       "<pre style=\"white-space:pre;overflow-x:auto;line-height:normal;font-family:Menlo,'DejaVu Sans Mono',consolas,'Courier New',monospace\"><span style=\"font-weight: bold\">[</span>\n",
       "    <span style=\"font-weight: bold\">(</span><span style=\"color: #008080; text-decoration-color: #008080; font-weight: bold\">0</span>, <span style=\"color: #008000; text-decoration-color: #008000\">'pattern_a'</span>, Bio:+<span style=\"color: #008080; text-decoration-color: #008080; font-weight: bold\">0.25</span> Cul:<span style=\"color: #008080; text-decoration-color: #008080; font-weight: bold\">-0.5</span> Emo:+<span style=\"color: #008080; text-decoration-color: #008080; font-weight: bold\">0.25</span><span style=\"font-weight: bold\">)</span>,\n",
       "    <span style=\"font-weight: bold\">(</span><span style=\"color: #008080; text-decoration-color: #008080; font-weight: bold\">1</span>, <span style=\"color: #008000; text-decoration-color: #008000\">'pattern_b'</span>, Bio:+<span style=\"color: #008080; text-decoration-color: #008080; font-weight: bold\">0.25</span> Cul:+<span style=\"color: #008080; text-decoration-color: #008080; font-weight: bold\">0.5</span> Emo:<span style=\"color: #008080; text-decoration-color: #008080; font-weight: bold\">-0.0</span><span style=\"font-weight: bold\">)</span>,\n",
       "    <span style=\"font-weight: bold\">(</span><span style=\"color: #008080; text-decoration-color: #008080; font-weight: bold\">2</span>, <span style=\"color: #008000; text-decoration-color: #008000\">'pattern_c'</span>, Bio:+<span style=\"color: #008080; text-decoration-color: #008080; font-weight: bold\">0.0</span> Cul:+<span style=\"color: #008080; text-decoration-color: #008080; font-weight: bold\">0.0</span> Emo:<span style=\"color: #008080; text-decoration-color: #008080; font-weight: bold\">-0.25</span><span style=\"font-weight: bold\">)</span>,\n",
       "    <span style=\"font-weight: bold\">(</span><span style=\"color: #008080; text-decoration-color: #008080; font-weight: bold\">3</span>, <span style=\"color: #008000; text-decoration-color: #008000\">'pattern_d'</span>, Bio:+<span style=\"color: #008080; text-decoration-color: #008080; font-weight: bold\">0.0</span> Cul:+<span style=\"color: #008080; text-decoration-color: #008080; font-weight: bold\">0.5</span> Emo:<span style=\"color: #008080; text-decoration-color: #008080; font-weight: bold\">-0.5</span><span style=\"font-weight: bold\">)</span>\n",
       "<span style=\"font-weight: bold\">]</span>\n",
       "</pre>\n"
      ],
      "text/plain": [
       "\u001b[1m[\u001b[0m\n",
       "    \u001b[1m(\u001b[0m\u001b[1;36m0\u001b[0m, \u001b[32m'pattern_a'\u001b[0m, Bio:+\u001b[1;36m0.25\u001b[0m Cul:\u001b[1;36m-0.5\u001b[0m Emo:+\u001b[1;36m0.25\u001b[0m\u001b[1m)\u001b[0m,\n",
       "    \u001b[1m(\u001b[0m\u001b[1;36m1\u001b[0m, \u001b[32m'pattern_b'\u001b[0m, Bio:+\u001b[1;36m0.25\u001b[0m Cul:+\u001b[1;36m0.5\u001b[0m Emo:\u001b[1;36m-0.0\u001b[0m\u001b[1m)\u001b[0m,\n",
       "    \u001b[1m(\u001b[0m\u001b[1;36m2\u001b[0m, \u001b[32m'pattern_c'\u001b[0m, Bio:+\u001b[1;36m0.0\u001b[0m Cul:+\u001b[1;36m0.0\u001b[0m Emo:\u001b[1;36m-0.25\u001b[0m\u001b[1m)\u001b[0m,\n",
       "    \u001b[1m(\u001b[0m\u001b[1;36m3\u001b[0m, \u001b[32m'pattern_d'\u001b[0m, Bio:+\u001b[1;36m0.0\u001b[0m Cul:+\u001b[1;36m0.5\u001b[0m Emo:\u001b[1;36m-0.5\u001b[0m\u001b[1m)\u001b[0m\n",
       "\u001b[1m]\u001b[0m\n"
      ]
     },
     "metadata": {},
     "output_type": "display_data"
    },
    {
     "data": {
      "text/html": [
       "<pre style=\"white-space:pre;overflow-x:auto;line-height:normal;font-family:Menlo,'DejaVu Sans Mono',consolas,'Courier New',monospace\"><span style=\"font-weight: bold\">[</span><span style=\"color: #008080; text-decoration-color: #008080; font-weight: bold\">4</span>, Bio:+<span style=\"color: #008080; text-decoration-color: #008080; font-weight: bold\">0.25</span> Cul:<span style=\"color: #008080; text-decoration-color: #008080; font-weight: bold\">-0.5</span> Emo:+<span style=\"color: #008080; text-decoration-color: #008080; font-weight: bold\">0.25</span>, <span style=\"color: #008000; text-decoration-color: #008000\">'pattern_a'</span>, <span style=\"color: #008000; text-decoration-color: #008000\">'event0'</span>, <span style=\"color: #008000; text-decoration-color: #008000\">'sight'</span><span style=\"font-weight: bold\">]</span>\n",
       "</pre>\n"
      ],
      "text/plain": [
       "\u001b[1m[\u001b[0m\u001b[1;36m4\u001b[0m, Bio:+\u001b[1;36m0.25\u001b[0m Cul:\u001b[1;36m-0.5\u001b[0m Emo:+\u001b[1;36m0.25\u001b[0m, \u001b[32m'pattern_a'\u001b[0m, \u001b[32m'event0'\u001b[0m, \u001b[32m'sight'\u001b[0m\u001b[1m]\u001b[0m\n"
      ]
     },
     "metadata": {},
     "output_type": "display_data"
    },
    {
     "data": {
      "text/html": [
       "<pre style=\"white-space:pre;overflow-x:auto;line-height:normal;font-family:Menlo,'DejaVu Sans Mono',consolas,'Courier New',monospace\"><span style=\"font-weight: bold\">[</span><span style=\"color: #008080; text-decoration-color: #008080; font-weight: bold\">4</span>, Bio:+<span style=\"color: #008080; text-decoration-color: #008080; font-weight: bold\">0.0</span> Cul:+<span style=\"color: #008080; text-decoration-color: #008080; font-weight: bold\">0.0</span> Emo:<span style=\"color: #008080; text-decoration-color: #008080; font-weight: bold\">-0.0</span>, <span style=\"color: #008000; text-decoration-color: #008000\">'pattern_a'</span>, <span style=\"color: #008000; text-decoration-color: #008000\">'event0'</span>, <span style=\"color: #008000; text-decoration-color: #008000\">'sight'</span><span style=\"font-weight: bold\">]</span>\n",
       "</pre>\n"
      ],
      "text/plain": [
       "\u001b[1m[\u001b[0m\u001b[1;36m4\u001b[0m, Bio:+\u001b[1;36m0.0\u001b[0m Cul:+\u001b[1;36m0.0\u001b[0m Emo:\u001b[1;36m-0.0\u001b[0m, \u001b[32m'pattern_a'\u001b[0m, \u001b[32m'event0'\u001b[0m, \u001b[32m'sight'\u001b[0m\u001b[1m]\u001b[0m\n"
      ]
     },
     "metadata": {},
     "output_type": "display_data"
    }
   ],
   "source": [
    "a=BCE().sample()\n",
    "b=BCE().sample()\n",
    "c=BCE().sample()\n",
    "d=BCE().sample()\n",
    "event=BCE().sample()\n",
    "event1=BCE().sample()\n",
    "event2=BCE().sample()\n",
    "event3=BCE().sample()\n",
    "arr_patternes_bce=[(\"pattern_a\",a),(\"pattern_b\",b),(\"pattern_c\",c),(\"pattern_d\",d)]\n",
    "arr_patternes_bce2=[(\"pattern_e\",a),(\"pattern_f\",b),(\"pattern_g\",c),(\"pattern_h\",d)]\n",
    "\n",
    "\n",
    "\n",
    "instance=Sensory_NN(\"sight\")\n",
    "arr_patternes_bce=[(\"pattern_a\",a),(\"pattern_b\",b),(\"pattern_c\",c),(\"pattern_d\",d)]\n",
    "print(instance.init_patterns(arr_patternes_bce))\n",
    "print(instance.set_event(\"pattern_a:event0\"))\n",
    "print(instance.update_neuron(event))\n",
    "#instance.set_event(\"pattern_b:event1\")\n",
    "#instance.update_neuron(event1)\n",
    "#instance.set_event(\"pattern_c:event3\")\n",
    "#instance.update_neuron(event3)\n"
   ]
  },
  {
   "attachments": {},
   "cell_type": "markdown",
   "id": "e4cc2fe4",
   "metadata": {},
   "source": [
    "### Prueba clase Sensory_NN"
   ]
  },
  {
   "cell_type": "code",
   "execution_count": 261,
   "id": "a556f4e0",
   "metadata": {},
   "outputs": [
    {
     "name": "stdout",
     "output_type": "stream",
     "text": [
      "\u001b[1m======================================= test session starts =======================================\u001b[0m\n",
      "collected 1000 items\n",
      "\n",
      "test\\test_sensory_nn.py \u001b[32m                                                                     [100%]\u001b[0m\n",
      "\n",
      "\u001b[32m====================================== \u001b[32m\u001b[1m1000 passed\u001b[0m\u001b[32m in 8.72s\u001b[0m\u001b[32m =======================================\u001b[0m\n"
     ]
    }
   ],
   "source": [
    "!pytest --no-header --report-passed=\"\" test/test_sensory_nn.py::test_sensory_nn_behavior"
   ]
  },
  {
   "cell_type": "markdown",
   "id": "aaae45a3",
   "metadata": {},
   "source": [
    "### Pruebas Unitarias Sensory_NN"
   ]
  },
  {
   "cell_type": "code",
   "execution_count": 262,
   "id": "6d190dc3",
   "metadata": {},
   "outputs": [
    {
     "name": "stdout",
     "output_type": "stream",
     "text": [
      "\u001b[1m======================================= test session starts =======================================\u001b[0m\n",
      "collected 1019 items\n",
      "\n",
      "test\\test_sensory_nn.py \u001b[32m                                                                     [100%]\u001b[0m\n",
      "\n",
      "\u001b[32m====================================== \u001b[32m\u001b[1m1019 passed\u001b[0m\u001b[32m in 8.26s\u001b[0m\u001b[32m =======================================\u001b[0m\n"
     ]
    }
   ],
   "source": [
    "!pytest --no-header --report-passed=\"\" test/test_sensory_nn.py"
   ]
  },
  {
   "attachments": {},
   "cell_type": "markdown",
   "id": "f834c891",
   "metadata": {},
   "source": [
    "## Clase Sensory_system"
   ]
  },
  {
   "cell_type": "code",
   "execution_count": 238,
   "id": "1858d016",
   "metadata": {},
   "outputs": [],
   "source": [
    "from src.sensory_system import Sensory_system"
   ]
  },
  {
   "cell_type": "code",
   "execution_count": 263,
   "id": "31cf3e19",
   "metadata": {},
   "outputs": [
    {
     "name": "stdout",
     "output_type": "stream",
     "text": [
      "\u001b[1m======================================= test session starts =======================================\u001b[0m\n",
      "collected 1000 items\n",
      "\n",
      "test\\test_sensory_system.py \u001b[32m.\u001b[0m\u001b[32m.\u001b[0m\u001b[32m.\u001b[0m\u001b[32m.\u001b[0m\u001b[32m.\u001b[0m\u001b[32m.\u001b[0m\u001b[32m.\u001b[0m\u001b[32m.\u001b[0m\u001b[32m.\u001b[0m\u001b[32m.\u001b[0m\u001b[32m.\u001b[0m\u001b[32m.\u001b[0m\u001b[32m.\u001b[0m\u001b[32m.\u001b[0m\u001b[32m.\u001b[0m\u001b[32m.\u001b[0m\u001b[32m.\u001b[0m\u001b[32m.\u001b[0m\u001b[32m.\u001b[0m\u001b[32m.\u001b[0m\u001b[32m.\u001b[0m\u001b[32m.\u001b[0m\u001b[32m.\u001b[0m\u001b[32m.\u001b[0m\u001b[32m.\u001b[0m\u001b[32m.\u001b[0m\u001b[32m.\u001b[0m\u001b[32m.\u001b[0m\u001b[32m.\u001b[0m\u001b[32m.\u001b[0m\u001b[32m.\u001b[0m\u001b[32m.\u001b[0m\u001b[32m.\u001b[0m\u001b[32m.\u001b[0m\u001b[32m.\u001b[0m\u001b[32m.\u001b[0m\u001b[32m.\u001b[0m\u001b[32m.\u001b[0m\u001b[32m.\u001b[0m\u001b[32m.\u001b[0m\u001b[32m.\u001b[0m\u001b[32m.\u001b[0m\u001b[32m.\u001b[0m\u001b[32m.\u001b[0m\u001b[32m.\u001b[0m\u001b[32m.\u001b[0m\u001b[32m.\u001b[0m\u001b[32m.\u001b[0m\u001b[32m.\u001b[0m\u001b[32m.\u001b[0m\u001b[32m.\u001b[0m\u001b[32m.\u001b[0m\u001b[32m.\u001b[0m\u001b[32m.\u001b[0m\u001b[32m.\u001b[0m\u001b[32m.\u001b[0m\u001b[32m.\u001b[0m\u001b[32m.\u001b[0m\u001b[32m.\u001b[0m\u001b[32m.\u001b[0m\u001b[32m.\u001b[0m\u001b[32m.\u001b[0m\u001b[32m.\u001b[0m\u001b[32m.\u001b[0m\u001b[32m [  6%]\n",
      "\u001b[0m\u001b[32m.\u001b[0m\u001b[32m.\u001b[0m\u001b[32m.\u001b[0m\u001b[32m.\u001b[0m\u001b[32m.\u001b[0m\u001b[32m.\u001b[0m\u001b[32m.\u001b[0m\u001b[32m.\u001b[0m\u001b[32m.\u001b[0m\u001b[32m.\u001b[0m\u001b[32m.\u001b[0m\u001b[32m.\u001b[0m\u001b[32m.\u001b[0m\u001b[32m.\u001b[0m\u001b[32m.\u001b[0m\u001b[32m.\u001b[0m\u001b[32m.\u001b[0m\u001b[32m.\u001b[0m\u001b[32m.\u001b[0m\u001b[32m.\u001b[0m\u001b[32m.\u001b[0m\u001b[32m.\u001b[0m\u001b[32m.\u001b[0m\u001b[32m.\u001b[0m\u001b[32m.\u001b[0m\u001b[32m.\u001b[0m\u001b[32m.\u001b[0m\u001b[32m.\u001b[0m\u001b[32m.\u001b[0m\u001b[32m.\u001b[0m\u001b[32m.\u001b[0m\u001b[32m.\u001b[0m\u001b[32m.\u001b[0m\u001b[32m.\u001b[0m\u001b[32m.\u001b[0m\u001b[32m.\u001b[0m\u001b[32m.\u001b[0m\u001b[32m.\u001b[0m\u001b[32m.\u001b[0m\u001b[32m.\u001b[0m\u001b[32m.\u001b[0m\u001b[32m.\u001b[0m\u001b[32m.\u001b[0m\u001b[32m.\u001b[0m\u001b[32m.\u001b[0m\u001b[32m.\u001b[0m\u001b[32m.\u001b[0m\u001b[32m.\u001b[0m\u001b[32m.\u001b[0m\u001b[32m.\u001b[0m\u001b[32m.\u001b[0m\u001b[32m.\u001b[0m\u001b[32m.\u001b[0m\u001b[32m.\u001b[0m\u001b[32m.\u001b[0m\u001b[32m.\u001b[0m\u001b[32m.\u001b[0m\u001b[32m.\u001b[0m\u001b[32m.\u001b[0m\u001b[32m.\u001b[0m\u001b[32m.\u001b[0m\u001b[32m.\u001b[0m\u001b[32m.\u001b[0m\u001b[32m.\u001b[0m\u001b[32m.\u001b[0m\u001b[32m.\u001b[0m\u001b[32m.\u001b[0m\u001b[32m.\u001b[0m\u001b[32m.\u001b[0m\u001b[32m.\u001b[0m\u001b[32m.\u001b[0m\u001b[32m.\u001b[0m\u001b[32m.\u001b[0m\u001b[32m.\u001b[0m\u001b[32m.\u001b[0m\u001b[32m.\u001b[0m\u001b[32m.\u001b[0m\u001b[32m.\u001b[0m\u001b[32m.\u001b[0m\u001b[32m.\u001b[0m\u001b[32m.\u001b[0m\u001b[32m.\u001b[0m\u001b[32m.\u001b[0m\u001b[32m.\u001b[0m\u001b[32m.\u001b[0m\u001b[32m.\u001b[0m\u001b[32m.\u001b[0m\u001b[32m.\u001b[0m\u001b[32m.\u001b[0m\u001b[32m.\u001b[0m\u001b[32m.\u001b[0m\u001b[32m.\u001b[0m\u001b[32m [ 15%]\n",
      "\u001b[0m\u001b[32m.\u001b[0m\u001b[32m.\u001b[0m\u001b[32m.\u001b[0m\u001b[32m.\u001b[0m\u001b[32m.\u001b[0m\u001b[32m.\u001b[0m\u001b[32m.\u001b[0m\u001b[32m.\u001b[0m\u001b[32m.\u001b[0m\u001b[32m.\u001b[0m\u001b[32m.\u001b[0m\u001b[32m.\u001b[0m\u001b[32m.\u001b[0m\u001b[32m.\u001b[0m\u001b[32m.\u001b[0m\u001b[32m.\u001b[0m\u001b[32m.\u001b[0m\u001b[32m.\u001b[0m\u001b[32m.\u001b[0m\u001b[32m.\u001b[0m\u001b[32m.\u001b[0m\u001b[32m.\u001b[0m\u001b[32m.\u001b[0m\u001b[32m.\u001b[0m\u001b[32m.\u001b[0m\u001b[32m.\u001b[0m\u001b[32m.\u001b[0m\u001b[32m.\u001b[0m\u001b[32m.\u001b[0m\u001b[32m.\u001b[0m\u001b[32m.\u001b[0m\u001b[32m.\u001b[0m\u001b[32m.\u001b[0m\u001b[32m.\u001b[0m\u001b[32m.\u001b[0m\u001b[32m.\u001b[0m\u001b[32m.\u001b[0m\u001b[32m.\u001b[0m\u001b[32m.\u001b[0m\u001b[32m.\u001b[0m\u001b[32m.\u001b[0m\u001b[32m.\u001b[0m\u001b[32m.\u001b[0m\u001b[32m.\u001b[0m\u001b[32m.\u001b[0m\u001b[32m.\u001b[0m\u001b[32m.\u001b[0m\u001b[32m.\u001b[0m\u001b[32m.\u001b[0m\u001b[32m.\u001b[0m\u001b[32m.\u001b[0m\u001b[32m.\u001b[0m\u001b[32m.\u001b[0m\u001b[32m.\u001b[0m\u001b[32m.\u001b[0m\u001b[32m.\u001b[0m\u001b[32m.\u001b[0m\u001b[32m.\u001b[0m\u001b[32m.\u001b[0m\u001b[32m.\u001b[0m\u001b[32m.\u001b[0m\u001b[32m.\u001b[0m\u001b[32m.\u001b[0m\u001b[32m.\u001b[0m\u001b[32m.\u001b[0m\u001b[32m.\u001b[0m\u001b[32m.\u001b[0m\u001b[32m.\u001b[0m\u001b[32m.\u001b[0m\u001b[32m.\u001b[0m\u001b[32m.\u001b[0m\u001b[32m.\u001b[0m\u001b[32m.\u001b[0m\u001b[32m.\u001b[0m\u001b[32m.\u001b[0m\u001b[32m.\u001b[0m\u001b[32m.\u001b[0m\u001b[32m.\u001b[0m\u001b[32m.\u001b[0m\u001b[32m.\u001b[0m\u001b[32m.\u001b[0m\u001b[32m.\u001b[0m\u001b[32m.\u001b[0m\u001b[32m.\u001b[0m\u001b[32m.\u001b[0m\u001b[32m.\u001b[0m\u001b[32m.\u001b[0m\u001b[32m.\u001b[0m\u001b[32m.\u001b[0m\u001b[32m.\u001b[0m\u001b[32m.\u001b[0m\u001b[32m.\u001b[0m\u001b[32m [ 24%]\n",
      "\u001b[0m\u001b[32m.\u001b[0m\u001b[32m.\u001b[0m\u001b[32m.\u001b[0m\u001b[32m.\u001b[0m\u001b[32m.\u001b[0m\u001b[32m.\u001b[0m\u001b[32m.\u001b[0m\u001b[32m.\u001b[0m\u001b[32m.\u001b[0m\u001b[32m.\u001b[0m\u001b[32m.\u001b[0m\u001b[32m.\u001b[0m\u001b[32m.\u001b[0m\u001b[32m.\u001b[0m\u001b[32m.\u001b[0m\u001b[32m.\u001b[0m\u001b[32m.\u001b[0m\u001b[32m.\u001b[0m\u001b[32m.\u001b[0m\u001b[32m.\u001b[0m\u001b[32m.\u001b[0m\u001b[32m.\u001b[0m\u001b[32m.\u001b[0m\u001b[32m.\u001b[0m\u001b[32m.\u001b[0m\u001b[32m.\u001b[0m\u001b[32m.\u001b[0m\u001b[32m.\u001b[0m\u001b[32m.\u001b[0m\u001b[32m.\u001b[0m\u001b[32m.\u001b[0m\u001b[32m.\u001b[0m\u001b[32m.\u001b[0m\u001b[32m.\u001b[0m\u001b[32m.\u001b[0m\u001b[32m.\u001b[0m\u001b[32m.\u001b[0m\u001b[32m.\u001b[0m\u001b[32m.\u001b[0m\u001b[32m.\u001b[0m\u001b[32m.\u001b[0m\u001b[32m.\u001b[0m\u001b[32m.\u001b[0m\u001b[32m.\u001b[0m\u001b[32m.\u001b[0m\u001b[32m.\u001b[0m\u001b[32m.\u001b[0m\u001b[32m.\u001b[0m\u001b[32m.\u001b[0m\u001b[32m.\u001b[0m\u001b[32m.\u001b[0m\u001b[32m.\u001b[0m\u001b[32m.\u001b[0m\u001b[32m.\u001b[0m\u001b[32m.\u001b[0m\u001b[32m.\u001b[0m\u001b[32m.\u001b[0m\u001b[32m.\u001b[0m\u001b[32m.\u001b[0m\u001b[32m.\u001b[0m\u001b[32m.\u001b[0m\u001b[32m.\u001b[0m\u001b[32m.\u001b[0m\u001b[32m.\u001b[0m\u001b[32m.\u001b[0m\u001b[32m.\u001b[0m\u001b[32m.\u001b[0m\u001b[32m.\u001b[0m\u001b[32m.\u001b[0m\u001b[32m.\u001b[0m\u001b[32m.\u001b[0m\u001b[32m.\u001b[0m\u001b[32m.\u001b[0m\u001b[32m.\u001b[0m\u001b[32m.\u001b[0m\u001b[32m.\u001b[0m\u001b[32m.\u001b[0m\u001b[32m.\u001b[0m\u001b[32m.\u001b[0m\u001b[32m.\u001b[0m\u001b[32m.\u001b[0m\u001b[32m.\u001b[0m\u001b[32m.\u001b[0m\u001b[32m.\u001b[0m\u001b[32m.\u001b[0m\u001b[32m.\u001b[0m\u001b[32m.\u001b[0m\u001b[32m.\u001b[0m\u001b[32m.\u001b[0m\u001b[32m.\u001b[0m\u001b[32m.\u001b[0m\u001b[32m.\u001b[0m\u001b[32m [ 34%]\n",
      "\u001b[0m\u001b[32m.\u001b[0m\u001b[32m.\u001b[0m\u001b[32m.\u001b[0m\u001b[32m.\u001b[0m\u001b[32m.\u001b[0m\u001b[32m.\u001b[0m\u001b[32m.\u001b[0m\u001b[32m.\u001b[0m\u001b[32m.\u001b[0m\u001b[32m.\u001b[0m\u001b[32m.\u001b[0m\u001b[32m.\u001b[0m\u001b[32m.\u001b[0m\u001b[32m.\u001b[0m\u001b[32m.\u001b[0m\u001b[32m.\u001b[0m\u001b[32m.\u001b[0m\u001b[32m.\u001b[0m\u001b[32m.\u001b[0m\u001b[32m.\u001b[0m\u001b[32m.\u001b[0m\u001b[32m.\u001b[0m\u001b[32m.\u001b[0m\u001b[32m.\u001b[0m\u001b[32m.\u001b[0m\u001b[32m.\u001b[0m\u001b[32m.\u001b[0m\u001b[32m.\u001b[0m\u001b[32m.\u001b[0m\u001b[32m.\u001b[0m\u001b[32m.\u001b[0m\u001b[32m.\u001b[0m\u001b[32m.\u001b[0m\u001b[32m.\u001b[0m\u001b[32m.\u001b[0m\u001b[32m.\u001b[0m\u001b[32m.\u001b[0m\u001b[32m.\u001b[0m\u001b[32m.\u001b[0m\u001b[32m.\u001b[0m\u001b[32m.\u001b[0m\u001b[32m.\u001b[0m\u001b[32m.\u001b[0m\u001b[32m.\u001b[0m\u001b[32m.\u001b[0m\u001b[32m.\u001b[0m\u001b[32m.\u001b[0m\u001b[32m.\u001b[0m\u001b[32m.\u001b[0m\u001b[32m.\u001b[0m\u001b[32m.\u001b[0m\u001b[32m.\u001b[0m\u001b[32m.\u001b[0m\u001b[32m.\u001b[0m\u001b[32m.\u001b[0m\u001b[32m.\u001b[0m\u001b[32m.\u001b[0m\u001b[32m.\u001b[0m\u001b[32m.\u001b[0m\u001b[32m.\u001b[0m\u001b[32m.\u001b[0m\u001b[32m.\u001b[0m\u001b[32m.\u001b[0m\u001b[32m.\u001b[0m\u001b[32m.\u001b[0m\u001b[32m.\u001b[0m\u001b[32m.\u001b[0m\u001b[32m.\u001b[0m\u001b[32m.\u001b[0m\u001b[32m.\u001b[0m\u001b[32m.\u001b[0m\u001b[32m.\u001b[0m\u001b[32m.\u001b[0m\u001b[32m.\u001b[0m\u001b[32m.\u001b[0m\u001b[32m.\u001b[0m\u001b[32m.\u001b[0m\u001b[32m.\u001b[0m\u001b[32m.\u001b[0m\u001b[32m.\u001b[0m\u001b[32m.\u001b[0m\u001b[32m.\u001b[0m\u001b[32m.\u001b[0m\u001b[32m.\u001b[0m\u001b[32m.\u001b[0m\u001b[32m.\u001b[0m\u001b[32m.\u001b[0m\u001b[32m.\u001b[0m\u001b[32m.\u001b[0m\u001b[32m.\u001b[0m\u001b[32m.\u001b[0m\u001b[32m.\u001b[0m\u001b[32m [ 43%]\n",
      "\u001b[0m\u001b[32m.\u001b[0m\u001b[32m.\u001b[0m\u001b[32m.\u001b[0m\u001b[32m.\u001b[0m\u001b[32m.\u001b[0m\u001b[32m.\u001b[0m\u001b[32m.\u001b[0m\u001b[32m.\u001b[0m\u001b[32m.\u001b[0m\u001b[32m.\u001b[0m\u001b[32m.\u001b[0m\u001b[32m.\u001b[0m\u001b[32m.\u001b[0m\u001b[32m.\u001b[0m\u001b[32m.\u001b[0m\u001b[32m.\u001b[0m\u001b[32m.\u001b[0m\u001b[32m.\u001b[0m\u001b[32m.\u001b[0m\u001b[32m.\u001b[0m\u001b[32m.\u001b[0m\u001b[32m.\u001b[0m\u001b[32m.\u001b[0m\u001b[32m.\u001b[0m\u001b[32m.\u001b[0m\u001b[32m.\u001b[0m\u001b[32m.\u001b[0m\u001b[32m.\u001b[0m\u001b[32m.\u001b[0m\u001b[32m.\u001b[0m\u001b[32m.\u001b[0m\u001b[32m.\u001b[0m\u001b[32m.\u001b[0m\u001b[32m.\u001b[0m\u001b[32m.\u001b[0m\u001b[32m.\u001b[0m\u001b[32m.\u001b[0m\u001b[32m.\u001b[0m\u001b[32m.\u001b[0m\u001b[32m.\u001b[0m\u001b[32m.\u001b[0m\u001b[32m.\u001b[0m\u001b[32m.\u001b[0m\u001b[32m.\u001b[0m\u001b[32m.\u001b[0m\u001b[32m.\u001b[0m\u001b[32m.\u001b[0m\u001b[32m.\u001b[0m\u001b[32m.\u001b[0m\u001b[32m.\u001b[0m\u001b[32m.\u001b[0m\u001b[32m.\u001b[0m\u001b[32m.\u001b[0m\u001b[32m.\u001b[0m\u001b[32m.\u001b[0m\u001b[32m.\u001b[0m\u001b[32m.\u001b[0m\u001b[32m.\u001b[0m\u001b[32m.\u001b[0m\u001b[32m.\u001b[0m\u001b[32m.\u001b[0m\u001b[32m.\u001b[0m\u001b[32m.\u001b[0m\u001b[32m.\u001b[0m\u001b[32m.\u001b[0m\u001b[32m.\u001b[0m\u001b[32m.\u001b[0m\u001b[32m.\u001b[0m\u001b[32m.\u001b[0m\u001b[32m.\u001b[0m\u001b[32m.\u001b[0m\u001b[32m.\u001b[0m\u001b[32m.\u001b[0m\u001b[32m.\u001b[0m\u001b[32m.\u001b[0m\u001b[32m.\u001b[0m\u001b[32m.\u001b[0m\u001b[32m.\u001b[0m\u001b[32m.\u001b[0m\u001b[32m.\u001b[0m\u001b[32m.\u001b[0m\u001b[32m.\u001b[0m\u001b[32m.\u001b[0m\u001b[32m.\u001b[0m\u001b[32m.\u001b[0m\u001b[32m.\u001b[0m\u001b[32m.\u001b[0m\u001b[32m.\u001b[0m\u001b[32m.\u001b[0m\u001b[32m.\u001b[0m\u001b[32m.\u001b[0m\u001b[32m.\u001b[0m\u001b[32m [ 52%]\n",
      "\u001b[0m\u001b[32m.\u001b[0m\u001b[32m.\u001b[0m\u001b[32m.\u001b[0m\u001b[32m.\u001b[0m\u001b[32m.\u001b[0m\u001b[32m.\u001b[0m\u001b[32m.\u001b[0m\u001b[32m.\u001b[0m\u001b[32m.\u001b[0m\u001b[32m.\u001b[0m\u001b[32m.\u001b[0m\u001b[32m.\u001b[0m\u001b[32m.\u001b[0m\u001b[32m.\u001b[0m\u001b[32m.\u001b[0m\u001b[32m.\u001b[0m\u001b[32m.\u001b[0m\u001b[32m.\u001b[0m\u001b[32m.\u001b[0m\u001b[32m.\u001b[0m\u001b[32m.\u001b[0m\u001b[32m.\u001b[0m\u001b[32m.\u001b[0m\u001b[32m.\u001b[0m\u001b[32m.\u001b[0m\u001b[32m.\u001b[0m\u001b[32m.\u001b[0m\u001b[32m.\u001b[0m\u001b[32m.\u001b[0m\u001b[32m.\u001b[0m\u001b[32m.\u001b[0m\u001b[32m.\u001b[0m\u001b[32m.\u001b[0m\u001b[32m.\u001b[0m\u001b[32m.\u001b[0m\u001b[32m.\u001b[0m\u001b[32m.\u001b[0m\u001b[32m.\u001b[0m\u001b[32m.\u001b[0m\u001b[32m.\u001b[0m\u001b[32m.\u001b[0m\u001b[32m.\u001b[0m\u001b[32m.\u001b[0m\u001b[32m.\u001b[0m\u001b[32m.\u001b[0m\u001b[32m.\u001b[0m\u001b[32m.\u001b[0m\u001b[32m.\u001b[0m\u001b[32m.\u001b[0m\u001b[32m.\u001b[0m\u001b[32m.\u001b[0m\u001b[32m.\u001b[0m\u001b[32m.\u001b[0m\u001b[32m.\u001b[0m\u001b[32m.\u001b[0m\u001b[32m.\u001b[0m\u001b[32m.\u001b[0m\u001b[32m.\u001b[0m\u001b[32m.\u001b[0m\u001b[32m.\u001b[0m\u001b[32m.\u001b[0m\u001b[32m.\u001b[0m\u001b[32m.\u001b[0m\u001b[32m.\u001b[0m\u001b[32m.\u001b[0m\u001b[32m.\u001b[0m\u001b[32m.\u001b[0m\u001b[32m.\u001b[0m\u001b[32m.\u001b[0m\u001b[32m.\u001b[0m\u001b[32m.\u001b[0m\u001b[32m.\u001b[0m\u001b[32m.\u001b[0m\u001b[32m.\u001b[0m\u001b[32m.\u001b[0m\u001b[32m.\u001b[0m\u001b[32m.\u001b[0m\u001b[32m.\u001b[0m\u001b[32m.\u001b[0m\u001b[32m.\u001b[0m\u001b[32m.\u001b[0m\u001b[32m.\u001b[0m\u001b[32m.\u001b[0m\u001b[32m.\u001b[0m\u001b[32m.\u001b[0m\u001b[32m.\u001b[0m\u001b[32m.\u001b[0m\u001b[32m.\u001b[0m\u001b[32m.\u001b[0m\u001b[32m.\u001b[0m\u001b[32m.\u001b[0m\u001b[32m.\u001b[0m\u001b[32m [ 61%]\n",
      "\u001b[0m\u001b[32m.\u001b[0m\u001b[32m.\u001b[0m\u001b[32m.\u001b[0m\u001b[32m.\u001b[0m\u001b[32m.\u001b[0m\u001b[32m.\u001b[0m\u001b[32m.\u001b[0m\u001b[32m.\u001b[0m\u001b[32m.\u001b[0m\u001b[32m.\u001b[0m\u001b[32m.\u001b[0m\u001b[32m.\u001b[0m\u001b[32m.\u001b[0m\u001b[32m.\u001b[0m\u001b[32m.\u001b[0m\u001b[32m.\u001b[0m\u001b[32m.\u001b[0m\u001b[32m.\u001b[0m\u001b[32m.\u001b[0m\u001b[32m.\u001b[0m\u001b[32m.\u001b[0m\u001b[32m.\u001b[0m\u001b[32m.\u001b[0m\u001b[32m.\u001b[0m\u001b[32m.\u001b[0m\u001b[32m.\u001b[0m\u001b[32m.\u001b[0m\u001b[32m.\u001b[0m\u001b[32m.\u001b[0m\u001b[32m.\u001b[0m\u001b[32m.\u001b[0m\u001b[32m.\u001b[0m\u001b[32m.\u001b[0m\u001b[32m.\u001b[0m\u001b[32m.\u001b[0m\u001b[32m.\u001b[0m\u001b[32m.\u001b[0m\u001b[32m.\u001b[0m\u001b[32m.\u001b[0m\u001b[32m.\u001b[0m\u001b[32m.\u001b[0m\u001b[32m.\u001b[0m\u001b[32m.\u001b[0m\u001b[32m.\u001b[0m\u001b[32m.\u001b[0m\u001b[32m.\u001b[0m\u001b[32m.\u001b[0m\u001b[32m.\u001b[0m\u001b[32m.\u001b[0m\u001b[32m.\u001b[0m\u001b[32m.\u001b[0m\u001b[32m.\u001b[0m\u001b[32m.\u001b[0m\u001b[32m.\u001b[0m\u001b[32m.\u001b[0m\u001b[32m.\u001b[0m\u001b[32m.\u001b[0m\u001b[32m.\u001b[0m\u001b[32m.\u001b[0m\u001b[32m.\u001b[0m\u001b[32m.\u001b[0m\u001b[32m.\u001b[0m\u001b[32m.\u001b[0m\u001b[32m.\u001b[0m\u001b[32m.\u001b[0m\u001b[32m.\u001b[0m\u001b[32m.\u001b[0m\u001b[32m.\u001b[0m\u001b[32m.\u001b[0m\u001b[32m.\u001b[0m\u001b[32m.\u001b[0m\u001b[32m.\u001b[0m\u001b[32m.\u001b[0m\u001b[32m.\u001b[0m\u001b[32m.\u001b[0m\u001b[32m.\u001b[0m\u001b[32m.\u001b[0m\u001b[32m.\u001b[0m\u001b[32m.\u001b[0m\u001b[32m.\u001b[0m\u001b[32m.\u001b[0m\u001b[32m.\u001b[0m\u001b[32m.\u001b[0m\u001b[32m.\u001b[0m\u001b[32m.\u001b[0m\u001b[32m.\u001b[0m\u001b[32m.\u001b[0m\u001b[32m.\u001b[0m\u001b[32m.\u001b[0m\u001b[32m.\u001b[0m\u001b[32m.\u001b[0m\u001b[32m.\u001b[0m\u001b[32m [ 70%]\n",
      "\u001b[0m\u001b[32m.\u001b[0m\u001b[32m.\u001b[0m\u001b[32m.\u001b[0m\u001b[32m.\u001b[0m\u001b[32m.\u001b[0m\u001b[32m.\u001b[0m\u001b[32m.\u001b[0m\u001b[32m.\u001b[0m\u001b[32m.\u001b[0m\u001b[32m.\u001b[0m\u001b[32m.\u001b[0m\u001b[32m.\u001b[0m\u001b[32m.\u001b[0m\u001b[32m.\u001b[0m\u001b[32m.\u001b[0m\u001b[32m.\u001b[0m\u001b[32m.\u001b[0m\u001b[32m.\u001b[0m\u001b[32m.\u001b[0m\u001b[32m.\u001b[0m\u001b[32m.\u001b[0m\u001b[32m.\u001b[0m\u001b[32m.\u001b[0m\u001b[32m.\u001b[0m\u001b[32m.\u001b[0m\u001b[32m.\u001b[0m\u001b[32m.\u001b[0m\u001b[32m.\u001b[0m\u001b[32m.\u001b[0m\u001b[32m.\u001b[0m\u001b[32m.\u001b[0m\u001b[32m.\u001b[0m\u001b[32m.\u001b[0m\u001b[32m.\u001b[0m\u001b[32m.\u001b[0m\u001b[32m.\u001b[0m\u001b[32m.\u001b[0m\u001b[32m.\u001b[0m\u001b[32m.\u001b[0m\u001b[32m.\u001b[0m\u001b[32m.\u001b[0m\u001b[32m.\u001b[0m\u001b[32m.\u001b[0m\u001b[32m.\u001b[0m\u001b[32m.\u001b[0m\u001b[32m.\u001b[0m\u001b[32m.\u001b[0m\u001b[32m.\u001b[0m\u001b[32m.\u001b[0m\u001b[32m.\u001b[0m\u001b[32m.\u001b[0m\u001b[32m.\u001b[0m\u001b[32m.\u001b[0m\u001b[32m.\u001b[0m\u001b[32m.\u001b[0m\u001b[32m.\u001b[0m\u001b[32m.\u001b[0m\u001b[32m.\u001b[0m\u001b[32m.\u001b[0m\u001b[32m.\u001b[0m\u001b[32m.\u001b[0m\u001b[32m.\u001b[0m\u001b[32m.\u001b[0m\u001b[32m.\u001b[0m\u001b[32m.\u001b[0m\u001b[32m.\u001b[0m\u001b[32m.\u001b[0m\u001b[32m.\u001b[0m\u001b[32m.\u001b[0m\u001b[32m.\u001b[0m\u001b[32m.\u001b[0m\u001b[32m.\u001b[0m\u001b[32m.\u001b[0m\u001b[32m.\u001b[0m\u001b[32m.\u001b[0m\u001b[32m.\u001b[0m\u001b[32m.\u001b[0m\u001b[32m.\u001b[0m\u001b[32m.\u001b[0m\u001b[32m.\u001b[0m\u001b[32m.\u001b[0m\u001b[32m.\u001b[0m\u001b[32m.\u001b[0m\u001b[32m.\u001b[0m\u001b[32m.\u001b[0m\u001b[32m.\u001b[0m\u001b[32m.\u001b[0m\u001b[32m.\u001b[0m\u001b[32m.\u001b[0m\u001b[32m.\u001b[0m\u001b[32m.\u001b[0m\u001b[32m.\u001b[0m\u001b[32m [ 80%]\n",
      "\u001b[0m\u001b[32m.\u001b[0m\u001b[32m.\u001b[0m\u001b[32m.\u001b[0m\u001b[32m.\u001b[0m\u001b[32m.\u001b[0m\u001b[32m.\u001b[0m\u001b[32m.\u001b[0m\u001b[32m.\u001b[0m\u001b[32m.\u001b[0m\u001b[32m.\u001b[0m\u001b[32m.\u001b[0m\u001b[32m.\u001b[0m\u001b[32m.\u001b[0m\u001b[32m.\u001b[0m\u001b[32m.\u001b[0m\u001b[32m.\u001b[0m\u001b[32m.\u001b[0m\u001b[32m.\u001b[0m\u001b[32m.\u001b[0m\u001b[32m.\u001b[0m\u001b[32m.\u001b[0m\u001b[32m.\u001b[0m\u001b[32m.\u001b[0m\u001b[32m.\u001b[0m\u001b[32m.\u001b[0m\u001b[32m.\u001b[0m\u001b[32m.\u001b[0m\u001b[32m.\u001b[0m\u001b[32m.\u001b[0m\u001b[32m.\u001b[0m\u001b[32m.\u001b[0m\u001b[32m.\u001b[0m\u001b[32m.\u001b[0m\u001b[32m.\u001b[0m\u001b[32m.\u001b[0m\u001b[32m.\u001b[0m\u001b[32m.\u001b[0m\u001b[32m.\u001b[0m\u001b[32m.\u001b[0m\u001b[32m.\u001b[0m\u001b[32m.\u001b[0m\u001b[32m.\u001b[0m\u001b[32m.\u001b[0m\u001b[32m.\u001b[0m\u001b[32m.\u001b[0m\u001b[32m.\u001b[0m\u001b[32m.\u001b[0m\u001b[32m.\u001b[0m\u001b[32m.\u001b[0m\u001b[32m.\u001b[0m\u001b[32m.\u001b[0m\u001b[32m.\u001b[0m\u001b[32m.\u001b[0m\u001b[32m.\u001b[0m\u001b[32m.\u001b[0m\u001b[32m.\u001b[0m\u001b[32m.\u001b[0m\u001b[32m.\u001b[0m\u001b[32m.\u001b[0m\u001b[32m.\u001b[0m\u001b[32m.\u001b[0m\u001b[32m.\u001b[0m\u001b[32m.\u001b[0m\u001b[32m.\u001b[0m\u001b[32m.\u001b[0m\u001b[32m.\u001b[0m\u001b[32m.\u001b[0m\u001b[32m.\u001b[0m\u001b[32m.\u001b[0m\u001b[32m.\u001b[0m\u001b[32m.\u001b[0m\u001b[32m.\u001b[0m\u001b[32m.\u001b[0m\u001b[32m.\u001b[0m\u001b[32m.\u001b[0m\u001b[32m.\u001b[0m\u001b[32m.\u001b[0m\u001b[32m.\u001b[0m\u001b[32m.\u001b[0m\u001b[32m.\u001b[0m\u001b[32m.\u001b[0m\u001b[32m.\u001b[0m\u001b[32m.\u001b[0m\u001b[32m.\u001b[0m\u001b[32m.\u001b[0m\u001b[32m.\u001b[0m\u001b[32m.\u001b[0m\u001b[32m.\u001b[0m\u001b[32m.\u001b[0m\u001b[32m.\u001b[0m\u001b[32m.\u001b[0m\u001b[32m.\u001b[0m\u001b[32m [ 89%]\n",
      "\u001b[0m\u001b[32m.\u001b[0m\u001b[32m.\u001b[0m\u001b[32m.\u001b[0m\u001b[32m.\u001b[0m\u001b[32m.\u001b[0m\u001b[32m.\u001b[0m\u001b[32m.\u001b[0m\u001b[32m.\u001b[0m\u001b[32m.\u001b[0m\u001b[32m.\u001b[0m\u001b[32m.\u001b[0m\u001b[32m.\u001b[0m\u001b[32m.\u001b[0m\u001b[32m.\u001b[0m\u001b[32m.\u001b[0m\u001b[32m.\u001b[0m\u001b[32m.\u001b[0m\u001b[32m.\u001b[0m\u001b[32m.\u001b[0m\u001b[32m.\u001b[0m\u001b[32m.\u001b[0m\u001b[32m.\u001b[0m\u001b[32m.\u001b[0m\u001b[32m.\u001b[0m\u001b[32m.\u001b[0m\u001b[32m.\u001b[0m\u001b[32m.\u001b[0m\u001b[32m.\u001b[0m\u001b[32m.\u001b[0m\u001b[32m.\u001b[0m\u001b[32m.\u001b[0m\u001b[32m.\u001b[0m\u001b[32m.\u001b[0m\u001b[32m.\u001b[0m\u001b[32m.\u001b[0m\u001b[32m.\u001b[0m\u001b[32m.\u001b[0m\u001b[32m.\u001b[0m\u001b[32m.\u001b[0m\u001b[32m.\u001b[0m\u001b[32m.\u001b[0m\u001b[32m.\u001b[0m\u001b[32m.\u001b[0m\u001b[32m.\u001b[0m\u001b[32m.\u001b[0m\u001b[32m.\u001b[0m\u001b[32m.\u001b[0m\u001b[32m.\u001b[0m\u001b[32m.\u001b[0m\u001b[32m.\u001b[0m\u001b[32m.\u001b[0m\u001b[32m.\u001b[0m\u001b[32m.\u001b[0m\u001b[32m.\u001b[0m\u001b[32m.\u001b[0m\u001b[32m.\u001b[0m\u001b[32m.\u001b[0m\u001b[32m.\u001b[0m\u001b[32m.\u001b[0m\u001b[32m.\u001b[0m\u001b[32m.\u001b[0m\u001b[32m.\u001b[0m\u001b[32m.\u001b[0m\u001b[32m.\u001b[0m\u001b[32m.\u001b[0m\u001b[32m.\u001b[0m\u001b[32m.\u001b[0m\u001b[32m.\u001b[0m\u001b[32m.\u001b[0m\u001b[32m.\u001b[0m\u001b[32m.\u001b[0m\u001b[32m.\u001b[0m\u001b[32m.\u001b[0m\u001b[32m.\u001b[0m\u001b[32m.\u001b[0m\u001b[32m.\u001b[0m\u001b[32m.\u001b[0m\u001b[32m.\u001b[0m\u001b[32m.\u001b[0m\u001b[32m.\u001b[0m\u001b[32m.\u001b[0m\u001b[32m.\u001b[0m\u001b[32m.\u001b[0m\u001b[32m.\u001b[0m\u001b[32m.\u001b[0m\u001b[32m.\u001b[0m\u001b[32m.\u001b[0m\u001b[32m.\u001b[0m\u001b[32m.\u001b[0m\u001b[32m.\u001b[0m\u001b[32m.\u001b[0m\u001b[32m.\u001b[0m\u001b[32m [ 98%]\n",
      "\u001b[0m\u001b[32m.\u001b[0m\u001b[32m.\u001b[0m\u001b[32m.\u001b[0m\u001b[32m.\u001b[0m\u001b[32m.\u001b[0m\u001b[32m.\u001b[0m\u001b[32m.\u001b[0m\u001b[32m.\u001b[0m\u001b[32m.\u001b[0m\u001b[32m.\u001b[0m\u001b[32m.\u001b[0m\u001b[32m.\u001b[0m\u001b[32m.\u001b[0m\u001b[32m.\u001b[0m\u001b[32m.\u001b[0m\u001b[32m.\u001b[0m\u001b[32m                                                                             [100%]\u001b[0m\n",
      "\n",
      "\u001b[32m====================================== \u001b[32m\u001b[1m1000 passed\u001b[0m\u001b[32m in 18.93s\u001b[0m\u001b[32m ======================================\u001b[0m\n"
     ]
    }
   ],
   "source": [
    "!pytest --no-header test/test_sensory_system.py::test_sensory_system_behavior"
   ]
  },
  {
   "cell_type": "markdown",
   "id": "5329fe9b",
   "metadata": {},
   "source": [
    "### Pruebas Unitarias Sensory_system"
   ]
  },
  {
   "cell_type": "code",
   "execution_count": 239,
   "id": "0ec6e2c1",
   "metadata": {},
   "outputs": [
    {
     "name": "stdout",
     "output_type": "stream",
     "text": [
      "\u001b[1m======================================= test session starts =======================================\u001b[0m\n",
      "collected 1002 items\n",
      "\n",
      "test\\test_sensory_system.py \u001b[32m.\u001b[0m\u001b[32m.\u001b[0m\u001b[32m.\u001b[0m\u001b[32m.\u001b[0m\u001b[32m.\u001b[0m\u001b[32m.\u001b[0m\u001b[32m.\u001b[0m\u001b[32m.\u001b[0m\u001b[32m.\u001b[0m\u001b[32m.\u001b[0m\u001b[32m.\u001b[0m\u001b[32m.\u001b[0m\u001b[32m.\u001b[0m\u001b[32m.\u001b[0m\u001b[32m.\u001b[0m\u001b[32m.\u001b[0m\u001b[32m.\u001b[0m\u001b[32m.\u001b[0m\u001b[32m.\u001b[0m\u001b[32m.\u001b[0m\u001b[32m.\u001b[0m\u001b[32m.\u001b[0m\u001b[32m.\u001b[0m\u001b[32m.\u001b[0m\u001b[32m.\u001b[0m\u001b[32m.\u001b[0m\u001b[32m.\u001b[0m\u001b[32m.\u001b[0m\u001b[32m.\u001b[0m\u001b[32m.\u001b[0m\u001b[32m.\u001b[0m\u001b[32m.\u001b[0m\u001b[32m.\u001b[0m\u001b[32m.\u001b[0m\u001b[32m.\u001b[0m\u001b[32m.\u001b[0m\u001b[32m.\u001b[0m\u001b[32m.\u001b[0m\u001b[32m.\u001b[0m\u001b[32m.\u001b[0m\u001b[32m.\u001b[0m\u001b[32m.\u001b[0m\u001b[32m.\u001b[0m\u001b[32m.\u001b[0m\u001b[32m.\u001b[0m\u001b[32m.\u001b[0m\u001b[32m.\u001b[0m\u001b[32m.\u001b[0m\u001b[32m.\u001b[0m\u001b[32m.\u001b[0m\u001b[32m.\u001b[0m\u001b[32m.\u001b[0m\u001b[32m.\u001b[0m\u001b[32m.\u001b[0m\u001b[32m.\u001b[0m\u001b[32m.\u001b[0m\u001b[32m.\u001b[0m\u001b[32m.\u001b[0m\u001b[32m.\u001b[0m\u001b[32m.\u001b[0m\u001b[32m.\u001b[0m\u001b[32m.\u001b[0m\u001b[32m.\u001b[0m\u001b[32m.\u001b[0m\u001b[32m [  6%]\n",
      "\u001b[0m\u001b[32m.\u001b[0m\u001b[32m.\u001b[0m\u001b[32m.\u001b[0m\u001b[32m.\u001b[0m\u001b[32m.\u001b[0m\u001b[32m.\u001b[0m\u001b[32m.\u001b[0m\u001b[32m.\u001b[0m\u001b[32m.\u001b[0m\u001b[32m.\u001b[0m\u001b[32m.\u001b[0m\u001b[32m.\u001b[0m\u001b[32m.\u001b[0m\u001b[32m.\u001b[0m\u001b[32m.\u001b[0m\u001b[32m.\u001b[0m\u001b[32m.\u001b[0m\u001b[32m.\u001b[0m\u001b[32m.\u001b[0m\u001b[32m.\u001b[0m\u001b[32m.\u001b[0m\u001b[32m.\u001b[0m\u001b[32m.\u001b[0m\u001b[32m.\u001b[0m\u001b[32m.\u001b[0m\u001b[32m.\u001b[0m\u001b[32m.\u001b[0m\u001b[32m.\u001b[0m\u001b[32m.\u001b[0m\u001b[32m.\u001b[0m\u001b[32m.\u001b[0m\u001b[32m.\u001b[0m\u001b[32m.\u001b[0m\u001b[32m.\u001b[0m\u001b[32m.\u001b[0m\u001b[32m.\u001b[0m\u001b[32m.\u001b[0m\u001b[32m.\u001b[0m\u001b[32m.\u001b[0m\u001b[32m.\u001b[0m\u001b[32m.\u001b[0m\u001b[32m.\u001b[0m\u001b[32m.\u001b[0m\u001b[32m.\u001b[0m\u001b[32m.\u001b[0m\u001b[32m.\u001b[0m\u001b[32m.\u001b[0m\u001b[32m.\u001b[0m\u001b[32m.\u001b[0m\u001b[32m.\u001b[0m\u001b[32m.\u001b[0m\u001b[32m.\u001b[0m\u001b[32m.\u001b[0m\u001b[32m.\u001b[0m\u001b[32m.\u001b[0m\u001b[32m.\u001b[0m\u001b[32m.\u001b[0m\u001b[32m.\u001b[0m\u001b[32m.\u001b[0m\u001b[32m.\u001b[0m\u001b[32m.\u001b[0m\u001b[32m.\u001b[0m\u001b[32m.\u001b[0m\u001b[32m.\u001b[0m\u001b[32m.\u001b[0m\u001b[32m.\u001b[0m\u001b[32m.\u001b[0m\u001b[32m.\u001b[0m\u001b[32m.\u001b[0m\u001b[32m.\u001b[0m\u001b[32m.\u001b[0m\u001b[32m.\u001b[0m\u001b[32m.\u001b[0m\u001b[32m.\u001b[0m\u001b[32m.\u001b[0m\u001b[32m.\u001b[0m\u001b[32m.\u001b[0m\u001b[32m.\u001b[0m\u001b[32m.\u001b[0m\u001b[32m.\u001b[0m\u001b[32m.\u001b[0m\u001b[32m.\u001b[0m\u001b[32m.\u001b[0m\u001b[32m.\u001b[0m\u001b[32m.\u001b[0m\u001b[32m.\u001b[0m\u001b[32m.\u001b[0m\u001b[32m.\u001b[0m\u001b[32m.\u001b[0m\u001b[32m.\u001b[0m\u001b[32m.\u001b[0m\u001b[32m.\u001b[0m\u001b[32m [ 15%]\n",
      "\u001b[0m\u001b[32m.\u001b[0m\u001b[32m.\u001b[0m\u001b[32m.\u001b[0m\u001b[32m.\u001b[0m\u001b[32m.\u001b[0m\u001b[32m.\u001b[0m\u001b[32m.\u001b[0m\u001b[32m.\u001b[0m\u001b[32m.\u001b[0m\u001b[32m.\u001b[0m\u001b[32m.\u001b[0m\u001b[32m.\u001b[0m\u001b[32m.\u001b[0m\u001b[32m.\u001b[0m\u001b[32m.\u001b[0m\u001b[32m.\u001b[0m\u001b[32m.\u001b[0m\u001b[32m.\u001b[0m\u001b[32m.\u001b[0m\u001b[32m.\u001b[0m\u001b[32m.\u001b[0m\u001b[32m.\u001b[0m\u001b[32m.\u001b[0m\u001b[32m.\u001b[0m\u001b[32m.\u001b[0m\u001b[32m.\u001b[0m\u001b[32m.\u001b[0m\u001b[32m.\u001b[0m\u001b[32m.\u001b[0m\u001b[32m.\u001b[0m\u001b[32m.\u001b[0m\u001b[32m.\u001b[0m\u001b[32m.\u001b[0m\u001b[32m.\u001b[0m\u001b[32m.\u001b[0m\u001b[32m.\u001b[0m\u001b[32m.\u001b[0m\u001b[32m.\u001b[0m\u001b[32m.\u001b[0m\u001b[32m.\u001b[0m\u001b[32m.\u001b[0m\u001b[32m.\u001b[0m\u001b[32m.\u001b[0m\u001b[32m.\u001b[0m\u001b[32m.\u001b[0m\u001b[32m.\u001b[0m\u001b[32m.\u001b[0m\u001b[32m.\u001b[0m\u001b[32m.\u001b[0m\u001b[32m.\u001b[0m\u001b[32m.\u001b[0m\u001b[32m.\u001b[0m\u001b[32m.\u001b[0m\u001b[32m.\u001b[0m\u001b[32m.\u001b[0m\u001b[32m.\u001b[0m\u001b[32m.\u001b[0m\u001b[32m.\u001b[0m\u001b[32m.\u001b[0m\u001b[32m.\u001b[0m\u001b[32m.\u001b[0m\u001b[32m.\u001b[0m\u001b[32m.\u001b[0m\u001b[32m.\u001b[0m\u001b[32m.\u001b[0m\u001b[32m.\u001b[0m\u001b[32m.\u001b[0m\u001b[32m.\u001b[0m\u001b[32m.\u001b[0m\u001b[32m.\u001b[0m\u001b[32m.\u001b[0m\u001b[32m.\u001b[0m\u001b[32m.\u001b[0m\u001b[32m.\u001b[0m\u001b[32m.\u001b[0m\u001b[32m.\u001b[0m\u001b[32m.\u001b[0m\u001b[32m.\u001b[0m\u001b[32m.\u001b[0m\u001b[32m.\u001b[0m\u001b[32m.\u001b[0m\u001b[32m.\u001b[0m\u001b[32m.\u001b[0m\u001b[32m.\u001b[0m\u001b[32m.\u001b[0m\u001b[32m.\u001b[0m\u001b[32m.\u001b[0m\u001b[32m.\u001b[0m\u001b[32m.\u001b[0m\u001b[32m.\u001b[0m\u001b[32m.\u001b[0m\u001b[32m.\u001b[0m\u001b[32m [ 24%]\n",
      "\u001b[0m\u001b[32m.\u001b[0m\u001b[32m.\u001b[0m\u001b[32m.\u001b[0m\u001b[32m.\u001b[0m\u001b[32m.\u001b[0m\u001b[32m.\u001b[0m\u001b[32m.\u001b[0m\u001b[32m.\u001b[0m\u001b[32m.\u001b[0m\u001b[32m.\u001b[0m\u001b[32m.\u001b[0m\u001b[32m.\u001b[0m\u001b[32m.\u001b[0m\u001b[32m.\u001b[0m\u001b[32m.\u001b[0m\u001b[32m.\u001b[0m\u001b[32m.\u001b[0m\u001b[32m.\u001b[0m\u001b[32m.\u001b[0m\u001b[32m.\u001b[0m\u001b[32m.\u001b[0m\u001b[32m.\u001b[0m\u001b[32m.\u001b[0m\u001b[32m.\u001b[0m\u001b[32m.\u001b[0m\u001b[32m.\u001b[0m\u001b[32m.\u001b[0m\u001b[32m.\u001b[0m\u001b[32m.\u001b[0m\u001b[32m.\u001b[0m\u001b[32m.\u001b[0m\u001b[32m.\u001b[0m\u001b[32m.\u001b[0m\u001b[32m.\u001b[0m\u001b[32m.\u001b[0m\u001b[32m.\u001b[0m\u001b[32m.\u001b[0m\u001b[32m.\u001b[0m\u001b[32m.\u001b[0m\u001b[32m.\u001b[0m\u001b[32m.\u001b[0m\u001b[32m.\u001b[0m\u001b[32m.\u001b[0m\u001b[32m.\u001b[0m\u001b[32m.\u001b[0m\u001b[32m.\u001b[0m\u001b[32m.\u001b[0m\u001b[32m.\u001b[0m\u001b[32m.\u001b[0m\u001b[32m.\u001b[0m\u001b[32m.\u001b[0m\u001b[32m.\u001b[0m\u001b[32m.\u001b[0m\u001b[32m.\u001b[0m\u001b[32m.\u001b[0m\u001b[32m.\u001b[0m\u001b[32m.\u001b[0m\u001b[32m.\u001b[0m\u001b[32m.\u001b[0m\u001b[32m.\u001b[0m\u001b[32m.\u001b[0m\u001b[32m.\u001b[0m\u001b[32m.\u001b[0m\u001b[32m.\u001b[0m\u001b[32m.\u001b[0m\u001b[32m.\u001b[0m\u001b[32m.\u001b[0m\u001b[32m.\u001b[0m\u001b[32m.\u001b[0m\u001b[32m.\u001b[0m\u001b[32m.\u001b[0m\u001b[32m.\u001b[0m\u001b[32m.\u001b[0m\u001b[32m.\u001b[0m\u001b[32m.\u001b[0m\u001b[32m.\u001b[0m\u001b[32m.\u001b[0m\u001b[32m.\u001b[0m\u001b[32m.\u001b[0m\u001b[32m.\u001b[0m\u001b[32m.\u001b[0m\u001b[32m.\u001b[0m\u001b[32m.\u001b[0m\u001b[32m.\u001b[0m\u001b[32m.\u001b[0m\u001b[32m.\u001b[0m\u001b[32m.\u001b[0m\u001b[32m.\u001b[0m\u001b[32m.\u001b[0m\u001b[32m.\u001b[0m\u001b[32m.\u001b[0m\u001b[32m.\u001b[0m\u001b[32m [ 33%]\n",
      "\u001b[0m\u001b[32m.\u001b[0m\u001b[32m.\u001b[0m\u001b[32m.\u001b[0m\u001b[32m.\u001b[0m\u001b[32m.\u001b[0m\u001b[32m.\u001b[0m\u001b[32m.\u001b[0m\u001b[32m.\u001b[0m\u001b[32m.\u001b[0m\u001b[32m.\u001b[0m\u001b[32m.\u001b[0m\u001b[32m.\u001b[0m\u001b[32m.\u001b[0m\u001b[32m.\u001b[0m\u001b[32m.\u001b[0m\u001b[32m.\u001b[0m\u001b[32m.\u001b[0m\u001b[32m.\u001b[0m\u001b[32m.\u001b[0m\u001b[32m.\u001b[0m\u001b[32m.\u001b[0m\u001b[32m.\u001b[0m\u001b[32m.\u001b[0m\u001b[32m.\u001b[0m\u001b[32m.\u001b[0m\u001b[32m.\u001b[0m\u001b[32m.\u001b[0m\u001b[32m.\u001b[0m\u001b[32m.\u001b[0m\u001b[32m.\u001b[0m\u001b[32m.\u001b[0m\u001b[32m.\u001b[0m\u001b[32m.\u001b[0m\u001b[32m.\u001b[0m\u001b[32m.\u001b[0m\u001b[32m.\u001b[0m\u001b[32m.\u001b[0m\u001b[32m.\u001b[0m\u001b[32m.\u001b[0m\u001b[32m.\u001b[0m\u001b[32m.\u001b[0m\u001b[32m.\u001b[0m\u001b[32m.\u001b[0m\u001b[32m.\u001b[0m\u001b[32m.\u001b[0m\u001b[32m.\u001b[0m\u001b[32m.\u001b[0m\u001b[32m.\u001b[0m\u001b[32m.\u001b[0m\u001b[32m.\u001b[0m\u001b[32m.\u001b[0m\u001b[32m.\u001b[0m\u001b[32m.\u001b[0m\u001b[32m.\u001b[0m\u001b[32m.\u001b[0m\u001b[32m.\u001b[0m\u001b[32m.\u001b[0m\u001b[32m.\u001b[0m\u001b[32m.\u001b[0m\u001b[32m.\u001b[0m\u001b[32m.\u001b[0m\u001b[32m.\u001b[0m\u001b[32m.\u001b[0m\u001b[32m.\u001b[0m\u001b[32m.\u001b[0m\u001b[32m.\u001b[0m\u001b[32m.\u001b[0m\u001b[32m.\u001b[0m\u001b[32m.\u001b[0m\u001b[32m.\u001b[0m\u001b[32m.\u001b[0m\u001b[32m.\u001b[0m\u001b[32m.\u001b[0m\u001b[32m.\u001b[0m\u001b[32m.\u001b[0m\u001b[32m.\u001b[0m\u001b[32m.\u001b[0m\u001b[32m.\u001b[0m\u001b[32m.\u001b[0m\u001b[32m.\u001b[0m\u001b[32m.\u001b[0m\u001b[32m.\u001b[0m\u001b[32m.\u001b[0m\u001b[32m.\u001b[0m\u001b[32m.\u001b[0m\u001b[32m.\u001b[0m\u001b[32m.\u001b[0m\u001b[32m.\u001b[0m\u001b[32m.\u001b[0m\u001b[32m.\u001b[0m\u001b[32m.\u001b[0m\u001b[32m.\u001b[0m\u001b[32m [ 43%]\n",
      "\u001b[0m\u001b[32m.\u001b[0m\u001b[32m.\u001b[0m\u001b[32m.\u001b[0m\u001b[32m.\u001b[0m\u001b[32m.\u001b[0m\u001b[32m.\u001b[0m\u001b[32m.\u001b[0m\u001b[32m.\u001b[0m\u001b[32m.\u001b[0m\u001b[32m.\u001b[0m\u001b[32m.\u001b[0m\u001b[32m.\u001b[0m\u001b[32m.\u001b[0m\u001b[32m.\u001b[0m\u001b[32m.\u001b[0m\u001b[32m.\u001b[0m\u001b[32m.\u001b[0m\u001b[32m.\u001b[0m\u001b[32m.\u001b[0m\u001b[32m.\u001b[0m\u001b[32m.\u001b[0m\u001b[32m.\u001b[0m\u001b[32m.\u001b[0m\u001b[32m.\u001b[0m\u001b[32m.\u001b[0m\u001b[32m.\u001b[0m\u001b[32m.\u001b[0m\u001b[32m.\u001b[0m\u001b[32m.\u001b[0m\u001b[32m.\u001b[0m\u001b[32m.\u001b[0m\u001b[32m.\u001b[0m\u001b[32m.\u001b[0m\u001b[32m.\u001b[0m\u001b[32m.\u001b[0m\u001b[32m.\u001b[0m\u001b[32m.\u001b[0m\u001b[32m.\u001b[0m\u001b[32m.\u001b[0m\u001b[32m.\u001b[0m\u001b[32m.\u001b[0m\u001b[32m.\u001b[0m\u001b[32m.\u001b[0m\u001b[32m.\u001b[0m\u001b[32m.\u001b[0m\u001b[32m.\u001b[0m\u001b[32m.\u001b[0m\u001b[32m.\u001b[0m\u001b[32m.\u001b[0m\u001b[32m.\u001b[0m\u001b[32m.\u001b[0m\u001b[32m.\u001b[0m\u001b[32m.\u001b[0m\u001b[32m.\u001b[0m\u001b[32m.\u001b[0m\u001b[32m.\u001b[0m\u001b[32m.\u001b[0m\u001b[32m.\u001b[0m\u001b[32m.\u001b[0m\u001b[32m.\u001b[0m\u001b[32m.\u001b[0m\u001b[32m.\u001b[0m\u001b[32m.\u001b[0m\u001b[32m.\u001b[0m\u001b[32m.\u001b[0m\u001b[32m.\u001b[0m\u001b[32m.\u001b[0m\u001b[32m.\u001b[0m\u001b[32m.\u001b[0m\u001b[32m.\u001b[0m\u001b[32m.\u001b[0m\u001b[32m.\u001b[0m\u001b[32m.\u001b[0m\u001b[32m.\u001b[0m\u001b[32m.\u001b[0m\u001b[32m.\u001b[0m\u001b[32m.\u001b[0m\u001b[32m.\u001b[0m\u001b[32m.\u001b[0m\u001b[32m.\u001b[0m\u001b[32m.\u001b[0m\u001b[32m.\u001b[0m\u001b[32m.\u001b[0m\u001b[32m.\u001b[0m\u001b[32m.\u001b[0m\u001b[32m.\u001b[0m\u001b[32m.\u001b[0m\u001b[32m.\u001b[0m\u001b[32m.\u001b[0m\u001b[32m.\u001b[0m\u001b[32m.\u001b[0m\u001b[32m.\u001b[0m\u001b[32m [ 52%]\n",
      "\u001b[0m\u001b[32m.\u001b[0m\u001b[32m.\u001b[0m\u001b[32m.\u001b[0m\u001b[32m.\u001b[0m\u001b[32m.\u001b[0m\u001b[32m.\u001b[0m\u001b[32m.\u001b[0m\u001b[32m.\u001b[0m\u001b[32m.\u001b[0m\u001b[32m.\u001b[0m\u001b[32m.\u001b[0m\u001b[32m.\u001b[0m\u001b[32m.\u001b[0m\u001b[32m.\u001b[0m\u001b[32m.\u001b[0m\u001b[32m.\u001b[0m\u001b[32m.\u001b[0m\u001b[32m.\u001b[0m\u001b[32m.\u001b[0m\u001b[32m.\u001b[0m\u001b[32m.\u001b[0m\u001b[32m.\u001b[0m\u001b[32m.\u001b[0m\u001b[32m.\u001b[0m\u001b[32m.\u001b[0m\u001b[32m.\u001b[0m\u001b[32m.\u001b[0m\u001b[32m.\u001b[0m\u001b[32m.\u001b[0m\u001b[32m.\u001b[0m\u001b[32m.\u001b[0m\u001b[32m.\u001b[0m\u001b[32m.\u001b[0m\u001b[32m.\u001b[0m\u001b[32m.\u001b[0m\u001b[32m.\u001b[0m\u001b[32m.\u001b[0m\u001b[32m.\u001b[0m\u001b[32m.\u001b[0m\u001b[32m.\u001b[0m\u001b[32m.\u001b[0m\u001b[32m.\u001b[0m\u001b[32m.\u001b[0m\u001b[32m.\u001b[0m\u001b[32m.\u001b[0m\u001b[32m.\u001b[0m\u001b[32m.\u001b[0m\u001b[32m.\u001b[0m\u001b[32m.\u001b[0m\u001b[32m.\u001b[0m\u001b[32m.\u001b[0m\u001b[32m.\u001b[0m\u001b[32m.\u001b[0m\u001b[32m.\u001b[0m\u001b[32m.\u001b[0m\u001b[32m.\u001b[0m\u001b[32m.\u001b[0m\u001b[32m.\u001b[0m\u001b[32m.\u001b[0m\u001b[32m.\u001b[0m\u001b[32m.\u001b[0m\u001b[32m.\u001b[0m\u001b[32m.\u001b[0m\u001b[32m.\u001b[0m\u001b[32m.\u001b[0m\u001b[32m.\u001b[0m\u001b[32m.\u001b[0m\u001b[32m.\u001b[0m\u001b[32m.\u001b[0m\u001b[32m.\u001b[0m\u001b[32m.\u001b[0m\u001b[32m.\u001b[0m\u001b[32m.\u001b[0m\u001b[32m.\u001b[0m\u001b[32m.\u001b[0m\u001b[32m.\u001b[0m\u001b[32m.\u001b[0m\u001b[32m.\u001b[0m\u001b[32m.\u001b[0m\u001b[32m.\u001b[0m\u001b[32m.\u001b[0m\u001b[32m.\u001b[0m\u001b[32m.\u001b[0m\u001b[32m.\u001b[0m\u001b[32m.\u001b[0m\u001b[32m.\u001b[0m\u001b[32m.\u001b[0m\u001b[32m.\u001b[0m\u001b[32m.\u001b[0m\u001b[32m.\u001b[0m\u001b[32m.\u001b[0m\u001b[32m.\u001b[0m\u001b[32m [ 61%]\n",
      "\u001b[0m\u001b[32m.\u001b[0m\u001b[32m.\u001b[0m\u001b[32m.\u001b[0m\u001b[32m.\u001b[0m\u001b[32m.\u001b[0m\u001b[32m.\u001b[0m\u001b[32m.\u001b[0m\u001b[32m.\u001b[0m\u001b[32m.\u001b[0m\u001b[32m.\u001b[0m\u001b[32m.\u001b[0m\u001b[32m.\u001b[0m\u001b[32m.\u001b[0m\u001b[32m.\u001b[0m\u001b[32m.\u001b[0m\u001b[32m.\u001b[0m\u001b[32m.\u001b[0m\u001b[32m.\u001b[0m\u001b[32m.\u001b[0m\u001b[32m.\u001b[0m\u001b[32m.\u001b[0m\u001b[32m.\u001b[0m\u001b[32m.\u001b[0m\u001b[32m.\u001b[0m\u001b[32m.\u001b[0m\u001b[32m.\u001b[0m\u001b[32m.\u001b[0m\u001b[32m.\u001b[0m\u001b[32m.\u001b[0m\u001b[32m.\u001b[0m\u001b[32m.\u001b[0m\u001b[32m.\u001b[0m\u001b[32m.\u001b[0m\u001b[32m.\u001b[0m\u001b[32m.\u001b[0m\u001b[32m.\u001b[0m\u001b[32m.\u001b[0m\u001b[32m.\u001b[0m\u001b[32m.\u001b[0m\u001b[32m.\u001b[0m\u001b[32m.\u001b[0m\u001b[32m.\u001b[0m\u001b[32m.\u001b[0m\u001b[32m.\u001b[0m\u001b[32m.\u001b[0m\u001b[32m.\u001b[0m\u001b[32m.\u001b[0m\u001b[32m.\u001b[0m\u001b[32m.\u001b[0m\u001b[32m.\u001b[0m\u001b[32m.\u001b[0m\u001b[32m.\u001b[0m\u001b[32m.\u001b[0m\u001b[32m.\u001b[0m\u001b[32m.\u001b[0m\u001b[32m.\u001b[0m\u001b[32m.\u001b[0m\u001b[32m.\u001b[0m\u001b[32m.\u001b[0m\u001b[32m.\u001b[0m\u001b[32m.\u001b[0m\u001b[32m.\u001b[0m\u001b[32m.\u001b[0m\u001b[32m.\u001b[0m\u001b[32m.\u001b[0m\u001b[32m.\u001b[0m\u001b[32m.\u001b[0m\u001b[32m.\u001b[0m\u001b[32m.\u001b[0m\u001b[32m.\u001b[0m\u001b[32m.\u001b[0m\u001b[32m.\u001b[0m\u001b[32m.\u001b[0m\u001b[32m.\u001b[0m\u001b[32m.\u001b[0m\u001b[32m.\u001b[0m\u001b[32m.\u001b[0m\u001b[32m.\u001b[0m\u001b[32m.\u001b[0m\u001b[32m.\u001b[0m\u001b[32m.\u001b[0m\u001b[32m.\u001b[0m\u001b[32m.\u001b[0m\u001b[32m.\u001b[0m\u001b[32m.\u001b[0m\u001b[32m.\u001b[0m\u001b[32m.\u001b[0m\u001b[32m.\u001b[0m\u001b[32m.\u001b[0m\u001b[32m.\u001b[0m\u001b[32m.\u001b[0m\u001b[32m.\u001b[0m\u001b[32m [ 70%]\n",
      "\u001b[0m\u001b[32m.\u001b[0m\u001b[32m.\u001b[0m\u001b[32m.\u001b[0m\u001b[32m.\u001b[0m\u001b[32m.\u001b[0m\u001b[32m.\u001b[0m\u001b[32m.\u001b[0m\u001b[32m.\u001b[0m\u001b[32m.\u001b[0m\u001b[32m.\u001b[0m\u001b[32m.\u001b[0m\u001b[32m.\u001b[0m\u001b[32m.\u001b[0m\u001b[32m.\u001b[0m\u001b[32m.\u001b[0m\u001b[32m.\u001b[0m\u001b[32m.\u001b[0m\u001b[32m.\u001b[0m\u001b[32m.\u001b[0m\u001b[32m.\u001b[0m\u001b[32m.\u001b[0m\u001b[32m.\u001b[0m\u001b[32m.\u001b[0m\u001b[32m.\u001b[0m\u001b[32m.\u001b[0m\u001b[32m.\u001b[0m\u001b[32m.\u001b[0m\u001b[32m.\u001b[0m\u001b[32m.\u001b[0m\u001b[32m.\u001b[0m\u001b[32m.\u001b[0m\u001b[32m.\u001b[0m\u001b[32m.\u001b[0m\u001b[32m.\u001b[0m\u001b[32m.\u001b[0m\u001b[32m.\u001b[0m\u001b[32m.\u001b[0m\u001b[32m.\u001b[0m\u001b[32m.\u001b[0m\u001b[32m.\u001b[0m\u001b[32m.\u001b[0m\u001b[32m.\u001b[0m\u001b[32m.\u001b[0m\u001b[32m.\u001b[0m\u001b[32m.\u001b[0m\u001b[32m.\u001b[0m\u001b[32m.\u001b[0m\u001b[32m.\u001b[0m\u001b[32m.\u001b[0m\u001b[32m.\u001b[0m\u001b[32m.\u001b[0m\u001b[32m.\u001b[0m\u001b[32m.\u001b[0m\u001b[32m.\u001b[0m\u001b[32m.\u001b[0m\u001b[32m.\u001b[0m\u001b[32m.\u001b[0m\u001b[32m.\u001b[0m\u001b[32m.\u001b[0m\u001b[32m.\u001b[0m\u001b[32m.\u001b[0m\u001b[32m.\u001b[0m\u001b[32m.\u001b[0m\u001b[32m.\u001b[0m\u001b[32m.\u001b[0m\u001b[32m.\u001b[0m\u001b[32m.\u001b[0m\u001b[32m.\u001b[0m\u001b[32m.\u001b[0m\u001b[32m.\u001b[0m\u001b[32m.\u001b[0m\u001b[32m.\u001b[0m\u001b[32m.\u001b[0m\u001b[32m.\u001b[0m\u001b[32m.\u001b[0m\u001b[32m.\u001b[0m\u001b[32m.\u001b[0m\u001b[32m.\u001b[0m\u001b[32m.\u001b[0m\u001b[32m.\u001b[0m\u001b[32m.\u001b[0m\u001b[32m.\u001b[0m\u001b[32m.\u001b[0m\u001b[32m.\u001b[0m\u001b[32m.\u001b[0m\u001b[32m.\u001b[0m\u001b[32m.\u001b[0m\u001b[32m.\u001b[0m\u001b[32m.\u001b[0m\u001b[32m.\u001b[0m\u001b[32m.\u001b[0m\u001b[32m.\u001b[0m\u001b[32m [ 79%]\n",
      "\u001b[0m\u001b[32m.\u001b[0m\u001b[32m.\u001b[0m\u001b[32m.\u001b[0m\u001b[32m.\u001b[0m\u001b[32m.\u001b[0m\u001b[32m.\u001b[0m\u001b[32m.\u001b[0m\u001b[32m.\u001b[0m\u001b[32m.\u001b[0m\u001b[32m.\u001b[0m\u001b[32m.\u001b[0m\u001b[32m.\u001b[0m\u001b[32m.\u001b[0m\u001b[32m.\u001b[0m\u001b[32m.\u001b[0m\u001b[32m.\u001b[0m\u001b[32m.\u001b[0m\u001b[32m.\u001b[0m\u001b[32m.\u001b[0m\u001b[32m.\u001b[0m\u001b[32m.\u001b[0m\u001b[32m.\u001b[0m\u001b[32m.\u001b[0m\u001b[32m.\u001b[0m\u001b[32m.\u001b[0m\u001b[32m.\u001b[0m\u001b[32m.\u001b[0m\u001b[32m.\u001b[0m\u001b[32m.\u001b[0m\u001b[32m.\u001b[0m\u001b[32m.\u001b[0m\u001b[32m.\u001b[0m\u001b[32m.\u001b[0m\u001b[32m.\u001b[0m\u001b[32m.\u001b[0m\u001b[32m.\u001b[0m\u001b[32m.\u001b[0m\u001b[32m.\u001b[0m\u001b[32m.\u001b[0m\u001b[32m.\u001b[0m\u001b[32m.\u001b[0m\u001b[32m.\u001b[0m\u001b[32m.\u001b[0m\u001b[32m.\u001b[0m\u001b[32m.\u001b[0m\u001b[32m.\u001b[0m\u001b[32m.\u001b[0m\u001b[32m.\u001b[0m\u001b[32m.\u001b[0m\u001b[32m.\u001b[0m\u001b[32m.\u001b[0m\u001b[32m.\u001b[0m\u001b[32m.\u001b[0m\u001b[32m.\u001b[0m\u001b[32m.\u001b[0m\u001b[32m.\u001b[0m\u001b[32m.\u001b[0m\u001b[32m.\u001b[0m\u001b[32m.\u001b[0m\u001b[32m.\u001b[0m\u001b[32m.\u001b[0m\u001b[32m.\u001b[0m\u001b[32m.\u001b[0m\u001b[32m.\u001b[0m\u001b[32m.\u001b[0m\u001b[32m.\u001b[0m\u001b[32m.\u001b[0m\u001b[32m.\u001b[0m\u001b[32m.\u001b[0m\u001b[32m.\u001b[0m\u001b[32m.\u001b[0m\u001b[32m.\u001b[0m\u001b[32m.\u001b[0m\u001b[32m.\u001b[0m\u001b[32m.\u001b[0m\u001b[32m.\u001b[0m\u001b[32m.\u001b[0m\u001b[32m.\u001b[0m\u001b[32m.\u001b[0m\u001b[32m.\u001b[0m\u001b[32m.\u001b[0m\u001b[32m.\u001b[0m\u001b[32m.\u001b[0m\u001b[32m.\u001b[0m\u001b[32m.\u001b[0m\u001b[32m.\u001b[0m\u001b[32m.\u001b[0m\u001b[32m.\u001b[0m\u001b[32m.\u001b[0m\u001b[32m.\u001b[0m\u001b[32m.\u001b[0m\u001b[32m.\u001b[0m\u001b[32m [ 89%]\n",
      "\u001b[0m\u001b[32m.\u001b[0m\u001b[32m.\u001b[0m\u001b[32m.\u001b[0m\u001b[32m.\u001b[0m\u001b[32m.\u001b[0m\u001b[32m.\u001b[0m\u001b[32m.\u001b[0m\u001b[32m.\u001b[0m\u001b[32m.\u001b[0m\u001b[32m.\u001b[0m\u001b[32m.\u001b[0m\u001b[32m.\u001b[0m\u001b[32m.\u001b[0m\u001b[32m.\u001b[0m\u001b[32m.\u001b[0m\u001b[32m.\u001b[0m\u001b[32m.\u001b[0m\u001b[32m.\u001b[0m\u001b[32m.\u001b[0m\u001b[32m.\u001b[0m\u001b[32m.\u001b[0m\u001b[32m.\u001b[0m\u001b[32m.\u001b[0m\u001b[32m.\u001b[0m\u001b[32m.\u001b[0m\u001b[32m.\u001b[0m\u001b[32m.\u001b[0m\u001b[32m.\u001b[0m\u001b[32m.\u001b[0m\u001b[32m.\u001b[0m\u001b[32m.\u001b[0m\u001b[32m.\u001b[0m\u001b[32m.\u001b[0m\u001b[32m.\u001b[0m\u001b[32m.\u001b[0m\u001b[32m.\u001b[0m\u001b[32m.\u001b[0m\u001b[32m.\u001b[0m\u001b[32m.\u001b[0m\u001b[32m.\u001b[0m\u001b[32m.\u001b[0m\u001b[32m.\u001b[0m\u001b[32m.\u001b[0m\u001b[32m.\u001b[0m\u001b[32m.\u001b[0m\u001b[32m.\u001b[0m\u001b[32m.\u001b[0m\u001b[32m.\u001b[0m\u001b[32m.\u001b[0m\u001b[32m.\u001b[0m\u001b[32m.\u001b[0m\u001b[32m.\u001b[0m\u001b[32m.\u001b[0m\u001b[32m.\u001b[0m\u001b[32m.\u001b[0m\u001b[32m.\u001b[0m\u001b[32m.\u001b[0m\u001b[32m.\u001b[0m\u001b[32m.\u001b[0m\u001b[32m.\u001b[0m\u001b[32m.\u001b[0m\u001b[32m.\u001b[0m\u001b[32m.\u001b[0m\u001b[32m.\u001b[0m\u001b[32m.\u001b[0m\u001b[32m.\u001b[0m\u001b[32m.\u001b[0m\u001b[32m.\u001b[0m\u001b[32m.\u001b[0m\u001b[32m.\u001b[0m\u001b[32m.\u001b[0m\u001b[32m.\u001b[0m\u001b[32m.\u001b[0m\u001b[32m.\u001b[0m\u001b[32m.\u001b[0m\u001b[32m.\u001b[0m\u001b[32m.\u001b[0m\u001b[32m.\u001b[0m\u001b[32m.\u001b[0m\u001b[32m.\u001b[0m\u001b[32m.\u001b[0m\u001b[32m.\u001b[0m\u001b[32m.\u001b[0m\u001b[32m.\u001b[0m\u001b[32m.\u001b[0m\u001b[32m.\u001b[0m\u001b[32m.\u001b[0m\u001b[32m.\u001b[0m\u001b[32m.\u001b[0m\u001b[32m.\u001b[0m\u001b[32m.\u001b[0m\u001b[32m.\u001b[0m\u001b[32m [ 98%]\n",
      "\u001b[0m\u001b[32m.\u001b[0m\u001b[32m.\u001b[0m\u001b[32m.\u001b[0m\u001b[32m.\u001b[0m\u001b[32m.\u001b[0m\u001b[32m.\u001b[0m\u001b[32m.\u001b[0m\u001b[32m.\u001b[0m\u001b[32m.\u001b[0m\u001b[32m.\u001b[0m\u001b[32m.\u001b[0m\u001b[32m.\u001b[0m\u001b[32m.\u001b[0m\u001b[32m.\u001b[0m\u001b[32m.\u001b[0m\u001b[32m.\u001b[0m\u001b[32m.\u001b[0m\u001b[32m.\u001b[0m\u001b[32m                                                                           [100%]\u001b[0m\n",
      "\n",
      "\u001b[32m====================================== \u001b[32m\u001b[1m1002 passed\u001b[0m\u001b[32m in 16.13s\u001b[0m\u001b[32m ======================================\u001b[0m\n"
     ]
    }
   ],
   "source": [
    "!pytest --no-header test/test_sensory_system.py"
   ]
  },
  {
   "attachments": {},
   "cell_type": "markdown",
   "id": "5c7f04da",
   "metadata": {},
   "source": [
    "### Prueba clase Sensory_system\n"
   ]
  },
  {
   "cell_type": "code",
   "execution_count": 317,
   "id": "f2043b2f",
   "metadata": {},
   "outputs": [
    {
     "data": {
      "text/html": [
       "<pre style=\"white-space:pre;overflow-x:auto;line-height:normal;font-family:Menlo,'DejaVu Sans Mono',consolas,'Courier New',monospace\"><span style=\"font-weight: bold\">[</span>\n",
       "    <span style=\"font-weight: bold\">[</span><span style=\"color: #008080; text-decoration-color: #008080; font-weight: bold\">4</span>, Bio:+<span style=\"color: #008080; text-decoration-color: #008080; font-weight: bold\">0.75</span> Cul:+<span style=\"color: #008080; text-decoration-color: #008080; font-weight: bold\">0.25</span> Emo:<span style=\"color: #008080; text-decoration-color: #008080; font-weight: bold\">-0.25</span>, <span style=\"color: #008000; text-decoration-color: #008000\">'pattern_sight_a'</span>, <span style=\"color: #008000; text-decoration-color: #008000\">'Tesis'</span>, <span style=\"color: #008000; text-decoration-color: #008000\">'sight'</span><span style=\"font-weight: bold\">]</span>,\n",
       "    <span style=\"font-weight: bold\">[</span><span style=\"color: #008080; text-decoration-color: #008080; font-weight: bold\">4</span>, Bio:+<span style=\"color: #008080; text-decoration-color: #008080; font-weight: bold\">0.0</span> Cul:<span style=\"color: #008080; text-decoration-color: #008080; font-weight: bold\">-0.0</span> Emo:+<span style=\"color: #008080; text-decoration-color: #008080; font-weight: bold\">0.0</span>, <span style=\"color: #008000; text-decoration-color: #008000\">'pattern_hearing_b'</span>, <span style=\"color: #008000; text-decoration-color: #008000\">'Ruido'</span>, <span style=\"color: #008000; text-decoration-color: #008000\">'hearing'</span><span style=\"font-weight: bold\">]</span>,\n",
       "    <span style=\"font-weight: bold\">[</span><span style=\"color: #008080; text-decoration-color: #008080; font-weight: bold\">4</span>, Bio:<span style=\"color: #008080; text-decoration-color: #008080; font-weight: bold\">-0.75</span> Cul:<span style=\"color: #008080; text-decoration-color: #008080; font-weight: bold\">-0.75</span> Emo:+<span style=\"color: #008080; text-decoration-color: #008080; font-weight: bold\">0.0</span>, <span style=\"color: #008000; text-decoration-color: #008000\">'pattern_smell_c'</span>, <span style=\"color: #008000; text-decoration-color: #008000\">'Cafe_olor'</span>, <span style=\"color: #008000; text-decoration-color: #008000\">'smell'</span><span style=\"font-weight: bold\">]</span>,\n",
       "    <span style=\"font-weight: bold\">[</span><span style=\"color: #008080; text-decoration-color: #008080; font-weight: bold\">4</span>, Bio:<span style=\"color: #008080; text-decoration-color: #008080; font-weight: bold\">-0.75</span> Cul:+<span style=\"color: #008080; text-decoration-color: #008080; font-weight: bold\">0.75</span> Emo:+<span style=\"color: #008080; text-decoration-color: #008080; font-weight: bold\">0.0</span>, <span style=\"color: #008000; text-decoration-color: #008000\">'pattern_taste_c'</span>, <span style=\"color: #008000; text-decoration-color: #008000\">'Cafe_taste'</span>, <span style=\"color: #008000; text-decoration-color: #008000\">'taste'</span><span style=\"font-weight: bold\">]</span>,\n",
       "    <span style=\"font-weight: bold\">[</span><span style=\"color: #008080; text-decoration-color: #008080; font-weight: bold\">4</span>, Bio:+<span style=\"color: #008080; text-decoration-color: #008080; font-weight: bold\">0.0</span> Cul:<span style=\"color: #008080; text-decoration-color: #008080; font-weight: bold\">-0.25</span> Emo:+<span style=\"color: #008080; text-decoration-color: #008080; font-weight: bold\">0.25</span>, <span style=\"color: #008000; text-decoration-color: #008000\">'pattern_touch_a'</span>, <span style=\"color: #008000; text-decoration-color: #008000\">'Textura_silla'</span>, <span style=\"color: #008000; text-decoration-color: #008000\">'touch'</span><span style=\"font-weight: bold\">]</span>,\n",
       "    <span style=\"font-weight: bold\">[</span><span style=\"color: #008080; text-decoration-color: #008080; font-weight: bold\">4</span>, Bio:<span style=\"color: #008080; text-decoration-color: #008080; font-weight: bold\">-0.75</span> Cul:<span style=\"color: #008080; text-decoration-color: #008080; font-weight: bold\">-0.0</span> Emo:<span style=\"color: #008080; text-decoration-color: #008080; font-weight: bold\">-0.25</span>, <span style=\"color: #008000; text-decoration-color: #008000\">'pattern_body_b'</span>, <span style=\"color: #008000; text-decoration-color: #008000\">'Neutro'</span>, <span style=\"color: #008000; text-decoration-color: #008000\">'body'</span><span style=\"font-weight: bold\">]</span>,\n",
       "    <span style=\"font-weight: bold\">[</span><span style=\"color: #008080; text-decoration-color: #008080; font-weight: bold\">4</span>, Bio:<span style=\"color: #008080; text-decoration-color: #008080; font-weight: bold\">-0.25</span> Cul:<span style=\"color: #008080; text-decoration-color: #008080; font-weight: bold\">-0.75</span> Emo:<span style=\"color: #008080; text-decoration-color: #008080; font-weight: bold\">-0.0</span>, <span style=\"color: #008000; text-decoration-color: #008000\">'pattern_time_c'</span>, <span style=\"color: #008000; text-decoration-color: #008000\">'Neutro'</span>, <span style=\"color: #008000; text-decoration-color: #008000\">'time'</span><span style=\"font-weight: bold\">]</span>\n",
       "<span style=\"font-weight: bold\">]</span>\n",
       "</pre>\n"
      ],
      "text/plain": [
       "\u001b[1m[\u001b[0m\n",
       "    \u001b[1m[\u001b[0m\u001b[1;36m4\u001b[0m, Bio:+\u001b[1;36m0.75\u001b[0m Cul:+\u001b[1;36m0.25\u001b[0m Emo:\u001b[1;36m-0.25\u001b[0m, \u001b[32m'pattern_sight_a'\u001b[0m, \u001b[32m'Tesis'\u001b[0m, \u001b[32m'sight'\u001b[0m\u001b[1m]\u001b[0m,\n",
       "    \u001b[1m[\u001b[0m\u001b[1;36m4\u001b[0m, Bio:+\u001b[1;36m0.0\u001b[0m Cul:\u001b[1;36m-0.0\u001b[0m Emo:+\u001b[1;36m0.0\u001b[0m, \u001b[32m'pattern_hearing_b'\u001b[0m, \u001b[32m'Ruido'\u001b[0m, \u001b[32m'hearing'\u001b[0m\u001b[1m]\u001b[0m,\n",
       "    \u001b[1m[\u001b[0m\u001b[1;36m4\u001b[0m, Bio:\u001b[1;36m-0.75\u001b[0m Cul:\u001b[1;36m-0.75\u001b[0m Emo:+\u001b[1;36m0.0\u001b[0m, \u001b[32m'pattern_smell_c'\u001b[0m, \u001b[32m'Cafe_olor'\u001b[0m, \u001b[32m'smell'\u001b[0m\u001b[1m]\u001b[0m,\n",
       "    \u001b[1m[\u001b[0m\u001b[1;36m4\u001b[0m, Bio:\u001b[1;36m-0.75\u001b[0m Cul:+\u001b[1;36m0.75\u001b[0m Emo:+\u001b[1;36m0.0\u001b[0m, \u001b[32m'pattern_taste_c'\u001b[0m, \u001b[32m'Cafe_taste'\u001b[0m, \u001b[32m'taste'\u001b[0m\u001b[1m]\u001b[0m,\n",
       "    \u001b[1m[\u001b[0m\u001b[1;36m4\u001b[0m, Bio:+\u001b[1;36m0.0\u001b[0m Cul:\u001b[1;36m-0.25\u001b[0m Emo:+\u001b[1;36m0.25\u001b[0m, \u001b[32m'pattern_touch_a'\u001b[0m, \u001b[32m'Textura_silla'\u001b[0m, \u001b[32m'touch'\u001b[0m\u001b[1m]\u001b[0m,\n",
       "    \u001b[1m[\u001b[0m\u001b[1;36m4\u001b[0m, Bio:\u001b[1;36m-0.75\u001b[0m Cul:\u001b[1;36m-0.0\u001b[0m Emo:\u001b[1;36m-0.25\u001b[0m, \u001b[32m'pattern_body_b'\u001b[0m, \u001b[32m'Neutro'\u001b[0m, \u001b[32m'body'\u001b[0m\u001b[1m]\u001b[0m,\n",
       "    \u001b[1m[\u001b[0m\u001b[1;36m4\u001b[0m, Bio:\u001b[1;36m-0.25\u001b[0m Cul:\u001b[1;36m-0.75\u001b[0m Emo:\u001b[1;36m-0.0\u001b[0m, \u001b[32m'pattern_time_c'\u001b[0m, \u001b[32m'Neutro'\u001b[0m, \u001b[32m'time'\u001b[0m\u001b[1m]\u001b[0m\n",
       "\u001b[1m]\u001b[0m\n"
      ]
     },
     "metadata": {},
     "output_type": "display_data"
    },
    {
     "data": {
      "text/html": [
       "<pre style=\"white-space:pre;overflow-x:auto;line-height:normal;font-family:Menlo,'DejaVu Sans Mono',consolas,'Courier New',monospace\"><span style=\"font-weight: bold\">[</span>\n",
       "    <span style=\"font-weight: bold\">{</span>\n",
       "        <span style=\"color: #008000; text-decoration-color: #008000\">'pattern_sight_a'</span>: <span style=\"font-weight: bold\">[</span><span style=\"color: #008080; text-decoration-color: #008080; font-weight: bold\">0</span>, Bio:+<span style=\"color: #008080; text-decoration-color: #008080; font-weight: bold\">0.75</span> Cul:+<span style=\"color: #008080; text-decoration-color: #008080; font-weight: bold\">0.25</span> Emo:<span style=\"color: #008080; text-decoration-color: #008080; font-weight: bold\">-0.25</span>, <span style=\"color: #008000; text-decoration-color: #008000\">''</span>, <span style=\"color: #008000; text-decoration-color: #008000\">'pattern_sight_a'</span><span style=\"font-weight: bold\">]</span>,\n",
       "        <span style=\"color: #008000; text-decoration-color: #008000\">'pattern_sight_b'</span>: <span style=\"font-weight: bold\">[</span><span style=\"color: #008080; text-decoration-color: #008080; font-weight: bold\">1</span>, Bio:+<span style=\"color: #008080; text-decoration-color: #008080; font-weight: bold\">0.0</span> Cul:<span style=\"color: #008080; text-decoration-color: #008080; font-weight: bold\">-0.5</span> Emo:<span style=\"color: #008080; text-decoration-color: #008080; font-weight: bold\">-0.5</span>, <span style=\"color: #008000; text-decoration-color: #008000\">''</span>, <span style=\"color: #008000; text-decoration-color: #008000\">'pattern_sight_b'</span><span style=\"font-weight: bold\">]</span>,\n",
       "        <span style=\"color: #008000; text-decoration-color: #008000\">'pattern_sight_c'</span>: <span style=\"font-weight: bold\">[</span><span style=\"color: #008080; text-decoration-color: #008080; font-weight: bold\">2</span>, Bio:+<span style=\"color: #008080; text-decoration-color: #008080; font-weight: bold\">0.0</span> Cul:<span style=\"color: #008080; text-decoration-color: #008080; font-weight: bold\">-0.0</span> Emo:<span style=\"color: #008080; text-decoration-color: #008080; font-weight: bold\">-0.0</span>, <span style=\"color: #008000; text-decoration-color: #008000\">''</span>, <span style=\"color: #008000; text-decoration-color: #008000\">'pattern_sight_c'</span><span style=\"font-weight: bold\">]</span>,\n",
       "        <span style=\"color: #008000; text-decoration-color: #008000\">'pattern_sight_d'</span>: <span style=\"font-weight: bold\">[</span><span style=\"color: #008080; text-decoration-color: #008080; font-weight: bold\">3</span>, Bio:<span style=\"color: #008080; text-decoration-color: #008080; font-weight: bold\">-0.5</span> Cul:<span style=\"color: #008080; text-decoration-color: #008080; font-weight: bold\">-0.5</span> Emo:+<span style=\"color: #008080; text-decoration-color: #008080; font-weight: bold\">0.0</span>, <span style=\"color: #008000; text-decoration-color: #008000\">''</span>, <span style=\"color: #008000; text-decoration-color: #008000\">'pattern_sight_d'</span><span style=\"font-weight: bold\">]</span>,\n",
       "        <span style=\"color: #008000; text-decoration-color: #008000\">'Tesis'</span>: <span style=\"font-weight: bold\">[</span><span style=\"color: #008080; text-decoration-color: #008080; font-weight: bold\">4</span>, Bio:+<span style=\"color: #008080; text-decoration-color: #008080; font-weight: bold\">0.5</span> Cul:+<span style=\"color: #008080; text-decoration-color: #008080; font-weight: bold\">0.0</span> Emo:+<span style=\"color: #008080; text-decoration-color: #008080; font-weight: bold\">0.25</span>, <span style=\"color: #008000; text-decoration-color: #008000\">'pattern_sight_a'</span>, <span style=\"color: #008000; text-decoration-color: #008000\">'Tesis'</span><span style=\"font-weight: bold\">]</span>,\n",
       "        <span style=\"color: #008000; text-decoration-color: #008000\">'Tesis2'</span>: <span style=\"font-weight: bold\">[</span><span style=\"color: #008080; text-decoration-color: #008080; font-weight: bold\">5</span>, Bio:+<span style=\"color: #008080; text-decoration-color: #008080; font-weight: bold\">0.5</span> Cul:+<span style=\"color: #008080; text-decoration-color: #008080; font-weight: bold\">0.0</span> Emo:+<span style=\"color: #008080; text-decoration-color: #008080; font-weight: bold\">0.5</span>, <span style=\"color: #008000; text-decoration-color: #008000\">'Tesis'</span>, <span style=\"color: #008000; text-decoration-color: #008000\">'Tesis2'</span><span style=\"font-weight: bold\">]</span>,\n",
       "        <span style=\"color: #008000; text-decoration-color: #008000\">'Tesis3'</span>: <span style=\"font-weight: bold\">[</span><span style=\"color: #008080; text-decoration-color: #008080; font-weight: bold\">6</span>, Bio:+<span style=\"color: #008080; text-decoration-color: #008080; font-weight: bold\">0.5</span> Cul:+<span style=\"color: #008080; text-decoration-color: #008080; font-weight: bold\">0.0</span> Emo:+<span style=\"color: #008080; text-decoration-color: #008080; font-weight: bold\">0.5</span>, <span style=\"color: #008000; text-decoration-color: #008000\">'Tesis'</span>, <span style=\"color: #008000; text-decoration-color: #008000\">'Tesis3'</span><span style=\"font-weight: bold\">]</span>\n",
       "    <span style=\"font-weight: bold\">}</span>,\n",
       "    <span style=\"font-weight: bold\">{</span>\n",
       "        <span style=\"color: #008000; text-decoration-color: #008000\">'pattern_hearing_a'</span>: <span style=\"font-weight: bold\">[</span><span style=\"color: #008080; text-decoration-color: #008080; font-weight: bold\">0</span>, Bio:<span style=\"color: #008080; text-decoration-color: #008080; font-weight: bold\">-0.25</span> Cul:<span style=\"color: #008080; text-decoration-color: #008080; font-weight: bold\">-0.5</span> Emo:+<span style=\"color: #008080; text-decoration-color: #008080; font-weight: bold\">0.25</span>, <span style=\"color: #008000; text-decoration-color: #008000\">''</span>, <span style=\"color: #008000; text-decoration-color: #008000\">'pattern_hearing_a'</span><span style=\"font-weight: bold\">]</span>,\n",
       "        <span style=\"color: #008000; text-decoration-color: #008000\">'pattern_hearing_b'</span>: <span style=\"font-weight: bold\">[</span><span style=\"color: #008080; text-decoration-color: #008080; font-weight: bold\">1</span>, Bio:+<span style=\"color: #008080; text-decoration-color: #008080; font-weight: bold\">0.0</span> Cul:<span style=\"color: #008080; text-decoration-color: #008080; font-weight: bold\">-0.0</span> Emo:+<span style=\"color: #008080; text-decoration-color: #008080; font-weight: bold\">0.0</span>, <span style=\"color: #008000; text-decoration-color: #008000\">''</span>, <span style=\"color: #008000; text-decoration-color: #008000\">'pattern_hearing_b'</span><span style=\"font-weight: bold\">]</span>,\n",
       "        <span style=\"color: #008000; text-decoration-color: #008000\">'pattern_hearing_c'</span>: <span style=\"font-weight: bold\">[</span><span style=\"color: #008080; text-decoration-color: #008080; font-weight: bold\">2</span>, Bio:<span style=\"color: #008080; text-decoration-color: #008080; font-weight: bold\">-0.5</span> Cul:<span style=\"color: #008080; text-decoration-color: #008080; font-weight: bold\">-0.0</span> Emo:<span style=\"color: #008080; text-decoration-color: #008080; font-weight: bold\">-0.0</span>, <span style=\"color: #008000; text-decoration-color: #008000\">''</span>, <span style=\"color: #008000; text-decoration-color: #008000\">'pattern_hearing_c'</span><span style=\"font-weight: bold\">]</span>,\n",
       "        <span style=\"color: #008000; text-decoration-color: #008000\">'pattern_hearing_d'</span>: <span style=\"font-weight: bold\">[</span><span style=\"color: #008080; text-decoration-color: #008080; font-weight: bold\">3</span>, Bio:+<span style=\"color: #008080; text-decoration-color: #008080; font-weight: bold\">0.0</span> Cul:+<span style=\"color: #008080; text-decoration-color: #008080; font-weight: bold\">0.25</span> Emo:<span style=\"color: #008080; text-decoration-color: #008080; font-weight: bold\">-0.0</span>, <span style=\"color: #008000; text-decoration-color: #008000\">''</span>, <span style=\"color: #008000; text-decoration-color: #008000\">'pattern_hearing_d'</span><span style=\"font-weight: bold\">]</span>,\n",
       "        <span style=\"color: #008000; text-decoration-color: #008000\">'Ruido'</span>: <span style=\"font-weight: bold\">[</span><span style=\"color: #008080; text-decoration-color: #008080; font-weight: bold\">4</span>, Bio:+<span style=\"color: #008080; text-decoration-color: #008080; font-weight: bold\">0.25</span> Cul:+<span style=\"color: #008080; text-decoration-color: #008080; font-weight: bold\">0.0</span> Emo:+<span style=\"color: #008080; text-decoration-color: #008080; font-weight: bold\">0.0</span>, <span style=\"color: #008000; text-decoration-color: #008000\">'pattern_hearing_b'</span>, <span style=\"color: #008000; text-decoration-color: #008000\">'Ruido'</span><span style=\"font-weight: bold\">]</span>,\n",
       "        <span style=\"color: #008000; text-decoration-color: #008000\">'Musica'</span>: <span style=\"font-weight: bold\">[</span><span style=\"color: #008080; text-decoration-color: #008080; font-weight: bold\">5</span>, Bio:+<span style=\"color: #008080; text-decoration-color: #008080; font-weight: bold\">0.25</span> Cul:+<span style=\"color: #008080; text-decoration-color: #008080; font-weight: bold\">0.0</span> Emo:+<span style=\"color: #008080; text-decoration-color: #008080; font-weight: bold\">0.0</span>, <span style=\"color: #008000; text-decoration-color: #008000\">'pattern_hearing_b'</span>, <span style=\"color: #008000; text-decoration-color: #008000\">'Musica'</span><span style=\"font-weight: bold\">]</span>,\n",
       "        <span style=\"color: #008000; text-decoration-color: #008000\">'Salsa'</span>: <span style=\"font-weight: bold\">[</span><span style=\"color: #008080; text-decoration-color: #008080; font-weight: bold\">6</span>, Bio:+<span style=\"color: #008080; text-decoration-color: #008080; font-weight: bold\">0.5</span> Cul:+<span style=\"color: #008080; text-decoration-color: #008080; font-weight: bold\">0.0</span> Emo:+<span style=\"color: #008080; text-decoration-color: #008080; font-weight: bold\">0.0</span>, <span style=\"color: #008000; text-decoration-color: #008000\">'Musica'</span>, <span style=\"color: #008000; text-decoration-color: #008000\">'Salsa'</span><span style=\"font-weight: bold\">]</span>\n",
       "    <span style=\"font-weight: bold\">}</span>,\n",
       "    <span style=\"font-weight: bold\">{</span>\n",
       "        <span style=\"color: #008000; text-decoration-color: #008000\">'pattern_smell_a'</span>: <span style=\"font-weight: bold\">[</span><span style=\"color: #008080; text-decoration-color: #008080; font-weight: bold\">0</span>, Bio:+<span style=\"color: #008080; text-decoration-color: #008080; font-weight: bold\">0.75</span> Cul:+<span style=\"color: #008080; text-decoration-color: #008080; font-weight: bold\">0.0</span> Emo:+<span style=\"color: #008080; text-decoration-color: #008080; font-weight: bold\">0.5</span>, <span style=\"color: #008000; text-decoration-color: #008000\">''</span>, <span style=\"color: #008000; text-decoration-color: #008000\">'pattern_smell_a'</span><span style=\"font-weight: bold\">]</span>,\n",
       "        <span style=\"color: #008000; text-decoration-color: #008000\">'pattern_smell_b'</span>: <span style=\"font-weight: bold\">[</span><span style=\"color: #008080; text-decoration-color: #008080; font-weight: bold\">1</span>, Bio:<span style=\"color: #008080; text-decoration-color: #008080; font-weight: bold\">-0.5</span> Cul:<span style=\"color: #008080; text-decoration-color: #008080; font-weight: bold\">-0.0</span> Emo:<span style=\"color: #008080; text-decoration-color: #008080; font-weight: bold\">-0.75</span>, <span style=\"color: #008000; text-decoration-color: #008000\">''</span>, <span style=\"color: #008000; text-decoration-color: #008000\">'pattern_smell_b'</span><span style=\"font-weight: bold\">]</span>,\n",
       "        <span style=\"color: #008000; text-decoration-color: #008000\">'pattern_smell_c'</span>: <span style=\"font-weight: bold\">[</span><span style=\"color: #008080; text-decoration-color: #008080; font-weight: bold\">2</span>, Bio:<span style=\"color: #008080; text-decoration-color: #008080; font-weight: bold\">-0.75</span> Cul:<span style=\"color: #008080; text-decoration-color: #008080; font-weight: bold\">-0.75</span> Emo:+<span style=\"color: #008080; text-decoration-color: #008080; font-weight: bold\">0.0</span>, <span style=\"color: #008000; text-decoration-color: #008000\">''</span>, <span style=\"color: #008000; text-decoration-color: #008000\">'pattern_smell_c'</span><span style=\"font-weight: bold\">]</span>,\n",
       "        <span style=\"color: #008000; text-decoration-color: #008000\">'pattern_smell_d'</span>: <span style=\"font-weight: bold\">[</span><span style=\"color: #008080; text-decoration-color: #008080; font-weight: bold\">3</span>, Bio:<span style=\"color: #008080; text-decoration-color: #008080; font-weight: bold\">-0.0</span> Cul:+<span style=\"color: #008080; text-decoration-color: #008080; font-weight: bold\">0.0</span> Emo:+<span style=\"color: #008080; text-decoration-color: #008080; font-weight: bold\">0.75</span>, <span style=\"color: #008000; text-decoration-color: #008000\">''</span>, <span style=\"color: #008000; text-decoration-color: #008000\">'pattern_smell_d'</span><span style=\"font-weight: bold\">]</span>,\n",
       "        <span style=\"color: #008000; text-decoration-color: #008000\">'Cafe_olor'</span>: <span style=\"font-weight: bold\">[</span><span style=\"color: #008080; text-decoration-color: #008080; font-weight: bold\">4</span>, Bio:<span style=\"color: #008080; text-decoration-color: #008080; font-weight: bold\">-0.5</span> Cul:<span style=\"color: #008080; text-decoration-color: #008080; font-weight: bold\">-0.25</span> Emo:+<span style=\"color: #008080; text-decoration-color: #008080; font-weight: bold\">0.25</span>, <span style=\"color: #008000; text-decoration-color: #008000\">'pattern_smell_c'</span>, <span style=\"color: #008000; text-decoration-color: #008000\">'Cafe_olor'</span><span style=\"font-weight: bold\">]</span>,\n",
       "        <span style=\"color: #008000; text-decoration-color: #008000\">'cafe_olor'</span>: <span style=\"font-weight: bold\">[</span><span style=\"color: #008080; text-decoration-color: #008080; font-weight: bold\">5</span>, Bio:<span style=\"color: #008080; text-decoration-color: #008080; font-weight: bold\">-0.5</span> Cul:<span style=\"color: #008080; text-decoration-color: #008080; font-weight: bold\">-0.25</span> Emo:+<span style=\"color: #008080; text-decoration-color: #008080; font-weight: bold\">0.25</span>, <span style=\"color: #008000; text-decoration-color: #008000\">'pattern_smell_c'</span>, <span style=\"color: #008000; text-decoration-color: #008000\">'cafe_olor'</span><span style=\"font-weight: bold\">]</span>,\n",
       "        <span style=\"color: #008000; text-decoration-color: #008000\">'azucar'</span>: <span style=\"font-weight: bold\">[</span><span style=\"color: #008080; text-decoration-color: #008080; font-weight: bold\">6</span>, Bio:<span style=\"color: #008080; text-decoration-color: #008080; font-weight: bold\">-0.5</span> Cul:+<span style=\"color: #008080; text-decoration-color: #008080; font-weight: bold\">0.0</span> Emo:+<span style=\"color: #008080; text-decoration-color: #008080; font-weight: bold\">0.5</span>, <span style=\"color: #008000; text-decoration-color: #008000\">'cafe_olor'</span>, <span style=\"color: #008000; text-decoration-color: #008000\">'azucar'</span><span style=\"font-weight: bold\">]</span>\n",
       "    <span style=\"font-weight: bold\">}</span>,\n",
       "    <span style=\"font-weight: bold\">{</span>\n",
       "        <span style=\"color: #008000; text-decoration-color: #008000\">'pattern_taste_a'</span>: <span style=\"font-weight: bold\">[</span><span style=\"color: #008080; text-decoration-color: #008080; font-weight: bold\">0</span>, Bio:<span style=\"color: #008080; text-decoration-color: #008080; font-weight: bold\">-0.75</span> Cul:<span style=\"color: #008080; text-decoration-color: #008080; font-weight: bold\">-0.5</span> Emo:+<span style=\"color: #008080; text-decoration-color: #008080; font-weight: bold\">0.0</span>, <span style=\"color: #008000; text-decoration-color: #008000\">''</span>, <span style=\"color: #008000; text-decoration-color: #008000\">'pattern_taste_a'</span><span style=\"font-weight: bold\">]</span>,\n",
       "        <span style=\"color: #008000; text-decoration-color: #008000\">'pattern_taste_b'</span>: <span style=\"font-weight: bold\">[</span><span style=\"color: #008080; text-decoration-color: #008080; font-weight: bold\">1</span>, Bio:<span style=\"color: #008080; text-decoration-color: #008080; font-weight: bold\">-0.75</span> Cul:+<span style=\"color: #008080; text-decoration-color: #008080; font-weight: bold\">0.25</span> Emo:<span style=\"color: #008080; text-decoration-color: #008080; font-weight: bold\">-0.75</span>, <span style=\"color: #008000; text-decoration-color: #008000\">''</span>, <span style=\"color: #008000; text-decoration-color: #008000\">'pattern_taste_b'</span><span style=\"font-weight: bold\">]</span>,\n",
       "        <span style=\"color: #008000; text-decoration-color: #008000\">'pattern_taste_c'</span>: <span style=\"font-weight: bold\">[</span><span style=\"color: #008080; text-decoration-color: #008080; font-weight: bold\">2</span>, Bio:<span style=\"color: #008080; text-decoration-color: #008080; font-weight: bold\">-0.75</span> Cul:+<span style=\"color: #008080; text-decoration-color: #008080; font-weight: bold\">0.75</span> Emo:+<span style=\"color: #008080; text-decoration-color: #008080; font-weight: bold\">0.0</span>, <span style=\"color: #008000; text-decoration-color: #008000\">''</span>, <span style=\"color: #008000; text-decoration-color: #008000\">'pattern_taste_c'</span><span style=\"font-weight: bold\">]</span>,\n",
       "        <span style=\"color: #008000; text-decoration-color: #008000\">'pattern_taste_d'</span>: <span style=\"font-weight: bold\">[</span><span style=\"color: #008080; text-decoration-color: #008080; font-weight: bold\">3</span>, Bio:<span style=\"color: #008080; text-decoration-color: #008080; font-weight: bold\">-0.25</span> Cul:<span style=\"color: #008080; text-decoration-color: #008080; font-weight: bold\">-0.75</span> Emo:+<span style=\"color: #008080; text-decoration-color: #008080; font-weight: bold\">0.0</span>, <span style=\"color: #008000; text-decoration-color: #008000\">''</span>, <span style=\"color: #008000; text-decoration-color: #008000\">'pattern_taste_d'</span><span style=\"font-weight: bold\">]</span>,\n",
       "        <span style=\"color: #008000; text-decoration-color: #008000\">'Cafe_taste'</span>: <span style=\"font-weight: bold\">[</span><span style=\"color: #008080; text-decoration-color: #008080; font-weight: bold\">4</span>, Bio:<span style=\"color: #008080; text-decoration-color: #008080; font-weight: bold\">-0.75</span> Cul:+<span style=\"color: #008080; text-decoration-color: #008080; font-weight: bold\">0.25</span> Emo:<span style=\"color: #008080; text-decoration-color: #008080; font-weight: bold\">-0.25</span>, <span style=\"color: #008000; text-decoration-color: #008000\">'pattern_taste_c'</span>, <span style=\"color: #008000; text-decoration-color: #008000\">'Cafe_taste'</span><span style=\"font-weight: bold\">]</span>,\n",
       "        <span style=\"color: #008000; text-decoration-color: #008000\">'Azufre'</span>: <span style=\"font-weight: bold\">[</span><span style=\"color: #008080; text-decoration-color: #008080; font-weight: bold\">5</span>, Bio:<span style=\"color: #008080; text-decoration-color: #008080; font-weight: bold\">-0.5</span> Cul:<span style=\"color: #008080; text-decoration-color: #008080; font-weight: bold\">-0.5</span> Emo:<span style=\"color: #008080; text-decoration-color: #008080; font-weight: bold\">-0.25</span>, <span style=\"color: #008000; text-decoration-color: #008000\">'pattern_taste_d'</span>, <span style=\"color: #008000; text-decoration-color: #008000\">'Azufre'</span><span style=\"font-weight: bold\">]</span>\n",
       "    <span style=\"font-weight: bold\">}</span>,\n",
       "    <span style=\"font-weight: bold\">{</span>\n",
       "        <span style=\"color: #008000; text-decoration-color: #008000\">'pattern_touch_a'</span>: <span style=\"font-weight: bold\">[</span><span style=\"color: #008080; text-decoration-color: #008080; font-weight: bold\">0</span>, Bio:+<span style=\"color: #008080; text-decoration-color: #008080; font-weight: bold\">0.0</span> Cul:<span style=\"color: #008080; text-decoration-color: #008080; font-weight: bold\">-0.25</span> Emo:+<span style=\"color: #008080; text-decoration-color: #008080; font-weight: bold\">0.25</span>, <span style=\"color: #008000; text-decoration-color: #008000\">''</span>, <span style=\"color: #008000; text-decoration-color: #008000\">'pattern_touch_a'</span><span style=\"font-weight: bold\">]</span>,\n",
       "        <span style=\"color: #008000; text-decoration-color: #008000\">'pattern_touch_b'</span>: <span style=\"font-weight: bold\">[</span><span style=\"color: #008080; text-decoration-color: #008080; font-weight: bold\">1</span>, Bio:<span style=\"color: #008080; text-decoration-color: #008080; font-weight: bold\">-0.75</span> Cul:+<span style=\"color: #008080; text-decoration-color: #008080; font-weight: bold\">0.0</span> Emo:<span style=\"color: #008080; text-decoration-color: #008080; font-weight: bold\">-0.75</span>, <span style=\"color: #008000; text-decoration-color: #008000\">''</span>, <span style=\"color: #008000; text-decoration-color: #008000\">'pattern_touch_b'</span><span style=\"font-weight: bold\">]</span>,\n",
       "        <span style=\"color: #008000; text-decoration-color: #008000\">'pattern_touch_c'</span>: <span style=\"font-weight: bold\">[</span><span style=\"color: #008080; text-decoration-color: #008080; font-weight: bold\">2</span>, Bio:+<span style=\"color: #008080; text-decoration-color: #008080; font-weight: bold\">0.0</span> Cul:+<span style=\"color: #008080; text-decoration-color: #008080; font-weight: bold\">0.5</span> Emo:<span style=\"color: #008080; text-decoration-color: #008080; font-weight: bold\">-0.0</span>, <span style=\"color: #008000; text-decoration-color: #008000\">''</span>, <span style=\"color: #008000; text-decoration-color: #008000\">'pattern_touch_c'</span><span style=\"font-weight: bold\">]</span>,\n",
       "        <span style=\"color: #008000; text-decoration-color: #008000\">'pattern_touch_d'</span>: <span style=\"font-weight: bold\">[</span><span style=\"color: #008080; text-decoration-color: #008080; font-weight: bold\">3</span>, Bio:<span style=\"color: #008080; text-decoration-color: #008080; font-weight: bold\">-0.5</span> Cul:+<span style=\"color: #008080; text-decoration-color: #008080; font-weight: bold\">0.75</span> Emo:+<span style=\"color: #008080; text-decoration-color: #008080; font-weight: bold\">0.0</span>, <span style=\"color: #008000; text-decoration-color: #008000\">''</span>, <span style=\"color: #008000; text-decoration-color: #008000\">'pattern_touch_d'</span><span style=\"font-weight: bold\">]</span>,\n",
       "        <span style=\"color: #008000; text-decoration-color: #008000\">'Textura_silla'</span>: <span style=\"font-weight: bold\">[</span><span style=\"color: #008080; text-decoration-color: #008080; font-weight: bold\">4</span>, Bio:+<span style=\"color: #008080; text-decoration-color: #008080; font-weight: bold\">0.0</span> Cul:<span style=\"color: #008080; text-decoration-color: #008080; font-weight: bold\">-0.5</span> Emo:+<span style=\"color: #008080; text-decoration-color: #008080; font-weight: bold\">0.0</span>, <span style=\"color: #008000; text-decoration-color: #008000\">'pattern_touch_a'</span>, <span style=\"color: #008000; text-decoration-color: #008000\">'Textura_silla'</span><span style=\"font-weight: bold\">]</span>,\n",
       "        <span style=\"color: #008000; text-decoration-color: #008000\">'Textura_cojin'</span>: <span style=\"font-weight: bold\">[</span><span style=\"color: #008080; text-decoration-color: #008080; font-weight: bold\">5</span>, Bio:+<span style=\"color: #008080; text-decoration-color: #008080; font-weight: bold\">0.0</span> Cul:<span style=\"color: #008080; text-decoration-color: #008080; font-weight: bold\">-0.75</span> Emo:+<span style=\"color: #008080; text-decoration-color: #008080; font-weight: bold\">0.0</span>, <span style=\"color: #008000; text-decoration-color: #008000\">'Textura_silla'</span>, <span style=\"color: #008000; text-decoration-color: #008000\">'Textura_cojin'</span><span style=\"font-weight: bold\">]</span>\n",
       "    <span style=\"font-weight: bold\">}</span>,\n",
       "    <span style=\"font-weight: bold\">{</span>\n",
       "        <span style=\"color: #008000; text-decoration-color: #008000\">'pattern_body_a'</span>: <span style=\"font-weight: bold\">[</span><span style=\"color: #008080; text-decoration-color: #008080; font-weight: bold\">0</span>, Bio:+<span style=\"color: #008080; text-decoration-color: #008080; font-weight: bold\">0.0</span> Cul:+<span style=\"color: #008080; text-decoration-color: #008080; font-weight: bold\">0.25</span> Emo:+<span style=\"color: #008080; text-decoration-color: #008080; font-weight: bold\">0.75</span>, <span style=\"color: #008000; text-decoration-color: #008000\">''</span>, <span style=\"color: #008000; text-decoration-color: #008000\">'pattern_body_a'</span><span style=\"font-weight: bold\">]</span>,\n",
       "        <span style=\"color: #008000; text-decoration-color: #008000\">'pattern_body_b'</span>: <span style=\"font-weight: bold\">[</span><span style=\"color: #008080; text-decoration-color: #008080; font-weight: bold\">1</span>, Bio:<span style=\"color: #008080; text-decoration-color: #008080; font-weight: bold\">-0.75</span> Cul:<span style=\"color: #008080; text-decoration-color: #008080; font-weight: bold\">-0.0</span> Emo:<span style=\"color: #008080; text-decoration-color: #008080; font-weight: bold\">-0.25</span>, <span style=\"color: #008000; text-decoration-color: #008000\">''</span>, <span style=\"color: #008000; text-decoration-color: #008000\">'pattern_body_b'</span><span style=\"font-weight: bold\">]</span>,\n",
       "        <span style=\"color: #008000; text-decoration-color: #008000\">'pattern_body_c'</span>: <span style=\"font-weight: bold\">[</span><span style=\"color: #008080; text-decoration-color: #008080; font-weight: bold\">2</span>, Bio:<span style=\"color: #008080; text-decoration-color: #008080; font-weight: bold\">-0.25</span> Cul:+<span style=\"color: #008080; text-decoration-color: #008080; font-weight: bold\">0.0</span> Emo:<span style=\"color: #008080; text-decoration-color: #008080; font-weight: bold\">-0.25</span>, <span style=\"color: #008000; text-decoration-color: #008000\">''</span>, <span style=\"color: #008000; text-decoration-color: #008000\">'pattern_body_c'</span><span style=\"font-weight: bold\">]</span>,\n",
       "        <span style=\"color: #008000; text-decoration-color: #008000\">'pattern_body_d'</span>: <span style=\"font-weight: bold\">[</span><span style=\"color: #008080; text-decoration-color: #008080; font-weight: bold\">3</span>, Bio:<span style=\"color: #008080; text-decoration-color: #008080; font-weight: bold\">-0.75</span> Cul:+<span style=\"color: #008080; text-decoration-color: #008080; font-weight: bold\">0.25</span> Emo:<span style=\"color: #008080; text-decoration-color: #008080; font-weight: bold\">-0.5</span>, <span style=\"color: #008000; text-decoration-color: #008000\">''</span>, <span style=\"color: #008000; text-decoration-color: #008000\">'pattern_body_d'</span><span style=\"font-weight: bold\">]</span>,\n",
       "        <span style=\"color: #008000; text-decoration-color: #008000\">'Neutro'</span>: <span style=\"font-weight: bold\">[</span><span style=\"color: #008080; text-decoration-color: #008080; font-weight: bold\">4</span>, Bio:<span style=\"color: #008080; text-decoration-color: #008080; font-weight: bold\">-0.25</span> Cul:+<span style=\"color: #008080; text-decoration-color: #008080; font-weight: bold\">0.25</span> Emo:<span style=\"color: #008080; text-decoration-color: #008080; font-weight: bold\">-0.5</span>, <span style=\"color: #008000; text-decoration-color: #008000\">'pattern_body_b'</span>, <span style=\"color: #008000; text-decoration-color: #008000\">'Neutro'</span><span style=\"font-weight: bold\">]</span>,\n",
       "        <span style=\"color: #008000; text-decoration-color: #008000\">'Neutro3'</span>: <span style=\"font-weight: bold\">[</span><span style=\"color: #008080; text-decoration-color: #008080; font-weight: bold\">5</span>, Bio:+<span style=\"color: #008080; text-decoration-color: #008080; font-weight: bold\">0.0</span> Cul:+<span style=\"color: #008080; text-decoration-color: #008080; font-weight: bold\">0.5</span> Emo:<span style=\"color: #008080; text-decoration-color: #008080; font-weight: bold\">-0.75</span>, <span style=\"color: #008000; text-decoration-color: #008000\">'Neutro'</span>, <span style=\"color: #008000; text-decoration-color: #008000\">'Neutro3'</span><span style=\"font-weight: bold\">]</span>\n",
       "    <span style=\"font-weight: bold\">}</span>,\n",
       "    <span style=\"font-weight: bold\">{</span>\n",
       "        <span style=\"color: #008000; text-decoration-color: #008000\">'pattern_time_a'</span>: <span style=\"font-weight: bold\">[</span><span style=\"color: #008080; text-decoration-color: #008080; font-weight: bold\">0</span>, Bio:<span style=\"color: #008080; text-decoration-color: #008080; font-weight: bold\">-0.0</span> Cul:<span style=\"color: #008080; text-decoration-color: #008080; font-weight: bold\">-0.5</span> Emo:+<span style=\"color: #008080; text-decoration-color: #008080; font-weight: bold\">0.5</span>, <span style=\"color: #008000; text-decoration-color: #008000\">''</span>, <span style=\"color: #008000; text-decoration-color: #008000\">'pattern_time_a'</span><span style=\"font-weight: bold\">]</span>,\n",
       "        <span style=\"color: #008000; text-decoration-color: #008000\">'pattern_time_b'</span>: <span style=\"font-weight: bold\">[</span><span style=\"color: #008080; text-decoration-color: #008080; font-weight: bold\">1</span>, Bio:<span style=\"color: #008080; text-decoration-color: #008080; font-weight: bold\">-0.5</span> Cul:+<span style=\"color: #008080; text-decoration-color: #008080; font-weight: bold\">0.75</span> Emo:+<span style=\"color: #008080; text-decoration-color: #008080; font-weight: bold\">0.0</span>, <span style=\"color: #008000; text-decoration-color: #008000\">''</span>, <span style=\"color: #008000; text-decoration-color: #008000\">'pattern_time_b'</span><span style=\"font-weight: bold\">]</span>,\n",
       "        <span style=\"color: #008000; text-decoration-color: #008000\">'pattern_time_c'</span>: <span style=\"font-weight: bold\">[</span><span style=\"color: #008080; text-decoration-color: #008080; font-weight: bold\">2</span>, Bio:<span style=\"color: #008080; text-decoration-color: #008080; font-weight: bold\">-0.25</span> Cul:<span style=\"color: #008080; text-decoration-color: #008080; font-weight: bold\">-0.75</span> Emo:<span style=\"color: #008080; text-decoration-color: #008080; font-weight: bold\">-0.0</span>, <span style=\"color: #008000; text-decoration-color: #008000\">''</span>, <span style=\"color: #008000; text-decoration-color: #008000\">'pattern_time_c'</span><span style=\"font-weight: bold\">]</span>,\n",
       "        <span style=\"color: #008000; text-decoration-color: #008000\">'pattern_time_d'</span>: <span style=\"font-weight: bold\">[</span><span style=\"color: #008080; text-decoration-color: #008080; font-weight: bold\">3</span>, Bio:+<span style=\"color: #008080; text-decoration-color: #008080; font-weight: bold\">0.0</span> Cul:+<span style=\"color: #008080; text-decoration-color: #008080; font-weight: bold\">0.25</span> Emo:+<span style=\"color: #008080; text-decoration-color: #008080; font-weight: bold\">0.75</span>, <span style=\"color: #008000; text-decoration-color: #008000\">''</span>, <span style=\"color: #008000; text-decoration-color: #008000\">'pattern_time_d'</span><span style=\"font-weight: bold\">]</span>,\n",
       "        <span style=\"color: #008000; text-decoration-color: #008000\">'Neutro'</span>: <span style=\"font-weight: bold\">[</span><span style=\"color: #008080; text-decoration-color: #008080; font-weight: bold\">4</span>, Bio:<span style=\"color: #008080; text-decoration-color: #008080; font-weight: bold\">-0.5</span> Cul:<span style=\"color: #008080; text-decoration-color: #008080; font-weight: bold\">-0.5</span> Emo:+<span style=\"color: #008080; text-decoration-color: #008080; font-weight: bold\">0.25</span>, <span style=\"color: #008000; text-decoration-color: #008000\">'pattern_time_c'</span>, <span style=\"color: #008000; text-decoration-color: #008000\">'Neutro'</span><span style=\"font-weight: bold\">]</span>,\n",
       "        <span style=\"color: #008000; text-decoration-color: #008000\">'Neutro2'</span>: <span style=\"font-weight: bold\">[</span><span style=\"color: #008080; text-decoration-color: #008080; font-weight: bold\">5</span>, Bio:<span style=\"color: #008080; text-decoration-color: #008080; font-weight: bold\">-0.5</span> Cul:<span style=\"color: #008080; text-decoration-color: #008080; font-weight: bold\">-0.5</span> Emo:+<span style=\"color: #008080; text-decoration-color: #008080; font-weight: bold\">0.25</span>, <span style=\"color: #008000; text-decoration-color: #008000\">'pattern_time_c'</span>, <span style=\"color: #008000; text-decoration-color: #008000\">'Neutro2'</span><span style=\"font-weight: bold\">]</span>,\n",
       "        <span style=\"color: #008000; text-decoration-color: #008000\">'Neutro4'</span>: <span style=\"font-weight: bold\">[</span><span style=\"color: #008080; text-decoration-color: #008080; font-weight: bold\">6</span>, Bio:<span style=\"color: #008080; text-decoration-color: #008080; font-weight: bold\">-0.25</span> Cul:<span style=\"color: #008080; text-decoration-color: #008080; font-weight: bold\">-0.5</span> Emo:+<span style=\"color: #008080; text-decoration-color: #008080; font-weight: bold\">0.5</span>, <span style=\"color: #008000; text-decoration-color: #008000\">'pattern_time_a'</span>, <span style=\"color: #008000; text-decoration-color: #008000\">'Neutro4'</span><span style=\"font-weight: bold\">]</span>\n",
       "    <span style=\"font-weight: bold\">}</span>\n",
       "<span style=\"font-weight: bold\">]</span>\n",
       "</pre>\n"
      ],
      "text/plain": [
       "\u001b[1m[\u001b[0m\n",
       "    \u001b[1m{\u001b[0m\n",
       "        \u001b[32m'pattern_sight_a'\u001b[0m: \u001b[1m[\u001b[0m\u001b[1;36m0\u001b[0m, Bio:+\u001b[1;36m0.75\u001b[0m Cul:+\u001b[1;36m0.25\u001b[0m Emo:\u001b[1;36m-0.25\u001b[0m, \u001b[32m''\u001b[0m, \u001b[32m'pattern_sight_a'\u001b[0m\u001b[1m]\u001b[0m,\n",
       "        \u001b[32m'pattern_sight_b'\u001b[0m: \u001b[1m[\u001b[0m\u001b[1;36m1\u001b[0m, Bio:+\u001b[1;36m0.0\u001b[0m Cul:\u001b[1;36m-0.5\u001b[0m Emo:\u001b[1;36m-0.5\u001b[0m, \u001b[32m''\u001b[0m, \u001b[32m'pattern_sight_b'\u001b[0m\u001b[1m]\u001b[0m,\n",
       "        \u001b[32m'pattern_sight_c'\u001b[0m: \u001b[1m[\u001b[0m\u001b[1;36m2\u001b[0m, Bio:+\u001b[1;36m0.0\u001b[0m Cul:\u001b[1;36m-0.0\u001b[0m Emo:\u001b[1;36m-0.0\u001b[0m, \u001b[32m''\u001b[0m, \u001b[32m'pattern_sight_c'\u001b[0m\u001b[1m]\u001b[0m,\n",
       "        \u001b[32m'pattern_sight_d'\u001b[0m: \u001b[1m[\u001b[0m\u001b[1;36m3\u001b[0m, Bio:\u001b[1;36m-0.5\u001b[0m Cul:\u001b[1;36m-0.5\u001b[0m Emo:+\u001b[1;36m0.0\u001b[0m, \u001b[32m''\u001b[0m, \u001b[32m'pattern_sight_d'\u001b[0m\u001b[1m]\u001b[0m,\n",
       "        \u001b[32m'Tesis'\u001b[0m: \u001b[1m[\u001b[0m\u001b[1;36m4\u001b[0m, Bio:+\u001b[1;36m0.5\u001b[0m Cul:+\u001b[1;36m0.0\u001b[0m Emo:+\u001b[1;36m0.25\u001b[0m, \u001b[32m'pattern_sight_a'\u001b[0m, \u001b[32m'Tesis'\u001b[0m\u001b[1m]\u001b[0m,\n",
       "        \u001b[32m'Tesis2'\u001b[0m: \u001b[1m[\u001b[0m\u001b[1;36m5\u001b[0m, Bio:+\u001b[1;36m0.5\u001b[0m Cul:+\u001b[1;36m0.0\u001b[0m Emo:+\u001b[1;36m0.5\u001b[0m, \u001b[32m'Tesis'\u001b[0m, \u001b[32m'Tesis2'\u001b[0m\u001b[1m]\u001b[0m,\n",
       "        \u001b[32m'Tesis3'\u001b[0m: \u001b[1m[\u001b[0m\u001b[1;36m6\u001b[0m, Bio:+\u001b[1;36m0.5\u001b[0m Cul:+\u001b[1;36m0.0\u001b[0m Emo:+\u001b[1;36m0.5\u001b[0m, \u001b[32m'Tesis'\u001b[0m, \u001b[32m'Tesis3'\u001b[0m\u001b[1m]\u001b[0m\n",
       "    \u001b[1m}\u001b[0m,\n",
       "    \u001b[1m{\u001b[0m\n",
       "        \u001b[32m'pattern_hearing_a'\u001b[0m: \u001b[1m[\u001b[0m\u001b[1;36m0\u001b[0m, Bio:\u001b[1;36m-0.25\u001b[0m Cul:\u001b[1;36m-0.5\u001b[0m Emo:+\u001b[1;36m0.25\u001b[0m, \u001b[32m''\u001b[0m, \u001b[32m'pattern_hearing_a'\u001b[0m\u001b[1m]\u001b[0m,\n",
       "        \u001b[32m'pattern_hearing_b'\u001b[0m: \u001b[1m[\u001b[0m\u001b[1;36m1\u001b[0m, Bio:+\u001b[1;36m0.0\u001b[0m Cul:\u001b[1;36m-0.0\u001b[0m Emo:+\u001b[1;36m0.0\u001b[0m, \u001b[32m''\u001b[0m, \u001b[32m'pattern_hearing_b'\u001b[0m\u001b[1m]\u001b[0m,\n",
       "        \u001b[32m'pattern_hearing_c'\u001b[0m: \u001b[1m[\u001b[0m\u001b[1;36m2\u001b[0m, Bio:\u001b[1;36m-0.5\u001b[0m Cul:\u001b[1;36m-0.0\u001b[0m Emo:\u001b[1;36m-0.0\u001b[0m, \u001b[32m''\u001b[0m, \u001b[32m'pattern_hearing_c'\u001b[0m\u001b[1m]\u001b[0m,\n",
       "        \u001b[32m'pattern_hearing_d'\u001b[0m: \u001b[1m[\u001b[0m\u001b[1;36m3\u001b[0m, Bio:+\u001b[1;36m0.0\u001b[0m Cul:+\u001b[1;36m0.25\u001b[0m Emo:\u001b[1;36m-0.0\u001b[0m, \u001b[32m''\u001b[0m, \u001b[32m'pattern_hearing_d'\u001b[0m\u001b[1m]\u001b[0m,\n",
       "        \u001b[32m'Ruido'\u001b[0m: \u001b[1m[\u001b[0m\u001b[1;36m4\u001b[0m, Bio:+\u001b[1;36m0.25\u001b[0m Cul:+\u001b[1;36m0.0\u001b[0m Emo:+\u001b[1;36m0.0\u001b[0m, \u001b[32m'pattern_hearing_b'\u001b[0m, \u001b[32m'Ruido'\u001b[0m\u001b[1m]\u001b[0m,\n",
       "        \u001b[32m'Musica'\u001b[0m: \u001b[1m[\u001b[0m\u001b[1;36m5\u001b[0m, Bio:+\u001b[1;36m0.25\u001b[0m Cul:+\u001b[1;36m0.0\u001b[0m Emo:+\u001b[1;36m0.0\u001b[0m, \u001b[32m'pattern_hearing_b'\u001b[0m, \u001b[32m'Musica'\u001b[0m\u001b[1m]\u001b[0m,\n",
       "        \u001b[32m'Salsa'\u001b[0m: \u001b[1m[\u001b[0m\u001b[1;36m6\u001b[0m, Bio:+\u001b[1;36m0.5\u001b[0m Cul:+\u001b[1;36m0.0\u001b[0m Emo:+\u001b[1;36m0.0\u001b[0m, \u001b[32m'Musica'\u001b[0m, \u001b[32m'Salsa'\u001b[0m\u001b[1m]\u001b[0m\n",
       "    \u001b[1m}\u001b[0m,\n",
       "    \u001b[1m{\u001b[0m\n",
       "        \u001b[32m'pattern_smell_a'\u001b[0m: \u001b[1m[\u001b[0m\u001b[1;36m0\u001b[0m, Bio:+\u001b[1;36m0.75\u001b[0m Cul:+\u001b[1;36m0.0\u001b[0m Emo:+\u001b[1;36m0.5\u001b[0m, \u001b[32m''\u001b[0m, \u001b[32m'pattern_smell_a'\u001b[0m\u001b[1m]\u001b[0m,\n",
       "        \u001b[32m'pattern_smell_b'\u001b[0m: \u001b[1m[\u001b[0m\u001b[1;36m1\u001b[0m, Bio:\u001b[1;36m-0.5\u001b[0m Cul:\u001b[1;36m-0.0\u001b[0m Emo:\u001b[1;36m-0.75\u001b[0m, \u001b[32m''\u001b[0m, \u001b[32m'pattern_smell_b'\u001b[0m\u001b[1m]\u001b[0m,\n",
       "        \u001b[32m'pattern_smell_c'\u001b[0m: \u001b[1m[\u001b[0m\u001b[1;36m2\u001b[0m, Bio:\u001b[1;36m-0.75\u001b[0m Cul:\u001b[1;36m-0.75\u001b[0m Emo:+\u001b[1;36m0.0\u001b[0m, \u001b[32m''\u001b[0m, \u001b[32m'pattern_smell_c'\u001b[0m\u001b[1m]\u001b[0m,\n",
       "        \u001b[32m'pattern_smell_d'\u001b[0m: \u001b[1m[\u001b[0m\u001b[1;36m3\u001b[0m, Bio:\u001b[1;36m-0.0\u001b[0m Cul:+\u001b[1;36m0.0\u001b[0m Emo:+\u001b[1;36m0.75\u001b[0m, \u001b[32m''\u001b[0m, \u001b[32m'pattern_smell_d'\u001b[0m\u001b[1m]\u001b[0m,\n",
       "        \u001b[32m'Cafe_olor'\u001b[0m: \u001b[1m[\u001b[0m\u001b[1;36m4\u001b[0m, Bio:\u001b[1;36m-0.5\u001b[0m Cul:\u001b[1;36m-0.25\u001b[0m Emo:+\u001b[1;36m0.25\u001b[0m, \u001b[32m'pattern_smell_c'\u001b[0m, \u001b[32m'Cafe_olor'\u001b[0m\u001b[1m]\u001b[0m,\n",
       "        \u001b[32m'cafe_olor'\u001b[0m: \u001b[1m[\u001b[0m\u001b[1;36m5\u001b[0m, Bio:\u001b[1;36m-0.5\u001b[0m Cul:\u001b[1;36m-0.25\u001b[0m Emo:+\u001b[1;36m0.25\u001b[0m, \u001b[32m'pattern_smell_c'\u001b[0m, \u001b[32m'cafe_olor'\u001b[0m\u001b[1m]\u001b[0m,\n",
       "        \u001b[32m'azucar'\u001b[0m: \u001b[1m[\u001b[0m\u001b[1;36m6\u001b[0m, Bio:\u001b[1;36m-0.5\u001b[0m Cul:+\u001b[1;36m0.0\u001b[0m Emo:+\u001b[1;36m0.5\u001b[0m, \u001b[32m'cafe_olor'\u001b[0m, \u001b[32m'azucar'\u001b[0m\u001b[1m]\u001b[0m\n",
       "    \u001b[1m}\u001b[0m,\n",
       "    \u001b[1m{\u001b[0m\n",
       "        \u001b[32m'pattern_taste_a'\u001b[0m: \u001b[1m[\u001b[0m\u001b[1;36m0\u001b[0m, Bio:\u001b[1;36m-0.75\u001b[0m Cul:\u001b[1;36m-0.5\u001b[0m Emo:+\u001b[1;36m0.0\u001b[0m, \u001b[32m''\u001b[0m, \u001b[32m'pattern_taste_a'\u001b[0m\u001b[1m]\u001b[0m,\n",
       "        \u001b[32m'pattern_taste_b'\u001b[0m: \u001b[1m[\u001b[0m\u001b[1;36m1\u001b[0m, Bio:\u001b[1;36m-0.75\u001b[0m Cul:+\u001b[1;36m0.25\u001b[0m Emo:\u001b[1;36m-0.75\u001b[0m, \u001b[32m''\u001b[0m, \u001b[32m'pattern_taste_b'\u001b[0m\u001b[1m]\u001b[0m,\n",
       "        \u001b[32m'pattern_taste_c'\u001b[0m: \u001b[1m[\u001b[0m\u001b[1;36m2\u001b[0m, Bio:\u001b[1;36m-0.75\u001b[0m Cul:+\u001b[1;36m0.75\u001b[0m Emo:+\u001b[1;36m0.0\u001b[0m, \u001b[32m''\u001b[0m, \u001b[32m'pattern_taste_c'\u001b[0m\u001b[1m]\u001b[0m,\n",
       "        \u001b[32m'pattern_taste_d'\u001b[0m: \u001b[1m[\u001b[0m\u001b[1;36m3\u001b[0m, Bio:\u001b[1;36m-0.25\u001b[0m Cul:\u001b[1;36m-0.75\u001b[0m Emo:+\u001b[1;36m0.0\u001b[0m, \u001b[32m''\u001b[0m, \u001b[32m'pattern_taste_d'\u001b[0m\u001b[1m]\u001b[0m,\n",
       "        \u001b[32m'Cafe_taste'\u001b[0m: \u001b[1m[\u001b[0m\u001b[1;36m4\u001b[0m, Bio:\u001b[1;36m-0.75\u001b[0m Cul:+\u001b[1;36m0.25\u001b[0m Emo:\u001b[1;36m-0.25\u001b[0m, \u001b[32m'pattern_taste_c'\u001b[0m, \u001b[32m'Cafe_taste'\u001b[0m\u001b[1m]\u001b[0m,\n",
       "        \u001b[32m'Azufre'\u001b[0m: \u001b[1m[\u001b[0m\u001b[1;36m5\u001b[0m, Bio:\u001b[1;36m-0.5\u001b[0m Cul:\u001b[1;36m-0.5\u001b[0m Emo:\u001b[1;36m-0.25\u001b[0m, \u001b[32m'pattern_taste_d'\u001b[0m, \u001b[32m'Azufre'\u001b[0m\u001b[1m]\u001b[0m\n",
       "    \u001b[1m}\u001b[0m,\n",
       "    \u001b[1m{\u001b[0m\n",
       "        \u001b[32m'pattern_touch_a'\u001b[0m: \u001b[1m[\u001b[0m\u001b[1;36m0\u001b[0m, Bio:+\u001b[1;36m0.0\u001b[0m Cul:\u001b[1;36m-0.25\u001b[0m Emo:+\u001b[1;36m0.25\u001b[0m, \u001b[32m''\u001b[0m, \u001b[32m'pattern_touch_a'\u001b[0m\u001b[1m]\u001b[0m,\n",
       "        \u001b[32m'pattern_touch_b'\u001b[0m: \u001b[1m[\u001b[0m\u001b[1;36m1\u001b[0m, Bio:\u001b[1;36m-0.75\u001b[0m Cul:+\u001b[1;36m0.0\u001b[0m Emo:\u001b[1;36m-0.75\u001b[0m, \u001b[32m''\u001b[0m, \u001b[32m'pattern_touch_b'\u001b[0m\u001b[1m]\u001b[0m,\n",
       "        \u001b[32m'pattern_touch_c'\u001b[0m: \u001b[1m[\u001b[0m\u001b[1;36m2\u001b[0m, Bio:+\u001b[1;36m0.0\u001b[0m Cul:+\u001b[1;36m0.5\u001b[0m Emo:\u001b[1;36m-0.0\u001b[0m, \u001b[32m''\u001b[0m, \u001b[32m'pattern_touch_c'\u001b[0m\u001b[1m]\u001b[0m,\n",
       "        \u001b[32m'pattern_touch_d'\u001b[0m: \u001b[1m[\u001b[0m\u001b[1;36m3\u001b[0m, Bio:\u001b[1;36m-0.5\u001b[0m Cul:+\u001b[1;36m0.75\u001b[0m Emo:+\u001b[1;36m0.0\u001b[0m, \u001b[32m''\u001b[0m, \u001b[32m'pattern_touch_d'\u001b[0m\u001b[1m]\u001b[0m,\n",
       "        \u001b[32m'Textura_silla'\u001b[0m: \u001b[1m[\u001b[0m\u001b[1;36m4\u001b[0m, Bio:+\u001b[1;36m0.0\u001b[0m Cul:\u001b[1;36m-0.5\u001b[0m Emo:+\u001b[1;36m0.0\u001b[0m, \u001b[32m'pattern_touch_a'\u001b[0m, \u001b[32m'Textura_silla'\u001b[0m\u001b[1m]\u001b[0m,\n",
       "        \u001b[32m'Textura_cojin'\u001b[0m: \u001b[1m[\u001b[0m\u001b[1;36m5\u001b[0m, Bio:+\u001b[1;36m0.0\u001b[0m Cul:\u001b[1;36m-0.75\u001b[0m Emo:+\u001b[1;36m0.0\u001b[0m, \u001b[32m'Textura_silla'\u001b[0m, \u001b[32m'Textura_cojin'\u001b[0m\u001b[1m]\u001b[0m\n",
       "    \u001b[1m}\u001b[0m,\n",
       "    \u001b[1m{\u001b[0m\n",
       "        \u001b[32m'pattern_body_a'\u001b[0m: \u001b[1m[\u001b[0m\u001b[1;36m0\u001b[0m, Bio:+\u001b[1;36m0.0\u001b[0m Cul:+\u001b[1;36m0.25\u001b[0m Emo:+\u001b[1;36m0.75\u001b[0m, \u001b[32m''\u001b[0m, \u001b[32m'pattern_body_a'\u001b[0m\u001b[1m]\u001b[0m,\n",
       "        \u001b[32m'pattern_body_b'\u001b[0m: \u001b[1m[\u001b[0m\u001b[1;36m1\u001b[0m, Bio:\u001b[1;36m-0.75\u001b[0m Cul:\u001b[1;36m-0.0\u001b[0m Emo:\u001b[1;36m-0.25\u001b[0m, \u001b[32m''\u001b[0m, \u001b[32m'pattern_body_b'\u001b[0m\u001b[1m]\u001b[0m,\n",
       "        \u001b[32m'pattern_body_c'\u001b[0m: \u001b[1m[\u001b[0m\u001b[1;36m2\u001b[0m, Bio:\u001b[1;36m-0.25\u001b[0m Cul:+\u001b[1;36m0.0\u001b[0m Emo:\u001b[1;36m-0.25\u001b[0m, \u001b[32m''\u001b[0m, \u001b[32m'pattern_body_c'\u001b[0m\u001b[1m]\u001b[0m,\n",
       "        \u001b[32m'pattern_body_d'\u001b[0m: \u001b[1m[\u001b[0m\u001b[1;36m3\u001b[0m, Bio:\u001b[1;36m-0.75\u001b[0m Cul:+\u001b[1;36m0.25\u001b[0m Emo:\u001b[1;36m-0.5\u001b[0m, \u001b[32m''\u001b[0m, \u001b[32m'pattern_body_d'\u001b[0m\u001b[1m]\u001b[0m,\n",
       "        \u001b[32m'Neutro'\u001b[0m: \u001b[1m[\u001b[0m\u001b[1;36m4\u001b[0m, Bio:\u001b[1;36m-0.25\u001b[0m Cul:+\u001b[1;36m0.25\u001b[0m Emo:\u001b[1;36m-0.5\u001b[0m, \u001b[32m'pattern_body_b'\u001b[0m, \u001b[32m'Neutro'\u001b[0m\u001b[1m]\u001b[0m,\n",
       "        \u001b[32m'Neutro3'\u001b[0m: \u001b[1m[\u001b[0m\u001b[1;36m5\u001b[0m, Bio:+\u001b[1;36m0.0\u001b[0m Cul:+\u001b[1;36m0.5\u001b[0m Emo:\u001b[1;36m-0.75\u001b[0m, \u001b[32m'Neutro'\u001b[0m, \u001b[32m'Neutro3'\u001b[0m\u001b[1m]\u001b[0m\n",
       "    \u001b[1m}\u001b[0m,\n",
       "    \u001b[1m{\u001b[0m\n",
       "        \u001b[32m'pattern_time_a'\u001b[0m: \u001b[1m[\u001b[0m\u001b[1;36m0\u001b[0m, Bio:\u001b[1;36m-0.0\u001b[0m Cul:\u001b[1;36m-0.5\u001b[0m Emo:+\u001b[1;36m0.5\u001b[0m, \u001b[32m''\u001b[0m, \u001b[32m'pattern_time_a'\u001b[0m\u001b[1m]\u001b[0m,\n",
       "        \u001b[32m'pattern_time_b'\u001b[0m: \u001b[1m[\u001b[0m\u001b[1;36m1\u001b[0m, Bio:\u001b[1;36m-0.5\u001b[0m Cul:+\u001b[1;36m0.75\u001b[0m Emo:+\u001b[1;36m0.0\u001b[0m, \u001b[32m''\u001b[0m, \u001b[32m'pattern_time_b'\u001b[0m\u001b[1m]\u001b[0m,\n",
       "        \u001b[32m'pattern_time_c'\u001b[0m: \u001b[1m[\u001b[0m\u001b[1;36m2\u001b[0m, Bio:\u001b[1;36m-0.25\u001b[0m Cul:\u001b[1;36m-0.75\u001b[0m Emo:\u001b[1;36m-0.0\u001b[0m, \u001b[32m''\u001b[0m, \u001b[32m'pattern_time_c'\u001b[0m\u001b[1m]\u001b[0m,\n",
       "        \u001b[32m'pattern_time_d'\u001b[0m: \u001b[1m[\u001b[0m\u001b[1;36m3\u001b[0m, Bio:+\u001b[1;36m0.0\u001b[0m Cul:+\u001b[1;36m0.25\u001b[0m Emo:+\u001b[1;36m0.75\u001b[0m, \u001b[32m''\u001b[0m, \u001b[32m'pattern_time_d'\u001b[0m\u001b[1m]\u001b[0m,\n",
       "        \u001b[32m'Neutro'\u001b[0m: \u001b[1m[\u001b[0m\u001b[1;36m4\u001b[0m, Bio:\u001b[1;36m-0.5\u001b[0m Cul:\u001b[1;36m-0.5\u001b[0m Emo:+\u001b[1;36m0.25\u001b[0m, \u001b[32m'pattern_time_c'\u001b[0m, \u001b[32m'Neutro'\u001b[0m\u001b[1m]\u001b[0m,\n",
       "        \u001b[32m'Neutro2'\u001b[0m: \u001b[1m[\u001b[0m\u001b[1;36m5\u001b[0m, Bio:\u001b[1;36m-0.5\u001b[0m Cul:\u001b[1;36m-0.5\u001b[0m Emo:+\u001b[1;36m0.25\u001b[0m, \u001b[32m'pattern_time_c'\u001b[0m, \u001b[32m'Neutro2'\u001b[0m\u001b[1m]\u001b[0m,\n",
       "        \u001b[32m'Neutro4'\u001b[0m: \u001b[1m[\u001b[0m\u001b[1;36m6\u001b[0m, Bio:\u001b[1;36m-0.25\u001b[0m Cul:\u001b[1;36m-0.5\u001b[0m Emo:+\u001b[1;36m0.5\u001b[0m, \u001b[32m'pattern_time_a'\u001b[0m, \u001b[32m'Neutro4'\u001b[0m\u001b[1m]\u001b[0m\n",
       "    \u001b[1m}\u001b[0m\n",
       "\u001b[1m]\u001b[0m\n"
      ]
     },
     "metadata": {},
     "output_type": "display_data"
    }
   ],
   "source": [
    "rn_senses = Sensory_system()\n",
    "\n",
    "arr_patternes_bce_sight=[(\"pattern_sight_a\",BCE().sample()),(\"pattern_sight_b\",BCE().sample()),(\"pattern_sight_c\",BCE().sample()),(\"pattern_sight_d\",BCE().sample())]\n",
    "arr_patternes_bce_hearing=[(\"pattern_hearing_a\",BCE().sample()),(\"pattern_hearing_b\",BCE().sample()),(\"pattern_hearing_c\",BCE().sample()),(\"pattern_hearing_d\",BCE().sample())]\n",
    "arr_patternes_bce_smell=[(\"pattern_smell_a\",BCE().sample()),(\"pattern_smell_b\",BCE().sample()),(\"pattern_smell_c\",BCE().sample()),(\"pattern_smell_d\",BCE().sample())]\n",
    "arr_patternes_bce_taste=[(\"pattern_taste_a\",BCE().sample()),(\"pattern_taste_b\",BCE().sample()),(\"pattern_taste_c\",BCE().sample()),(\"pattern_taste_d\",BCE().sample())]\n",
    "arr_patternes_bce_touch=[(\"pattern_touch_a\",BCE().sample()),(\"pattern_touch_b\",BCE().sample()),(\"pattern_touch_c\",BCE().sample()),(\"pattern_touch_d\",BCE().sample())]\n",
    "arr_patternes_bce_body=[(\"pattern_body_a\",BCE().sample()),(\"pattern_body_b\",BCE().sample()),(\"pattern_body_c\",BCE().sample()),(\"pattern_body_d\",BCE().sample())]\n",
    "arr_patternes_bce_time=[(\"pattern_time_a\",BCE().sample()),(\"pattern_time_b\",BCE().sample()),(\"pattern_time_c\",BCE().sample()),(\"pattern_time_d\",BCE().sample())]\n",
    "\n",
    "\n",
    "arr_patternes_bce=[arr_patternes_bce_sight,arr_patternes_bce_hearing,arr_patternes_bce_smell,arr_patternes_bce_taste,arr_patternes_bce_touch,arr_patternes_bce_body,arr_patternes_bce_time]\n",
    "\n",
    "sensory_event=(\"pattern_sight_a:Tesis\",\"pattern_hearing_b:Ruido\",\"pattern_smell_c:Cafe_olor\",\"pattern_taste_c:Cafe_taste\",\n",
    "                  \"pattern_touch_a:Textura_silla\",\"pattern_body_b:Neutro\",\"pattern_time_c:Neutro\")\n",
    "bce_sensory_event=[]\n",
    "for event in sensory_event:\n",
    "    bce_sensory_event.append(BCE().sample())\n",
    "\n",
    "rn_senses.init_patterns(arr_patternes_bce)\n",
    "\n",
    "#print(Sensory_system().senses)\n",
    "print(rn_senses.set_event(sensory_event))\n",
    "rn_senses.update_neuron(bce_sensory_event)\n",
    "\n",
    "sensory_event=(\"Tesis:Tesis2\",\"pattern_hearing_b:Musica\",\"pattern_smell_c:cafe_olor\",\"pattern_taste_c:Cafe_taste\",\n",
    "                  \"Textura_silla:Textura_cojin\",\"pattern_body_b:Neutro\",\"pattern_time_c:Neutro2\")\n",
    "\n",
    "for event in sensory_event:\n",
    "    bce_sensory_event.append(BCE().sample())\n",
    "\n",
    "#print(Sensory_system().senses)\n",
    "rn_senses.set_event(sensory_event)\n",
    "rn_senses.update_neuron(bce_sensory_event)\n",
    "\n",
    "sensory_event=(\"Tesis:Tesis3\",\"Musica:Salsa\",\"cafe_olor:azucar\",\"pattern_taste_d:Azufre\",\n",
    "                  \"Textura_silla:Textura_cojin\",\"Neutro:Neutro3\",\"pattern_time_a:Neutro4\")\n",
    "\n",
    "for event in sensory_event:\n",
    "    bce_sensory_event.append(BCE().sample())\n",
    "\n",
    "#print(Sensory_system().senses)\n",
    "rn_senses.set_event(sensory_event)\n",
    "rn_senses.update_neuron(bce_sensory_event)\n",
    "print(rn_senses.status())\n"
   ]
  },
  {
   "attachments": {},
   "cell_type": "markdown",
   "id": "e52202f1",
   "metadata": {},
   "source": [
    "### Clases Agents\n"
   ]
  },
  {
   "cell_type": "code",
   "execution_count": 321,
   "id": "cbc4b980",
   "metadata": {},
   "outputs": [],
   "source": [
    "from src.agent_a import Agent_A\n",
    "from src.agent_maria import Agent_Maria"
   ]
  },
  {
   "attachments": {},
   "cell_type": "markdown",
   "id": "88eb773f",
   "metadata": {},
   "source": [
    "### Prueba Agents"
   ]
  },
  {
   "cell_type": "code",
   "execution_count": 325,
   "id": "29f8ff7b",
   "metadata": {},
   "outputs": [],
   "source": [
    "from src.generator import Generator"
   ]
  },
  {
   "cell_type": "code",
   "execution_count": 346,
   "id": "9d7a85a5",
   "metadata": {},
   "outputs": [
    {
     "data": {
      "text/html": [
       "<pre style=\"white-space:pre;overflow-x:auto;line-height:normal;font-family:Menlo,'DejaVu Sans Mono',consolas,'Courier New',monospace\">\n",
       "</pre>\n"
      ],
      "text/plain": [
       "\n"
      ]
     },
     "metadata": {},
     "output_type": "display_data"
    },
    {
     "data": {
      "text/html": [
       "<pre style=\"white-space:pre;overflow-x:auto;line-height:normal;font-family:Menlo,'DejaVu Sans Mono',consolas,'Courier New',monospace\">Patrones inicializados\n",
       "</pre>\n"
      ],
      "text/plain": [
       "Patrones inicializados\n"
      ]
     },
     "metadata": {},
     "output_type": "display_data"
    },
    {
     "data": {
      "text/html": [
       "<pre style=\"white-space:pre;overflow-x:auto;line-height:normal;font-family:Menlo,'DejaVu Sans Mono',consolas,'Courier New',monospace\"><span style=\"font-weight: bold\">[</span>\n",
       "    <span style=\"font-weight: bold\">{</span>\n",
       "        <span style=\"color: #008000; text-decoration-color: #008000\">'sight_pattern_zero_e'</span>: <span style=\"font-weight: bold\">[</span><span style=\"color: #008080; text-decoration-color: #008080; font-weight: bold\">0</span>, Bio:<span style=\"color: #008080; text-decoration-color: #008080; font-weight: bold\">-0.25</span> Cul:+<span style=\"color: #008080; text-decoration-color: #008080; font-weight: bold\">0.25</span> Emo:+<span style=\"color: #008080; text-decoration-color: #008080; font-weight: bold\">0.25</span>, <span style=\"color: #008000; text-decoration-color: #008000\">''</span>, <span style=\"color: #008000; text-decoration-color: #008000\">'sight_pattern_zero_e'</span><span style=\"font-weight: bold\">]</span>,\n",
       "        <span style=\"color: #008000; text-decoration-color: #008000\">'sight_pattern_zero2_e'</span>: <span style=\"font-weight: bold\">[</span><span style=\"color: #008080; text-decoration-color: #008080; font-weight: bold\">1</span>, Bio:+<span style=\"color: #008080; text-decoration-color: #008080; font-weight: bold\">0.25</span> Cul:+<span style=\"color: #008080; text-decoration-color: #008080; font-weight: bold\">0.5</span> Emo:+<span style=\"color: #008080; text-decoration-color: #008080; font-weight: bold\">0.25</span>, <span style=\"color: #008000; text-decoration-color: #008000\">''</span>, <span style=\"color: #008000; text-decoration-color: #008000\">'sight_pattern_zero2_e'</span><span style=\"font-weight: bold\">]</span>,\n",
       "        <span style=\"color: #008000; text-decoration-color: #008000\">'sight_pattern_000_e'</span>: <span style=\"font-weight: bold\">[</span><span style=\"color: #008080; text-decoration-color: #008080; font-weight: bold\">2</span>, Bio:+<span style=\"color: #008080; text-decoration-color: #008080; font-weight: bold\">0.75</span> Cul:<span style=\"color: #008080; text-decoration-color: #008080; font-weight: bold\">-0.0</span> Emo:+<span style=\"color: #008080; text-decoration-color: #008080; font-weight: bold\">0.5</span>, <span style=\"color: #008000; text-decoration-color: #008000\">''</span>, <span style=\"color: #008000; text-decoration-color: #008000\">'sight_pattern_000_e'</span><span style=\"font-weight: bold\">]</span>,\n",
       "        <span style=\"color: #008000; text-decoration-color: #008000\">'sight_pattern_001_e'</span>: <span style=\"font-weight: bold\">[</span><span style=\"color: #008080; text-decoration-color: #008080; font-weight: bold\">3</span>, Bio:<span style=\"color: #008080; text-decoration-color: #008080; font-weight: bold\">-0.25</span> Cul:<span style=\"color: #008080; text-decoration-color: #008080; font-weight: bold\">-0.25</span> Emo:<span style=\"color: #008080; text-decoration-color: #008080; font-weight: bold\">-0.5</span>, <span style=\"color: #008000; text-decoration-color: #008000\">''</span>, <span style=\"color: #008000; text-decoration-color: #008000\">'sight_pattern_001_e'</span><span style=\"font-weight: bold\">]</span>,\n",
       "        <span style=\"color: #008000; text-decoration-color: #008000\">'sight_pattern_002_e'</span>: <span style=\"font-weight: bold\">[</span><span style=\"color: #008080; text-decoration-color: #008080; font-weight: bold\">4</span>, Bio:+<span style=\"color: #008080; text-decoration-color: #008080; font-weight: bold\">0.75</span> Cul:<span style=\"color: #008080; text-decoration-color: #008080; font-weight: bold\">-0.25</span> Emo:+<span style=\"color: #008080; text-decoration-color: #008080; font-weight: bold\">0.0</span>, <span style=\"color: #008000; text-decoration-color: #008000\">''</span>, <span style=\"color: #008000; text-decoration-color: #008000\">'sight_pattern_002_e'</span><span style=\"font-weight: bold\">]</span>,\n",
       "        <span style=\"color: #008000; text-decoration-color: #008000\">'sight_pattern_003_b'</span>: <span style=\"font-weight: bold\">[</span><span style=\"color: #008080; text-decoration-color: #008080; font-weight: bold\">5</span>, Bio:+<span style=\"color: #008080; text-decoration-color: #008080; font-weight: bold\">0.0</span> Cul:<span style=\"color: #008080; text-decoration-color: #008080; font-weight: bold\">-0.5</span> Emo:<span style=\"color: #008080; text-decoration-color: #008080; font-weight: bold\">-0.75</span>, <span style=\"color: #008000; text-decoration-color: #008000\">''</span>, <span style=\"color: #008000; text-decoration-color: #008000\">'sight_pattern_003_b'</span><span style=\"font-weight: bold\">]</span>,\n",
       "        <span style=\"color: #008000; text-decoration-color: #008000\">'sight_pattern_004_b'</span>: <span style=\"font-weight: bold\">[</span><span style=\"color: #008080; text-decoration-color: #008080; font-weight: bold\">6</span>, Bio:<span style=\"color: #008080; text-decoration-color: #008080; font-weight: bold\">-0.75</span> Cul:<span style=\"color: #008080; text-decoration-color: #008080; font-weight: bold\">-0.25</span> Emo:<span style=\"color: #008080; text-decoration-color: #008080; font-weight: bold\">-0.75</span>, <span style=\"color: #008000; text-decoration-color: #008000\">''</span>, <span style=\"color: #008000; text-decoration-color: #008000\">'sight_pattern_004_b'</span><span style=\"font-weight: bold\">]</span>,\n",
       "        <span style=\"color: #008000; text-decoration-color: #008000\">'sight_pattern_005_b'</span>: <span style=\"font-weight: bold\">[</span><span style=\"color: #008080; text-decoration-color: #008080; font-weight: bold\">7</span>, Bio:<span style=\"color: #008080; text-decoration-color: #008080; font-weight: bold\">-0.75</span> Cul:+<span style=\"color: #008080; text-decoration-color: #008080; font-weight: bold\">0.5</span> Emo:+<span style=\"color: #008080; text-decoration-color: #008080; font-weight: bold\">0.75</span>, <span style=\"color: #008000; text-decoration-color: #008000\">''</span>, <span style=\"color: #008000; text-decoration-color: #008000\">'sight_pattern_005_b'</span><span style=\"font-weight: bold\">]</span>,\n",
       "        <span style=\"color: #008000; text-decoration-color: #008000\">'sight_pattern_006_e'</span>: <span style=\"font-weight: bold\">[</span><span style=\"color: #008080; text-decoration-color: #008080; font-weight: bold\">8</span>, Bio:<span style=\"color: #008080; text-decoration-color: #008080; font-weight: bold\">-0.25</span> Cul:+<span style=\"color: #008080; text-decoration-color: #008080; font-weight: bold\">0.75</span> Emo:+<span style=\"color: #008080; text-decoration-color: #008080; font-weight: bold\">0.5</span>, <span style=\"color: #008000; text-decoration-color: #008000\">''</span>, <span style=\"color: #008000; text-decoration-color: #008000\">'sight_pattern_006_e'</span><span style=\"font-weight: bold\">]</span>,\n",
       "        <span style=\"color: #008000; text-decoration-color: #008000\">'sight_pattern_007_c'</span>: <span style=\"font-weight: bold\">[</span><span style=\"color: #008080; text-decoration-color: #008080; font-weight: bold\">9</span>, Bio:<span style=\"color: #008080; text-decoration-color: #008080; font-weight: bold\">-0.75</span> Cul:<span style=\"color: #008080; text-decoration-color: #008080; font-weight: bold\">-0.0</span> Emo:<span style=\"color: #008080; text-decoration-color: #008080; font-weight: bold\">-0.5</span>, <span style=\"color: #008000; text-decoration-color: #008000\">''</span>, <span style=\"color: #008000; text-decoration-color: #008000\">'sight_pattern_007_c'</span><span style=\"font-weight: bold\">]</span>,\n",
       "        <span style=\"color: #008000; text-decoration-color: #008000\">'sight_pattern_008_b'</span>: <span style=\"font-weight: bold\">[</span><span style=\"color: #008080; text-decoration-color: #008080; font-weight: bold\">10</span>, Bio:+<span style=\"color: #008080; text-decoration-color: #008080; font-weight: bold\">0.5</span> Cul:+<span style=\"color: #008080; text-decoration-color: #008080; font-weight: bold\">0.25</span> Emo:+<span style=\"color: #008080; text-decoration-color: #008080; font-weight: bold\">0.5</span>, <span style=\"color: #008000; text-decoration-color: #008000\">''</span>, <span style=\"color: #008000; text-decoration-color: #008000\">'sight_pattern_008_b'</span><span style=\"font-weight: bold\">]</span>,\n",
       "        <span style=\"color: #008000; text-decoration-color: #008000\">'sight_pattern_009_b'</span>: <span style=\"font-weight: bold\">[</span><span style=\"color: #008080; text-decoration-color: #008080; font-weight: bold\">11</span>, Bio:+<span style=\"color: #008080; text-decoration-color: #008080; font-weight: bold\">0.25</span> Cul:<span style=\"color: #008080; text-decoration-color: #008080; font-weight: bold\">-0.25</span> Emo:+<span style=\"color: #008080; text-decoration-color: #008080; font-weight: bold\">0.5</span>, <span style=\"color: #008000; text-decoration-color: #008000\">''</span>, <span style=\"color: #008000; text-decoration-color: #008000\">'sight_pattern_009_b'</span><span style=\"font-weight: bold\">]</span>\n",
       "    <span style=\"font-weight: bold\">}</span>,\n",
       "    <span style=\"font-weight: bold\">{</span>\n",
       "        <span style=\"color: #008000; text-decoration-color: #008000\">'hearing_pattern_zero_e'</span>: <span style=\"font-weight: bold\">[</span><span style=\"color: #008080; text-decoration-color: #008080; font-weight: bold\">0</span>, Bio:+<span style=\"color: #008080; text-decoration-color: #008080; font-weight: bold\">0.5</span> Cul:<span style=\"color: #008080; text-decoration-color: #008080; font-weight: bold\">-0.0</span> Emo:<span style=\"color: #008080; text-decoration-color: #008080; font-weight: bold\">-0.25</span>, <span style=\"color: #008000; text-decoration-color: #008000\">''</span>, <span style=\"color: #008000; text-decoration-color: #008000\">'hearing_pattern_zero_e'</span><span style=\"font-weight: bold\">]</span>,\n",
       "        <span style=\"color: #008000; text-decoration-color: #008000\">'hearing_pattern_zero2_e'</span>: <span style=\"font-weight: bold\">[</span><span style=\"color: #008080; text-decoration-color: #008080; font-weight: bold\">1</span>, Bio:+<span style=\"color: #008080; text-decoration-color: #008080; font-weight: bold\">0.0</span> Cul:<span style=\"color: #008080; text-decoration-color: #008080; font-weight: bold\">-0.75</span> Emo:<span style=\"color: #008080; text-decoration-color: #008080; font-weight: bold\">-0.5</span>, <span style=\"color: #008000; text-decoration-color: #008000\">''</span>, <span style=\"color: #008000; text-decoration-color: #008000\">'hearing_pattern_zero2_e'</span><span style=\"font-weight: bold\">]</span>,\n",
       "        <span style=\"color: #008000; text-decoration-color: #008000\">'hearing_pattern_000_e'</span>: <span style=\"font-weight: bold\">[</span><span style=\"color: #008080; text-decoration-color: #008080; font-weight: bold\">2</span>, Bio:<span style=\"color: #008080; text-decoration-color: #008080; font-weight: bold\">-0.0</span> Cul:<span style=\"color: #008080; text-decoration-color: #008080; font-weight: bold\">-0.0</span> Emo:<span style=\"color: #008080; text-decoration-color: #008080; font-weight: bold\">-0.5</span>, <span style=\"color: #008000; text-decoration-color: #008000\">''</span>, <span style=\"color: #008000; text-decoration-color: #008000\">'hearing_pattern_000_e'</span><span style=\"font-weight: bold\">]</span>,\n",
       "        <span style=\"color: #008000; text-decoration-color: #008000\">'hearing_pattern_001_e'</span>: <span style=\"font-weight: bold\">[</span><span style=\"color: #008080; text-decoration-color: #008080; font-weight: bold\">3</span>, Bio:<span style=\"color: #008080; text-decoration-color: #008080; font-weight: bold\">-0.75</span> Cul:+<span style=\"color: #008080; text-decoration-color: #008080; font-weight: bold\">0.75</span> Emo:+<span style=\"color: #008080; text-decoration-color: #008080; font-weight: bold\">0.0</span>, <span style=\"color: #008000; text-decoration-color: #008000\">''</span>, <span style=\"color: #008000; text-decoration-color: #008000\">'hearing_pattern_001_e'</span><span style=\"font-weight: bold\">]</span>,\n",
       "        <span style=\"color: #008000; text-decoration-color: #008000\">'hearing_pattern_002_e'</span>: <span style=\"font-weight: bold\">[</span><span style=\"color: #008080; text-decoration-color: #008080; font-weight: bold\">4</span>, Bio:+<span style=\"color: #008080; text-decoration-color: #008080; font-weight: bold\">0.5</span> Cul:<span style=\"color: #008080; text-decoration-color: #008080; font-weight: bold\">-0.0</span> Emo:<span style=\"color: #008080; text-decoration-color: #008080; font-weight: bold\">-0.75</span>, <span style=\"color: #008000; text-decoration-color: #008000\">''</span>, <span style=\"color: #008000; text-decoration-color: #008000\">'hearing_pattern_002_e'</span><span style=\"font-weight: bold\">]</span>,\n",
       "        <span style=\"color: #008000; text-decoration-color: #008000\">'hearing_pattern_003_b'</span>: <span style=\"font-weight: bold\">[</span><span style=\"color: #008080; text-decoration-color: #008080; font-weight: bold\">5</span>, Bio:+<span style=\"color: #008080; text-decoration-color: #008080; font-weight: bold\">0.0</span> Cul:+<span style=\"color: #008080; text-decoration-color: #008080; font-weight: bold\">0.75</span> Emo:+<span style=\"color: #008080; text-decoration-color: #008080; font-weight: bold\">0.5</span>, <span style=\"color: #008000; text-decoration-color: #008000\">''</span>, <span style=\"color: #008000; text-decoration-color: #008000\">'hearing_pattern_003_b'</span><span style=\"font-weight: bold\">]</span>,\n",
       "        <span style=\"color: #008000; text-decoration-color: #008000\">'hearing_pattern_004_b'</span>: <span style=\"font-weight: bold\">[</span><span style=\"color: #008080; text-decoration-color: #008080; font-weight: bold\">6</span>, Bio:+<span style=\"color: #008080; text-decoration-color: #008080; font-weight: bold\">0.75</span> Cul:+<span style=\"color: #008080; text-decoration-color: #008080; font-weight: bold\">0.25</span> Emo:+<span style=\"color: #008080; text-decoration-color: #008080; font-weight: bold\">0.5</span>, <span style=\"color: #008000; text-decoration-color: #008000\">''</span>, <span style=\"color: #008000; text-decoration-color: #008000\">'hearing_pattern_004_b'</span><span style=\"font-weight: bold\">]</span>,\n",
       "        <span style=\"color: #008000; text-decoration-color: #008000\">'hearing_pattern_005_b'</span>: <span style=\"font-weight: bold\">[</span><span style=\"color: #008080; text-decoration-color: #008080; font-weight: bold\">7</span>, Bio:+<span style=\"color: #008080; text-decoration-color: #008080; font-weight: bold\">0.75</span> Cul:<span style=\"color: #008080; text-decoration-color: #008080; font-weight: bold\">-0.25</span> Emo:<span style=\"color: #008080; text-decoration-color: #008080; font-weight: bold\">-0.0</span>, <span style=\"color: #008000; text-decoration-color: #008000\">''</span>, <span style=\"color: #008000; text-decoration-color: #008000\">'hearing_pattern_005_b'</span><span style=\"font-weight: bold\">]</span>,\n",
       "        <span style=\"color: #008000; text-decoration-color: #008000\">'hearing_pattern_006_e'</span>: <span style=\"font-weight: bold\">[</span><span style=\"color: #008080; text-decoration-color: #008080; font-weight: bold\">8</span>, Bio:<span style=\"color: #008080; text-decoration-color: #008080; font-weight: bold\">-0.0</span> Cul:+<span style=\"color: #008080; text-decoration-color: #008080; font-weight: bold\">0.0</span> Emo:+<span style=\"color: #008080; text-decoration-color: #008080; font-weight: bold\">0.0</span>, <span style=\"color: #008000; text-decoration-color: #008000\">''</span>, <span style=\"color: #008000; text-decoration-color: #008000\">'hearing_pattern_006_e'</span><span style=\"font-weight: bold\">]</span>,\n",
       "        <span style=\"color: #008000; text-decoration-color: #008000\">'hearing_pattern_007_c'</span>: <span style=\"font-weight: bold\">[</span><span style=\"color: #008080; text-decoration-color: #008080; font-weight: bold\">9</span>, Bio:+<span style=\"color: #008080; text-decoration-color: #008080; font-weight: bold\">0.25</span> Cul:<span style=\"color: #008080; text-decoration-color: #008080; font-weight: bold\">-0.5</span> Emo:+<span style=\"color: #008080; text-decoration-color: #008080; font-weight: bold\">0.0</span>, <span style=\"color: #008000; text-decoration-color: #008000\">''</span>, <span style=\"color: #008000; text-decoration-color: #008000\">'hearing_pattern_007_c'</span><span style=\"font-weight: bold\">]</span>,\n",
       "        <span style=\"color: #008000; text-decoration-color: #008000\">'hearing_pattern_008_b'</span>: <span style=\"font-weight: bold\">[</span><span style=\"color: #008080; text-decoration-color: #008080; font-weight: bold\">10</span>, Bio:<span style=\"color: #008080; text-decoration-color: #008080; font-weight: bold\">-0.0</span> Cul:+<span style=\"color: #008080; text-decoration-color: #008080; font-weight: bold\">0.0</span> Emo:+<span style=\"color: #008080; text-decoration-color: #008080; font-weight: bold\">0.25</span>, <span style=\"color: #008000; text-decoration-color: #008000\">''</span>, <span style=\"color: #008000; text-decoration-color: #008000\">'hearing_pattern_008_b'</span><span style=\"font-weight: bold\">]</span>,\n",
       "        <span style=\"color: #008000; text-decoration-color: #008000\">'hearing_pattern_009_b'</span>: <span style=\"font-weight: bold\">[</span><span style=\"color: #008080; text-decoration-color: #008080; font-weight: bold\">11</span>, Bio:+<span style=\"color: #008080; text-decoration-color: #008080; font-weight: bold\">0.0</span> Cul:+<span style=\"color: #008080; text-decoration-color: #008080; font-weight: bold\">0.25</span> Emo:<span style=\"color: #008080; text-decoration-color: #008080; font-weight: bold\">-0.0</span>, <span style=\"color: #008000; text-decoration-color: #008000\">''</span>, <span style=\"color: #008000; text-decoration-color: #008000\">'hearing_pattern_009_b'</span><span style=\"font-weight: bold\">]</span>\n",
       "    <span style=\"font-weight: bold\">}</span>,\n",
       "    <span style=\"font-weight: bold\">{</span>\n",
       "        <span style=\"color: #008000; text-decoration-color: #008000\">'smell_pattern_zero_e'</span>: <span style=\"font-weight: bold\">[</span><span style=\"color: #008080; text-decoration-color: #008080; font-weight: bold\">0</span>, Bio:+<span style=\"color: #008080; text-decoration-color: #008080; font-weight: bold\">0.25</span> Cul:<span style=\"color: #008080; text-decoration-color: #008080; font-weight: bold\">-0.25</span> Emo:+<span style=\"color: #008080; text-decoration-color: #008080; font-weight: bold\">0.5</span>, <span style=\"color: #008000; text-decoration-color: #008000\">''</span>, <span style=\"color: #008000; text-decoration-color: #008000\">'smell_pattern_zero_e'</span><span style=\"font-weight: bold\">]</span>,\n",
       "        <span style=\"color: #008000; text-decoration-color: #008000\">'smell_pattern_zero2_e'</span>: <span style=\"font-weight: bold\">[</span><span style=\"color: #008080; text-decoration-color: #008080; font-weight: bold\">1</span>, Bio:<span style=\"color: #008080; text-decoration-color: #008080; font-weight: bold\">-0.0</span> Cul:+<span style=\"color: #008080; text-decoration-color: #008080; font-weight: bold\">0.5</span> Emo:+<span style=\"color: #008080; text-decoration-color: #008080; font-weight: bold\">0.75</span>, <span style=\"color: #008000; text-decoration-color: #008000\">''</span>, <span style=\"color: #008000; text-decoration-color: #008000\">'smell_pattern_zero2_e'</span><span style=\"font-weight: bold\">]</span>,\n",
       "        <span style=\"color: #008000; text-decoration-color: #008000\">'smell_pattern_000_e'</span>: <span style=\"font-weight: bold\">[</span><span style=\"color: #008080; text-decoration-color: #008080; font-weight: bold\">2</span>, Bio:+<span style=\"color: #008080; text-decoration-color: #008080; font-weight: bold\">0.25</span> Cul:+<span style=\"color: #008080; text-decoration-color: #008080; font-weight: bold\">0.25</span> Emo:+<span style=\"color: #008080; text-decoration-color: #008080; font-weight: bold\">0.0</span>, <span style=\"color: #008000; text-decoration-color: #008000\">''</span>, <span style=\"color: #008000; text-decoration-color: #008000\">'smell_pattern_000_e'</span><span style=\"font-weight: bold\">]</span>,\n",
       "        <span style=\"color: #008000; text-decoration-color: #008000\">'smell_pattern_001_e'</span>: <span style=\"font-weight: bold\">[</span><span style=\"color: #008080; text-decoration-color: #008080; font-weight: bold\">3</span>, Bio:<span style=\"color: #008080; text-decoration-color: #008080; font-weight: bold\">-0.0</span> Cul:<span style=\"color: #008080; text-decoration-color: #008080; font-weight: bold\">-0.25</span> Emo:<span style=\"color: #008080; text-decoration-color: #008080; font-weight: bold\">-0.75</span>, <span style=\"color: #008000; text-decoration-color: #008000\">''</span>, <span style=\"color: #008000; text-decoration-color: #008000\">'smell_pattern_001_e'</span><span style=\"font-weight: bold\">]</span>,\n",
       "        <span style=\"color: #008000; text-decoration-color: #008000\">'smell_pattern_002_e'</span>: <span style=\"font-weight: bold\">[</span><span style=\"color: #008080; text-decoration-color: #008080; font-weight: bold\">4</span>, Bio:<span style=\"color: #008080; text-decoration-color: #008080; font-weight: bold\">-0.75</span> Cul:<span style=\"color: #008080; text-decoration-color: #008080; font-weight: bold\">-0.5</span> Emo:<span style=\"color: #008080; text-decoration-color: #008080; font-weight: bold\">-0.75</span>, <span style=\"color: #008000; text-decoration-color: #008000\">''</span>, <span style=\"color: #008000; text-decoration-color: #008000\">'smell_pattern_002_e'</span><span style=\"font-weight: bold\">]</span>,\n",
       "        <span style=\"color: #008000; text-decoration-color: #008000\">'smell_pattern_003_b'</span>: <span style=\"font-weight: bold\">[</span><span style=\"color: #008080; text-decoration-color: #008080; font-weight: bold\">5</span>, Bio:<span style=\"color: #008080; text-decoration-color: #008080; font-weight: bold\">-0.75</span> Cul:+<span style=\"color: #008080; text-decoration-color: #008080; font-weight: bold\">0.0</span> Emo:<span style=\"color: #008080; text-decoration-color: #008080; font-weight: bold\">-0.0</span>, <span style=\"color: #008000; text-decoration-color: #008000\">''</span>, <span style=\"color: #008000; text-decoration-color: #008000\">'smell_pattern_003_b'</span><span style=\"font-weight: bold\">]</span>,\n",
       "        <span style=\"color: #008000; text-decoration-color: #008000\">'smell_pattern_004_b'</span>: <span style=\"font-weight: bold\">[</span><span style=\"color: #008080; text-decoration-color: #008080; font-weight: bold\">6</span>, Bio:<span style=\"color: #008080; text-decoration-color: #008080; font-weight: bold\">-0.75</span> Cul:+<span style=\"color: #008080; text-decoration-color: #008080; font-weight: bold\">0.5</span> Emo:+<span style=\"color: #008080; text-decoration-color: #008080; font-weight: bold\">0.75</span>, <span style=\"color: #008000; text-decoration-color: #008000\">''</span>, <span style=\"color: #008000; text-decoration-color: #008000\">'smell_pattern_004_b'</span><span style=\"font-weight: bold\">]</span>,\n",
       "        <span style=\"color: #008000; text-decoration-color: #008000\">'smell_pattern_005_b'</span>: <span style=\"font-weight: bold\">[</span><span style=\"color: #008080; text-decoration-color: #008080; font-weight: bold\">7</span>, Bio:+<span style=\"color: #008080; text-decoration-color: #008080; font-weight: bold\">0.5</span> Cul:<span style=\"color: #008080; text-decoration-color: #008080; font-weight: bold\">-0.5</span> Emo:<span style=\"color: #008080; text-decoration-color: #008080; font-weight: bold\">-0.75</span>, <span style=\"color: #008000; text-decoration-color: #008000\">''</span>, <span style=\"color: #008000; text-decoration-color: #008000\">'smell_pattern_005_b'</span><span style=\"font-weight: bold\">]</span>,\n",
       "        <span style=\"color: #008000; text-decoration-color: #008000\">'smell_pattern_006_e'</span>: <span style=\"font-weight: bold\">[</span><span style=\"color: #008080; text-decoration-color: #008080; font-weight: bold\">8</span>, Bio:+<span style=\"color: #008080; text-decoration-color: #008080; font-weight: bold\">0.0</span> Cul:<span style=\"color: #008080; text-decoration-color: #008080; font-weight: bold\">-0.75</span> Emo:+<span style=\"color: #008080; text-decoration-color: #008080; font-weight: bold\">0.0</span>, <span style=\"color: #008000; text-decoration-color: #008000\">''</span>, <span style=\"color: #008000; text-decoration-color: #008000\">'smell_pattern_006_e'</span><span style=\"font-weight: bold\">]</span>,\n",
       "        <span style=\"color: #008000; text-decoration-color: #008000\">'smell_pattern_007_c'</span>: <span style=\"font-weight: bold\">[</span><span style=\"color: #008080; text-decoration-color: #008080; font-weight: bold\">9</span>, Bio:<span style=\"color: #008080; text-decoration-color: #008080; font-weight: bold\">-0.75</span> Cul:<span style=\"color: #008080; text-decoration-color: #008080; font-weight: bold\">-0.75</span> Emo:<span style=\"color: #008080; text-decoration-color: #008080; font-weight: bold\">-0.5</span>, <span style=\"color: #008000; text-decoration-color: #008000\">''</span>, <span style=\"color: #008000; text-decoration-color: #008000\">'smell_pattern_007_c'</span><span style=\"font-weight: bold\">]</span>,\n",
       "        <span style=\"color: #008000; text-decoration-color: #008000\">'smell_pattern_008_b'</span>: <span style=\"font-weight: bold\">[</span><span style=\"color: #008080; text-decoration-color: #008080; font-weight: bold\">10</span>, Bio:+<span style=\"color: #008080; text-decoration-color: #008080; font-weight: bold\">0.0</span> Cul:+<span style=\"color: #008080; text-decoration-color: #008080; font-weight: bold\">0.75</span> Emo:+<span style=\"color: #008080; text-decoration-color: #008080; font-weight: bold\">0.5</span>, <span style=\"color: #008000; text-decoration-color: #008000\">''</span>, <span style=\"color: #008000; text-decoration-color: #008000\">'smell_pattern_008_b'</span><span style=\"font-weight: bold\">]</span>,\n",
       "        <span style=\"color: #008000; text-decoration-color: #008000\">'smell_pattern_009_b'</span>: <span style=\"font-weight: bold\">[</span><span style=\"color: #008080; text-decoration-color: #008080; font-weight: bold\">11</span>, Bio:<span style=\"color: #008080; text-decoration-color: #008080; font-weight: bold\">-0.75</span> Cul:<span style=\"color: #008080; text-decoration-color: #008080; font-weight: bold\">-0.5</span> Emo:<span style=\"color: #008080; text-decoration-color: #008080; font-weight: bold\">-0.5</span>, <span style=\"color: #008000; text-decoration-color: #008000\">''</span>, <span style=\"color: #008000; text-decoration-color: #008000\">'smell_pattern_009_b'</span><span style=\"font-weight: bold\">]</span>\n",
       "    <span style=\"font-weight: bold\">}</span>,\n",
       "    <span style=\"font-weight: bold\">{</span>\n",
       "        <span style=\"color: #008000; text-decoration-color: #008000\">'taste_pattern_zero_e'</span>: <span style=\"font-weight: bold\">[</span><span style=\"color: #008080; text-decoration-color: #008080; font-weight: bold\">0</span>, Bio:<span style=\"color: #008080; text-decoration-color: #008080; font-weight: bold\">-0.75</span> Cul:+<span style=\"color: #008080; text-decoration-color: #008080; font-weight: bold\">0.75</span> Emo:<span style=\"color: #008080; text-decoration-color: #008080; font-weight: bold\">-0.25</span>, <span style=\"color: #008000; text-decoration-color: #008000\">''</span>, <span style=\"color: #008000; text-decoration-color: #008000\">'taste_pattern_zero_e'</span><span style=\"font-weight: bold\">]</span>,\n",
       "        <span style=\"color: #008000; text-decoration-color: #008000\">'taste_pattern_zero2_e'</span>: <span style=\"font-weight: bold\">[</span><span style=\"color: #008080; text-decoration-color: #008080; font-weight: bold\">1</span>, Bio:+<span style=\"color: #008080; text-decoration-color: #008080; font-weight: bold\">0.75</span> Cul:+<span style=\"color: #008080; text-decoration-color: #008080; font-weight: bold\">0.0</span> Emo:+<span style=\"color: #008080; text-decoration-color: #008080; font-weight: bold\">0.5</span>, <span style=\"color: #008000; text-decoration-color: #008000\">''</span>, <span style=\"color: #008000; text-decoration-color: #008000\">'taste_pattern_zero2_e'</span><span style=\"font-weight: bold\">]</span>,\n",
       "        <span style=\"color: #008000; text-decoration-color: #008000\">'taste_pattern_000_e'</span>: <span style=\"font-weight: bold\">[</span><span style=\"color: #008080; text-decoration-color: #008080; font-weight: bold\">2</span>, Bio:<span style=\"color: #008080; text-decoration-color: #008080; font-weight: bold\">-0.25</span> Cul:<span style=\"color: #008080; text-decoration-color: #008080; font-weight: bold\">-0.25</span> Emo:<span style=\"color: #008080; text-decoration-color: #008080; font-weight: bold\">-0.75</span>, <span style=\"color: #008000; text-decoration-color: #008000\">''</span>, <span style=\"color: #008000; text-decoration-color: #008000\">'taste_pattern_000_e'</span><span style=\"font-weight: bold\">]</span>,\n",
       "        <span style=\"color: #008000; text-decoration-color: #008000\">'taste_pattern_001_e'</span>: <span style=\"font-weight: bold\">[</span><span style=\"color: #008080; text-decoration-color: #008080; font-weight: bold\">3</span>, Bio:+<span style=\"color: #008080; text-decoration-color: #008080; font-weight: bold\">0.75</span> Cul:<span style=\"color: #008080; text-decoration-color: #008080; font-weight: bold\">-0.5</span> Emo:<span style=\"color: #008080; text-decoration-color: #008080; font-weight: bold\">-0.0</span>, <span style=\"color: #008000; text-decoration-color: #008000\">''</span>, <span style=\"color: #008000; text-decoration-color: #008000\">'taste_pattern_001_e'</span><span style=\"font-weight: bold\">]</span>,\n",
       "        <span style=\"color: #008000; text-decoration-color: #008000\">'taste_pattern_002_e'</span>: <span style=\"font-weight: bold\">[</span><span style=\"color: #008080; text-decoration-color: #008080; font-weight: bold\">4</span>, Bio:<span style=\"color: #008080; text-decoration-color: #008080; font-weight: bold\">-0.5</span> Cul:<span style=\"color: #008080; text-decoration-color: #008080; font-weight: bold\">-0.5</span> Emo:<span style=\"color: #008080; text-decoration-color: #008080; font-weight: bold\">-0.75</span>, <span style=\"color: #008000; text-decoration-color: #008000\">''</span>, <span style=\"color: #008000; text-decoration-color: #008000\">'taste_pattern_002_e'</span><span style=\"font-weight: bold\">]</span>,\n",
       "        <span style=\"color: #008000; text-decoration-color: #008000\">'taste_pattern_003_b'</span>: <span style=\"font-weight: bold\">[</span><span style=\"color: #008080; text-decoration-color: #008080; font-weight: bold\">5</span>, Bio:+<span style=\"color: #008080; text-decoration-color: #008080; font-weight: bold\">0.75</span> Cul:<span style=\"color: #008080; text-decoration-color: #008080; font-weight: bold\">-0.75</span> Emo:+<span style=\"color: #008080; text-decoration-color: #008080; font-weight: bold\">0.75</span>, <span style=\"color: #008000; text-decoration-color: #008000\">''</span>, <span style=\"color: #008000; text-decoration-color: #008000\">'taste_pattern_003_b'</span><span style=\"font-weight: bold\">]</span>,\n",
       "        <span style=\"color: #008000; text-decoration-color: #008000\">'taste_pattern_004_b'</span>: <span style=\"font-weight: bold\">[</span><span style=\"color: #008080; text-decoration-color: #008080; font-weight: bold\">6</span>, Bio:+<span style=\"color: #008080; text-decoration-color: #008080; font-weight: bold\">0.25</span> Cul:+<span style=\"color: #008080; text-decoration-color: #008080; font-weight: bold\">0.75</span> Emo:+<span style=\"color: #008080; text-decoration-color: #008080; font-weight: bold\">0.75</span>, <span style=\"color: #008000; text-decoration-color: #008000\">''</span>, <span style=\"color: #008000; text-decoration-color: #008000\">'taste_pattern_004_b'</span><span style=\"font-weight: bold\">]</span>,\n",
       "        <span style=\"color: #008000; text-decoration-color: #008000\">'taste_pattern_005_b'</span>: <span style=\"font-weight: bold\">[</span><span style=\"color: #008080; text-decoration-color: #008080; font-weight: bold\">7</span>, Bio:<span style=\"color: #008080; text-decoration-color: #008080; font-weight: bold\">-0.75</span> Cul:<span style=\"color: #008080; text-decoration-color: #008080; font-weight: bold\">-0.75</span> Emo:<span style=\"color: #008080; text-decoration-color: #008080; font-weight: bold\">-0.5</span>, <span style=\"color: #008000; text-decoration-color: #008000\">''</span>, <span style=\"color: #008000; text-decoration-color: #008000\">'taste_pattern_005_b'</span><span style=\"font-weight: bold\">]</span>,\n",
       "        <span style=\"color: #008000; text-decoration-color: #008000\">'taste_pattern_006_e'</span>: <span style=\"font-weight: bold\">[</span><span style=\"color: #008080; text-decoration-color: #008080; font-weight: bold\">8</span>, Bio:<span style=\"color: #008080; text-decoration-color: #008080; font-weight: bold\">-0.0</span> Cul:+<span style=\"color: #008080; text-decoration-color: #008080; font-weight: bold\">0.5</span> Emo:+<span style=\"color: #008080; text-decoration-color: #008080; font-weight: bold\">0.0</span>, <span style=\"color: #008000; text-decoration-color: #008000\">''</span>, <span style=\"color: #008000; text-decoration-color: #008000\">'taste_pattern_006_e'</span><span style=\"font-weight: bold\">]</span>,\n",
       "        <span style=\"color: #008000; text-decoration-color: #008000\">'taste_pattern_007_c'</span>: <span style=\"font-weight: bold\">[</span><span style=\"color: #008080; text-decoration-color: #008080; font-weight: bold\">9</span>, Bio:+<span style=\"color: #008080; text-decoration-color: #008080; font-weight: bold\">0.25</span> Cul:+<span style=\"color: #008080; text-decoration-color: #008080; font-weight: bold\">0.75</span> Emo:+<span style=\"color: #008080; text-decoration-color: #008080; font-weight: bold\">0.5</span>, <span style=\"color: #008000; text-decoration-color: #008000\">''</span>, <span style=\"color: #008000; text-decoration-color: #008000\">'taste_pattern_007_c'</span><span style=\"font-weight: bold\">]</span>,\n",
       "        <span style=\"color: #008000; text-decoration-color: #008000\">'taste_pattern_008_b'</span>: <span style=\"font-weight: bold\">[</span><span style=\"color: #008080; text-decoration-color: #008080; font-weight: bold\">10</span>, Bio:<span style=\"color: #008080; text-decoration-color: #008080; font-weight: bold\">-0.0</span> Cul:<span style=\"color: #008080; text-decoration-color: #008080; font-weight: bold\">-0.0</span> Emo:<span style=\"color: #008080; text-decoration-color: #008080; font-weight: bold\">-0.25</span>, <span style=\"color: #008000; text-decoration-color: #008000\">''</span>, <span style=\"color: #008000; text-decoration-color: #008000\">'taste_pattern_008_b'</span><span style=\"font-weight: bold\">]</span>,\n",
       "        <span style=\"color: #008000; text-decoration-color: #008000\">'taste_pattern_009_b'</span>: <span style=\"font-weight: bold\">[</span><span style=\"color: #008080; text-decoration-color: #008080; font-weight: bold\">11</span>, Bio:<span style=\"color: #008080; text-decoration-color: #008080; font-weight: bold\">-0.75</span> Cul:+<span style=\"color: #008080; text-decoration-color: #008080; font-weight: bold\">0.25</span> Emo:<span style=\"color: #008080; text-decoration-color: #008080; font-weight: bold\">-0.5</span>, <span style=\"color: #008000; text-decoration-color: #008000\">''</span>, <span style=\"color: #008000; text-decoration-color: #008000\">'taste_pattern_009_b'</span><span style=\"font-weight: bold\">]</span>\n",
       "    <span style=\"font-weight: bold\">}</span>,\n",
       "    <span style=\"font-weight: bold\">{</span>\n",
       "        <span style=\"color: #008000; text-decoration-color: #008000\">'touch_pattern_zero_e'</span>: <span style=\"font-weight: bold\">[</span><span style=\"color: #008080; text-decoration-color: #008080; font-weight: bold\">0</span>, Bio:<span style=\"color: #008080; text-decoration-color: #008080; font-weight: bold\">-0.75</span> Cul:<span style=\"color: #008080; text-decoration-color: #008080; font-weight: bold\">-0.75</span> Emo:+<span style=\"color: #008080; text-decoration-color: #008080; font-weight: bold\">0.75</span>, <span style=\"color: #008000; text-decoration-color: #008000\">''</span>, <span style=\"color: #008000; text-decoration-color: #008000\">'touch_pattern_zero_e'</span><span style=\"font-weight: bold\">]</span>,\n",
       "        <span style=\"color: #008000; text-decoration-color: #008000\">'touch_pattern_zero2_e'</span>: <span style=\"font-weight: bold\">[</span><span style=\"color: #008080; text-decoration-color: #008080; font-weight: bold\">1</span>, Bio:+<span style=\"color: #008080; text-decoration-color: #008080; font-weight: bold\">0.5</span> Cul:+<span style=\"color: #008080; text-decoration-color: #008080; font-weight: bold\">0.75</span> Emo:+<span style=\"color: #008080; text-decoration-color: #008080; font-weight: bold\">0.75</span>, <span style=\"color: #008000; text-decoration-color: #008000\">''</span>, <span style=\"color: #008000; text-decoration-color: #008000\">'touch_pattern_zero2_e'</span><span style=\"font-weight: bold\">]</span>,\n",
       "        <span style=\"color: #008000; text-decoration-color: #008000\">'touch_pattern_000_e'</span>: <span style=\"font-weight: bold\">[</span><span style=\"color: #008080; text-decoration-color: #008080; font-weight: bold\">2</span>, Bio:<span style=\"color: #008080; text-decoration-color: #008080; font-weight: bold\">-0.75</span> Cul:+<span style=\"color: #008080; text-decoration-color: #008080; font-weight: bold\">0.25</span> Emo:<span style=\"color: #008080; text-decoration-color: #008080; font-weight: bold\">-0.5</span>, <span style=\"color: #008000; text-decoration-color: #008000\">''</span>, <span style=\"color: #008000; text-decoration-color: #008000\">'touch_pattern_000_e'</span><span style=\"font-weight: bold\">]</span>,\n",
       "        <span style=\"color: #008000; text-decoration-color: #008000\">'touch_pattern_001_e'</span>: <span style=\"font-weight: bold\">[</span><span style=\"color: #008080; text-decoration-color: #008080; font-weight: bold\">3</span>, Bio:+<span style=\"color: #008080; text-decoration-color: #008080; font-weight: bold\">0.75</span> Cul:<span style=\"color: #008080; text-decoration-color: #008080; font-weight: bold\">-0.75</span> Emo:+<span style=\"color: #008080; text-decoration-color: #008080; font-weight: bold\">0.5</span>, <span style=\"color: #008000; text-decoration-color: #008000\">''</span>, <span style=\"color: #008000; text-decoration-color: #008000\">'touch_pattern_001_e'</span><span style=\"font-weight: bold\">]</span>,\n",
       "        <span style=\"color: #008000; text-decoration-color: #008000\">'touch_pattern_002_e'</span>: <span style=\"font-weight: bold\">[</span><span style=\"color: #008080; text-decoration-color: #008080; font-weight: bold\">4</span>, Bio:+<span style=\"color: #008080; text-decoration-color: #008080; font-weight: bold\">0.0</span> Cul:<span style=\"color: #008080; text-decoration-color: #008080; font-weight: bold\">-0.5</span> Emo:<span style=\"color: #008080; text-decoration-color: #008080; font-weight: bold\">-0.0</span>, <span style=\"color: #008000; text-decoration-color: #008000\">''</span>, <span style=\"color: #008000; text-decoration-color: #008000\">'touch_pattern_002_e'</span><span style=\"font-weight: bold\">]</span>,\n",
       "        <span style=\"color: #008000; text-decoration-color: #008000\">'touch_pattern_003_b'</span>: <span style=\"font-weight: bold\">[</span><span style=\"color: #008080; text-decoration-color: #008080; font-weight: bold\">5</span>, Bio:<span style=\"color: #008080; text-decoration-color: #008080; font-weight: bold\">-0.0</span> Cul:<span style=\"color: #008080; text-decoration-color: #008080; font-weight: bold\">-0.75</span> Emo:<span style=\"color: #008080; text-decoration-color: #008080; font-weight: bold\">-0.0</span>, <span style=\"color: #008000; text-decoration-color: #008000\">''</span>, <span style=\"color: #008000; text-decoration-color: #008000\">'touch_pattern_003_b'</span><span style=\"font-weight: bold\">]</span>,\n",
       "        <span style=\"color: #008000; text-decoration-color: #008000\">'touch_pattern_004_b'</span>: <span style=\"font-weight: bold\">[</span><span style=\"color: #008080; text-decoration-color: #008080; font-weight: bold\">6</span>, Bio:<span style=\"color: #008080; text-decoration-color: #008080; font-weight: bold\">-0.0</span> Cul:<span style=\"color: #008080; text-decoration-color: #008080; font-weight: bold\">-0.5</span> Emo:+<span style=\"color: #008080; text-decoration-color: #008080; font-weight: bold\">0.5</span>, <span style=\"color: #008000; text-decoration-color: #008000\">''</span>, <span style=\"color: #008000; text-decoration-color: #008000\">'touch_pattern_004_b'</span><span style=\"font-weight: bold\">]</span>,\n",
       "        <span style=\"color: #008000; text-decoration-color: #008000\">'touch_pattern_005_b'</span>: <span style=\"font-weight: bold\">[</span><span style=\"color: #008080; text-decoration-color: #008080; font-weight: bold\">7</span>, Bio:+<span style=\"color: #008080; text-decoration-color: #008080; font-weight: bold\">0.5</span> Cul:+<span style=\"color: #008080; text-decoration-color: #008080; font-weight: bold\">0.25</span> Emo:+<span style=\"color: #008080; text-decoration-color: #008080; font-weight: bold\">0.25</span>, <span style=\"color: #008000; text-decoration-color: #008000\">''</span>, <span style=\"color: #008000; text-decoration-color: #008000\">'touch_pattern_005_b'</span><span style=\"font-weight: bold\">]</span>,\n",
       "        <span style=\"color: #008000; text-decoration-color: #008000\">'touch_pattern_006_e'</span>: <span style=\"font-weight: bold\">[</span><span style=\"color: #008080; text-decoration-color: #008080; font-weight: bold\">8</span>, Bio:<span style=\"color: #008080; text-decoration-color: #008080; font-weight: bold\">-0.25</span> Cul:<span style=\"color: #008080; text-decoration-color: #008080; font-weight: bold\">-0.75</span> Emo:<span style=\"color: #008080; text-decoration-color: #008080; font-weight: bold\">-0.75</span>, <span style=\"color: #008000; text-decoration-color: #008000\">''</span>, <span style=\"color: #008000; text-decoration-color: #008000\">'touch_pattern_006_e'</span><span style=\"font-weight: bold\">]</span>,\n",
       "        <span style=\"color: #008000; text-decoration-color: #008000\">'touch_pattern_007_c'</span>: <span style=\"font-weight: bold\">[</span><span style=\"color: #008080; text-decoration-color: #008080; font-weight: bold\">9</span>, Bio:<span style=\"color: #008080; text-decoration-color: #008080; font-weight: bold\">-0.25</span> Cul:<span style=\"color: #008080; text-decoration-color: #008080; font-weight: bold\">-0.5</span> Emo:+<span style=\"color: #008080; text-decoration-color: #008080; font-weight: bold\">0.25</span>, <span style=\"color: #008000; text-decoration-color: #008000\">''</span>, <span style=\"color: #008000; text-decoration-color: #008000\">'touch_pattern_007_c'</span><span style=\"font-weight: bold\">]</span>,\n",
       "        <span style=\"color: #008000; text-decoration-color: #008000\">'touch_pattern_008_b'</span>: <span style=\"font-weight: bold\">[</span><span style=\"color: #008080; text-decoration-color: #008080; font-weight: bold\">10</span>, Bio:+<span style=\"color: #008080; text-decoration-color: #008080; font-weight: bold\">0.5</span> Cul:<span style=\"color: #008080; text-decoration-color: #008080; font-weight: bold\">-0.0</span> Emo:+<span style=\"color: #008080; text-decoration-color: #008080; font-weight: bold\">0.5</span>, <span style=\"color: #008000; text-decoration-color: #008000\">''</span>, <span style=\"color: #008000; text-decoration-color: #008000\">'touch_pattern_008_b'</span><span style=\"font-weight: bold\">]</span>,\n",
       "        <span style=\"color: #008000; text-decoration-color: #008000\">'touch_pattern_009_b'</span>: <span style=\"font-weight: bold\">[</span><span style=\"color: #008080; text-decoration-color: #008080; font-weight: bold\">11</span>, Bio:<span style=\"color: #008080; text-decoration-color: #008080; font-weight: bold\">-0.25</span> Cul:+<span style=\"color: #008080; text-decoration-color: #008080; font-weight: bold\">0.0</span> Emo:<span style=\"color: #008080; text-decoration-color: #008080; font-weight: bold\">-0.75</span>, <span style=\"color: #008000; text-decoration-color: #008000\">''</span>, <span style=\"color: #008000; text-decoration-color: #008000\">'touch_pattern_009_b'</span><span style=\"font-weight: bold\">]</span>\n",
       "    <span style=\"font-weight: bold\">}</span>,\n",
       "    <span style=\"font-weight: bold\">{</span>\n",
       "        <span style=\"color: #008000; text-decoration-color: #008000\">'body_pattern_zero_e'</span>: <span style=\"font-weight: bold\">[</span><span style=\"color: #008080; text-decoration-color: #008080; font-weight: bold\">0</span>, Bio:+<span style=\"color: #008080; text-decoration-color: #008080; font-weight: bold\">0.0</span> Cul:<span style=\"color: #008080; text-decoration-color: #008080; font-weight: bold\">-0.0</span> Emo:<span style=\"color: #008080; text-decoration-color: #008080; font-weight: bold\">-0.75</span>, <span style=\"color: #008000; text-decoration-color: #008000\">''</span>, <span style=\"color: #008000; text-decoration-color: #008000\">'body_pattern_zero_e'</span><span style=\"font-weight: bold\">]</span>,\n",
       "        <span style=\"color: #008000; text-decoration-color: #008000\">'body_pattern_zero2_e'</span>: <span style=\"font-weight: bold\">[</span><span style=\"color: #008080; text-decoration-color: #008080; font-weight: bold\">1</span>, Bio:+<span style=\"color: #008080; text-decoration-color: #008080; font-weight: bold\">0.0</span> Cul:+<span style=\"color: #008080; text-decoration-color: #008080; font-weight: bold\">0.0</span> Emo:<span style=\"color: #008080; text-decoration-color: #008080; font-weight: bold\">-0.75</span>, <span style=\"color: #008000; text-decoration-color: #008000\">''</span>, <span style=\"color: #008000; text-decoration-color: #008000\">'body_pattern_zero2_e'</span><span style=\"font-weight: bold\">]</span>,\n",
       "        <span style=\"color: #008000; text-decoration-color: #008000\">'body_pattern_000_e'</span>: <span style=\"font-weight: bold\">[</span><span style=\"color: #008080; text-decoration-color: #008080; font-weight: bold\">2</span>, Bio:<span style=\"color: #008080; text-decoration-color: #008080; font-weight: bold\">-0.0</span> Cul:+<span style=\"color: #008080; text-decoration-color: #008080; font-weight: bold\">0.25</span> Emo:+<span style=\"color: #008080; text-decoration-color: #008080; font-weight: bold\">0.75</span>, <span style=\"color: #008000; text-decoration-color: #008000\">''</span>, <span style=\"color: #008000; text-decoration-color: #008000\">'body_pattern_000_e'</span><span style=\"font-weight: bold\">]</span>,\n",
       "        <span style=\"color: #008000; text-decoration-color: #008000\">'body_pattern_001_e'</span>: <span style=\"font-weight: bold\">[</span><span style=\"color: #008080; text-decoration-color: #008080; font-weight: bold\">3</span>, Bio:<span style=\"color: #008080; text-decoration-color: #008080; font-weight: bold\">-0.5</span> Cul:<span style=\"color: #008080; text-decoration-color: #008080; font-weight: bold\">-0.75</span> Emo:<span style=\"color: #008080; text-decoration-color: #008080; font-weight: bold\">-0.0</span>, <span style=\"color: #008000; text-decoration-color: #008000\">''</span>, <span style=\"color: #008000; text-decoration-color: #008000\">'body_pattern_001_e'</span><span style=\"font-weight: bold\">]</span>,\n",
       "        <span style=\"color: #008000; text-decoration-color: #008000\">'body_pattern_002_e'</span>: <span style=\"font-weight: bold\">[</span><span style=\"color: #008080; text-decoration-color: #008080; font-weight: bold\">4</span>, Bio:+<span style=\"color: #008080; text-decoration-color: #008080; font-weight: bold\">0.0</span> Cul:+<span style=\"color: #008080; text-decoration-color: #008080; font-weight: bold\">0.25</span> Emo:+<span style=\"color: #008080; text-decoration-color: #008080; font-weight: bold\">0.5</span>, <span style=\"color: #008000; text-decoration-color: #008000\">''</span>, <span style=\"color: #008000; text-decoration-color: #008000\">'body_pattern_002_e'</span><span style=\"font-weight: bold\">]</span>,\n",
       "        <span style=\"color: #008000; text-decoration-color: #008000\">'body_pattern_003_b'</span>: <span style=\"font-weight: bold\">[</span><span style=\"color: #008080; text-decoration-color: #008080; font-weight: bold\">5</span>, Bio:<span style=\"color: #008080; text-decoration-color: #008080; font-weight: bold\">-0.5</span> Cul:<span style=\"color: #008080; text-decoration-color: #008080; font-weight: bold\">-0.75</span> Emo:<span style=\"color: #008080; text-decoration-color: #008080; font-weight: bold\">-0.25</span>, <span style=\"color: #008000; text-decoration-color: #008000\">''</span>, <span style=\"color: #008000; text-decoration-color: #008000\">'body_pattern_003_b'</span><span style=\"font-weight: bold\">]</span>,\n",
       "        <span style=\"color: #008000; text-decoration-color: #008000\">'body_pattern_004_b'</span>: <span style=\"font-weight: bold\">[</span><span style=\"color: #008080; text-decoration-color: #008080; font-weight: bold\">6</span>, Bio:<span style=\"color: #008080; text-decoration-color: #008080; font-weight: bold\">-0.75</span> Cul:+<span style=\"color: #008080; text-decoration-color: #008080; font-weight: bold\">0.5</span> Emo:<span style=\"color: #008080; text-decoration-color: #008080; font-weight: bold\">-0.5</span>, <span style=\"color: #008000; text-decoration-color: #008000\">''</span>, <span style=\"color: #008000; text-decoration-color: #008000\">'body_pattern_004_b'</span><span style=\"font-weight: bold\">]</span>,\n",
       "        <span style=\"color: #008000; text-decoration-color: #008000\">'body_pattern_005_b'</span>: <span style=\"font-weight: bold\">[</span><span style=\"color: #008080; text-decoration-color: #008080; font-weight: bold\">7</span>, Bio:+<span style=\"color: #008080; text-decoration-color: #008080; font-weight: bold\">0.25</span> Cul:+<span style=\"color: #008080; text-decoration-color: #008080; font-weight: bold\">0.5</span> Emo:<span style=\"color: #008080; text-decoration-color: #008080; font-weight: bold\">-0.0</span>, <span style=\"color: #008000; text-decoration-color: #008000\">''</span>, <span style=\"color: #008000; text-decoration-color: #008000\">'body_pattern_005_b'</span><span style=\"font-weight: bold\">]</span>,\n",
       "        <span style=\"color: #008000; text-decoration-color: #008000\">'body_pattern_006_e'</span>: <span style=\"font-weight: bold\">[</span><span style=\"color: #008080; text-decoration-color: #008080; font-weight: bold\">8</span>, Bio:+<span style=\"color: #008080; text-decoration-color: #008080; font-weight: bold\">0.75</span> Cul:<span style=\"color: #008080; text-decoration-color: #008080; font-weight: bold\">-0.0</span> Emo:+<span style=\"color: #008080; text-decoration-color: #008080; font-weight: bold\">0.25</span>, <span style=\"color: #008000; text-decoration-color: #008000\">''</span>, <span style=\"color: #008000; text-decoration-color: #008000\">'body_pattern_006_e'</span><span style=\"font-weight: bold\">]</span>,\n",
       "        <span style=\"color: #008000; text-decoration-color: #008000\">'body_pattern_007_c'</span>: <span style=\"font-weight: bold\">[</span><span style=\"color: #008080; text-decoration-color: #008080; font-weight: bold\">9</span>, Bio:+<span style=\"color: #008080; text-decoration-color: #008080; font-weight: bold\">0.75</span> Cul:<span style=\"color: #008080; text-decoration-color: #008080; font-weight: bold\">-0.75</span> Emo:+<span style=\"color: #008080; text-decoration-color: #008080; font-weight: bold\">0.25</span>, <span style=\"color: #008000; text-decoration-color: #008000\">''</span>, <span style=\"color: #008000; text-decoration-color: #008000\">'body_pattern_007_c'</span><span style=\"font-weight: bold\">]</span>,\n",
       "        <span style=\"color: #008000; text-decoration-color: #008000\">'body_pattern_008_b'</span>: <span style=\"font-weight: bold\">[</span><span style=\"color: #008080; text-decoration-color: #008080; font-weight: bold\">10</span>, Bio:+<span style=\"color: #008080; text-decoration-color: #008080; font-weight: bold\">0.0</span> Cul:+<span style=\"color: #008080; text-decoration-color: #008080; font-weight: bold\">0.0</span> Emo:<span style=\"color: #008080; text-decoration-color: #008080; font-weight: bold\">-0.25</span>, <span style=\"color: #008000; text-decoration-color: #008000\">''</span>, <span style=\"color: #008000; text-decoration-color: #008000\">'body_pattern_008_b'</span><span style=\"font-weight: bold\">]</span>,\n",
       "        <span style=\"color: #008000; text-decoration-color: #008000\">'body_pattern_009_b'</span>: <span style=\"font-weight: bold\">[</span><span style=\"color: #008080; text-decoration-color: #008080; font-weight: bold\">11</span>, Bio:+<span style=\"color: #008080; text-decoration-color: #008080; font-weight: bold\">0.0</span> Cul:<span style=\"color: #008080; text-decoration-color: #008080; font-weight: bold\">-0.0</span> Emo:+<span style=\"color: #008080; text-decoration-color: #008080; font-weight: bold\">0.75</span>, <span style=\"color: #008000; text-decoration-color: #008000\">''</span>, <span style=\"color: #008000; text-decoration-color: #008000\">'body_pattern_009_b'</span><span style=\"font-weight: bold\">]</span>\n",
       "    <span style=\"font-weight: bold\">}</span>,\n",
       "    <span style=\"font-weight: bold\">{</span>\n",
       "        <span style=\"color: #008000; text-decoration-color: #008000\">'time_pattern_zero_e'</span>: <span style=\"font-weight: bold\">[</span><span style=\"color: #008080; text-decoration-color: #008080; font-weight: bold\">0</span>, Bio:<span style=\"color: #008080; text-decoration-color: #008080; font-weight: bold\">-0.25</span> Cul:<span style=\"color: #008080; text-decoration-color: #008080; font-weight: bold\">-0.25</span> Emo:<span style=\"color: #008080; text-decoration-color: #008080; font-weight: bold\">-0.25</span>, <span style=\"color: #008000; text-decoration-color: #008000\">''</span>, <span style=\"color: #008000; text-decoration-color: #008000\">'time_pattern_zero_e'</span><span style=\"font-weight: bold\">]</span>,\n",
       "        <span style=\"color: #008000; text-decoration-color: #008000\">'time_pattern_zero2_e'</span>: <span style=\"font-weight: bold\">[</span><span style=\"color: #008080; text-decoration-color: #008080; font-weight: bold\">1</span>, Bio:<span style=\"color: #008080; text-decoration-color: #008080; font-weight: bold\">-0.0</span> Cul:<span style=\"color: #008080; text-decoration-color: #008080; font-weight: bold\">-0.0</span> Emo:<span style=\"color: #008080; text-decoration-color: #008080; font-weight: bold\">-0.75</span>, <span style=\"color: #008000; text-decoration-color: #008000\">''</span>, <span style=\"color: #008000; text-decoration-color: #008000\">'time_pattern_zero2_e'</span><span style=\"font-weight: bold\">]</span>,\n",
       "        <span style=\"color: #008000; text-decoration-color: #008000\">'time_pattern_000_e'</span>: <span style=\"font-weight: bold\">[</span><span style=\"color: #008080; text-decoration-color: #008080; font-weight: bold\">2</span>, Bio:<span style=\"color: #008080; text-decoration-color: #008080; font-weight: bold\">-0.0</span> Cul:<span style=\"color: #008080; text-decoration-color: #008080; font-weight: bold\">-0.0</span> Emo:<span style=\"color: #008080; text-decoration-color: #008080; font-weight: bold\">-0.75</span>, <span style=\"color: #008000; text-decoration-color: #008000\">''</span>, <span style=\"color: #008000; text-decoration-color: #008000\">'time_pattern_000_e'</span><span style=\"font-weight: bold\">]</span>,\n",
       "        <span style=\"color: #008000; text-decoration-color: #008000\">'time_pattern_001_e'</span>: <span style=\"font-weight: bold\">[</span><span style=\"color: #008080; text-decoration-color: #008080; font-weight: bold\">3</span>, Bio:<span style=\"color: #008080; text-decoration-color: #008080; font-weight: bold\">-0.5</span> Cul:<span style=\"color: #008080; text-decoration-color: #008080; font-weight: bold\">-0.5</span> Emo:<span style=\"color: #008080; text-decoration-color: #008080; font-weight: bold\">-0.5</span>, <span style=\"color: #008000; text-decoration-color: #008000\">''</span>, <span style=\"color: #008000; text-decoration-color: #008000\">'time_pattern_001_e'</span><span style=\"font-weight: bold\">]</span>,\n",
       "        <span style=\"color: #008000; text-decoration-color: #008000\">'time_pattern_002_e'</span>: <span style=\"font-weight: bold\">[</span><span style=\"color: #008080; text-decoration-color: #008080; font-weight: bold\">4</span>, Bio:<span style=\"color: #008080; text-decoration-color: #008080; font-weight: bold\">-0.5</span> Cul:<span style=\"color: #008080; text-decoration-color: #008080; font-weight: bold\">-0.75</span> Emo:<span style=\"color: #008080; text-decoration-color: #008080; font-weight: bold\">-0.75</span>, <span style=\"color: #008000; text-decoration-color: #008000\">''</span>, <span style=\"color: #008000; text-decoration-color: #008000\">'time_pattern_002_e'</span><span style=\"font-weight: bold\">]</span>,\n",
       "        <span style=\"color: #008000; text-decoration-color: #008000\">'time_pattern_003_b'</span>: <span style=\"font-weight: bold\">[</span><span style=\"color: #008080; text-decoration-color: #008080; font-weight: bold\">5</span>, Bio:<span style=\"color: #008080; text-decoration-color: #008080; font-weight: bold\">-0.0</span> Cul:<span style=\"color: #008080; text-decoration-color: #008080; font-weight: bold\">-0.0</span> Emo:<span style=\"color: #008080; text-decoration-color: #008080; font-weight: bold\">-0.5</span>, <span style=\"color: #008000; text-decoration-color: #008000\">''</span>, <span style=\"color: #008000; text-decoration-color: #008000\">'time_pattern_003_b'</span><span style=\"font-weight: bold\">]</span>,\n",
       "        <span style=\"color: #008000; text-decoration-color: #008000\">'time_pattern_004_b'</span>: <span style=\"font-weight: bold\">[</span><span style=\"color: #008080; text-decoration-color: #008080; font-weight: bold\">6</span>, Bio:<span style=\"color: #008080; text-decoration-color: #008080; font-weight: bold\">-0.75</span> Cul:<span style=\"color: #008080; text-decoration-color: #008080; font-weight: bold\">-0.75</span> Emo:<span style=\"color: #008080; text-decoration-color: #008080; font-weight: bold\">-0.0</span>, <span style=\"color: #008000; text-decoration-color: #008000\">''</span>, <span style=\"color: #008000; text-decoration-color: #008000\">'time_pattern_004_b'</span><span style=\"font-weight: bold\">]</span>,\n",
       "        <span style=\"color: #008000; text-decoration-color: #008000\">'time_pattern_005_b'</span>: <span style=\"font-weight: bold\">[</span><span style=\"color: #008080; text-decoration-color: #008080; font-weight: bold\">7</span>, Bio:<span style=\"color: #008080; text-decoration-color: #008080; font-weight: bold\">-0.25</span> Cul:<span style=\"color: #008080; text-decoration-color: #008080; font-weight: bold\">-0.25</span> Emo:<span style=\"color: #008080; text-decoration-color: #008080; font-weight: bold\">-0.0</span>, <span style=\"color: #008000; text-decoration-color: #008000\">''</span>, <span style=\"color: #008000; text-decoration-color: #008000\">'time_pattern_005_b'</span><span style=\"font-weight: bold\">]</span>,\n",
       "        <span style=\"color: #008000; text-decoration-color: #008000\">'time_pattern_006_e'</span>: <span style=\"font-weight: bold\">[</span><span style=\"color: #008080; text-decoration-color: #008080; font-weight: bold\">8</span>, Bio:<span style=\"color: #008080; text-decoration-color: #008080; font-weight: bold\">-0.5</span> Cul:<span style=\"color: #008080; text-decoration-color: #008080; font-weight: bold\">-0.5</span> Emo:<span style=\"color: #008080; text-decoration-color: #008080; font-weight: bold\">-0.75</span>, <span style=\"color: #008000; text-decoration-color: #008000\">''</span>, <span style=\"color: #008000; text-decoration-color: #008000\">'time_pattern_006_e'</span><span style=\"font-weight: bold\">]</span>,\n",
       "        <span style=\"color: #008000; text-decoration-color: #008000\">'time_pattern_007_c'</span>: <span style=\"font-weight: bold\">[</span><span style=\"color: #008080; text-decoration-color: #008080; font-weight: bold\">9</span>, Bio:<span style=\"color: #008080; text-decoration-color: #008080; font-weight: bold\">-0.0</span> Cul:<span style=\"color: #008080; text-decoration-color: #008080; font-weight: bold\">-0.5</span> Emo:<span style=\"color: #008080; text-decoration-color: #008080; font-weight: bold\">-0.25</span>, <span style=\"color: #008000; text-decoration-color: #008000\">''</span>, <span style=\"color: #008000; text-decoration-color: #008000\">'time_pattern_007_c'</span><span style=\"font-weight: bold\">]</span>,\n",
       "        <span style=\"color: #008000; text-decoration-color: #008000\">'time_pattern_008_b'</span>: <span style=\"font-weight: bold\">[</span><span style=\"color: #008080; text-decoration-color: #008080; font-weight: bold\">10</span>, Bio:<span style=\"color: #008080; text-decoration-color: #008080; font-weight: bold\">-0.75</span> Cul:<span style=\"color: #008080; text-decoration-color: #008080; font-weight: bold\">-0.0</span> Emo:<span style=\"color: #008080; text-decoration-color: #008080; font-weight: bold\">-0.5</span>, <span style=\"color: #008000; text-decoration-color: #008000\">''</span>, <span style=\"color: #008000; text-decoration-color: #008000\">'time_pattern_008_b'</span><span style=\"font-weight: bold\">]</span>,\n",
       "        <span style=\"color: #008000; text-decoration-color: #008000\">'time_pattern_009_b'</span>: <span style=\"font-weight: bold\">[</span><span style=\"color: #008080; text-decoration-color: #008080; font-weight: bold\">11</span>, Bio:<span style=\"color: #008080; text-decoration-color: #008080; font-weight: bold\">-0.5</span> Cul:<span style=\"color: #008080; text-decoration-color: #008080; font-weight: bold\">-0.5</span> Emo:<span style=\"color: #008080; text-decoration-color: #008080; font-weight: bold\">-0.75</span>, <span style=\"color: #008000; text-decoration-color: #008000\">''</span>, <span style=\"color: #008000; text-decoration-color: #008000\">'time_pattern_009_b'</span><span style=\"font-weight: bold\">]</span>\n",
       "    <span style=\"font-weight: bold\">}</span>\n",
       "<span style=\"font-weight: bold\">]</span>\n",
       "</pre>\n"
      ],
      "text/plain": [
       "\u001b[1m[\u001b[0m\n",
       "    \u001b[1m{\u001b[0m\n",
       "        \u001b[32m'sight_pattern_zero_e'\u001b[0m: \u001b[1m[\u001b[0m\u001b[1;36m0\u001b[0m, Bio:\u001b[1;36m-0.25\u001b[0m Cul:+\u001b[1;36m0.25\u001b[0m Emo:+\u001b[1;36m0.25\u001b[0m, \u001b[32m''\u001b[0m, \u001b[32m'sight_pattern_zero_e'\u001b[0m\u001b[1m]\u001b[0m,\n",
       "        \u001b[32m'sight_pattern_zero2_e'\u001b[0m: \u001b[1m[\u001b[0m\u001b[1;36m1\u001b[0m, Bio:+\u001b[1;36m0.25\u001b[0m Cul:+\u001b[1;36m0.5\u001b[0m Emo:+\u001b[1;36m0.25\u001b[0m, \u001b[32m''\u001b[0m, \u001b[32m'sight_pattern_zero2_e'\u001b[0m\u001b[1m]\u001b[0m,\n",
       "        \u001b[32m'sight_pattern_000_e'\u001b[0m: \u001b[1m[\u001b[0m\u001b[1;36m2\u001b[0m, Bio:+\u001b[1;36m0.75\u001b[0m Cul:\u001b[1;36m-0.0\u001b[0m Emo:+\u001b[1;36m0.5\u001b[0m, \u001b[32m''\u001b[0m, \u001b[32m'sight_pattern_000_e'\u001b[0m\u001b[1m]\u001b[0m,\n",
       "        \u001b[32m'sight_pattern_001_e'\u001b[0m: \u001b[1m[\u001b[0m\u001b[1;36m3\u001b[0m, Bio:\u001b[1;36m-0.25\u001b[0m Cul:\u001b[1;36m-0.25\u001b[0m Emo:\u001b[1;36m-0.5\u001b[0m, \u001b[32m''\u001b[0m, \u001b[32m'sight_pattern_001_e'\u001b[0m\u001b[1m]\u001b[0m,\n",
       "        \u001b[32m'sight_pattern_002_e'\u001b[0m: \u001b[1m[\u001b[0m\u001b[1;36m4\u001b[0m, Bio:+\u001b[1;36m0.75\u001b[0m Cul:\u001b[1;36m-0.25\u001b[0m Emo:+\u001b[1;36m0.0\u001b[0m, \u001b[32m''\u001b[0m, \u001b[32m'sight_pattern_002_e'\u001b[0m\u001b[1m]\u001b[0m,\n",
       "        \u001b[32m'sight_pattern_003_b'\u001b[0m: \u001b[1m[\u001b[0m\u001b[1;36m5\u001b[0m, Bio:+\u001b[1;36m0.0\u001b[0m Cul:\u001b[1;36m-0.5\u001b[0m Emo:\u001b[1;36m-0.75\u001b[0m, \u001b[32m''\u001b[0m, \u001b[32m'sight_pattern_003_b'\u001b[0m\u001b[1m]\u001b[0m,\n",
       "        \u001b[32m'sight_pattern_004_b'\u001b[0m: \u001b[1m[\u001b[0m\u001b[1;36m6\u001b[0m, Bio:\u001b[1;36m-0.75\u001b[0m Cul:\u001b[1;36m-0.25\u001b[0m Emo:\u001b[1;36m-0.75\u001b[0m, \u001b[32m''\u001b[0m, \u001b[32m'sight_pattern_004_b'\u001b[0m\u001b[1m]\u001b[0m,\n",
       "        \u001b[32m'sight_pattern_005_b'\u001b[0m: \u001b[1m[\u001b[0m\u001b[1;36m7\u001b[0m, Bio:\u001b[1;36m-0.75\u001b[0m Cul:+\u001b[1;36m0.5\u001b[0m Emo:+\u001b[1;36m0.75\u001b[0m, \u001b[32m''\u001b[0m, \u001b[32m'sight_pattern_005_b'\u001b[0m\u001b[1m]\u001b[0m,\n",
       "        \u001b[32m'sight_pattern_006_e'\u001b[0m: \u001b[1m[\u001b[0m\u001b[1;36m8\u001b[0m, Bio:\u001b[1;36m-0.25\u001b[0m Cul:+\u001b[1;36m0.75\u001b[0m Emo:+\u001b[1;36m0.5\u001b[0m, \u001b[32m''\u001b[0m, \u001b[32m'sight_pattern_006_e'\u001b[0m\u001b[1m]\u001b[0m,\n",
       "        \u001b[32m'sight_pattern_007_c'\u001b[0m: \u001b[1m[\u001b[0m\u001b[1;36m9\u001b[0m, Bio:\u001b[1;36m-0.75\u001b[0m Cul:\u001b[1;36m-0.0\u001b[0m Emo:\u001b[1;36m-0.5\u001b[0m, \u001b[32m''\u001b[0m, \u001b[32m'sight_pattern_007_c'\u001b[0m\u001b[1m]\u001b[0m,\n",
       "        \u001b[32m'sight_pattern_008_b'\u001b[0m: \u001b[1m[\u001b[0m\u001b[1;36m10\u001b[0m, Bio:+\u001b[1;36m0.5\u001b[0m Cul:+\u001b[1;36m0.25\u001b[0m Emo:+\u001b[1;36m0.5\u001b[0m, \u001b[32m''\u001b[0m, \u001b[32m'sight_pattern_008_b'\u001b[0m\u001b[1m]\u001b[0m,\n",
       "        \u001b[32m'sight_pattern_009_b'\u001b[0m: \u001b[1m[\u001b[0m\u001b[1;36m11\u001b[0m, Bio:+\u001b[1;36m0.25\u001b[0m Cul:\u001b[1;36m-0.25\u001b[0m Emo:+\u001b[1;36m0.5\u001b[0m, \u001b[32m''\u001b[0m, \u001b[32m'sight_pattern_009_b'\u001b[0m\u001b[1m]\u001b[0m\n",
       "    \u001b[1m}\u001b[0m,\n",
       "    \u001b[1m{\u001b[0m\n",
       "        \u001b[32m'hearing_pattern_zero_e'\u001b[0m: \u001b[1m[\u001b[0m\u001b[1;36m0\u001b[0m, Bio:+\u001b[1;36m0.5\u001b[0m Cul:\u001b[1;36m-0.0\u001b[0m Emo:\u001b[1;36m-0.25\u001b[0m, \u001b[32m''\u001b[0m, \u001b[32m'hearing_pattern_zero_e'\u001b[0m\u001b[1m]\u001b[0m,\n",
       "        \u001b[32m'hearing_pattern_zero2_e'\u001b[0m: \u001b[1m[\u001b[0m\u001b[1;36m1\u001b[0m, Bio:+\u001b[1;36m0.0\u001b[0m Cul:\u001b[1;36m-0.75\u001b[0m Emo:\u001b[1;36m-0.5\u001b[0m, \u001b[32m''\u001b[0m, \u001b[32m'hearing_pattern_zero2_e'\u001b[0m\u001b[1m]\u001b[0m,\n",
       "        \u001b[32m'hearing_pattern_000_e'\u001b[0m: \u001b[1m[\u001b[0m\u001b[1;36m2\u001b[0m, Bio:\u001b[1;36m-0.0\u001b[0m Cul:\u001b[1;36m-0.0\u001b[0m Emo:\u001b[1;36m-0.5\u001b[0m, \u001b[32m''\u001b[0m, \u001b[32m'hearing_pattern_000_e'\u001b[0m\u001b[1m]\u001b[0m,\n",
       "        \u001b[32m'hearing_pattern_001_e'\u001b[0m: \u001b[1m[\u001b[0m\u001b[1;36m3\u001b[0m, Bio:\u001b[1;36m-0.75\u001b[0m Cul:+\u001b[1;36m0.75\u001b[0m Emo:+\u001b[1;36m0.0\u001b[0m, \u001b[32m''\u001b[0m, \u001b[32m'hearing_pattern_001_e'\u001b[0m\u001b[1m]\u001b[0m,\n",
       "        \u001b[32m'hearing_pattern_002_e'\u001b[0m: \u001b[1m[\u001b[0m\u001b[1;36m4\u001b[0m, Bio:+\u001b[1;36m0.5\u001b[0m Cul:\u001b[1;36m-0.0\u001b[0m Emo:\u001b[1;36m-0.75\u001b[0m, \u001b[32m''\u001b[0m, \u001b[32m'hearing_pattern_002_e'\u001b[0m\u001b[1m]\u001b[0m,\n",
       "        \u001b[32m'hearing_pattern_003_b'\u001b[0m: \u001b[1m[\u001b[0m\u001b[1;36m5\u001b[0m, Bio:+\u001b[1;36m0.0\u001b[0m Cul:+\u001b[1;36m0.75\u001b[0m Emo:+\u001b[1;36m0.5\u001b[0m, \u001b[32m''\u001b[0m, \u001b[32m'hearing_pattern_003_b'\u001b[0m\u001b[1m]\u001b[0m,\n",
       "        \u001b[32m'hearing_pattern_004_b'\u001b[0m: \u001b[1m[\u001b[0m\u001b[1;36m6\u001b[0m, Bio:+\u001b[1;36m0.75\u001b[0m Cul:+\u001b[1;36m0.25\u001b[0m Emo:+\u001b[1;36m0.5\u001b[0m, \u001b[32m''\u001b[0m, \u001b[32m'hearing_pattern_004_b'\u001b[0m\u001b[1m]\u001b[0m,\n",
       "        \u001b[32m'hearing_pattern_005_b'\u001b[0m: \u001b[1m[\u001b[0m\u001b[1;36m7\u001b[0m, Bio:+\u001b[1;36m0.75\u001b[0m Cul:\u001b[1;36m-0.25\u001b[0m Emo:\u001b[1;36m-0.0\u001b[0m, \u001b[32m''\u001b[0m, \u001b[32m'hearing_pattern_005_b'\u001b[0m\u001b[1m]\u001b[0m,\n",
       "        \u001b[32m'hearing_pattern_006_e'\u001b[0m: \u001b[1m[\u001b[0m\u001b[1;36m8\u001b[0m, Bio:\u001b[1;36m-0.0\u001b[0m Cul:+\u001b[1;36m0.0\u001b[0m Emo:+\u001b[1;36m0.0\u001b[0m, \u001b[32m''\u001b[0m, \u001b[32m'hearing_pattern_006_e'\u001b[0m\u001b[1m]\u001b[0m,\n",
       "        \u001b[32m'hearing_pattern_007_c'\u001b[0m: \u001b[1m[\u001b[0m\u001b[1;36m9\u001b[0m, Bio:+\u001b[1;36m0.25\u001b[0m Cul:\u001b[1;36m-0.5\u001b[0m Emo:+\u001b[1;36m0.0\u001b[0m, \u001b[32m''\u001b[0m, \u001b[32m'hearing_pattern_007_c'\u001b[0m\u001b[1m]\u001b[0m,\n",
       "        \u001b[32m'hearing_pattern_008_b'\u001b[0m: \u001b[1m[\u001b[0m\u001b[1;36m10\u001b[0m, Bio:\u001b[1;36m-0.0\u001b[0m Cul:+\u001b[1;36m0.0\u001b[0m Emo:+\u001b[1;36m0.25\u001b[0m, \u001b[32m''\u001b[0m, \u001b[32m'hearing_pattern_008_b'\u001b[0m\u001b[1m]\u001b[0m,\n",
       "        \u001b[32m'hearing_pattern_009_b'\u001b[0m: \u001b[1m[\u001b[0m\u001b[1;36m11\u001b[0m, Bio:+\u001b[1;36m0.0\u001b[0m Cul:+\u001b[1;36m0.25\u001b[0m Emo:\u001b[1;36m-0.0\u001b[0m, \u001b[32m''\u001b[0m, \u001b[32m'hearing_pattern_009_b'\u001b[0m\u001b[1m]\u001b[0m\n",
       "    \u001b[1m}\u001b[0m,\n",
       "    \u001b[1m{\u001b[0m\n",
       "        \u001b[32m'smell_pattern_zero_e'\u001b[0m: \u001b[1m[\u001b[0m\u001b[1;36m0\u001b[0m, Bio:+\u001b[1;36m0.25\u001b[0m Cul:\u001b[1;36m-0.25\u001b[0m Emo:+\u001b[1;36m0.5\u001b[0m, \u001b[32m''\u001b[0m, \u001b[32m'smell_pattern_zero_e'\u001b[0m\u001b[1m]\u001b[0m,\n",
       "        \u001b[32m'smell_pattern_zero2_e'\u001b[0m: \u001b[1m[\u001b[0m\u001b[1;36m1\u001b[0m, Bio:\u001b[1;36m-0.0\u001b[0m Cul:+\u001b[1;36m0.5\u001b[0m Emo:+\u001b[1;36m0.75\u001b[0m, \u001b[32m''\u001b[0m, \u001b[32m'smell_pattern_zero2_e'\u001b[0m\u001b[1m]\u001b[0m,\n",
       "        \u001b[32m'smell_pattern_000_e'\u001b[0m: \u001b[1m[\u001b[0m\u001b[1;36m2\u001b[0m, Bio:+\u001b[1;36m0.25\u001b[0m Cul:+\u001b[1;36m0.25\u001b[0m Emo:+\u001b[1;36m0.0\u001b[0m, \u001b[32m''\u001b[0m, \u001b[32m'smell_pattern_000_e'\u001b[0m\u001b[1m]\u001b[0m,\n",
       "        \u001b[32m'smell_pattern_001_e'\u001b[0m: \u001b[1m[\u001b[0m\u001b[1;36m3\u001b[0m, Bio:\u001b[1;36m-0.0\u001b[0m Cul:\u001b[1;36m-0.25\u001b[0m Emo:\u001b[1;36m-0.75\u001b[0m, \u001b[32m''\u001b[0m, \u001b[32m'smell_pattern_001_e'\u001b[0m\u001b[1m]\u001b[0m,\n",
       "        \u001b[32m'smell_pattern_002_e'\u001b[0m: \u001b[1m[\u001b[0m\u001b[1;36m4\u001b[0m, Bio:\u001b[1;36m-0.75\u001b[0m Cul:\u001b[1;36m-0.5\u001b[0m Emo:\u001b[1;36m-0.75\u001b[0m, \u001b[32m''\u001b[0m, \u001b[32m'smell_pattern_002_e'\u001b[0m\u001b[1m]\u001b[0m,\n",
       "        \u001b[32m'smell_pattern_003_b'\u001b[0m: \u001b[1m[\u001b[0m\u001b[1;36m5\u001b[0m, Bio:\u001b[1;36m-0.75\u001b[0m Cul:+\u001b[1;36m0.0\u001b[0m Emo:\u001b[1;36m-0.0\u001b[0m, \u001b[32m''\u001b[0m, \u001b[32m'smell_pattern_003_b'\u001b[0m\u001b[1m]\u001b[0m,\n",
       "        \u001b[32m'smell_pattern_004_b'\u001b[0m: \u001b[1m[\u001b[0m\u001b[1;36m6\u001b[0m, Bio:\u001b[1;36m-0.75\u001b[0m Cul:+\u001b[1;36m0.5\u001b[0m Emo:+\u001b[1;36m0.75\u001b[0m, \u001b[32m''\u001b[0m, \u001b[32m'smell_pattern_004_b'\u001b[0m\u001b[1m]\u001b[0m,\n",
       "        \u001b[32m'smell_pattern_005_b'\u001b[0m: \u001b[1m[\u001b[0m\u001b[1;36m7\u001b[0m, Bio:+\u001b[1;36m0.5\u001b[0m Cul:\u001b[1;36m-0.5\u001b[0m Emo:\u001b[1;36m-0.75\u001b[0m, \u001b[32m''\u001b[0m, \u001b[32m'smell_pattern_005_b'\u001b[0m\u001b[1m]\u001b[0m,\n",
       "        \u001b[32m'smell_pattern_006_e'\u001b[0m: \u001b[1m[\u001b[0m\u001b[1;36m8\u001b[0m, Bio:+\u001b[1;36m0.0\u001b[0m Cul:\u001b[1;36m-0.75\u001b[0m Emo:+\u001b[1;36m0.0\u001b[0m, \u001b[32m''\u001b[0m, \u001b[32m'smell_pattern_006_e'\u001b[0m\u001b[1m]\u001b[0m,\n",
       "        \u001b[32m'smell_pattern_007_c'\u001b[0m: \u001b[1m[\u001b[0m\u001b[1;36m9\u001b[0m, Bio:\u001b[1;36m-0.75\u001b[0m Cul:\u001b[1;36m-0.75\u001b[0m Emo:\u001b[1;36m-0.5\u001b[0m, \u001b[32m''\u001b[0m, \u001b[32m'smell_pattern_007_c'\u001b[0m\u001b[1m]\u001b[0m,\n",
       "        \u001b[32m'smell_pattern_008_b'\u001b[0m: \u001b[1m[\u001b[0m\u001b[1;36m10\u001b[0m, Bio:+\u001b[1;36m0.0\u001b[0m Cul:+\u001b[1;36m0.75\u001b[0m Emo:+\u001b[1;36m0.5\u001b[0m, \u001b[32m''\u001b[0m, \u001b[32m'smell_pattern_008_b'\u001b[0m\u001b[1m]\u001b[0m,\n",
       "        \u001b[32m'smell_pattern_009_b'\u001b[0m: \u001b[1m[\u001b[0m\u001b[1;36m11\u001b[0m, Bio:\u001b[1;36m-0.75\u001b[0m Cul:\u001b[1;36m-0.5\u001b[0m Emo:\u001b[1;36m-0.5\u001b[0m, \u001b[32m''\u001b[0m, \u001b[32m'smell_pattern_009_b'\u001b[0m\u001b[1m]\u001b[0m\n",
       "    \u001b[1m}\u001b[0m,\n",
       "    \u001b[1m{\u001b[0m\n",
       "        \u001b[32m'taste_pattern_zero_e'\u001b[0m: \u001b[1m[\u001b[0m\u001b[1;36m0\u001b[0m, Bio:\u001b[1;36m-0.75\u001b[0m Cul:+\u001b[1;36m0.75\u001b[0m Emo:\u001b[1;36m-0.25\u001b[0m, \u001b[32m''\u001b[0m, \u001b[32m'taste_pattern_zero_e'\u001b[0m\u001b[1m]\u001b[0m,\n",
       "        \u001b[32m'taste_pattern_zero2_e'\u001b[0m: \u001b[1m[\u001b[0m\u001b[1;36m1\u001b[0m, Bio:+\u001b[1;36m0.75\u001b[0m Cul:+\u001b[1;36m0.0\u001b[0m Emo:+\u001b[1;36m0.5\u001b[0m, \u001b[32m''\u001b[0m, \u001b[32m'taste_pattern_zero2_e'\u001b[0m\u001b[1m]\u001b[0m,\n",
       "        \u001b[32m'taste_pattern_000_e'\u001b[0m: \u001b[1m[\u001b[0m\u001b[1;36m2\u001b[0m, Bio:\u001b[1;36m-0.25\u001b[0m Cul:\u001b[1;36m-0.25\u001b[0m Emo:\u001b[1;36m-0.75\u001b[0m, \u001b[32m''\u001b[0m, \u001b[32m'taste_pattern_000_e'\u001b[0m\u001b[1m]\u001b[0m,\n",
       "        \u001b[32m'taste_pattern_001_e'\u001b[0m: \u001b[1m[\u001b[0m\u001b[1;36m3\u001b[0m, Bio:+\u001b[1;36m0.75\u001b[0m Cul:\u001b[1;36m-0.5\u001b[0m Emo:\u001b[1;36m-0.0\u001b[0m, \u001b[32m''\u001b[0m, \u001b[32m'taste_pattern_001_e'\u001b[0m\u001b[1m]\u001b[0m,\n",
       "        \u001b[32m'taste_pattern_002_e'\u001b[0m: \u001b[1m[\u001b[0m\u001b[1;36m4\u001b[0m, Bio:\u001b[1;36m-0.5\u001b[0m Cul:\u001b[1;36m-0.5\u001b[0m Emo:\u001b[1;36m-0.75\u001b[0m, \u001b[32m''\u001b[0m, \u001b[32m'taste_pattern_002_e'\u001b[0m\u001b[1m]\u001b[0m,\n",
       "        \u001b[32m'taste_pattern_003_b'\u001b[0m: \u001b[1m[\u001b[0m\u001b[1;36m5\u001b[0m, Bio:+\u001b[1;36m0.75\u001b[0m Cul:\u001b[1;36m-0.75\u001b[0m Emo:+\u001b[1;36m0.75\u001b[0m, \u001b[32m''\u001b[0m, \u001b[32m'taste_pattern_003_b'\u001b[0m\u001b[1m]\u001b[0m,\n",
       "        \u001b[32m'taste_pattern_004_b'\u001b[0m: \u001b[1m[\u001b[0m\u001b[1;36m6\u001b[0m, Bio:+\u001b[1;36m0.25\u001b[0m Cul:+\u001b[1;36m0.75\u001b[0m Emo:+\u001b[1;36m0.75\u001b[0m, \u001b[32m''\u001b[0m, \u001b[32m'taste_pattern_004_b'\u001b[0m\u001b[1m]\u001b[0m,\n",
       "        \u001b[32m'taste_pattern_005_b'\u001b[0m: \u001b[1m[\u001b[0m\u001b[1;36m7\u001b[0m, Bio:\u001b[1;36m-0.75\u001b[0m Cul:\u001b[1;36m-0.75\u001b[0m Emo:\u001b[1;36m-0.5\u001b[0m, \u001b[32m''\u001b[0m, \u001b[32m'taste_pattern_005_b'\u001b[0m\u001b[1m]\u001b[0m,\n",
       "        \u001b[32m'taste_pattern_006_e'\u001b[0m: \u001b[1m[\u001b[0m\u001b[1;36m8\u001b[0m, Bio:\u001b[1;36m-0.0\u001b[0m Cul:+\u001b[1;36m0.5\u001b[0m Emo:+\u001b[1;36m0.0\u001b[0m, \u001b[32m''\u001b[0m, \u001b[32m'taste_pattern_006_e'\u001b[0m\u001b[1m]\u001b[0m,\n",
       "        \u001b[32m'taste_pattern_007_c'\u001b[0m: \u001b[1m[\u001b[0m\u001b[1;36m9\u001b[0m, Bio:+\u001b[1;36m0.25\u001b[0m Cul:+\u001b[1;36m0.75\u001b[0m Emo:+\u001b[1;36m0.5\u001b[0m, \u001b[32m''\u001b[0m, \u001b[32m'taste_pattern_007_c'\u001b[0m\u001b[1m]\u001b[0m,\n",
       "        \u001b[32m'taste_pattern_008_b'\u001b[0m: \u001b[1m[\u001b[0m\u001b[1;36m10\u001b[0m, Bio:\u001b[1;36m-0.0\u001b[0m Cul:\u001b[1;36m-0.0\u001b[0m Emo:\u001b[1;36m-0.25\u001b[0m, \u001b[32m''\u001b[0m, \u001b[32m'taste_pattern_008_b'\u001b[0m\u001b[1m]\u001b[0m,\n",
       "        \u001b[32m'taste_pattern_009_b'\u001b[0m: \u001b[1m[\u001b[0m\u001b[1;36m11\u001b[0m, Bio:\u001b[1;36m-0.75\u001b[0m Cul:+\u001b[1;36m0.25\u001b[0m Emo:\u001b[1;36m-0.5\u001b[0m, \u001b[32m''\u001b[0m, \u001b[32m'taste_pattern_009_b'\u001b[0m\u001b[1m]\u001b[0m\n",
       "    \u001b[1m}\u001b[0m,\n",
       "    \u001b[1m{\u001b[0m\n",
       "        \u001b[32m'touch_pattern_zero_e'\u001b[0m: \u001b[1m[\u001b[0m\u001b[1;36m0\u001b[0m, Bio:\u001b[1;36m-0.75\u001b[0m Cul:\u001b[1;36m-0.75\u001b[0m Emo:+\u001b[1;36m0.75\u001b[0m, \u001b[32m''\u001b[0m, \u001b[32m'touch_pattern_zero_e'\u001b[0m\u001b[1m]\u001b[0m,\n",
       "        \u001b[32m'touch_pattern_zero2_e'\u001b[0m: \u001b[1m[\u001b[0m\u001b[1;36m1\u001b[0m, Bio:+\u001b[1;36m0.5\u001b[0m Cul:+\u001b[1;36m0.75\u001b[0m Emo:+\u001b[1;36m0.75\u001b[0m, \u001b[32m''\u001b[0m, \u001b[32m'touch_pattern_zero2_e'\u001b[0m\u001b[1m]\u001b[0m,\n",
       "        \u001b[32m'touch_pattern_000_e'\u001b[0m: \u001b[1m[\u001b[0m\u001b[1;36m2\u001b[0m, Bio:\u001b[1;36m-0.75\u001b[0m Cul:+\u001b[1;36m0.25\u001b[0m Emo:\u001b[1;36m-0.5\u001b[0m, \u001b[32m''\u001b[0m, \u001b[32m'touch_pattern_000_e'\u001b[0m\u001b[1m]\u001b[0m,\n",
       "        \u001b[32m'touch_pattern_001_e'\u001b[0m: \u001b[1m[\u001b[0m\u001b[1;36m3\u001b[0m, Bio:+\u001b[1;36m0.75\u001b[0m Cul:\u001b[1;36m-0.75\u001b[0m Emo:+\u001b[1;36m0.5\u001b[0m, \u001b[32m''\u001b[0m, \u001b[32m'touch_pattern_001_e'\u001b[0m\u001b[1m]\u001b[0m,\n",
       "        \u001b[32m'touch_pattern_002_e'\u001b[0m: \u001b[1m[\u001b[0m\u001b[1;36m4\u001b[0m, Bio:+\u001b[1;36m0.0\u001b[0m Cul:\u001b[1;36m-0.5\u001b[0m Emo:\u001b[1;36m-0.0\u001b[0m, \u001b[32m''\u001b[0m, \u001b[32m'touch_pattern_002_e'\u001b[0m\u001b[1m]\u001b[0m,\n",
       "        \u001b[32m'touch_pattern_003_b'\u001b[0m: \u001b[1m[\u001b[0m\u001b[1;36m5\u001b[0m, Bio:\u001b[1;36m-0.0\u001b[0m Cul:\u001b[1;36m-0.75\u001b[0m Emo:\u001b[1;36m-0.0\u001b[0m, \u001b[32m''\u001b[0m, \u001b[32m'touch_pattern_003_b'\u001b[0m\u001b[1m]\u001b[0m,\n",
       "        \u001b[32m'touch_pattern_004_b'\u001b[0m: \u001b[1m[\u001b[0m\u001b[1;36m6\u001b[0m, Bio:\u001b[1;36m-0.0\u001b[0m Cul:\u001b[1;36m-0.5\u001b[0m Emo:+\u001b[1;36m0.5\u001b[0m, \u001b[32m''\u001b[0m, \u001b[32m'touch_pattern_004_b'\u001b[0m\u001b[1m]\u001b[0m,\n",
       "        \u001b[32m'touch_pattern_005_b'\u001b[0m: \u001b[1m[\u001b[0m\u001b[1;36m7\u001b[0m, Bio:+\u001b[1;36m0.5\u001b[0m Cul:+\u001b[1;36m0.25\u001b[0m Emo:+\u001b[1;36m0.25\u001b[0m, \u001b[32m''\u001b[0m, \u001b[32m'touch_pattern_005_b'\u001b[0m\u001b[1m]\u001b[0m,\n",
       "        \u001b[32m'touch_pattern_006_e'\u001b[0m: \u001b[1m[\u001b[0m\u001b[1;36m8\u001b[0m, Bio:\u001b[1;36m-0.25\u001b[0m Cul:\u001b[1;36m-0.75\u001b[0m Emo:\u001b[1;36m-0.75\u001b[0m, \u001b[32m''\u001b[0m, \u001b[32m'touch_pattern_006_e'\u001b[0m\u001b[1m]\u001b[0m,\n",
       "        \u001b[32m'touch_pattern_007_c'\u001b[0m: \u001b[1m[\u001b[0m\u001b[1;36m9\u001b[0m, Bio:\u001b[1;36m-0.25\u001b[0m Cul:\u001b[1;36m-0.5\u001b[0m Emo:+\u001b[1;36m0.25\u001b[0m, \u001b[32m''\u001b[0m, \u001b[32m'touch_pattern_007_c'\u001b[0m\u001b[1m]\u001b[0m,\n",
       "        \u001b[32m'touch_pattern_008_b'\u001b[0m: \u001b[1m[\u001b[0m\u001b[1;36m10\u001b[0m, Bio:+\u001b[1;36m0.5\u001b[0m Cul:\u001b[1;36m-0.0\u001b[0m Emo:+\u001b[1;36m0.5\u001b[0m, \u001b[32m''\u001b[0m, \u001b[32m'touch_pattern_008_b'\u001b[0m\u001b[1m]\u001b[0m,\n",
       "        \u001b[32m'touch_pattern_009_b'\u001b[0m: \u001b[1m[\u001b[0m\u001b[1;36m11\u001b[0m, Bio:\u001b[1;36m-0.25\u001b[0m Cul:+\u001b[1;36m0.0\u001b[0m Emo:\u001b[1;36m-0.75\u001b[0m, \u001b[32m''\u001b[0m, \u001b[32m'touch_pattern_009_b'\u001b[0m\u001b[1m]\u001b[0m\n",
       "    \u001b[1m}\u001b[0m,\n",
       "    \u001b[1m{\u001b[0m\n",
       "        \u001b[32m'body_pattern_zero_e'\u001b[0m: \u001b[1m[\u001b[0m\u001b[1;36m0\u001b[0m, Bio:+\u001b[1;36m0.0\u001b[0m Cul:\u001b[1;36m-0.0\u001b[0m Emo:\u001b[1;36m-0.75\u001b[0m, \u001b[32m''\u001b[0m, \u001b[32m'body_pattern_zero_e'\u001b[0m\u001b[1m]\u001b[0m,\n",
       "        \u001b[32m'body_pattern_zero2_e'\u001b[0m: \u001b[1m[\u001b[0m\u001b[1;36m1\u001b[0m, Bio:+\u001b[1;36m0.0\u001b[0m Cul:+\u001b[1;36m0.0\u001b[0m Emo:\u001b[1;36m-0.75\u001b[0m, \u001b[32m''\u001b[0m, \u001b[32m'body_pattern_zero2_e'\u001b[0m\u001b[1m]\u001b[0m,\n",
       "        \u001b[32m'body_pattern_000_e'\u001b[0m: \u001b[1m[\u001b[0m\u001b[1;36m2\u001b[0m, Bio:\u001b[1;36m-0.0\u001b[0m Cul:+\u001b[1;36m0.25\u001b[0m Emo:+\u001b[1;36m0.75\u001b[0m, \u001b[32m''\u001b[0m, \u001b[32m'body_pattern_000_e'\u001b[0m\u001b[1m]\u001b[0m,\n",
       "        \u001b[32m'body_pattern_001_e'\u001b[0m: \u001b[1m[\u001b[0m\u001b[1;36m3\u001b[0m, Bio:\u001b[1;36m-0.5\u001b[0m Cul:\u001b[1;36m-0.75\u001b[0m Emo:\u001b[1;36m-0.0\u001b[0m, \u001b[32m''\u001b[0m, \u001b[32m'body_pattern_001_e'\u001b[0m\u001b[1m]\u001b[0m,\n",
       "        \u001b[32m'body_pattern_002_e'\u001b[0m: \u001b[1m[\u001b[0m\u001b[1;36m4\u001b[0m, Bio:+\u001b[1;36m0.0\u001b[0m Cul:+\u001b[1;36m0.25\u001b[0m Emo:+\u001b[1;36m0.5\u001b[0m, \u001b[32m''\u001b[0m, \u001b[32m'body_pattern_002_e'\u001b[0m\u001b[1m]\u001b[0m,\n",
       "        \u001b[32m'body_pattern_003_b'\u001b[0m: \u001b[1m[\u001b[0m\u001b[1;36m5\u001b[0m, Bio:\u001b[1;36m-0.5\u001b[0m Cul:\u001b[1;36m-0.75\u001b[0m Emo:\u001b[1;36m-0.25\u001b[0m, \u001b[32m''\u001b[0m, \u001b[32m'body_pattern_003_b'\u001b[0m\u001b[1m]\u001b[0m,\n",
       "        \u001b[32m'body_pattern_004_b'\u001b[0m: \u001b[1m[\u001b[0m\u001b[1;36m6\u001b[0m, Bio:\u001b[1;36m-0.75\u001b[0m Cul:+\u001b[1;36m0.5\u001b[0m Emo:\u001b[1;36m-0.5\u001b[0m, \u001b[32m''\u001b[0m, \u001b[32m'body_pattern_004_b'\u001b[0m\u001b[1m]\u001b[0m,\n",
       "        \u001b[32m'body_pattern_005_b'\u001b[0m: \u001b[1m[\u001b[0m\u001b[1;36m7\u001b[0m, Bio:+\u001b[1;36m0.25\u001b[0m Cul:+\u001b[1;36m0.5\u001b[0m Emo:\u001b[1;36m-0.0\u001b[0m, \u001b[32m''\u001b[0m, \u001b[32m'body_pattern_005_b'\u001b[0m\u001b[1m]\u001b[0m,\n",
       "        \u001b[32m'body_pattern_006_e'\u001b[0m: \u001b[1m[\u001b[0m\u001b[1;36m8\u001b[0m, Bio:+\u001b[1;36m0.75\u001b[0m Cul:\u001b[1;36m-0.0\u001b[0m Emo:+\u001b[1;36m0.25\u001b[0m, \u001b[32m''\u001b[0m, \u001b[32m'body_pattern_006_e'\u001b[0m\u001b[1m]\u001b[0m,\n",
       "        \u001b[32m'body_pattern_007_c'\u001b[0m: \u001b[1m[\u001b[0m\u001b[1;36m9\u001b[0m, Bio:+\u001b[1;36m0.75\u001b[0m Cul:\u001b[1;36m-0.75\u001b[0m Emo:+\u001b[1;36m0.25\u001b[0m, \u001b[32m''\u001b[0m, \u001b[32m'body_pattern_007_c'\u001b[0m\u001b[1m]\u001b[0m,\n",
       "        \u001b[32m'body_pattern_008_b'\u001b[0m: \u001b[1m[\u001b[0m\u001b[1;36m10\u001b[0m, Bio:+\u001b[1;36m0.0\u001b[0m Cul:+\u001b[1;36m0.0\u001b[0m Emo:\u001b[1;36m-0.25\u001b[0m, \u001b[32m''\u001b[0m, \u001b[32m'body_pattern_008_b'\u001b[0m\u001b[1m]\u001b[0m,\n",
       "        \u001b[32m'body_pattern_009_b'\u001b[0m: \u001b[1m[\u001b[0m\u001b[1;36m11\u001b[0m, Bio:+\u001b[1;36m0.0\u001b[0m Cul:\u001b[1;36m-0.0\u001b[0m Emo:+\u001b[1;36m0.75\u001b[0m, \u001b[32m''\u001b[0m, \u001b[32m'body_pattern_009_b'\u001b[0m\u001b[1m]\u001b[0m\n",
       "    \u001b[1m}\u001b[0m,\n",
       "    \u001b[1m{\u001b[0m\n",
       "        \u001b[32m'time_pattern_zero_e'\u001b[0m: \u001b[1m[\u001b[0m\u001b[1;36m0\u001b[0m, Bio:\u001b[1;36m-0.25\u001b[0m Cul:\u001b[1;36m-0.25\u001b[0m Emo:\u001b[1;36m-0.25\u001b[0m, \u001b[32m''\u001b[0m, \u001b[32m'time_pattern_zero_e'\u001b[0m\u001b[1m]\u001b[0m,\n",
       "        \u001b[32m'time_pattern_zero2_e'\u001b[0m: \u001b[1m[\u001b[0m\u001b[1;36m1\u001b[0m, Bio:\u001b[1;36m-0.0\u001b[0m Cul:\u001b[1;36m-0.0\u001b[0m Emo:\u001b[1;36m-0.75\u001b[0m, \u001b[32m''\u001b[0m, \u001b[32m'time_pattern_zero2_e'\u001b[0m\u001b[1m]\u001b[0m,\n",
       "        \u001b[32m'time_pattern_000_e'\u001b[0m: \u001b[1m[\u001b[0m\u001b[1;36m2\u001b[0m, Bio:\u001b[1;36m-0.0\u001b[0m Cul:\u001b[1;36m-0.0\u001b[0m Emo:\u001b[1;36m-0.75\u001b[0m, \u001b[32m''\u001b[0m, \u001b[32m'time_pattern_000_e'\u001b[0m\u001b[1m]\u001b[0m,\n",
       "        \u001b[32m'time_pattern_001_e'\u001b[0m: \u001b[1m[\u001b[0m\u001b[1;36m3\u001b[0m, Bio:\u001b[1;36m-0.5\u001b[0m Cul:\u001b[1;36m-0.5\u001b[0m Emo:\u001b[1;36m-0.5\u001b[0m, \u001b[32m''\u001b[0m, \u001b[32m'time_pattern_001_e'\u001b[0m\u001b[1m]\u001b[0m,\n",
       "        \u001b[32m'time_pattern_002_e'\u001b[0m: \u001b[1m[\u001b[0m\u001b[1;36m4\u001b[0m, Bio:\u001b[1;36m-0.5\u001b[0m Cul:\u001b[1;36m-0.75\u001b[0m Emo:\u001b[1;36m-0.75\u001b[0m, \u001b[32m''\u001b[0m, \u001b[32m'time_pattern_002_e'\u001b[0m\u001b[1m]\u001b[0m,\n",
       "        \u001b[32m'time_pattern_003_b'\u001b[0m: \u001b[1m[\u001b[0m\u001b[1;36m5\u001b[0m, Bio:\u001b[1;36m-0.0\u001b[0m Cul:\u001b[1;36m-0.0\u001b[0m Emo:\u001b[1;36m-0.5\u001b[0m, \u001b[32m''\u001b[0m, \u001b[32m'time_pattern_003_b'\u001b[0m\u001b[1m]\u001b[0m,\n",
       "        \u001b[32m'time_pattern_004_b'\u001b[0m: \u001b[1m[\u001b[0m\u001b[1;36m6\u001b[0m, Bio:\u001b[1;36m-0.75\u001b[0m Cul:\u001b[1;36m-0.75\u001b[0m Emo:\u001b[1;36m-0.0\u001b[0m, \u001b[32m''\u001b[0m, \u001b[32m'time_pattern_004_b'\u001b[0m\u001b[1m]\u001b[0m,\n",
       "        \u001b[32m'time_pattern_005_b'\u001b[0m: \u001b[1m[\u001b[0m\u001b[1;36m7\u001b[0m, Bio:\u001b[1;36m-0.25\u001b[0m Cul:\u001b[1;36m-0.25\u001b[0m Emo:\u001b[1;36m-0.0\u001b[0m, \u001b[32m''\u001b[0m, \u001b[32m'time_pattern_005_b'\u001b[0m\u001b[1m]\u001b[0m,\n",
       "        \u001b[32m'time_pattern_006_e'\u001b[0m: \u001b[1m[\u001b[0m\u001b[1;36m8\u001b[0m, Bio:\u001b[1;36m-0.5\u001b[0m Cul:\u001b[1;36m-0.5\u001b[0m Emo:\u001b[1;36m-0.75\u001b[0m, \u001b[32m''\u001b[0m, \u001b[32m'time_pattern_006_e'\u001b[0m\u001b[1m]\u001b[0m,\n",
       "        \u001b[32m'time_pattern_007_c'\u001b[0m: \u001b[1m[\u001b[0m\u001b[1;36m9\u001b[0m, Bio:\u001b[1;36m-0.0\u001b[0m Cul:\u001b[1;36m-0.5\u001b[0m Emo:\u001b[1;36m-0.25\u001b[0m, \u001b[32m''\u001b[0m, \u001b[32m'time_pattern_007_c'\u001b[0m\u001b[1m]\u001b[0m,\n",
       "        \u001b[32m'time_pattern_008_b'\u001b[0m: \u001b[1m[\u001b[0m\u001b[1;36m10\u001b[0m, Bio:\u001b[1;36m-0.75\u001b[0m Cul:\u001b[1;36m-0.0\u001b[0m Emo:\u001b[1;36m-0.5\u001b[0m, \u001b[32m''\u001b[0m, \u001b[32m'time_pattern_008_b'\u001b[0m\u001b[1m]\u001b[0m,\n",
       "        \u001b[32m'time_pattern_009_b'\u001b[0m: \u001b[1m[\u001b[0m\u001b[1;36m11\u001b[0m, Bio:\u001b[1;36m-0.5\u001b[0m Cul:\u001b[1;36m-0.5\u001b[0m Emo:\u001b[1;36m-0.75\u001b[0m, \u001b[32m''\u001b[0m, \u001b[32m'time_pattern_009_b'\u001b[0m\u001b[1m]\u001b[0m\n",
       "    \u001b[1m}\u001b[0m\n",
       "\u001b[1m]\u001b[0m\n"
      ]
     },
     "metadata": {},
     "output_type": "display_data"
    },
    {
     "data": {
      "text/html": [
       "<pre style=\"white-space:pre;overflow-x:auto;line-height:normal;font-family:Menlo,'DejaVu Sans Mono',consolas,'Courier New',monospace\">Bio:+<span style=\"color: #008080; text-decoration-color: #008080; font-weight: bold\">0.0</span> Cul:+<span style=\"color: #008080; text-decoration-color: #008080; font-weight: bold\">0.0</span> Emo:+<span style=\"color: #008080; text-decoration-color: #008080; font-weight: bold\">0.0</span>\n",
       "</pre>\n"
      ],
      "text/plain": [
       "Bio:+\u001b[1;36m0.0\u001b[0m Cul:+\u001b[1;36m0.0\u001b[0m Emo:+\u001b[1;36m0.0\u001b[0m\n"
      ]
     },
     "metadata": {},
     "output_type": "display_data"
    },
    {
     "data": {
      "text/html": [
       "<pre style=\"white-space:pre;overflow-x:auto;line-height:normal;font-family:Menlo,'DejaVu Sans Mono',consolas,'Courier New',monospace\">Estado Final del Agent:  Bio:+<span style=\"color: #008080; text-decoration-color: #008080; font-weight: bold\">0.0</span> Cul:+<span style=\"color: #008080; text-decoration-color: #008080; font-weight: bold\">0.0</span> Emo:+<span style=\"color: #008080; text-decoration-color: #008080; font-weight: bold\">0.0</span>\n",
       "</pre>\n"
      ],
      "text/plain": [
       "Estado Final del Agent:  Bio:+\u001b[1;36m0.0\u001b[0m Cul:+\u001b[1;36m0.0\u001b[0m Emo:+\u001b[1;36m0.0\u001b[0m\n"
      ]
     },
     "metadata": {},
     "output_type": "display_data"
    },
    {
     "data": {
      "text/html": [
       "<pre style=\"white-space:pre;overflow-x:auto;line-height:normal;font-family:Menlo,'DejaVu Sans Mono',consolas,'Courier New',monospace\">Evento de entrada: \n",
       "<span style=\"font-weight: bold\">[</span>\n",
       "    <span style=\"color: #008000; text-decoration-color: #008000\">'sight_pattern_001_e:sight_event_006'</span>,\n",
       "    <span style=\"color: #008000; text-decoration-color: #008000\">'hearing_pattern_zero2_e:hearing_event_008'</span>,\n",
       "    <span style=\"color: #008000; text-decoration-color: #008000\">'smell_pattern_002_e:smell_event_000'</span>,\n",
       "    <span style=\"color: #008000; text-decoration-color: #008000\">'taste_pattern_zero2_e:taste_event_005'</span>,\n",
       "    <span style=\"color: #008000; text-decoration-color: #008000\">'touch_pattern_005_b:touch_event_007'</span>,\n",
       "    <span style=\"color: #008000; text-decoration-color: #008000\">'body_pattern_007_c:body_event_003'</span>,\n",
       "    <span style=\"color: #008000; text-decoration-color: #008000\">'time_pattern_003_b:time_event_009'</span>\n",
       "<span style=\"font-weight: bold\">]</span>\n",
       "</pre>\n"
      ],
      "text/plain": [
       "Evento de entrada: \n",
       "\u001b[1m[\u001b[0m\n",
       "    \u001b[32m'sight_pattern_001_e:sight_event_006'\u001b[0m,\n",
       "    \u001b[32m'hearing_pattern_zero2_e:hearing_event_008'\u001b[0m,\n",
       "    \u001b[32m'smell_pattern_002_e:smell_event_000'\u001b[0m,\n",
       "    \u001b[32m'taste_pattern_zero2_e:taste_event_005'\u001b[0m,\n",
       "    \u001b[32m'touch_pattern_005_b:touch_event_007'\u001b[0m,\n",
       "    \u001b[32m'body_pattern_007_c:body_event_003'\u001b[0m,\n",
       "    \u001b[32m'time_pattern_003_b:time_event_009'\u001b[0m\n",
       "\u001b[1m]\u001b[0m\n"
      ]
     },
     "metadata": {},
     "output_type": "display_data"
    },
    {
     "data": {
      "text/html": [
       "<pre style=\"white-space:pre;overflow-x:auto;line-height:normal;font-family:Menlo,'DejaVu Sans Mono',consolas,'Courier New',monospace\"><span style=\"font-weight: bold\">[</span>\n",
       "    <span style=\"font-weight: bold\">[</span><span style=\"color: #008080; text-decoration-color: #008080; font-weight: bold\">12</span>, Bio:<span style=\"color: #008080; text-decoration-color: #008080; font-weight: bold\">-0.25</span> Cul:<span style=\"color: #008080; text-decoration-color: #008080; font-weight: bold\">-0.25</span> Emo:<span style=\"color: #008080; text-decoration-color: #008080; font-weight: bold\">-0.5</span>, <span style=\"color: #008000; text-decoration-color: #008000\">'sight_pattern_001_e'</span>, <span style=\"color: #008000; text-decoration-color: #008000\">'sight_event_006'</span>, <span style=\"color: #008000; text-decoration-color: #008000\">'sight'</span><span style=\"font-weight: bold\">]</span>,\n",
       "    <span style=\"font-weight: bold\">[</span><span style=\"color: #008080; text-decoration-color: #008080; font-weight: bold\">12</span>, Bio:+<span style=\"color: #008080; text-decoration-color: #008080; font-weight: bold\">0.0</span> Cul:<span style=\"color: #008080; text-decoration-color: #008080; font-weight: bold\">-0.75</span> Emo:<span style=\"color: #008080; text-decoration-color: #008080; font-weight: bold\">-0.5</span>, <span style=\"color: #008000; text-decoration-color: #008000\">'hearing_pattern_zero2_e'</span>, <span style=\"color: #008000; text-decoration-color: #008000\">'hearing_event_008'</span>, <span style=\"color: #008000; text-decoration-color: #008000\">'hearing'</span><span style=\"font-weight: bold\">]</span>,\n",
       "    <span style=\"font-weight: bold\">[</span><span style=\"color: #008080; text-decoration-color: #008080; font-weight: bold\">12</span>, Bio:<span style=\"color: #008080; text-decoration-color: #008080; font-weight: bold\">-0.75</span> Cul:<span style=\"color: #008080; text-decoration-color: #008080; font-weight: bold\">-0.5</span> Emo:<span style=\"color: #008080; text-decoration-color: #008080; font-weight: bold\">-0.75</span>, <span style=\"color: #008000; text-decoration-color: #008000\">'smell_pattern_002_e'</span>, <span style=\"color: #008000; text-decoration-color: #008000\">'smell_event_000'</span>, <span style=\"color: #008000; text-decoration-color: #008000\">'smell'</span><span style=\"font-weight: bold\">]</span>,\n",
       "    <span style=\"font-weight: bold\">[</span><span style=\"color: #008080; text-decoration-color: #008080; font-weight: bold\">12</span>, Bio:+<span style=\"color: #008080; text-decoration-color: #008080; font-weight: bold\">0.75</span> Cul:+<span style=\"color: #008080; text-decoration-color: #008080; font-weight: bold\">0.0</span> Emo:+<span style=\"color: #008080; text-decoration-color: #008080; font-weight: bold\">0.5</span>, <span style=\"color: #008000; text-decoration-color: #008000\">'taste_pattern_zero2_e'</span>, <span style=\"color: #008000; text-decoration-color: #008000\">'taste_event_005'</span>, <span style=\"color: #008000; text-decoration-color: #008000\">'taste'</span><span style=\"font-weight: bold\">]</span>,\n",
       "    <span style=\"font-weight: bold\">[</span><span style=\"color: #008080; text-decoration-color: #008080; font-weight: bold\">12</span>, Bio:+<span style=\"color: #008080; text-decoration-color: #008080; font-weight: bold\">0.5</span> Cul:+<span style=\"color: #008080; text-decoration-color: #008080; font-weight: bold\">0.25</span> Emo:+<span style=\"color: #008080; text-decoration-color: #008080; font-weight: bold\">0.25</span>, <span style=\"color: #008000; text-decoration-color: #008000\">'touch_pattern_005_b'</span>, <span style=\"color: #008000; text-decoration-color: #008000\">'touch_event_007'</span>, <span style=\"color: #008000; text-decoration-color: #008000\">'touch'</span><span style=\"font-weight: bold\">]</span>,\n",
       "    <span style=\"font-weight: bold\">[</span><span style=\"color: #008080; text-decoration-color: #008080; font-weight: bold\">12</span>, Bio:+<span style=\"color: #008080; text-decoration-color: #008080; font-weight: bold\">0.75</span> Cul:<span style=\"color: #008080; text-decoration-color: #008080; font-weight: bold\">-0.75</span> Emo:+<span style=\"color: #008080; text-decoration-color: #008080; font-weight: bold\">0.25</span>, <span style=\"color: #008000; text-decoration-color: #008000\">'body_pattern_007_c'</span>, <span style=\"color: #008000; text-decoration-color: #008000\">'body_event_003'</span>, <span style=\"color: #008000; text-decoration-color: #008000\">'body'</span><span style=\"font-weight: bold\">]</span>,\n",
       "    <span style=\"font-weight: bold\">[</span><span style=\"color: #008080; text-decoration-color: #008080; font-weight: bold\">12</span>, Bio:<span style=\"color: #008080; text-decoration-color: #008080; font-weight: bold\">-0.0</span> Cul:<span style=\"color: #008080; text-decoration-color: #008080; font-weight: bold\">-0.0</span> Emo:<span style=\"color: #008080; text-decoration-color: #008080; font-weight: bold\">-0.5</span>, <span style=\"color: #008000; text-decoration-color: #008000\">'time_pattern_003_b'</span>, <span style=\"color: #008000; text-decoration-color: #008000\">'time_event_009'</span>, <span style=\"color: #008000; text-decoration-color: #008000\">'time'</span><span style=\"font-weight: bold\">]</span>\n",
       "<span style=\"font-weight: bold\">]</span>\n",
       "</pre>\n"
      ],
      "text/plain": [
       "\u001b[1m[\u001b[0m\n",
       "    \u001b[1m[\u001b[0m\u001b[1;36m12\u001b[0m, Bio:\u001b[1;36m-0.25\u001b[0m Cul:\u001b[1;36m-0.25\u001b[0m Emo:\u001b[1;36m-0.5\u001b[0m, \u001b[32m'sight_pattern_001_e'\u001b[0m, \u001b[32m'sight_event_006'\u001b[0m, \u001b[32m'sight'\u001b[0m\u001b[1m]\u001b[0m,\n",
       "    \u001b[1m[\u001b[0m\u001b[1;36m12\u001b[0m, Bio:+\u001b[1;36m0.0\u001b[0m Cul:\u001b[1;36m-0.75\u001b[0m Emo:\u001b[1;36m-0.5\u001b[0m, \u001b[32m'hearing_pattern_zero2_e'\u001b[0m, \u001b[32m'hearing_event_008'\u001b[0m, \u001b[32m'hearing'\u001b[0m\u001b[1m]\u001b[0m,\n",
       "    \u001b[1m[\u001b[0m\u001b[1;36m12\u001b[0m, Bio:\u001b[1;36m-0.75\u001b[0m Cul:\u001b[1;36m-0.5\u001b[0m Emo:\u001b[1;36m-0.75\u001b[0m, \u001b[32m'smell_pattern_002_e'\u001b[0m, \u001b[32m'smell_event_000'\u001b[0m, \u001b[32m'smell'\u001b[0m\u001b[1m]\u001b[0m,\n",
       "    \u001b[1m[\u001b[0m\u001b[1;36m12\u001b[0m, Bio:+\u001b[1;36m0.75\u001b[0m Cul:+\u001b[1;36m0.0\u001b[0m Emo:+\u001b[1;36m0.5\u001b[0m, \u001b[32m'taste_pattern_zero2_e'\u001b[0m, \u001b[32m'taste_event_005'\u001b[0m, \u001b[32m'taste'\u001b[0m\u001b[1m]\u001b[0m,\n",
       "    \u001b[1m[\u001b[0m\u001b[1;36m12\u001b[0m, Bio:+\u001b[1;36m0.5\u001b[0m Cul:+\u001b[1;36m0.25\u001b[0m Emo:+\u001b[1;36m0.25\u001b[0m, \u001b[32m'touch_pattern_005_b'\u001b[0m, \u001b[32m'touch_event_007'\u001b[0m, \u001b[32m'touch'\u001b[0m\u001b[1m]\u001b[0m,\n",
       "    \u001b[1m[\u001b[0m\u001b[1;36m12\u001b[0m, Bio:+\u001b[1;36m0.75\u001b[0m Cul:\u001b[1;36m-0.75\u001b[0m Emo:+\u001b[1;36m0.25\u001b[0m, \u001b[32m'body_pattern_007_c'\u001b[0m, \u001b[32m'body_event_003'\u001b[0m, \u001b[32m'body'\u001b[0m\u001b[1m]\u001b[0m,\n",
       "    \u001b[1m[\u001b[0m\u001b[1;36m12\u001b[0m, Bio:\u001b[1;36m-0.0\u001b[0m Cul:\u001b[1;36m-0.0\u001b[0m Emo:\u001b[1;36m-0.5\u001b[0m, \u001b[32m'time_pattern_003_b'\u001b[0m, \u001b[32m'time_event_009'\u001b[0m, \u001b[32m'time'\u001b[0m\u001b[1m]\u001b[0m\n",
       "\u001b[1m]\u001b[0m\n"
      ]
     },
     "metadata": {},
     "output_type": "display_data"
    },
    {
     "data": {
      "text/html": [
       "<pre style=\"white-space:pre;overflow-x:auto;line-height:normal;font-family:Menlo,'DejaVu Sans Mono',consolas,'Courier New',monospace\">Estado Final del Agent:  Bio:<span style=\"color: #008080; text-decoration-color: #008080; font-weight: bold\">-0.5</span> Cul:<span style=\"color: #008080; text-decoration-color: #008080; font-weight: bold\">-0.25</span> Emo:<span style=\"color: #008080; text-decoration-color: #008080; font-weight: bold\">-0.5</span>\n",
       "</pre>\n"
      ],
      "text/plain": [
       "Estado Final del Agent:  Bio:\u001b[1;36m-0.5\u001b[0m Cul:\u001b[1;36m-0.25\u001b[0m Emo:\u001b[1;36m-0.5\u001b[0m\n"
      ]
     },
     "metadata": {},
     "output_type": "display_data"
    },
    {
     "data": {
      "text/html": [
       "<pre style=\"white-space:pre;overflow-x:auto;line-height:normal;font-family:Menlo,'DejaVu Sans Mono',consolas,'Courier New',monospace\">Evento de entrada: \n",
       "<span style=\"font-weight: bold\">[</span>\n",
       "    <span style=\"color: #008000; text-decoration-color: #008000\">'sight_pattern_007_c:sight_event_003'</span>,\n",
       "    <span style=\"color: #008000; text-decoration-color: #008000\">'hearing_pattern_002_e:hearing_event_005'</span>,\n",
       "    <span style=\"color: #008000; text-decoration-color: #008000\">'smell_pattern_003_b:smell_event_009'</span>,\n",
       "    <span style=\"color: #008000; text-decoration-color: #008000\">'taste_pattern_002_e:taste_event_004'</span>,\n",
       "    <span style=\"color: #008000; text-decoration-color: #008000\">'touch_pattern_004_b:touch_event_004'</span>,\n",
       "    <span style=\"color: #008000; text-decoration-color: #008000\">'body_pattern_008_b:body_event_000'</span>,\n",
       "    <span style=\"color: #008000; text-decoration-color: #008000\">'time_pattern_008_b:time_event_000'</span>\n",
       "<span style=\"font-weight: bold\">]</span>\n",
       "</pre>\n"
      ],
      "text/plain": [
       "Evento de entrada: \n",
       "\u001b[1m[\u001b[0m\n",
       "    \u001b[32m'sight_pattern_007_c:sight_event_003'\u001b[0m,\n",
       "    \u001b[32m'hearing_pattern_002_e:hearing_event_005'\u001b[0m,\n",
       "    \u001b[32m'smell_pattern_003_b:smell_event_009'\u001b[0m,\n",
       "    \u001b[32m'taste_pattern_002_e:taste_event_004'\u001b[0m,\n",
       "    \u001b[32m'touch_pattern_004_b:touch_event_004'\u001b[0m,\n",
       "    \u001b[32m'body_pattern_008_b:body_event_000'\u001b[0m,\n",
       "    \u001b[32m'time_pattern_008_b:time_event_000'\u001b[0m\n",
       "\u001b[1m]\u001b[0m\n"
      ]
     },
     "metadata": {},
     "output_type": "display_data"
    },
    {
     "data": {
      "text/html": [
       "<pre style=\"white-space:pre;overflow-x:auto;line-height:normal;font-family:Menlo,'DejaVu Sans Mono',consolas,'Courier New',monospace\"><span style=\"font-weight: bold\">[</span>\n",
       "    <span style=\"font-weight: bold\">[</span><span style=\"color: #008080; text-decoration-color: #008080; font-weight: bold\">13</span>, Bio:<span style=\"color: #008080; text-decoration-color: #008080; font-weight: bold\">-0.75</span> Cul:<span style=\"color: #008080; text-decoration-color: #008080; font-weight: bold\">-0.0</span> Emo:<span style=\"color: #008080; text-decoration-color: #008080; font-weight: bold\">-0.5</span>, <span style=\"color: #008000; text-decoration-color: #008000\">'sight_pattern_007_c'</span>, <span style=\"color: #008000; text-decoration-color: #008000\">'sight_event_003'</span>, <span style=\"color: #008000; text-decoration-color: #008000\">'sight'</span><span style=\"font-weight: bold\">]</span>,\n",
       "    <span style=\"font-weight: bold\">[</span><span style=\"color: #008080; text-decoration-color: #008080; font-weight: bold\">13</span>, Bio:+<span style=\"color: #008080; text-decoration-color: #008080; font-weight: bold\">0.5</span> Cul:<span style=\"color: #008080; text-decoration-color: #008080; font-weight: bold\">-0.0</span> Emo:<span style=\"color: #008080; text-decoration-color: #008080; font-weight: bold\">-0.75</span>, <span style=\"color: #008000; text-decoration-color: #008000\">'hearing_pattern_002_e'</span>, <span style=\"color: #008000; text-decoration-color: #008000\">'hearing_event_005'</span>, <span style=\"color: #008000; text-decoration-color: #008000\">'hearing'</span><span style=\"font-weight: bold\">]</span>,\n",
       "    <span style=\"font-weight: bold\">[</span><span style=\"color: #008080; text-decoration-color: #008080; font-weight: bold\">13</span>, Bio:<span style=\"color: #008080; text-decoration-color: #008080; font-weight: bold\">-0.75</span> Cul:+<span style=\"color: #008080; text-decoration-color: #008080; font-weight: bold\">0.0</span> Emo:<span style=\"color: #008080; text-decoration-color: #008080; font-weight: bold\">-0.0</span>, <span style=\"color: #008000; text-decoration-color: #008000\">'smell_pattern_003_b'</span>, <span style=\"color: #008000; text-decoration-color: #008000\">'smell_event_009'</span>, <span style=\"color: #008000; text-decoration-color: #008000\">'smell'</span><span style=\"font-weight: bold\">]</span>,\n",
       "    <span style=\"font-weight: bold\">[</span><span style=\"color: #008080; text-decoration-color: #008080; font-weight: bold\">13</span>, Bio:<span style=\"color: #008080; text-decoration-color: #008080; font-weight: bold\">-0.5</span> Cul:<span style=\"color: #008080; text-decoration-color: #008080; font-weight: bold\">-0.5</span> Emo:<span style=\"color: #008080; text-decoration-color: #008080; font-weight: bold\">-0.75</span>, <span style=\"color: #008000; text-decoration-color: #008000\">'taste_pattern_002_e'</span>, <span style=\"color: #008000; text-decoration-color: #008000\">'taste_event_004'</span>, <span style=\"color: #008000; text-decoration-color: #008000\">'taste'</span><span style=\"font-weight: bold\">]</span>,\n",
       "    <span style=\"font-weight: bold\">[</span><span style=\"color: #008080; text-decoration-color: #008080; font-weight: bold\">13</span>, Bio:<span style=\"color: #008080; text-decoration-color: #008080; font-weight: bold\">-0.0</span> Cul:<span style=\"color: #008080; text-decoration-color: #008080; font-weight: bold\">-0.5</span> Emo:+<span style=\"color: #008080; text-decoration-color: #008080; font-weight: bold\">0.5</span>, <span style=\"color: #008000; text-decoration-color: #008000\">'touch_pattern_004_b'</span>, <span style=\"color: #008000; text-decoration-color: #008000\">'touch_event_004'</span>, <span style=\"color: #008000; text-decoration-color: #008000\">'touch'</span><span style=\"font-weight: bold\">]</span>,\n",
       "    <span style=\"font-weight: bold\">[</span><span style=\"color: #008080; text-decoration-color: #008080; font-weight: bold\">13</span>, Bio:+<span style=\"color: #008080; text-decoration-color: #008080; font-weight: bold\">0.0</span> Cul:+<span style=\"color: #008080; text-decoration-color: #008080; font-weight: bold\">0.0</span> Emo:<span style=\"color: #008080; text-decoration-color: #008080; font-weight: bold\">-0.25</span>, <span style=\"color: #008000; text-decoration-color: #008000\">'body_pattern_008_b'</span>, <span style=\"color: #008000; text-decoration-color: #008000\">'body_event_000'</span>, <span style=\"color: #008000; text-decoration-color: #008000\">'body'</span><span style=\"font-weight: bold\">]</span>,\n",
       "    <span style=\"font-weight: bold\">[</span><span style=\"color: #008080; text-decoration-color: #008080; font-weight: bold\">13</span>, Bio:<span style=\"color: #008080; text-decoration-color: #008080; font-weight: bold\">-0.75</span> Cul:<span style=\"color: #008080; text-decoration-color: #008080; font-weight: bold\">-0.0</span> Emo:<span style=\"color: #008080; text-decoration-color: #008080; font-weight: bold\">-0.5</span>, <span style=\"color: #008000; text-decoration-color: #008000\">'time_pattern_008_b'</span>, <span style=\"color: #008000; text-decoration-color: #008000\">'time_event_000'</span>, <span style=\"color: #008000; text-decoration-color: #008000\">'time'</span><span style=\"font-weight: bold\">]</span>\n",
       "<span style=\"font-weight: bold\">]</span>\n",
       "</pre>\n"
      ],
      "text/plain": [
       "\u001b[1m[\u001b[0m\n",
       "    \u001b[1m[\u001b[0m\u001b[1;36m13\u001b[0m, Bio:\u001b[1;36m-0.75\u001b[0m Cul:\u001b[1;36m-0.0\u001b[0m Emo:\u001b[1;36m-0.5\u001b[0m, \u001b[32m'sight_pattern_007_c'\u001b[0m, \u001b[32m'sight_event_003'\u001b[0m, \u001b[32m'sight'\u001b[0m\u001b[1m]\u001b[0m,\n",
       "    \u001b[1m[\u001b[0m\u001b[1;36m13\u001b[0m, Bio:+\u001b[1;36m0.5\u001b[0m Cul:\u001b[1;36m-0.0\u001b[0m Emo:\u001b[1;36m-0.75\u001b[0m, \u001b[32m'hearing_pattern_002_e'\u001b[0m, \u001b[32m'hearing_event_005'\u001b[0m, \u001b[32m'hearing'\u001b[0m\u001b[1m]\u001b[0m,\n",
       "    \u001b[1m[\u001b[0m\u001b[1;36m13\u001b[0m, Bio:\u001b[1;36m-0.75\u001b[0m Cul:+\u001b[1;36m0.0\u001b[0m Emo:\u001b[1;36m-0.0\u001b[0m, \u001b[32m'smell_pattern_003_b'\u001b[0m, \u001b[32m'smell_event_009'\u001b[0m, \u001b[32m'smell'\u001b[0m\u001b[1m]\u001b[0m,\n",
       "    \u001b[1m[\u001b[0m\u001b[1;36m13\u001b[0m, Bio:\u001b[1;36m-0.5\u001b[0m Cul:\u001b[1;36m-0.5\u001b[0m Emo:\u001b[1;36m-0.75\u001b[0m, \u001b[32m'taste_pattern_002_e'\u001b[0m, \u001b[32m'taste_event_004'\u001b[0m, \u001b[32m'taste'\u001b[0m\u001b[1m]\u001b[0m,\n",
       "    \u001b[1m[\u001b[0m\u001b[1;36m13\u001b[0m, Bio:\u001b[1;36m-0.0\u001b[0m Cul:\u001b[1;36m-0.5\u001b[0m Emo:+\u001b[1;36m0.5\u001b[0m, \u001b[32m'touch_pattern_004_b'\u001b[0m, \u001b[32m'touch_event_004'\u001b[0m, \u001b[32m'touch'\u001b[0m\u001b[1m]\u001b[0m,\n",
       "    \u001b[1m[\u001b[0m\u001b[1;36m13\u001b[0m, Bio:+\u001b[1;36m0.0\u001b[0m Cul:+\u001b[1;36m0.0\u001b[0m Emo:\u001b[1;36m-0.25\u001b[0m, \u001b[32m'body_pattern_008_b'\u001b[0m, \u001b[32m'body_event_000'\u001b[0m, \u001b[32m'body'\u001b[0m\u001b[1m]\u001b[0m,\n",
       "    \u001b[1m[\u001b[0m\u001b[1;36m13\u001b[0m, Bio:\u001b[1;36m-0.75\u001b[0m Cul:\u001b[1;36m-0.0\u001b[0m Emo:\u001b[1;36m-0.5\u001b[0m, \u001b[32m'time_pattern_008_b'\u001b[0m, \u001b[32m'time_event_000'\u001b[0m, \u001b[32m'time'\u001b[0m\u001b[1m]\u001b[0m\n",
       "\u001b[1m]\u001b[0m\n"
      ]
     },
     "metadata": {},
     "output_type": "display_data"
    },
    {
     "data": {
      "text/html": [
       "<pre style=\"white-space:pre;overflow-x:auto;line-height:normal;font-family:Menlo,'DejaVu Sans Mono',consolas,'Courier New',monospace\">DEAD\n",
       "</pre>\n"
      ],
      "text/plain": [
       "DEAD\n"
      ]
     },
     "metadata": {},
     "output_type": "display_data"
    },
    {
     "data": {
      "text/html": [
       "<pre style=\"white-space:pre;overflow-x:auto;line-height:normal;font-family:Menlo,'DejaVu Sans Mono',consolas,'Courier New',monospace\">Estado Final del Agent:  Bio:<span style=\"color: #008080; text-decoration-color: #008080; font-weight: bold\">-1.0</span> Cul:<span style=\"color: #008080; text-decoration-color: #008080; font-weight: bold\">-0.75</span> Emo:<span style=\"color: #008080; text-decoration-color: #008080; font-weight: bold\">-1.0</span>\n",
       "</pre>\n"
      ],
      "text/plain": [
       "Estado Final del Agent:  Bio:\u001b[1;36m-1.0\u001b[0m Cul:\u001b[1;36m-0.75\u001b[0m Emo:\u001b[1;36m-1.0\u001b[0m\n"
      ]
     },
     "metadata": {},
     "output_type": "display_data"
    }
   ],
   "source": [
    "agent_maria=Agent_Maria()\n",
    "agent = Agent_A()\n",
    "gen  = Generator()\n",
    "\n",
    "print()\n",
    "agent.init_patterns(gen.gen_patterns())\n",
    "agent.status_rn()\n",
    "print(\"Patrones inicializados\")\n",
    "print(agent.status_rn())\n",
    "\n",
    "print(agent.status_ai_bce())\n",
    "break_loop = False\n",
    "for i in range(10):\n",
    "    event=gen.gen_event()\n",
    "    print(\"Estado Final del Agent: \", agent.status_ai_bce())\n",
    "    print(\"Evento de entrada: \",event)\n",
    "    #agent.set_event(event)\n",
    "    print(agent.set_event(event))\n",
    "    arr_bce = agent_maria.comparator(agent.status_ai_bce())\n",
    "    bce_7 = agent.update_neuron(arr_bce)\n",
    "    bce_to_add = agent_maria.general_evaluator_bce(bce_7)[0][1]\n",
    "    estado = agent.update_bce(bce_to_add)\n",
    "    #print(estado)\n",
    "    for factor in agent.status_ai_bce().state():\n",
    "        if factor[1] == LEN_DEGREE:\n",
    "            print(\"DEAD\")\n",
    "            print(\"Estado Final del Agent: \", agent.status_ai_bce())\n",
    "            break_loop = True\n",
    "            break\n",
    "    if break_loop:\n",
    "        break\n",
    "\n"
   ]
  }
 ],
 "metadata": {
  "kernelspec": {
   "display_name": "Python 3 (ipykernel)",
   "language": "python",
   "name": "python3"
  },
  "language_info": {
   "codemirror_mode": {
    "name": "ipython",
    "version": 3
   },
   "file_extension": ".py",
   "mimetype": "text/x-python",
   "name": "python",
   "nbconvert_exporter": "python",
   "pygments_lexer": "ipython3",
   "version": "3.9.16"
  }
 },
 "nbformat": 4,
 "nbformat_minor": 5
}
