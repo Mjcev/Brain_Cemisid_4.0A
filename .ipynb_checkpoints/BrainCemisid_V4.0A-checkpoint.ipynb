{
 "cells": [
  {
   "cell_type": "code",
   "execution_count": null,
   "id": "cd8d0535",
   "metadata": {},
   "outputs": [],
   "source": []
  },
  {
   "cell_type": "code",
   "execution_count": null,
   "id": "2362227d",
   "metadata": {},
   "outputs": [],
   "source": []
  },
  {
   "cell_type": "code",
   "execution_count": null,
   "id": "80346a06",
   "metadata": {},
   "outputs": [],
   "source": [
    "#Entran QR (Eventos)\n",
    "#Salen ID_Neurona BCE\n",
    "\n",
    "#tengo Neuronas que reconocen\n",
    "\n",
    "\n",
    "class RN_sentido():\n",
    "    \n",
    "    def __init__(self):\n",
    "        neuronas = {}\n",
    "        \n",
    "        \n",
    "        "
   ]
  }
 ],
 "metadata": {
  "kernelspec": {
   "display_name": "Python 3 (ipykernel)",
   "language": "python",
   "name": "python3"
  },
  "language_info": {
   "codemirror_mode": {
    "name": "ipython",
    "version": 3
   },
   "file_extension": ".py",
   "mimetype": "text/x-python",
   "name": "python",
   "nbconvert_exporter": "python",
   "pygments_lexer": "ipython3",
   "version": "3.9.16"
  }
 },
 "nbformat": 4,
 "nbformat_minor": 5
}
