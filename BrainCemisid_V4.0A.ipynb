{
 "cells": [
  {
   "attachments": {},
   "cell_type": "markdown",
   "id": "9b83a758",
   "metadata": {},
   "source": [
    "### Imports"
   ]
  },
  {
   "cell_type": "code",
   "execution_count": 1,
   "id": "d0df5613",
   "metadata": {},
   "outputs": [],
   "source": [
    "import os\n",
    "import sys\n",
    "import random\n",
    "import numpy as np\n",
    "import ipytest\n",
    "import pytest\n",
    "import itertools\n",
    "from itertools import product\n",
    "ipytest.autoconfig()\n",
    "from rich import print\n",
    "__file__ = 'BrainCemisid_V4.0A.ipynb'\n",
    "# # Obtiene la ruta absoluta del archivo actual\n",
    "current_file_path = os.path.abspath(__file__)\n",
    "# # Obtiene el directorio padre de la ruta actual (que es el directorio actual)\n",
    "current_directory = os.path.dirname(current_file_path)\n",
    "subdirectory_path = os.path.join(current_directory, \"src\")\n",
    "sys.path.append(subdirectory_path)"
   ]
  },
  {
   "attachments": {},
   "cell_type": "markdown",
   "id": "4fdaa055",
   "metadata": {},
   "source": [
    "## Clase Need,  es una clase base para crear la clase BCE"
   ]
  },
  {
   "cell_type": "code",
   "execution_count": 2,
   "id": "f91f0155",
   "metadata": {},
   "outputs": [],
   "source": [
    "from src.need import Need"
   ]
  },
  {
   "cell_type": "markdown",
   "id": "6194caf8",
   "metadata": {},
   "source": [
    "La clase Need representa una necesidad, que tiene dos atributos: signo y grado. El atributo signo puede tener un valor de 0 o 1, que representa positivo o negativo. El atributo grado representa la magnitud o intensidad de la necesidad.\n",
    "\n",
    "La clase Need tiene varios métodos definidos, como set(), reset(), sample(), time_sample(), zero(), none(), average(), y operadores aritméticos sobrecargados como __add__(), __sub__(), __mul__(), __truediv__(), __floordiv__(), y operadores de comparación como __lt__(), __eq__(), __ne__(), __le__(), __gt__(), __ge__(). Estos métodos permiten la manipulación y comparación de objetos Need.\n",
    "\n",
    "Además, la clase Need tiene un método __str__() para proporcionar una representación en forma de cadena del objeto Need, y un método __repr__() para proporcionar una representación más detallada cuando se imprime el objeto."
   ]
  },
  {
   "cell_type": "markdown",
   "id": "6e473c91",
   "metadata": {},
   "source": [
    "#### Ejemplos del uso de la clase Need"
   ]
  },
  {
   "cell_type": "code",
   "execution_count": 66,
   "id": "17e67e70",
   "metadata": {},
   "outputs": [
    {
     "data": {
      "text/html": [
       "<pre style=\"white-space:pre;overflow-x:auto;line-height:normal;font-family:Menlo,'DejaVu Sans Mono',consolas,'Courier New',monospace\"><span style=\"color: #008080; text-decoration-color: #008080; font-weight: bold\">-0.5</span>\n",
       "</pre>\n"
      ],
      "text/plain": [
       "\u001b[1;36m-0.5\u001b[0m\n"
      ]
     },
     "metadata": {},
     "output_type": "display_data"
    },
    {
     "data": {
      "text/html": [
       "<pre style=\"white-space:pre;overflow-x:auto;line-height:normal;font-family:Menlo,'DejaVu Sans Mono',consolas,'Courier New',monospace\"><span style=\"font-weight: bold\">[</span><span style=\"color: #008080; text-decoration-color: #008080; font-weight: bold\">1</span> <span style=\"color: #008080; text-decoration-color: #008080; font-weight: bold\">2</span><span style=\"font-weight: bold\">]</span>\n",
       "</pre>\n"
      ],
      "text/plain": [
       "\u001b[1m[\u001b[0m\u001b[1;36m1\u001b[0m \u001b[1;36m2\u001b[0m\u001b[1m]\u001b[0m\n"
      ]
     },
     "metadata": {},
     "output_type": "display_data"
    },
    {
     "data": {
      "text/html": [
       "<pre style=\"white-space:pre;overflow-x:auto;line-height:normal;font-family:Menlo,'DejaVu Sans Mono',consolas,'Courier New',monospace\">+<span style=\"color: #008080; text-decoration-color: #008080; font-weight: bold\">0.25</span>\n",
       "</pre>\n"
      ],
      "text/plain": [
       "+\u001b[1;36m0.25\u001b[0m\n"
      ]
     },
     "metadata": {},
     "output_type": "display_data"
    },
    {
     "data": {
      "text/html": [
       "<pre style=\"white-space:pre;overflow-x:auto;line-height:normal;font-family:Menlo,'DejaVu Sans Mono',consolas,'Courier New',monospace\"><span style=\"font-weight: bold\">[</span><span style=\"color: #008080; text-decoration-color: #008080; font-weight: bold\">0</span> <span style=\"color: #008080; text-decoration-color: #008080; font-weight: bold\">1</span><span style=\"font-weight: bold\">]</span>\n",
       "</pre>\n"
      ],
      "text/plain": [
       "\u001b[1m[\u001b[0m\u001b[1;36m0\u001b[0m \u001b[1;36m1\u001b[0m\u001b[1m]\u001b[0m\n"
      ]
     },
     "metadata": {},
     "output_type": "display_data"
    },
    {
     "data": {
      "text/html": [
       "<pre style=\"white-space:pre;overflow-x:auto;line-height:normal;font-family:Menlo,'DejaVu Sans Mono',consolas,'Courier New',monospace\"><span style=\"color: #008080; text-decoration-color: #008080; font-weight: bold\">-0.25</span>\n",
       "</pre>\n"
      ],
      "text/plain": [
       "\u001b[1;36m-0.25\u001b[0m\n"
      ]
     },
     "metadata": {},
     "output_type": "display_data"
    }
   ],
   "source": [
    "need1=Need().sample()\n",
    "need2=Need().sample()\n",
    "print(need1)\n",
    "print(need1.state)\n",
    "print(need2)\n",
    "print(need2.state)\n",
    "print(need1+need2)\n"
   ]
  },
  {
   "attachments": {},
   "cell_type": "markdown",
   "id": "e9f826b7",
   "metadata": {},
   "source": [
    "### Pruebas Unitarias Clase Need"
   ]
  },
  {
   "cell_type": "markdown",
   "id": "5b607506",
   "metadata": {},
   "source": [
    "#### Generación de parametros para pytest para el metodo __add__"
   ]
  },
  {
   "cell_type": "code",
   "execution_count": 207,
   "id": "11ecfa0c",
   "metadata": {},
   "outputs": [],
   "source": [
    "LEN_DEGREE=4\n",
    "len_sign=range(2)\n",
    "len_degree=range(LEN_DEGREE)\n",
    "sign=[1,-1]\n",
    "\n",
    "#Parameters to test add\n",
    "parameters_add = [\n",
    "    (\n",
    "        sign1,\n",
    "        degree1,\n",
    "        sign2,\n",
    "        degree2,\n",
    "        0 if val > 0 else 1 if val < 0 else sign1,\n",
    "        min(abs(val), LEN_DEGREE),\n",
    "    )\n",
    "    for (sign1, degree1, sign2, degree2) in product(len_sign, len_degree, len_sign, len_degree)\n",
    "    for val in [sign[sign1] * degree1 + sign[sign2] * degree2]\n",
    "]\n",
    "\n",
    "\n",
    "#print(parameters_add)"
   ]
  },
  {
   "cell_type": "markdown",
   "id": "d02c9d6f",
   "metadata": {},
   "source": [
    "#### Pruebas unitarias del metodo __add__"
   ]
  },
  {
   "cell_type": "code",
   "execution_count": 68,
   "id": "e256de59",
   "metadata": {},
   "outputs": [
    {
     "name": "stdout",
     "output_type": "stream",
     "text": [
      "\u001b[1m======================================= test session starts =======================================\u001b[0m\n",
      "collected 64 items\n",
      "\n",
      "t_a7ee98eca71f4eb5bbafc263c26f11fd.py \u001b[32m.\u001b[0m\u001b[32m.\u001b[0m\u001b[32m.\u001b[0m\u001b[32m.\u001b[0m\u001b[32m.\u001b[0m\u001b[32m.\u001b[0m\u001b[32m.\u001b[0m\u001b[32m.\u001b[0m\u001b[32m.\u001b[0m\u001b[32m.\u001b[0m\u001b[32m.\u001b[0m\u001b[32m.\u001b[0m\u001b[32m.\u001b[0m\u001b[32m.\u001b[0m\u001b[32m.\u001b[0m\u001b[32m.\u001b[0m\u001b[32m.\u001b[0m\u001b[32m.\u001b[0m\u001b[32m.\u001b[0m\u001b[32m.\u001b[0m\u001b[32m.\u001b[0m\u001b[32m.\u001b[0m\u001b[32m.\u001b[0m\u001b[32m.\u001b[0m\u001b[32m.\u001b[0m\u001b[32m.\u001b[0m\u001b[32m.\u001b[0m\u001b[32m.\u001b[0m\u001b[32m.\u001b[0m\u001b[32m.\u001b[0m\u001b[32m.\u001b[0m\u001b[32m.\u001b[0m\u001b[32m.\u001b[0m\u001b[32m.\u001b[0m\u001b[32m.\u001b[0m\u001b[32m.\u001b[0m\u001b[32m.\u001b[0m\u001b[32m.\u001b[0m\u001b[32m.\u001b[0m\u001b[32m.\u001b[0m\u001b[32m.\u001b[0m\u001b[32m.\u001b[0m\u001b[32m.\u001b[0m\u001b[32m.\u001b[0m\u001b[32m.\u001b[0m\u001b[32m.\u001b[0m\u001b[32m.\u001b[0m\u001b[32m.\u001b[0m\u001b[32m.\u001b[0m\u001b[32m.\u001b[0m\u001b[32m.\u001b[0m\u001b[32m.\u001b[0m\u001b[32m.\u001b[0m\u001b[32m.\u001b[0m\u001b[32m [ 84%]\n",
      "\u001b[0m\u001b[32m.\u001b[0m\u001b[32m.\u001b[0m\u001b[32m.\u001b[0m\u001b[32m.\u001b[0m\u001b[32m.\u001b[0m\u001b[32m.\u001b[0m\u001b[32m.\u001b[0m\u001b[32m.\u001b[0m\u001b[32m.\u001b[0m\u001b[32m.\u001b[0m\u001b[32m                                                                                   [100%]\u001b[0m\n",
      "\n",
      "\u001b[32m======================================= \u001b[32m\u001b[1m64 passed\u001b[0m\u001b[32m in 3.78s\u001b[0m\u001b[32m ========================================\u001b[0m\n"
     ]
    }
   ],
   "source": [
    "%%ipytest -v --no-header\n",
    "\n",
    "# Prueba del método __add__\n",
    "@pytest.mark.parametrize(\"sign1, degree1, sign2, degree2, expected_sign, expected_degree\", parameters_add)\n",
    "def test_add(sign1, degree1, sign2, degree2, expected_sign, expected_degree):\n",
    "    need1 = Need(sign=sign1, degree=degree1,len_degree=LEN_DEGREE)\n",
    "    need2 = Need(sign=sign2, degree=degree2,len_degree=LEN_DEGREE)\n",
    "    need_sum = need1 + need2\n",
    "\n",
    "    assert need_sum.state[0] == expected_sign\n",
    "    assert need_sum.state[1] == expected_degree\n"
   ]
  },
  {
   "cell_type": "markdown",
   "id": "d6847d98",
   "metadata": {},
   "source": [
    "#### Pruebas Unitarias de clase Need __add__ con len_degree=10"
   ]
  },
  {
   "cell_type": "code",
   "execution_count": 209,
   "id": "29bea335",
   "metadata": {},
   "outputs": [],
   "source": [
    "NUM_STATE=10\n",
    "ADD=4\n",
    "\n",
    "len_sign=range(2)\n",
    "len_degree_state=range(NUM_STATE-1)\n",
    "len_degree_add=range(ADD)\n",
    "sign=[1,-1]\n",
    "\n",
    "#Parameters to test add\n",
    "parameters_add_10 = [\n",
    "    (\n",
    "        sign1,\n",
    "        degree1,\n",
    "        sign2,\n",
    "        degree2,\n",
    "        0 if val > 0 else 1 if val < 0 else sign1,\n",
    "        min(abs(val), NUM_STATE),\n",
    "    )\n",
    "    for (sign1, degree1, sign2, degree2) in product(len_sign, len_degree_state, len_sign, len_degree_add)\n",
    "    for val in [sign[sign1] * degree1 + sign[sign2] * degree2]\n",
    "]\n",
    "\n",
    "#print(parameters_add)"
   ]
  },
  {
   "cell_type": "code",
   "execution_count": 210,
   "id": "2c0e0a7c",
   "metadata": {},
   "outputs": [
    {
     "name": "stdout",
     "output_type": "stream",
     "text": [
      "\u001b[1m======================================= test session starts =======================================\u001b[0m\n",
      "collected 144 items\n",
      "\n",
      "t_6e163d0322154d9285cf2ac85a374487.py \u001b[32m.\u001b[0m\u001b[32m.\u001b[0m\u001b[32m.\u001b[0m\u001b[32m.\u001b[0m\u001b[32m.\u001b[0m\u001b[32m.\u001b[0m\u001b[32m.\u001b[0m\u001b[32m.\u001b[0m\u001b[32m.\u001b[0m\u001b[32m.\u001b[0m\u001b[32m.\u001b[0m\u001b[32m.\u001b[0m\u001b[32m.\u001b[0m\u001b[32m.\u001b[0m\u001b[32m.\u001b[0m\u001b[32m.\u001b[0m\u001b[32m.\u001b[0m\u001b[32m.\u001b[0m\u001b[32m.\u001b[0m\u001b[32m.\u001b[0m\u001b[32m.\u001b[0m\u001b[32m.\u001b[0m\u001b[32m.\u001b[0m\u001b[32m.\u001b[0m\u001b[32m.\u001b[0m\u001b[32m.\u001b[0m\u001b[32m.\u001b[0m\u001b[32m.\u001b[0m\u001b[32m.\u001b[0m\u001b[32m.\u001b[0m\u001b[32m.\u001b[0m\u001b[32m.\u001b[0m\u001b[32m.\u001b[0m\u001b[32m.\u001b[0m\u001b[32m.\u001b[0m\u001b[32m.\u001b[0m\u001b[32m.\u001b[0m\u001b[32m.\u001b[0m\u001b[32m.\u001b[0m\u001b[32m.\u001b[0m\u001b[32m.\u001b[0m\u001b[32m.\u001b[0m\u001b[32m.\u001b[0m\u001b[32m.\u001b[0m\u001b[32m.\u001b[0m\u001b[32m.\u001b[0m\u001b[32m.\u001b[0m\u001b[32m.\u001b[0m\u001b[32m.\u001b[0m\u001b[32m.\u001b[0m\u001b[32m.\u001b[0m\u001b[32m.\u001b[0m\u001b[32m.\u001b[0m\u001b[32m.\u001b[0m\u001b[32m [ 37%]\n",
      "\u001b[0m\u001b[32m.\u001b[0m\u001b[32m.\u001b[0m\u001b[32m.\u001b[0m\u001b[32m.\u001b[0m\u001b[32m.\u001b[0m\u001b[32m.\u001b[0m\u001b[32m.\u001b[0m\u001b[32m.\u001b[0m\u001b[32m.\u001b[0m\u001b[32m.\u001b[0m\u001b[32m.\u001b[0m\u001b[32m.\u001b[0m\u001b[32m.\u001b[0m\u001b[32m.\u001b[0m\u001b[32m.\u001b[0m\u001b[32m.\u001b[0m\u001b[32m.\u001b[0m\u001b[32m.\u001b[0m\u001b[32m.\u001b[0m\u001b[32m.\u001b[0m\u001b[32m.\u001b[0m\u001b[32m.\u001b[0m\u001b[32m.\u001b[0m\u001b[32m.\u001b[0m\u001b[32m.\u001b[0m\u001b[32m.\u001b[0m\u001b[32m.\u001b[0m\u001b[32m.\u001b[0m\u001b[32m.\u001b[0m\u001b[32m.\u001b[0m\u001b[32m.\u001b[0m\u001b[32m.\u001b[0m\u001b[32m.\u001b[0m\u001b[32m.\u001b[0m\u001b[32m.\u001b[0m\u001b[32m.\u001b[0m\u001b[32m.\u001b[0m\u001b[32m.\u001b[0m\u001b[32m.\u001b[0m\u001b[32m.\u001b[0m\u001b[32m.\u001b[0m\u001b[32m.\u001b[0m\u001b[32m.\u001b[0m\u001b[32m.\u001b[0m\u001b[32m.\u001b[0m\u001b[32m.\u001b[0m\u001b[32m.\u001b[0m\u001b[32m.\u001b[0m\u001b[32m.\u001b[0m\u001b[32m.\u001b[0m\u001b[32m.\u001b[0m\u001b[32m.\u001b[0m\u001b[32m.\u001b[0m\u001b[32m.\u001b[0m\u001b[32m.\u001b[0m\u001b[32m.\u001b[0m\u001b[32m.\u001b[0m\u001b[32m.\u001b[0m\u001b[32m.\u001b[0m\u001b[32m.\u001b[0m\u001b[32m.\u001b[0m\u001b[32m.\u001b[0m\u001b[32m.\u001b[0m\u001b[32m.\u001b[0m\u001b[32m.\u001b[0m\u001b[32m.\u001b[0m\u001b[32m.\u001b[0m\u001b[32m.\u001b[0m\u001b[32m.\u001b[0m\u001b[32m.\u001b[0m\u001b[32m.\u001b[0m\u001b[32m.\u001b[0m\u001b[32m.\u001b[0m\u001b[32m.\u001b[0m\u001b[32m.\u001b[0m\u001b[32m.\u001b[0m\u001b[32m.\u001b[0m\u001b[32m.\u001b[0m\u001b[32m.\u001b[0m\u001b[32m.\u001b[0m\u001b[32m.\u001b[0m\u001b[32m.\u001b[0m\u001b[32m.\u001b[0m\u001b[32m.\u001b[0m\u001b[32m.\u001b[0m\u001b[32m.\u001b[0m\u001b[32m.\u001b[0m\u001b[32m.\u001b[0m\u001b[32m.\u001b[0m\u001b[32m.\u001b[0m\u001b[32m   [100%]\u001b[0m\n",
      "\n",
      "\u001b[32m======================================= \u001b[32m\u001b[1m144 passed\u001b[0m\u001b[32m in 4.90s\u001b[0m\u001b[32m =======================================\u001b[0m\n"
     ]
    }
   ],
   "source": [
    "%%ipytest -v --no-header\n",
    "NUM_STATE=10\n",
    "# Prueba del método __add__\n",
    "@pytest.mark.parametrize(\"sign1, degree1, sign2, degree2, expected_sign, expected_degree\", parameters_add)\n",
    "def test_add(sign1, degree1, sign2, degree2, expected_sign, expected_degree):\n",
    "    need1 = Need(sign=sign1, degree=degree1,len_degree=NUM_STATE)\n",
    "    need2 = Need(sign=sign2, degree=degree2,len_degree=NUM_STATE)\n",
    "    need_sum = need1 + need2\n",
    "\n",
    "    assert need_sum.state[0] == expected_sign\n",
    "    assert need_sum.state[1] == expected_degree"
   ]
  },
  {
   "cell_type": "code",
   "execution_count": 225,
   "id": "b5bbef2e",
   "metadata": {},
   "outputs": [
    {
     "name": "stdout",
     "output_type": "stream",
     "text": [
      "\u001b[1m======================================= test session starts =======================================\u001b[0m\n",
      "collected 840 items\n",
      "\n",
      "test\\test_need.py \u001b[32m.\u001b[0m\u001b[32m.\u001b[0m\u001b[32m.\u001b[0m\u001b[32m.\u001b[0m\u001b[32m.\u001b[0m\u001b[32m.\u001b[0m\u001b[32m.\u001b[0m\u001b[32m.\u001b[0m\u001b[32m.\u001b[0m\u001b[32m.\u001b[0m\u001b[32m.\u001b[0m\u001b[32m.\u001b[0m\u001b[32m.\u001b[0m\u001b[32m.\u001b[0m\u001b[32m.\u001b[0m\u001b[32m.\u001b[0m\u001b[32m.\u001b[0m\u001b[32m.\u001b[0m\u001b[32m.\u001b[0m\u001b[32m.\u001b[0m\u001b[32m.\u001b[0m\u001b[32m.\u001b[0m\u001b[32m.\u001b[0m\u001b[32m.\u001b[0m\u001b[32m.\u001b[0m\u001b[32m.\u001b[0m\u001b[32m.\u001b[0m\u001b[32m.\u001b[0m\u001b[32m.\u001b[0m\u001b[32m.\u001b[0m\u001b[32m.\u001b[0m\u001b[32m.\u001b[0m\u001b[32m.\u001b[0m\u001b[32m.\u001b[0m\u001b[32m.\u001b[0m\u001b[32m.\u001b[0m\u001b[32m.\u001b[0m\u001b[32m.\u001b[0m\u001b[32m.\u001b[0m\u001b[32m.\u001b[0m\u001b[32m.\u001b[0m\u001b[32m.\u001b[0m\u001b[32m.\u001b[0m\u001b[32m.\u001b[0m\u001b[32m.\u001b[0m\u001b[32m.\u001b[0m\u001b[32m.\u001b[0m\u001b[32m.\u001b[0m\u001b[32m.\u001b[0m\u001b[32m.\u001b[0m\u001b[32m.\u001b[0m\u001b[32m.\u001b[0m\u001b[32m.\u001b[0m\u001b[32m.\u001b[0m\u001b[32m.\u001b[0m\u001b[32m.\u001b[0m\u001b[32m.\u001b[0m\u001b[32m.\u001b[0m\u001b[32m.\u001b[0m\u001b[32m.\u001b[0m\u001b[32m.\u001b[0m\u001b[32m.\u001b[0m\u001b[32m.\u001b[0m\u001b[32m.\u001b[0m\u001b[32m.\u001b[0m\u001b[32m.\u001b[0m\u001b[32m.\u001b[0m\u001b[32m.\u001b[0m\u001b[32m.\u001b[0m\u001b[32m.\u001b[0m\u001b[32m.\u001b[0m\u001b[32m.\u001b[0m\u001b[32m.\u001b[0m\u001b[32m.\u001b[0m\u001b[32m [  8%]\n",
      "\u001b[0m\u001b[32m.\u001b[0m\u001b[32m.\u001b[0m\u001b[32m.\u001b[0m\u001b[32m.\u001b[0m\u001b[32m.\u001b[0m\u001b[32m.\u001b[0m\u001b[32m.\u001b[0m\u001b[32m.\u001b[0m\u001b[32m.\u001b[0m\u001b[32m.\u001b[0m\u001b[32m.\u001b[0m\u001b[32m.\u001b[0m\u001b[32m.\u001b[0m\u001b[32m.\u001b[0m\u001b[32m.\u001b[0m\u001b[32m.\u001b[0m\u001b[32m.\u001b[0m\u001b[32m.\u001b[0m\u001b[32m.\u001b[0m\u001b[32m.\u001b[0m\u001b[32m.\u001b[0m\u001b[32m.\u001b[0m\u001b[32m.\u001b[0m\u001b[32m.\u001b[0m\u001b[32m.\u001b[0m\u001b[32m.\u001b[0m\u001b[32m.\u001b[0m\u001b[32m.\u001b[0m\u001b[32m.\u001b[0m\u001b[32m.\u001b[0m\u001b[32m.\u001b[0m\u001b[32m.\u001b[0m\u001b[32m.\u001b[0m\u001b[32m.\u001b[0m\u001b[32m.\u001b[0m\u001b[32m.\u001b[0m\u001b[32m.\u001b[0m\u001b[32m.\u001b[0m\u001b[32m.\u001b[0m\u001b[32m.\u001b[0m\u001b[32m.\u001b[0m\u001b[32m.\u001b[0m\u001b[32m.\u001b[0m\u001b[32m.\u001b[0m\u001b[32m.\u001b[0m\u001b[32m.\u001b[0m\u001b[32m.\u001b[0m\u001b[32m.\u001b[0m\u001b[32m.\u001b[0m\u001b[32m.\u001b[0m\u001b[32m.\u001b[0m\u001b[32m.\u001b[0m\u001b[32m.\u001b[0m\u001b[32m.\u001b[0m\u001b[32m.\u001b[0m\u001b[32m.\u001b[0m\u001b[32m.\u001b[0m\u001b[32m.\u001b[0m\u001b[32m.\u001b[0m\u001b[32m.\u001b[0m\u001b[32m.\u001b[0m\u001b[32m.\u001b[0m\u001b[32m.\u001b[0m\u001b[32m.\u001b[0m\u001b[32m.\u001b[0m\u001b[32m.\u001b[0m\u001b[32m.\u001b[0m\u001b[32m.\u001b[0m\u001b[32m.\u001b[0m\u001b[32m.\u001b[0m\u001b[32m.\u001b[0m\u001b[32m.\u001b[0m\u001b[32m.\u001b[0m\u001b[32m.\u001b[0m\u001b[32m.\u001b[0m\u001b[32m.\u001b[0m\u001b[32m.\u001b[0m\u001b[32m.\u001b[0m\u001b[32m.\u001b[0m\u001b[32m.\u001b[0m\u001b[32m.\u001b[0m\u001b[32m.\u001b[0m\u001b[32m.\u001b[0m\u001b[32m.\u001b[0m\u001b[32m.\u001b[0m\u001b[32m.\u001b[0m\u001b[32m.\u001b[0m\u001b[32m.\u001b[0m\u001b[32m.\u001b[0m\u001b[32m.\u001b[0m\u001b[32m.\u001b[0m\u001b[32m.\u001b[0m\u001b[32m [ 19%]\n",
      "\u001b[0m\u001b[32m.\u001b[0m\u001b[32m.\u001b[0m\u001b[32m.\u001b[0m\u001b[32m.\u001b[0m\u001b[32m.\u001b[0m\u001b[32m.\u001b[0m\u001b[32m.\u001b[0m\u001b[32m.\u001b[0m\u001b[32m.\u001b[0m\u001b[32m.\u001b[0m\u001b[32m.\u001b[0m\u001b[32m.\u001b[0m\u001b[32m.\u001b[0m\u001b[32m.\u001b[0m\u001b[32m.\u001b[0m\u001b[32m.\u001b[0m\u001b[32m.\u001b[0m\u001b[32m.\u001b[0m\u001b[32m.\u001b[0m\u001b[32m.\u001b[0m\u001b[32m.\u001b[0m\u001b[32m.\u001b[0m\u001b[32m.\u001b[0m\u001b[32m.\u001b[0m\u001b[32m.\u001b[0m\u001b[32m.\u001b[0m\u001b[32m.\u001b[0m\u001b[32m.\u001b[0m\u001b[32m.\u001b[0m\u001b[32m.\u001b[0m\u001b[32m.\u001b[0m\u001b[32m.\u001b[0m\u001b[32m.\u001b[0m\u001b[32m.\u001b[0m\u001b[32m.\u001b[0m\u001b[32m.\u001b[0m\u001b[32m.\u001b[0m\u001b[32m.\u001b[0m\u001b[32m.\u001b[0m\u001b[32m.\u001b[0m\u001b[32m.\u001b[0m\u001b[32m.\u001b[0m\u001b[32m.\u001b[0m\u001b[32m.\u001b[0m\u001b[32m.\u001b[0m\u001b[32m.\u001b[0m\u001b[32m.\u001b[0m\u001b[32m.\u001b[0m\u001b[32m.\u001b[0m\u001b[32m.\u001b[0m\u001b[32m.\u001b[0m\u001b[32m.\u001b[0m\u001b[32m.\u001b[0m\u001b[32m.\u001b[0m\u001b[32m.\u001b[0m\u001b[32m.\u001b[0m\u001b[32m.\u001b[0m\u001b[32m.\u001b[0m\u001b[32m.\u001b[0m\u001b[32m.\u001b[0m\u001b[32m.\u001b[0m\u001b[32m.\u001b[0m\u001b[32m.\u001b[0m\u001b[32m.\u001b[0m\u001b[32m.\u001b[0m\u001b[32m.\u001b[0m\u001b[32m.\u001b[0m\u001b[32m.\u001b[0m\u001b[32m.\u001b[0m\u001b[32m.\u001b[0m\u001b[32m.\u001b[0m\u001b[32m.\u001b[0m\u001b[32m.\u001b[0m\u001b[32m.\u001b[0m\u001b[32m.\u001b[0m\u001b[32m.\u001b[0m\u001b[32m.\u001b[0m\u001b[32m.\u001b[0m\u001b[32m.\u001b[0m\u001b[32m.\u001b[0m\u001b[32m.\u001b[0m\u001b[32m.\u001b[0m\u001b[32m.\u001b[0m\u001b[32m.\u001b[0m\u001b[32m.\u001b[0m\u001b[32m.\u001b[0m\u001b[32m.\u001b[0m\u001b[32m.\u001b[0m\u001b[32m.\u001b[0m\u001b[32m.\u001b[0m\u001b[32m.\u001b[0m\u001b[32m.\u001b[0m\u001b[32m [ 30%]\n",
      "\u001b[0m\u001b[32m.\u001b[0m\u001b[32m.\u001b[0m\u001b[32m.\u001b[0m\u001b[32m.\u001b[0m\u001b[32m.\u001b[0m\u001b[32m.\u001b[0m\u001b[32m.\u001b[0m\u001b[32m.\u001b[0m\u001b[32m.\u001b[0m\u001b[32m.\u001b[0m\u001b[32m.\u001b[0m\u001b[32m.\u001b[0m\u001b[32m.\u001b[0m\u001b[32m.\u001b[0m\u001b[32m.\u001b[0m\u001b[32m.\u001b[0m\u001b[32m.\u001b[0m\u001b[32m.\u001b[0m\u001b[32m.\u001b[0m\u001b[32m.\u001b[0m\u001b[32m.\u001b[0m\u001b[32m.\u001b[0m\u001b[32m.\u001b[0m\u001b[32m.\u001b[0m\u001b[32m.\u001b[0m\u001b[32m.\u001b[0m\u001b[32m.\u001b[0m\u001b[32m.\u001b[0m\u001b[32m.\u001b[0m\u001b[32m.\u001b[0m\u001b[32m.\u001b[0m\u001b[32m.\u001b[0m\u001b[32m.\u001b[0m\u001b[32m.\u001b[0m\u001b[32m.\u001b[0m\u001b[32m.\u001b[0m\u001b[32m.\u001b[0m\u001b[32m.\u001b[0m\u001b[32m.\u001b[0m\u001b[32m.\u001b[0m\u001b[32m.\u001b[0m\u001b[32m.\u001b[0m\u001b[32m.\u001b[0m\u001b[32m.\u001b[0m\u001b[32m.\u001b[0m\u001b[32m.\u001b[0m\u001b[32m.\u001b[0m\u001b[32m.\u001b[0m\u001b[32m.\u001b[0m\u001b[32m.\u001b[0m\u001b[32m.\u001b[0m\u001b[32m.\u001b[0m\u001b[32m.\u001b[0m\u001b[32m.\u001b[0m\u001b[32m.\u001b[0m\u001b[32m.\u001b[0m\u001b[32m.\u001b[0m\u001b[32m.\u001b[0m\u001b[32m.\u001b[0m\u001b[32m.\u001b[0m\u001b[32m.\u001b[0m\u001b[32m.\u001b[0m\u001b[32m.\u001b[0m\u001b[32m.\u001b[0m\u001b[32m.\u001b[0m\u001b[32m.\u001b[0m\u001b[32m.\u001b[0m\u001b[32m.\u001b[0m\u001b[32m.\u001b[0m\u001b[32m.\u001b[0m\u001b[32m.\u001b[0m\u001b[32m.\u001b[0m\u001b[32m.\u001b[0m\u001b[32m.\u001b[0m\u001b[32m.\u001b[0m\u001b[32m.\u001b[0m\u001b[32m.\u001b[0m\u001b[32m.\u001b[0m\u001b[32m.\u001b[0m\u001b[32m.\u001b[0m\u001b[32m.\u001b[0m\u001b[32m.\u001b[0m\u001b[32m.\u001b[0m\u001b[32m.\u001b[0m\u001b[32m.\u001b[0m\u001b[32m.\u001b[0m\u001b[32m.\u001b[0m\u001b[32m.\u001b[0m\u001b[32m.\u001b[0m\u001b[32m.\u001b[0m\u001b[32m.\u001b[0m\u001b[32m.\u001b[0m\u001b[32m [ 41%]\n",
      "\u001b[0m\u001b[32m.\u001b[0m\u001b[32m.\u001b[0m\u001b[32m.\u001b[0m\u001b[32m.\u001b[0m\u001b[32m.\u001b[0m\u001b[32m.\u001b[0m\u001b[32m.\u001b[0m\u001b[32m.\u001b[0m\u001b[32m.\u001b[0m\u001b[32m.\u001b[0m\u001b[32m.\u001b[0m\u001b[32m.\u001b[0m\u001b[32m.\u001b[0m\u001b[32m.\u001b[0m\u001b[32m.\u001b[0m\u001b[32m.\u001b[0m\u001b[32m.\u001b[0m\u001b[32m.\u001b[0m\u001b[32m.\u001b[0m\u001b[32m.\u001b[0m\u001b[32m.\u001b[0m\u001b[32m.\u001b[0m\u001b[32m.\u001b[0m\u001b[32m.\u001b[0m\u001b[32m.\u001b[0m\u001b[32m.\u001b[0m\u001b[32m.\u001b[0m\u001b[32m.\u001b[0m\u001b[32m.\u001b[0m\u001b[32m.\u001b[0m\u001b[32m.\u001b[0m\u001b[32m.\u001b[0m\u001b[32m.\u001b[0m\u001b[32m.\u001b[0m\u001b[32m.\u001b[0m\u001b[32m.\u001b[0m\u001b[32m.\u001b[0m\u001b[32m.\u001b[0m\u001b[32m.\u001b[0m\u001b[32m.\u001b[0m\u001b[32m.\u001b[0m\u001b[32m.\u001b[0m\u001b[32m.\u001b[0m\u001b[32m.\u001b[0m\u001b[32m.\u001b[0m\u001b[32m.\u001b[0m\u001b[32m.\u001b[0m\u001b[32m.\u001b[0m\u001b[32m.\u001b[0m\u001b[32m.\u001b[0m\u001b[32m.\u001b[0m\u001b[32m.\u001b[0m\u001b[32m.\u001b[0m\u001b[32m.\u001b[0m\u001b[32m.\u001b[0m\u001b[32m.\u001b[0m\u001b[32m.\u001b[0m\u001b[32m.\u001b[0m\u001b[32m.\u001b[0m\u001b[32m.\u001b[0m\u001b[32m.\u001b[0m\u001b[32m.\u001b[0m\u001b[32m.\u001b[0m\u001b[32m.\u001b[0m\u001b[32m.\u001b[0m\u001b[32m.\u001b[0m\u001b[32m.\u001b[0m\u001b[32m.\u001b[0m\u001b[32m.\u001b[0m\u001b[32m.\u001b[0m\u001b[32m.\u001b[0m\u001b[32m.\u001b[0m\u001b[32m.\u001b[0m\u001b[32m.\u001b[0m\u001b[32m.\u001b[0m\u001b[32m.\u001b[0m\u001b[32m.\u001b[0m\u001b[32m.\u001b[0m\u001b[32m.\u001b[0m\u001b[32m.\u001b[0m\u001b[32m.\u001b[0m\u001b[32m.\u001b[0m\u001b[32m.\u001b[0m\u001b[32m.\u001b[0m\u001b[32m.\u001b[0m\u001b[32m.\u001b[0m\u001b[32m.\u001b[0m\u001b[32m.\u001b[0m\u001b[32m.\u001b[0m\u001b[32m.\u001b[0m\u001b[32m.\u001b[0m\u001b[32m.\u001b[0m\u001b[32m [ 52%]\n",
      "\u001b[0m\u001b[32m.\u001b[0m\u001b[32m.\u001b[0m\u001b[32m.\u001b[0m\u001b[32m.\u001b[0m\u001b[32m.\u001b[0m\u001b[32m.\u001b[0m\u001b[32m.\u001b[0m\u001b[32m.\u001b[0m\u001b[32m.\u001b[0m\u001b[32m.\u001b[0m\u001b[32m.\u001b[0m\u001b[32m.\u001b[0m\u001b[32m.\u001b[0m\u001b[32m.\u001b[0m\u001b[32m.\u001b[0m\u001b[32m.\u001b[0m\u001b[32m.\u001b[0m\u001b[32m.\u001b[0m\u001b[32m.\u001b[0m\u001b[32m.\u001b[0m\u001b[32m.\u001b[0m\u001b[32m.\u001b[0m\u001b[32m.\u001b[0m\u001b[32m.\u001b[0m\u001b[32m.\u001b[0m\u001b[32m.\u001b[0m\u001b[32m.\u001b[0m\u001b[32m.\u001b[0m\u001b[32m.\u001b[0m\u001b[32m.\u001b[0m\u001b[32m.\u001b[0m\u001b[32m.\u001b[0m\u001b[32m.\u001b[0m\u001b[32m.\u001b[0m\u001b[32m.\u001b[0m\u001b[32m.\u001b[0m\u001b[32m.\u001b[0m\u001b[32m.\u001b[0m\u001b[32m.\u001b[0m\u001b[32m.\u001b[0m\u001b[32m.\u001b[0m\u001b[32m.\u001b[0m\u001b[32m.\u001b[0m\u001b[32m.\u001b[0m\u001b[32m.\u001b[0m\u001b[32m.\u001b[0m\u001b[32m.\u001b[0m\u001b[32m.\u001b[0m\u001b[32m.\u001b[0m\u001b[32m.\u001b[0m\u001b[32m.\u001b[0m\u001b[32m.\u001b[0m\u001b[32m.\u001b[0m\u001b[32m.\u001b[0m\u001b[32m.\u001b[0m\u001b[32m.\u001b[0m\u001b[32m.\u001b[0m\u001b[32m.\u001b[0m\u001b[32m.\u001b[0m\u001b[32m.\u001b[0m\u001b[32m.\u001b[0m\u001b[32m.\u001b[0m\u001b[32m.\u001b[0m\u001b[32m.\u001b[0m\u001b[32m.\u001b[0m\u001b[32m.\u001b[0m\u001b[32m.\u001b[0m\u001b[32m.\u001b[0m\u001b[32m.\u001b[0m\u001b[32m.\u001b[0m\u001b[32m.\u001b[0m\u001b[32m.\u001b[0m\u001b[32m.\u001b[0m\u001b[32m.\u001b[0m\u001b[32m.\u001b[0m\u001b[32m.\u001b[0m\u001b[32m.\u001b[0m\u001b[32m.\u001b[0m\u001b[32m.\u001b[0m\u001b[32m.\u001b[0m\u001b[32m.\u001b[0m\u001b[32m.\u001b[0m\u001b[32m.\u001b[0m\u001b[32m.\u001b[0m\u001b[32m.\u001b[0m\u001b[32m.\u001b[0m\u001b[32m.\u001b[0m\u001b[32m.\u001b[0m\u001b[32m.\u001b[0m\u001b[32m.\u001b[0m\u001b[32m.\u001b[0m\u001b[32m.\u001b[0m\u001b[32m [ 63%]\n",
      "\u001b[0m\u001b[32m.\u001b[0m\u001b[32m.\u001b[0m\u001b[32m.\u001b[0m\u001b[32m.\u001b[0m\u001b[32m.\u001b[0m\u001b[32m.\u001b[0m\u001b[32m.\u001b[0m\u001b[32m.\u001b[0m\u001b[32m.\u001b[0m\u001b[32m.\u001b[0m\u001b[32m.\u001b[0m\u001b[32m.\u001b[0m\u001b[32m.\u001b[0m\u001b[32m.\u001b[0m\u001b[32m.\u001b[0m\u001b[32m.\u001b[0m\u001b[32m.\u001b[0m\u001b[32m.\u001b[0m\u001b[32m.\u001b[0m\u001b[32m.\u001b[0m\u001b[32m.\u001b[0m\u001b[32m.\u001b[0m\u001b[32m.\u001b[0m\u001b[32m.\u001b[0m\u001b[32m.\u001b[0m\u001b[32m.\u001b[0m\u001b[32m.\u001b[0m\u001b[32m.\u001b[0m\u001b[32m.\u001b[0m\u001b[32m.\u001b[0m\u001b[32m.\u001b[0m\u001b[32m.\u001b[0m\u001b[32m.\u001b[0m\u001b[32m.\u001b[0m\u001b[32m.\u001b[0m\u001b[32m.\u001b[0m\u001b[32m.\u001b[0m\u001b[32m.\u001b[0m\u001b[32m.\u001b[0m\u001b[32m.\u001b[0m\u001b[32m.\u001b[0m\u001b[32m.\u001b[0m\u001b[32m.\u001b[0m\u001b[32m.\u001b[0m\u001b[32m.\u001b[0m\u001b[32m.\u001b[0m\u001b[32m.\u001b[0m\u001b[32m.\u001b[0m\u001b[32m.\u001b[0m\u001b[32m.\u001b[0m\u001b[32m.\u001b[0m\u001b[32m.\u001b[0m\u001b[32m.\u001b[0m\u001b[32m.\u001b[0m\u001b[32m.\u001b[0m\u001b[32m.\u001b[0m\u001b[32m.\u001b[0m\u001b[32m.\u001b[0m\u001b[32m.\u001b[0m\u001b[32m.\u001b[0m\u001b[32m.\u001b[0m\u001b[32m.\u001b[0m\u001b[32m.\u001b[0m\u001b[32m.\u001b[0m\u001b[32m.\u001b[0m\u001b[32m.\u001b[0m\u001b[32m.\u001b[0m\u001b[32m.\u001b[0m\u001b[32m.\u001b[0m\u001b[32m.\u001b[0m\u001b[32m.\u001b[0m\u001b[32m.\u001b[0m\u001b[32m.\u001b[0m\u001b[32m.\u001b[0m\u001b[32m.\u001b[0m\u001b[32m.\u001b[0m\u001b[32m.\u001b[0m\u001b[32m.\u001b[0m\u001b[32m.\u001b[0m\u001b[32m.\u001b[0m\u001b[32m.\u001b[0m\u001b[32m.\u001b[0m\u001b[32m.\u001b[0m\u001b[32m.\u001b[0m\u001b[32m.\u001b[0m\u001b[32m.\u001b[0m\u001b[32m.\u001b[0m\u001b[32m.\u001b[0m\u001b[32m.\u001b[0m\u001b[32m.\u001b[0m\u001b[32m.\u001b[0m\u001b[32m.\u001b[0m\u001b[32m [ 74%]\n",
      "\u001b[0m\u001b[32m.\u001b[0m\u001b[32m.\u001b[0m\u001b[32m.\u001b[0m\u001b[32m.\u001b[0m\u001b[32m.\u001b[0m\u001b[32m.\u001b[0m\u001b[32m.\u001b[0m\u001b[32m.\u001b[0m\u001b[32m.\u001b[0m\u001b[32m.\u001b[0m\u001b[32m.\u001b[0m\u001b[32m.\u001b[0m\u001b[32m.\u001b[0m\u001b[32m.\u001b[0m\u001b[32m.\u001b[0m\u001b[32m.\u001b[0m\u001b[32m.\u001b[0m\u001b[32m.\u001b[0m\u001b[32m.\u001b[0m\u001b[32m.\u001b[0m\u001b[32m.\u001b[0m\u001b[32m.\u001b[0m\u001b[32m.\u001b[0m\u001b[32m.\u001b[0m\u001b[32m.\u001b[0m\u001b[32m.\u001b[0m\u001b[32m.\u001b[0m\u001b[32m.\u001b[0m\u001b[32m.\u001b[0m\u001b[32m.\u001b[0m\u001b[32m.\u001b[0m\u001b[32m.\u001b[0m\u001b[32m.\u001b[0m\u001b[32m.\u001b[0m\u001b[32m.\u001b[0m\u001b[32m.\u001b[0m\u001b[32m.\u001b[0m\u001b[32m.\u001b[0m\u001b[32m.\u001b[0m\u001b[32m.\u001b[0m\u001b[32m.\u001b[0m\u001b[32m.\u001b[0m\u001b[32m.\u001b[0m\u001b[32m.\u001b[0m\u001b[32m.\u001b[0m\u001b[32m.\u001b[0m\u001b[32m.\u001b[0m\u001b[32m.\u001b[0m\u001b[32m.\u001b[0m\u001b[32m.\u001b[0m\u001b[32m.\u001b[0m\u001b[32m.\u001b[0m\u001b[32m.\u001b[0m\u001b[32m.\u001b[0m\u001b[32m.\u001b[0m\u001b[32m.\u001b[0m\u001b[32m.\u001b[0m\u001b[32m.\u001b[0m\u001b[32m.\u001b[0m\u001b[32m.\u001b[0m\u001b[32m.\u001b[0m\u001b[32m.\u001b[0m\u001b[32m.\u001b[0m\u001b[32m.\u001b[0m\u001b[32m.\u001b[0m\u001b[32m.\u001b[0m\u001b[32m.\u001b[0m\u001b[32m.\u001b[0m\u001b[32m.\u001b[0m\u001b[32m.\u001b[0m\u001b[32m.\u001b[0m\u001b[32m.\u001b[0m\u001b[32m.\u001b[0m\u001b[32m.\u001b[0m\u001b[32m.\u001b[0m\u001b[32m.\u001b[0m\u001b[32m.\u001b[0m\u001b[32m.\u001b[0m\u001b[32m.\u001b[0m\u001b[32m.\u001b[0m\u001b[32m.\u001b[0m\u001b[32m.\u001b[0m\u001b[32m.\u001b[0m\u001b[32m.\u001b[0m\u001b[32m.\u001b[0m\u001b[32m.\u001b[0m\u001b[32m.\u001b[0m\u001b[32m.\u001b[0m\u001b[32m.\u001b[0m\u001b[32m.\u001b[0m\u001b[32m.\u001b[0m\u001b[32m.\u001b[0m\u001b[32m [ 85%]\n",
      "\u001b[0m\u001b[32m.\u001b[0m\u001b[32m.\u001b[0m\u001b[32m.\u001b[0m\u001b[32m.\u001b[0m\u001b[32m.\u001b[0m\u001b[32m.\u001b[0m\u001b[32m.\u001b[0m\u001b[32m.\u001b[0m\u001b[32m.\u001b[0m\u001b[32m.\u001b[0m\u001b[32m.\u001b[0m\u001b[32m.\u001b[0m\u001b[32m.\u001b[0m\u001b[32m.\u001b[0m\u001b[32m.\u001b[0m\u001b[32m.\u001b[0m\u001b[32m.\u001b[0m\u001b[32m.\u001b[0m\u001b[32m.\u001b[0m\u001b[32m.\u001b[0m\u001b[32m.\u001b[0m\u001b[32m.\u001b[0m\u001b[32m.\u001b[0m\u001b[32m.\u001b[0m\u001b[32m.\u001b[0m\u001b[32m.\u001b[0m\u001b[32m.\u001b[0m\u001b[32m.\u001b[0m\u001b[32m.\u001b[0m\u001b[32m.\u001b[0m\u001b[32m.\u001b[0m\u001b[32m.\u001b[0m\u001b[32m.\u001b[0m\u001b[32m.\u001b[0m\u001b[32m.\u001b[0m\u001b[32m.\u001b[0m\u001b[32m.\u001b[0m\u001b[32m.\u001b[0m\u001b[32m.\u001b[0m\u001b[32m.\u001b[0m\u001b[32m.\u001b[0m\u001b[32m.\u001b[0m\u001b[32m.\u001b[0m\u001b[32m.\u001b[0m\u001b[32m.\u001b[0m\u001b[32m.\u001b[0m\u001b[32m.\u001b[0m\u001b[32m.\u001b[0m\u001b[32m.\u001b[0m\u001b[32m.\u001b[0m\u001b[32m.\u001b[0m\u001b[32m.\u001b[0m\u001b[32m.\u001b[0m\u001b[32m.\u001b[0m\u001b[32m.\u001b[0m\u001b[32m.\u001b[0m\u001b[32m.\u001b[0m\u001b[32m.\u001b[0m\u001b[32m.\u001b[0m\u001b[32m.\u001b[0m\u001b[32m.\u001b[0m\u001b[32m.\u001b[0m\u001b[32m.\u001b[0m\u001b[32m.\u001b[0m\u001b[32m.\u001b[0m\u001b[32m.\u001b[0m\u001b[32m.\u001b[0m\u001b[32m.\u001b[0m\u001b[32m.\u001b[0m\u001b[32m.\u001b[0m\u001b[32m.\u001b[0m\u001b[32m.\u001b[0m\u001b[32m.\u001b[0m\u001b[32m.\u001b[0m\u001b[32m.\u001b[0m\u001b[32m.\u001b[0m\u001b[32m.\u001b[0m\u001b[32m.\u001b[0m\u001b[32m.\u001b[0m\u001b[32m.\u001b[0m\u001b[32m.\u001b[0m\u001b[32m.\u001b[0m\u001b[32m.\u001b[0m\u001b[32m.\u001b[0m\u001b[32m.\u001b[0m\u001b[32m.\u001b[0m\u001b[32m.\u001b[0m\u001b[32m.\u001b[0m\u001b[32m.\u001b[0m\u001b[32m.\u001b[0m\u001b[32m.\u001b[0m\u001b[32m.\u001b[0m\u001b[32m [ 96%]\n",
      "\u001b[0m\u001b[32m.\u001b[0m\u001b[32m.\u001b[0m\u001b[32m.\u001b[0m\u001b[32m.\u001b[0m\u001b[32m.\u001b[0m\u001b[32m.\u001b[0m\u001b[32m.\u001b[0m\u001b[32m.\u001b[0m\u001b[32m.\u001b[0m\u001b[32m.\u001b[0m\u001b[32m.\u001b[0m\u001b[32m.\u001b[0m\u001b[32m.\u001b[0m\u001b[32m.\u001b[0m\u001b[32m.\u001b[0m\u001b[32m.\u001b[0m\u001b[32m.\u001b[0m\u001b[32m.\u001b[0m\u001b[32m.\u001b[0m\u001b[32m.\u001b[0m\u001b[32m.\u001b[0m\u001b[32m.\u001b[0m\u001b[32m.\u001b[0m\u001b[32m.\u001b[0m\u001b[32m.\u001b[0m\u001b[32m.\u001b[0m\u001b[32m.\u001b[0m\u001b[32m.\u001b[0m\u001b[32m.\u001b[0m\u001b[32m.\u001b[0m\u001b[32m                                                               [100%]\u001b[0m\n",
      "\n",
      "\u001b[32m======================================= \u001b[32m\u001b[1m840 passed\u001b[0m\u001b[32m in 4.07s\u001b[0m\u001b[32m =======================================\u001b[0m\n"
     ]
    }
   ],
   "source": [
    "!pytest --no-header test/test_need.py"
   ]
  },
  {
   "attachments": {},
   "cell_type": "markdown",
   "id": "17e57dd6",
   "metadata": {},
   "source": [
    "##  Clase BCE "
   ]
  },
  {
   "cell_type": "code",
   "execution_count": 3,
   "id": "af342a44",
   "metadata": {},
   "outputs": [],
   "source": [
    "from src.bce import BCE"
   ]
  },
  {
   "cell_type": "markdown",
   "id": "ea4d0960",
   "metadata": {},
   "source": [
    "La clase BCE es una representación de las necesidades biológicas, culturales y emocionales de un individuo. Tiene métodos para establecer los valores de estas necesidades, obtener el estado actual de las necesidades, realizar operaciones matemáticas como suma, resta y multiplicación con otras instancias de la clase BCE, y comparar instancias de la clase BCE utilizando operadores de comparación como <, ==, !=, <=, >, >=. También tiene métodos para restablecer las necesidades a sus valores iniciales, calcular el promedio de varias instancias de BCE, y generar muestras aleatorias de las necesidades."
   ]
  },
  {
   "cell_type": "markdown",
   "id": "28100ecb",
   "metadata": {},
   "source": [
    "### Ejemplo Clase BCE"
   ]
  },
  {
   "cell_type": "code",
   "execution_count": 211,
   "id": "9d54cb71",
   "metadata": {},
   "outputs": [
    {
     "data": {
      "text/html": [
       "<pre style=\"white-space:pre;overflow-x:auto;line-height:normal;font-family:Menlo,'DejaVu Sans Mono',consolas,'Courier New',monospace\">BCE <span style=\"color: #008080; text-decoration-color: #008080; font-weight: bold\">1</span>:                           Bio:<span style=\"color: #008080; text-decoration-color: #008080; font-weight: bold\">-0.5</span> Cul:+<span style=\"color: #008080; text-decoration-color: #008080; font-weight: bold\">0.25</span> Emo:+<span style=\"color: #008080; text-decoration-color: #008080; font-weight: bold\">0.0</span>\n",
       "</pre>\n"
      ],
      "text/plain": [
       "BCE \u001b[1;36m1\u001b[0m:                           Bio:\u001b[1;36m-0.5\u001b[0m Cul:+\u001b[1;36m0.25\u001b[0m Emo:+\u001b[1;36m0.0\u001b[0m\n"
      ]
     },
     "metadata": {},
     "output_type": "display_data"
    },
    {
     "data": {
      "text/html": [
       "<pre style=\"white-space:pre;overflow-x:auto;line-height:normal;font-family:Menlo,'DejaVu Sans Mono',consolas,'Courier New',monospace\">BCE <span style=\"color: #008080; text-decoration-color: #008080; font-weight: bold\">2</span>:                           Bio:+<span style=\"color: #008080; text-decoration-color: #008080; font-weight: bold\">0.0</span> Cul:<span style=\"color: #008080; text-decoration-color: #008080; font-weight: bold\">-0.5</span> Emo:+<span style=\"color: #008080; text-decoration-color: #008080; font-weight: bold\">0.5</span>\n",
       "</pre>\n"
      ],
      "text/plain": [
       "BCE \u001b[1;36m2\u001b[0m:                           Bio:+\u001b[1;36m0.0\u001b[0m Cul:\u001b[1;36m-0.5\u001b[0m Emo:+\u001b[1;36m0.5\u001b[0m\n"
      ]
     },
     "metadata": {},
     "output_type": "display_data"
    },
    {
     "data": {
      "text/html": [
       "<pre style=\"white-space:pre;overflow-x:auto;line-height:normal;font-family:Menlo,'DejaVu Sans Mono',consolas,'Courier New',monospace\">BCE <span style=\"color: #008080; text-decoration-color: #008080; font-weight: bold\">3</span>:                           Bio:+<span style=\"color: #008080; text-decoration-color: #008080; font-weight: bold\">0.0</span> Cul:+<span style=\"color: #008080; text-decoration-color: #008080; font-weight: bold\">0.0</span> Emo:+<span style=\"color: #008080; text-decoration-color: #008080; font-weight: bold\">0.25</span>\n",
       "</pre>\n"
      ],
      "text/plain": [
       "BCE \u001b[1;36m3\u001b[0m:                           Bio:+\u001b[1;36m0.0\u001b[0m Cul:+\u001b[1;36m0.0\u001b[0m Emo:+\u001b[1;36m0.25\u001b[0m\n"
      ]
     },
     "metadata": {},
     "output_type": "display_data"
    },
    {
     "data": {
      "text/html": [
       "<pre style=\"white-space:pre;overflow-x:auto;line-height:normal;font-family:Menlo,'DejaVu Sans Mono',consolas,'Courier New',monospace\">Suma de bce1 y bce2:             Bio:<span style=\"color: #008080; text-decoration-color: #008080; font-weight: bold\">-0.5</span> Cul:<span style=\"color: #008080; text-decoration-color: #008080; font-weight: bold\">-0.25</span> Emo:+<span style=\"color: #008080; text-decoration-color: #008080; font-weight: bold\">0.5</span>\n",
       "</pre>\n"
      ],
      "text/plain": [
       "Suma de bce1 y bce2:             Bio:\u001b[1;36m-0.5\u001b[0m Cul:\u001b[1;36m-0.25\u001b[0m Emo:+\u001b[1;36m0.5\u001b[0m\n"
      ]
     },
     "metadata": {},
     "output_type": "display_data"
    },
    {
     "data": {
      "text/html": [
       "<pre style=\"white-space:pre;overflow-x:auto;line-height:normal;font-family:Menlo,'DejaVu Sans Mono',consolas,'Courier New',monospace\">Promedio entre BCE <span style=\"color: #008080; text-decoration-color: #008080; font-weight: bold\">1</span>,<span style=\"color: #008080; text-decoration-color: #008080; font-weight: bold\">2</span> y <span style=\"color: #008080; text-decoration-color: #008080; font-weight: bold\">3</span>:      Bio:<span style=\"color: #008080; text-decoration-color: #008080; font-weight: bold\">-0.25</span> Cul:<span style=\"color: #008080; text-decoration-color: #008080; font-weight: bold\">-0.25</span> Emo:+<span style=\"color: #008080; text-decoration-color: #008080; font-weight: bold\">0.25</span>\n",
       "</pre>\n"
      ],
      "text/plain": [
       "Promedio entre BCE \u001b[1;36m1\u001b[0m,\u001b[1;36m2\u001b[0m y \u001b[1;36m3\u001b[0m:      Bio:\u001b[1;36m-0.25\u001b[0m Cul:\u001b[1;36m-0.25\u001b[0m Emo:+\u001b[1;36m0.25\u001b[0m\n"
      ]
     },
     "metadata": {},
     "output_type": "display_data"
    },
    {
     "data": {
      "text/html": [
       "<pre style=\"white-space:pre;overflow-x:auto;line-height:normal;font-family:Menlo,'DejaVu Sans Mono',consolas,'Courier New',monospace\"><span style=\"font-weight: bold\">[[</span><span style=\"color: #008080; text-decoration-color: #008080; font-weight: bold\">1</span> <span style=\"color: #008080; text-decoration-color: #008080; font-weight: bold\">2</span><span style=\"font-weight: bold\">]</span>\n",
       " <span style=\"font-weight: bold\">[</span><span style=\"color: #008080; text-decoration-color: #008080; font-weight: bold\">0</span> <span style=\"color: #008080; text-decoration-color: #008080; font-weight: bold\">1</span><span style=\"font-weight: bold\">]</span>\n",
       " <span style=\"font-weight: bold\">[</span><span style=\"color: #008080; text-decoration-color: #008080; font-weight: bold\">0</span> <span style=\"color: #008080; text-decoration-color: #008080; font-weight: bold\">0</span><span style=\"font-weight: bold\">]]</span>\n",
       "</pre>\n"
      ],
      "text/plain": [
       "\u001b[1m[\u001b[0m\u001b[1m[\u001b[0m\u001b[1;36m1\u001b[0m \u001b[1;36m2\u001b[0m\u001b[1m]\u001b[0m\n",
       " \u001b[1m[\u001b[0m\u001b[1;36m0\u001b[0m \u001b[1;36m1\u001b[0m\u001b[1m]\u001b[0m\n",
       " \u001b[1m[\u001b[0m\u001b[1;36m0\u001b[0m \u001b[1;36m0\u001b[0m\u001b[1m]\u001b[0m\u001b[1m]\u001b[0m\n"
      ]
     },
     "metadata": {},
     "output_type": "display_data"
    }
   ],
   "source": [
    "bce1=BCE().sample()\n",
    "bce2=BCE().sample()\n",
    "bce3=BCE().sample()\n",
    "\n",
    "print(\"BCE 1:\\t\\t\\t\\t\",bce1)\n",
    "print(\"BCE 2:\\t\\t\\t\\t\",bce2)\n",
    "print(\"BCE 3:\\t\\t\\t\\t\",bce3)\n",
    "\n",
    "print(\"Suma de bce1 y bce2:\\t\\t\",bce1+bce2)\n",
    "print(\"Promedio entre BCE 1,2 y 3:\\t\",BCE.average(bce1,bce2,bce3))\n",
    "print(bce1.state())\n"
   ]
  },
  {
   "cell_type": "markdown",
   "id": "37133e89",
   "metadata": {},
   "source": [
    "### Pruebas Unitarias clase BCE"
   ]
  },
  {
   "cell_type": "markdown",
   "id": "cce9b390",
   "metadata": {},
   "source": [
    "#### Generación de parametros para el metodo __add__"
   ]
  },
  {
   "cell_type": "code",
   "execution_count": 10,
   "id": "efdf3b8c",
   "metadata": {},
   "outputs": [
    {
     "data": {
      "text/html": [
       "<pre style=\"white-space:pre;overflow-x:auto;line-height:normal;font-family:Menlo,'DejaVu Sans Mono',consolas,'Courier New',monospace\">len possible_combinations:<span style=\"color: #008080; text-decoration-color: #008080; font-weight: bold\">262144</span>\n",
       "</pre>\n"
      ],
      "text/plain": [
       "len possible_combinations:\u001b[1;36m262144\u001b[0m\n"
      ]
     },
     "metadata": {},
     "output_type": "display_data"
    }
   ],
   "source": [
    "possible_combinations = list(itertools.product([0, 1], range(4), repeat=6))\n",
    "print(f\"len possible_combinations:{len(possible_combinations)}\")\n",
    "random_sample = random.sample(possible_combinations, 100)\n",
    "\n",
    "parameters_bce_add = []\n",
    "for need in possible_combinations:\n",
    "\n",
    "\n",
    "    bio1 = Need(*need[0:2])\n",
    "    cul1 = Need(*need[2:4])\n",
    "    emo1 = Need(*need[4:6])\n",
    "    bio2 = Need(*need[6:8])\n",
    "    cul2 = Need(*need[8:10])\n",
    "    emo2 = Need(*need[10:12])\n",
    "\n",
    "    b_resul=bio1+bio2\n",
    "    c_resul=cul1+cul2\n",
    "    e_resul=emo1+emo2\n",
    "    \n",
    "    bce_resul=BCE(b_resul,c_resul,e_resul).state()\n",
    "    ret_val=(bio1,cul1,emo1,bio2,cul2,emo2,bce_resul)\n",
    "    parameters_bce_add.append(ret_val)\n",
    "\n",
    "\n"
   ]
  },
  {
   "cell_type": "markdown",
   "id": "5a2b2fe8",
   "metadata": {},
   "source": [
    "#### Pruebas Unitarias metodo __add__ para todas las posibles combinaciones"
   ]
  },
  {
   "cell_type": "code",
   "execution_count": 11,
   "id": "a48df1f2",
   "metadata": {},
   "outputs": [
    {
     "name": "stdout",
     "output_type": "stream",
     "text": [
      "\u001b[1m======================================= test session starts =======================================\u001b[0m\n",
      "collected 262144 items\n",
      "\n",
      "t_a7ee98eca71f4eb5bbafc263c26f11fd.py \u001b[32m                                                       [100%]\u001b[0m\n",
      "\n",
      "\u001b[32m=============================== \u001b[32m\u001b[1m262144 passed\u001b[0m\u001b[32m in 466.62s (0:07:46)\u001b[0m\u001b[32m ================================\u001b[0m\n"
     ]
    }
   ],
   "source": [
    "%%ipytest -v --no-header --report-passed=\"\"\n",
    "\n",
    "@pytest.mark.parametrize(\"biological1, cultural1, emotional1, biological2, cultural2, emotional2, expected_state\",parameters_bce_add)\n",
    "def test_bce_add(biological1, cultural1, emotional1, biological2, cultural2, emotional2, expected_state):\n",
    "    bce1 = BCE(biological1, cultural1, emotional1)\n",
    "    bce2 = BCE(biological2, cultural2, emotional2)\n",
    "\n",
    "    bce_sum = bce1 + bce2\n",
    "\n",
    "    assert np.array_equal(bce_sum.state(), expected_state)\n"
   ]
  },
  {
   "cell_type": "code",
   "execution_count": 227,
   "id": "227b1d0c",
   "metadata": {},
   "outputs": [
    {
     "name": "stdout",
     "output_type": "stream",
     "text": [
      "\u001b[1m======================================= test session starts =======================================\u001b[0m\n",
      "collected 318 items\n",
      "\n",
      "test\\test_bce.py \u001b[32m.\u001b[0m\u001b[32m.\u001b[0m\u001b[32m.\u001b[0m\u001b[32m.\u001b[0m\u001b[32m.\u001b[0m\u001b[32m.\u001b[0m\u001b[32m.\u001b[0m\u001b[32m.\u001b[0m\u001b[32m.\u001b[0m\u001b[32m.\u001b[0m\u001b[32m.\u001b[0m\u001b[32m.\u001b[0m\u001b[32m.\u001b[0m\u001b[32m.\u001b[0m\u001b[32m.\u001b[0m\u001b[32m.\u001b[0m\u001b[32m.\u001b[0m\u001b[32m.\u001b[0m\u001b[32m.\u001b[0m\u001b[32m.\u001b[0m\u001b[32m.\u001b[0m\u001b[32m.\u001b[0m\u001b[32m.\u001b[0m\u001b[32m.\u001b[0m\u001b[32m.\u001b[0m\u001b[32m.\u001b[0m\u001b[32m.\u001b[0m\u001b[32m.\u001b[0m\u001b[32m.\u001b[0m\u001b[32m.\u001b[0m\u001b[32m.\u001b[0m\u001b[32m.\u001b[0m\u001b[32m.\u001b[0m\u001b[32m.\u001b[0m\u001b[32m.\u001b[0m\u001b[32m.\u001b[0m\u001b[32m.\u001b[0m\u001b[32m.\u001b[0m\u001b[32m.\u001b[0m\u001b[32m.\u001b[0m\u001b[32m.\u001b[0m\u001b[32m.\u001b[0m\u001b[32m.\u001b[0m\u001b[32m.\u001b[0m\u001b[32m.\u001b[0m\u001b[32m.\u001b[0m\u001b[32m.\u001b[0m\u001b[32m.\u001b[0m\u001b[32m.\u001b[0m\u001b[32m.\u001b[0m\u001b[32m.\u001b[0m\u001b[32m.\u001b[0m\u001b[32m.\u001b[0m\u001b[32m.\u001b[0m\u001b[32m.\u001b[0m\u001b[32m.\u001b[0m\u001b[32m.\u001b[0m\u001b[32m.\u001b[0m\u001b[32m.\u001b[0m\u001b[32m.\u001b[0m\u001b[32m.\u001b[0m\u001b[32m.\u001b[0m\u001b[32m.\u001b[0m\u001b[32m.\u001b[0m\u001b[32m.\u001b[0m\u001b[32m.\u001b[0m\u001b[32m.\u001b[0m\u001b[32m.\u001b[0m\u001b[32m.\u001b[0m\u001b[32m.\u001b[0m\u001b[32m.\u001b[0m\u001b[32m.\u001b[0m\u001b[32m.\u001b[0m\u001b[32m.\u001b[0m\u001b[32m.\u001b[0m\u001b[32m [ 23%]\n",
      "\u001b[0m\u001b[32m.\u001b[0m\u001b[32m.\u001b[0m\u001b[32m.\u001b[0m\u001b[32m.\u001b[0m\u001b[32m.\u001b[0m\u001b[32m.\u001b[0m\u001b[32m.\u001b[0m\u001b[32m.\u001b[0m\u001b[32m.\u001b[0m\u001b[32m.\u001b[0m\u001b[32m.\u001b[0m\u001b[32m.\u001b[0m\u001b[32m.\u001b[0m\u001b[32m.\u001b[0m\u001b[32m.\u001b[0m\u001b[32m.\u001b[0m\u001b[32m.\u001b[0m\u001b[32m.\u001b[0m\u001b[32m.\u001b[0m\u001b[32m.\u001b[0m\u001b[32m.\u001b[0m\u001b[32m.\u001b[0m\u001b[32m.\u001b[0m\u001b[32m.\u001b[0m\u001b[32m.\u001b[0m\u001b[32m.\u001b[0m\u001b[32m.\u001b[0m\u001b[32m.\u001b[0m\u001b[32m.\u001b[0m\u001b[32m.\u001b[0m\u001b[32m.\u001b[0m\u001b[32m.\u001b[0m\u001b[32m.\u001b[0m\u001b[32m.\u001b[0m\u001b[32m.\u001b[0m\u001b[32m.\u001b[0m\u001b[32m.\u001b[0m\u001b[32m.\u001b[0m\u001b[32m.\u001b[0m\u001b[32m.\u001b[0m\u001b[32m.\u001b[0m\u001b[32m.\u001b[0m\u001b[32m.\u001b[0m\u001b[32m.\u001b[0m\u001b[32m.\u001b[0m\u001b[32m.\u001b[0m\u001b[32m.\u001b[0m\u001b[32m.\u001b[0m\u001b[32m.\u001b[0m\u001b[32m.\u001b[0m\u001b[32m.\u001b[0m\u001b[32m.\u001b[0m\u001b[32m.\u001b[0m\u001b[32m.\u001b[0m\u001b[32m.\u001b[0m\u001b[32m.\u001b[0m\u001b[32m.\u001b[0m\u001b[32m.\u001b[0m\u001b[32m.\u001b[0m\u001b[32m.\u001b[0m\u001b[32m.\u001b[0m\u001b[32m.\u001b[0m\u001b[32m.\u001b[0m\u001b[32m.\u001b[0m\u001b[32m.\u001b[0m\u001b[32m.\u001b[0m\u001b[32m.\u001b[0m\u001b[32m.\u001b[0m\u001b[32m.\u001b[0m\u001b[32m.\u001b[0m\u001b[32m.\u001b[0m\u001b[32m.\u001b[0m\u001b[32m.\u001b[0m\u001b[32m.\u001b[0m\u001b[32m.\u001b[0m\u001b[32m.\u001b[0m\u001b[32m.\u001b[0m\u001b[32m.\u001b[0m\u001b[32m.\u001b[0m\u001b[32m.\u001b[0m\u001b[32m.\u001b[0m\u001b[32m.\u001b[0m\u001b[32m.\u001b[0m\u001b[32m.\u001b[0m\u001b[32m.\u001b[0m\u001b[32m.\u001b[0m\u001b[32m.\u001b[0m\u001b[32m.\u001b[0m\u001b[32m.\u001b[0m\u001b[32m.\u001b[0m\u001b[32m.\u001b[0m\u001b[32m.\u001b[0m\u001b[32m [ 52%]\n",
      "\u001b[0m\u001b[32m.\u001b[0m\u001b[32m.\u001b[0m\u001b[32m.\u001b[0m\u001b[32m.\u001b[0m\u001b[32m.\u001b[0m\u001b[32m.\u001b[0m\u001b[32m.\u001b[0m\u001b[32m.\u001b[0m\u001b[32m.\u001b[0m\u001b[32m.\u001b[0m\u001b[32m.\u001b[0m\u001b[32m.\u001b[0m\u001b[32m.\u001b[0m\u001b[32m.\u001b[0m\u001b[32m.\u001b[0m\u001b[32m.\u001b[0m\u001b[32m.\u001b[0m\u001b[32m.\u001b[0m\u001b[32m.\u001b[0m\u001b[32m.\u001b[0m\u001b[32m.\u001b[0m\u001b[32m.\u001b[0m\u001b[32m.\u001b[0m\u001b[32m.\u001b[0m\u001b[32m.\u001b[0m\u001b[32m.\u001b[0m\u001b[32m.\u001b[0m\u001b[32m.\u001b[0m\u001b[32m.\u001b[0m\u001b[32m.\u001b[0m\u001b[32m.\u001b[0m\u001b[32m.\u001b[0m\u001b[32m.\u001b[0m\u001b[32m.\u001b[0m\u001b[32m.\u001b[0m\u001b[32m.\u001b[0m\u001b[32m.\u001b[0m\u001b[32m.\u001b[0m\u001b[32m.\u001b[0m\u001b[32m.\u001b[0m\u001b[32m.\u001b[0m\u001b[32m.\u001b[0m\u001b[32m.\u001b[0m\u001b[32m.\u001b[0m\u001b[32m.\u001b[0m\u001b[32m.\u001b[0m\u001b[32m.\u001b[0m\u001b[32m.\u001b[0m\u001b[32m.\u001b[0m\u001b[32m.\u001b[0m\u001b[32m.\u001b[0m\u001b[32m.\u001b[0m\u001b[32m.\u001b[0m\u001b[32m.\u001b[0m\u001b[32m.\u001b[0m\u001b[32m.\u001b[0m\u001b[32m.\u001b[0m\u001b[32m.\u001b[0m\u001b[32m.\u001b[0m\u001b[32m.\u001b[0m\u001b[32m.\u001b[0m\u001b[32m.\u001b[0m\u001b[32m.\u001b[0m\u001b[32m.\u001b[0m\u001b[32m.\u001b[0m\u001b[32m.\u001b[0m\u001b[32m.\u001b[0m\u001b[32m.\u001b[0m\u001b[32m.\u001b[0m\u001b[32m.\u001b[0m\u001b[32m.\u001b[0m\u001b[32m.\u001b[0m\u001b[32m.\u001b[0m\u001b[32m.\u001b[0m\u001b[32m.\u001b[0m\u001b[32m.\u001b[0m\u001b[32m.\u001b[0m\u001b[32m.\u001b[0m\u001b[32m.\u001b[0m\u001b[32m.\u001b[0m\u001b[32m.\u001b[0m\u001b[32m.\u001b[0m\u001b[32m.\u001b[0m\u001b[32m.\u001b[0m\u001b[32m.\u001b[0m\u001b[32m.\u001b[0m\u001b[32m.\u001b[0m\u001b[32m.\u001b[0m\u001b[32m.\u001b[0m\u001b[32m.\u001b[0m\u001b[32m.\u001b[0m\u001b[32m.\u001b[0m\u001b[32m [ 81%]\n",
      "\u001b[0m\u001b[32m.\u001b[0m\u001b[32m.\u001b[0m\u001b[32m.\u001b[0m\u001b[32m.\u001b[0m\u001b[32m.\u001b[0m\u001b[32m.\u001b[0m\u001b[32m.\u001b[0m\u001b[32m.\u001b[0m\u001b[32m.\u001b[0m\u001b[32m.\u001b[0m\u001b[32m.\u001b[0m\u001b[32m.\u001b[0m\u001b[32m.\u001b[0m\u001b[32m.\u001b[0m\u001b[32m.\u001b[0m\u001b[32m.\u001b[0m\u001b[32m.\u001b[0m\u001b[32m.\u001b[0m\u001b[32m.\u001b[0m\u001b[32m.\u001b[0m\u001b[32m.\u001b[0m\u001b[32m.\u001b[0m\u001b[32m.\u001b[0m\u001b[32m.\u001b[0m\u001b[32m.\u001b[0m\u001b[32m.\u001b[0m\u001b[32m.\u001b[0m\u001b[32m.\u001b[0m\u001b[32m.\u001b[0m\u001b[32m.\u001b[0m\u001b[32m.\u001b[0m\u001b[32m.\u001b[0m\u001b[32m.\u001b[0m\u001b[32m.\u001b[0m\u001b[32m.\u001b[0m\u001b[32m.\u001b[0m\u001b[32m.\u001b[0m\u001b[32m.\u001b[0m\u001b[32m.\u001b[0m\u001b[32m.\u001b[0m\u001b[32m.\u001b[0m\u001b[32m.\u001b[0m\u001b[32m.\u001b[0m\u001b[32m.\u001b[0m\u001b[32m.\u001b[0m\u001b[32m.\u001b[0m\u001b[32m.\u001b[0m\u001b[32m.\u001b[0m\u001b[32m.\u001b[0m\u001b[32m.\u001b[0m\u001b[32m.\u001b[0m\u001b[32m.\u001b[0m\u001b[32m.\u001b[0m\u001b[32m.\u001b[0m\u001b[32m.\u001b[0m\u001b[32m.\u001b[0m\u001b[32m.\u001b[0m\u001b[32m.\u001b[0m\u001b[32m.\u001b[0m\u001b[32m                                  [100%]\u001b[0m\n",
      "\n",
      "\u001b[32m======================================= \u001b[32m\u001b[1m318 passed\u001b[0m\u001b[32m in 3.92s\u001b[0m\u001b[32m =======================================\u001b[0m\n"
     ]
    }
   ],
   "source": [
    "!pytest --no-header test/test_bce.py"
   ]
  },
  {
   "attachments": {},
   "cell_type": "markdown",
   "id": "bd3952b3",
   "metadata": {},
   "source": [
    "## Clase Neurons"
   ]
  },
  {
   "cell_type": "code",
   "execution_count": 93,
   "id": "5253a29a",
   "metadata": {},
   "outputs": [],
   "source": [
    "from src.neurons import Neurons"
   ]
  },
  {
   "cell_type": "markdown",
   "id": "064c2e6f",
   "metadata": {},
   "source": [
    "La clase Neurons ha sido diseñada con la finalidad de simular un sistema de almacenamiento de información sensorial, emulando el funcionamiento de las neuronas en este proceso. Su estructura y métodos están concebidos para capturar, procesar y adaptar información entrante de manera similar a cómo las neuronas biológicas procesan señales sensoriales en el cerebro.\n",
    "\n",
    "Los métodos implementados en la clase, como set_event y set_event_bce, permiten registrar y almacenar eventos sensoriales, estableciendo conexiones entre los datos ingresantes y los patrones previamente aprendidos. Estos eventos pueden ser asociados a valores Biológicos, Culturales y Emocionales, enriqueciendo la representación de la información.\n",
    "\n",
    "La función init_patterns juega un papel esencial en esta simulación al establecer patrones iniciales que actúan como puntos de referencia para interpretar eventos entrantes. Estos patrones modelan cómo el cerebro humano crea conexiones entre la información sensorial y las experiencias previas, formando una base sólida para la interpretación y adaptación de la nueva información."
   ]
  },
  {
   "cell_type": "markdown",
   "id": "f318c0a9",
   "metadata": {},
   "source": [
    "### Ejemplo de clase Neurons"
   ]
  },
  {
   "cell_type": "code",
   "execution_count": 95,
   "id": "3c989763",
   "metadata": {},
   "outputs": [
    {
     "data": {
      "text/html": [
       "<pre style=\"white-space:pre;overflow-x:auto;line-height:normal;font-family:Menlo,'DejaVu Sans Mono',consolas,'Courier New',monospace\"><span style=\"font-weight: bold\">{</span>\n",
       "    <span style=\"color: #008000; text-decoration-color: #008000\">'pattern_a'</span>: <span style=\"font-weight: bold\">[</span><span style=\"color: #008080; text-decoration-color: #008080; font-weight: bold\">0</span>, Bio:+<span style=\"color: #008080; text-decoration-color: #008080; font-weight: bold\">0.25</span> Cul:+<span style=\"color: #008080; text-decoration-color: #008080; font-weight: bold\">0.0</span> Emo:+<span style=\"color: #008080; text-decoration-color: #008080; font-weight: bold\">0.0</span>, <span style=\"color: #008000; text-decoration-color: #008000\">''</span>, <span style=\"color: #008000; text-decoration-color: #008000\">'pattern_a'</span><span style=\"font-weight: bold\">]</span>,\n",
       "    <span style=\"color: #008000; text-decoration-color: #008000\">'pattern_b'</span>: <span style=\"font-weight: bold\">[</span><span style=\"color: #008080; text-decoration-color: #008080; font-weight: bold\">1</span>, Bio:+<span style=\"color: #008080; text-decoration-color: #008080; font-weight: bold\">0.5</span> Cul:<span style=\"color: #008080; text-decoration-color: #008080; font-weight: bold\">-0.25</span> Emo:<span style=\"color: #008080; text-decoration-color: #008080; font-weight: bold\">-0.25</span>, <span style=\"color: #008000; text-decoration-color: #008000\">''</span>, <span style=\"color: #008000; text-decoration-color: #008000\">'pattern_b'</span><span style=\"font-weight: bold\">]</span>,\n",
       "    <span style=\"color: #008000; text-decoration-color: #008000\">'pattern_c'</span>: <span style=\"font-weight: bold\">[</span><span style=\"color: #008080; text-decoration-color: #008080; font-weight: bold\">2</span>, Bio:+<span style=\"color: #008080; text-decoration-color: #008080; font-weight: bold\">0.25</span> Cul:+<span style=\"color: #008080; text-decoration-color: #008080; font-weight: bold\">0.5</span> Emo:<span style=\"color: #008080; text-decoration-color: #008080; font-weight: bold\">-0.5</span>, <span style=\"color: #008000; text-decoration-color: #008000\">''</span>, <span style=\"color: #008000; text-decoration-color: #008000\">'pattern_c'</span><span style=\"font-weight: bold\">]</span>,\n",
       "    <span style=\"color: #008000; text-decoration-color: #008000\">'pattern_d'</span>: <span style=\"font-weight: bold\">[</span><span style=\"color: #008080; text-decoration-color: #008080; font-weight: bold\">3</span>, Bio:+<span style=\"color: #008080; text-decoration-color: #008080; font-weight: bold\">0.0</span> Cul:+<span style=\"color: #008080; text-decoration-color: #008080; font-weight: bold\">0.0</span> Emo:<span style=\"color: #008080; text-decoration-color: #008080; font-weight: bold\">-0.25</span>, <span style=\"color: #008000; text-decoration-color: #008000\">''</span>, <span style=\"color: #008000; text-decoration-color: #008000\">'pattern_d'</span><span style=\"font-weight: bold\">]</span>,\n",
       "    <span style=\"color: #008000; text-decoration-color: #008000\">'event0'</span>: <span style=\"font-weight: bold\">[</span><span style=\"color: #008080; text-decoration-color: #008080; font-weight: bold\">4</span>, Bio:+<span style=\"color: #008080; text-decoration-color: #008080; font-weight: bold\">0.25</span> Cul:<span style=\"color: #008080; text-decoration-color: #008080; font-weight: bold\">-0.25</span> Emo:<span style=\"color: #008080; text-decoration-color: #008080; font-weight: bold\">-0.25</span>, <span style=\"color: #008000; text-decoration-color: #008000\">'pattern_a'</span>, <span style=\"color: #008000; text-decoration-color: #008000\">'event0'</span><span style=\"font-weight: bold\">]</span>,\n",
       "    <span style=\"color: #008000; text-decoration-color: #008000\">'event1'</span>: <span style=\"font-weight: bold\">[</span><span style=\"color: #008080; text-decoration-color: #008080; font-weight: bold\">5</span>, Bio:+<span style=\"color: #008080; text-decoration-color: #008080; font-weight: bold\">0.5</span> Cul:<span style=\"color: #008080; text-decoration-color: #008080; font-weight: bold\">-0.25</span> Emo:<span style=\"color: #008080; text-decoration-color: #008080; font-weight: bold\">-0.25</span>, <span style=\"color: #008000; text-decoration-color: #008000\">'pattern_b'</span>, <span style=\"color: #008000; text-decoration-color: #008000\">'event1'</span><span style=\"font-weight: bold\">]</span>,\n",
       "    <span style=\"color: #008000; text-decoration-color: #008000\">'event2'</span>: <span style=\"font-weight: bold\">[</span><span style=\"color: #008080; text-decoration-color: #008080; font-weight: bold\">6</span>, Bio:<span style=\"color: #008080; text-decoration-color: #008080; font-weight: bold\">-0.0</span> Cul:+<span style=\"color: #008080; text-decoration-color: #008080; font-weight: bold\">0.25</span> Emo:<span style=\"color: #008080; text-decoration-color: #008080; font-weight: bold\">-0.5</span>, <span style=\"color: #008000; text-decoration-color: #008000\">'pattern_c'</span>, <span style=\"color: #008000; text-decoration-color: #008000\">'event2'</span><span style=\"font-weight: bold\">]</span>\n",
       "<span style=\"font-weight: bold\">}</span>\n",
       "</pre>\n"
      ],
      "text/plain": [
       "\u001b[1m{\u001b[0m\n",
       "    \u001b[32m'pattern_a'\u001b[0m: \u001b[1m[\u001b[0m\u001b[1;36m0\u001b[0m, Bio:+\u001b[1;36m0.25\u001b[0m Cul:+\u001b[1;36m0.0\u001b[0m Emo:+\u001b[1;36m0.0\u001b[0m, \u001b[32m''\u001b[0m, \u001b[32m'pattern_a'\u001b[0m\u001b[1m]\u001b[0m,\n",
       "    \u001b[32m'pattern_b'\u001b[0m: \u001b[1m[\u001b[0m\u001b[1;36m1\u001b[0m, Bio:+\u001b[1;36m0.5\u001b[0m Cul:\u001b[1;36m-0.25\u001b[0m Emo:\u001b[1;36m-0.25\u001b[0m, \u001b[32m''\u001b[0m, \u001b[32m'pattern_b'\u001b[0m\u001b[1m]\u001b[0m,\n",
       "    \u001b[32m'pattern_c'\u001b[0m: \u001b[1m[\u001b[0m\u001b[1;36m2\u001b[0m, Bio:+\u001b[1;36m0.25\u001b[0m Cul:+\u001b[1;36m0.5\u001b[0m Emo:\u001b[1;36m-0.5\u001b[0m, \u001b[32m''\u001b[0m, \u001b[32m'pattern_c'\u001b[0m\u001b[1m]\u001b[0m,\n",
       "    \u001b[32m'pattern_d'\u001b[0m: \u001b[1m[\u001b[0m\u001b[1;36m3\u001b[0m, Bio:+\u001b[1;36m0.0\u001b[0m Cul:+\u001b[1;36m0.0\u001b[0m Emo:\u001b[1;36m-0.25\u001b[0m, \u001b[32m''\u001b[0m, \u001b[32m'pattern_d'\u001b[0m\u001b[1m]\u001b[0m,\n",
       "    \u001b[32m'event0'\u001b[0m: \u001b[1m[\u001b[0m\u001b[1;36m4\u001b[0m, Bio:+\u001b[1;36m0.25\u001b[0m Cul:\u001b[1;36m-0.25\u001b[0m Emo:\u001b[1;36m-0.25\u001b[0m, \u001b[32m'pattern_a'\u001b[0m, \u001b[32m'event0'\u001b[0m\u001b[1m]\u001b[0m,\n",
       "    \u001b[32m'event1'\u001b[0m: \u001b[1m[\u001b[0m\u001b[1;36m5\u001b[0m, Bio:+\u001b[1;36m0.5\u001b[0m Cul:\u001b[1;36m-0.25\u001b[0m Emo:\u001b[1;36m-0.25\u001b[0m, \u001b[32m'pattern_b'\u001b[0m, \u001b[32m'event1'\u001b[0m\u001b[1m]\u001b[0m,\n",
       "    \u001b[32m'event2'\u001b[0m: \u001b[1m[\u001b[0m\u001b[1;36m6\u001b[0m, Bio:\u001b[1;36m-0.0\u001b[0m Cul:+\u001b[1;36m0.25\u001b[0m Emo:\u001b[1;36m-0.5\u001b[0m, \u001b[32m'pattern_c'\u001b[0m, \u001b[32m'event2'\u001b[0m\u001b[1m]\u001b[0m\n",
       "\u001b[1m}\u001b[0m\n"
      ]
     },
     "metadata": {},
     "output_type": "display_data"
    },
    {
     "data": {
      "text/html": [
       "<pre style=\"white-space:pre;overflow-x:auto;line-height:normal;font-family:Menlo,'DejaVu Sans Mono',consolas,'Courier New',monospace\"><span style=\"font-weight: bold\">{}</span>\n",
       "</pre>\n"
      ],
      "text/plain": [
       "\u001b[1m{\u001b[0m\u001b[1m}\u001b[0m\n"
      ]
     },
     "metadata": {},
     "output_type": "display_data"
    }
   ],
   "source": [
    "neurona=Neurons()\n",
    "\n",
    "\n",
    "a=BCE().sample()\n",
    "b=BCE().sample()\n",
    "c=BCE().sample()\n",
    "d=BCE().sample()\n",
    "event0=BCE().sample()\n",
    "event1=BCE().sample()\n",
    "event2=BCE().sample()\n",
    "event3=BCE().sample()\n",
    "event4=BCE().sample()\n",
    "event5=BCE().sample()\n",
    "arr_patternes_bce=[(\"pattern_a\",a),(\"pattern_b\",b),(\"pattern_c\",c),(\"pattern_d\",d)]\n",
    "arr_patternes_bce2=[(\"pattern_e\",a),(\"pattern_f\",b),(\"pattern_g\",c),(\"pattern_h\",d)]\n",
    "\n",
    "\n",
    "\n",
    "\n",
    "neurona.init_patterns(arr_patternes_bce)\n",
    "neurona.set_event(\"pattern_a:event0\")\n",
    "neurona.update_neuron_to_learn(event0)\n",
    "neurona.set_event(\"pattern_b:event1\")\n",
    "neurona.update_neuron_to_learn(event1)\n",
    "neurona.set_event(\"pattern_c:event2\")\n",
    "neurona.update_neuron_to_learn(event2)\n",
    "\n",
    "\n",
    "#print(neurona.set_event(\"pattern_b:event0\"))\n",
    "#print(neurona.update_neuron_to_learn(event0))\n",
    "print(neurona.get_neurons())\n",
    "neurona.reset()\n",
    "print(neurona.get_neurons())\n"
   ]
  },
  {
   "cell_type": "markdown",
   "id": "3b564f2a",
   "metadata": {},
   "source": [
    "#### Prueba de comportamiento de la clase Neurons"
   ]
  },
  {
   "cell_type": "code",
   "execution_count": 87,
   "id": "bd910e71",
   "metadata": {},
   "outputs": [],
   "source": [
    "# Generación de valores aleatorios para los patrones\n",
    "num_patterns = 1000  # Número de patrones\n",
    "# Generar casos de prueba para pytest.mark.parametrize\n",
    "parameters_neurons_behavior = []\n",
    "# Crear lista de patrones con valores BCE aleatorios\n",
    "arr_patternes_bce = []\n",
    "for i in range(num_patterns):\n",
    "    pattern_name = f\"pattern_{i:02d}\"\n",
    "    bce_value = BCE().sample()\n",
    "    arr_patternes_bce.append((pattern_name, bce_value, i))\n",
    "\n",
    "# Lista de eventos aleatorios\n",
    "\n",
    "events_list = [(f\"{random.choice(arr_patternes_bce)[0]}:event_{random.randint(0, 99):02d}\",BCE().sample()) for _ in range(num_patterns//2)]\n",
    "events_list2 = [(f\"{random.choice(arr_patternes_bce)[0]}:{random.choice(arr_patternes_bce)[0]}\",BCE().sample()) for _ in range(num_patterns//2)]\n",
    "events_list+=events_list2\n",
    "\n",
    "\n",
    "num_test_cases = num_patterns\n",
    "for i in range(num_test_cases):\n",
    "    pattern = events_list[i][0].split(':')[0]\n",
    "    event = events_list[i][0].split(':')[1]\n",
    "    bce_pattern = next((data for p, data, _ in arr_patternes_bce if p == pattern ), None)\n",
    "    bce_event = events_list[i][1]\n",
    "    index = next((index for e, _, index in arr_patternes_bce if e == event), len(arr_patternes_bce))\n",
    "    combined_info = [\n",
    "        index,  # Índice del elemento seleccionado de pattern\n",
    "        BCE.average(bce_event, bce_pattern) if index == len(arr_patternes_bce) else arr_patternes_bce[index][1],\n",
    "        pattern if index == len(arr_patternes_bce) else '',  # El pattern seleccionado\n",
    "        event       # El evento seleccionado\n",
    "    ]\n",
    "    pattern_event = f\"{pattern}:{event}\"\n",
    "    output = combined_info\n",
    "    parameters_neurons_behavior.append((arr_patternes_bce, pattern_event, bce_event, output))"
   ]
  },
  {
   "cell_type": "code",
   "execution_count": 89,
   "id": "22fa31c3",
   "metadata": {},
   "outputs": [
    {
     "name": "stdout",
     "output_type": "stream",
     "text": [
      "\u001b[1m======================================= test session starts =======================================\u001b[0m\n",
      "collected 1000 items\n",
      "\n",
      "t_6e163d0322154d9285cf2ac85a374487.py \u001b[32m                                                       [100%]\u001b[0m\n",
      "\n",
      "\u001b[32m====================================== \u001b[32m\u001b[1m1000 passed\u001b[0m\u001b[32m in 6.29s\u001b[0m\u001b[32m =======================================\u001b[0m\n"
     ]
    }
   ],
   "source": [
    "%%ipytest -v --no-header --report-passed=\"\"\n",
    "\n",
    "@pytest.fixture\n",
    "def neurons():\n",
    "    return Neurons()\n",
    "\n",
    "@pytest.mark.parametrize(\"arr_patterns_bce, pattern_events, bce_event, expected_output\",parameters_neurons_behavior)\n",
    "def test_neurons_behavior(neurons, arr_patterns_bce, pattern_events, bce_event, expected_output):\n",
    "    neurons.init_patterns(arr_patterns_bce)\n",
    "\n",
    "    neurons.set_event(pattern_events)\n",
    "    output = neurons.update_neuron_to_learn(bce_event)\n",
    "    \n",
    "    assert output == expected_output"
   ]
  },
  {
   "cell_type": "markdown",
   "id": "737208c0",
   "metadata": {},
   "source": [
    "### Pruebas Unitarias Clase Neurons"
   ]
  },
  {
   "cell_type": "markdown",
   "id": "772a02e9",
   "metadata": {},
   "source": [
    "#### Pruebas Unitarias de los metodos de interes de la clase Neurons "
   ]
  },
  {
   "cell_type": "code",
   "execution_count": 231,
   "id": "388fdb24",
   "metadata": {},
   "outputs": [
    {
     "name": "stdout",
     "output_type": "stream",
     "text": [
      "\u001b[1m======================================= test session starts =======================================\u001b[0m\n",
      "collected 1019 items\n",
      "\n",
      "test\\test_neurons.py \u001b[32m.\u001b[0m\u001b[32m.\u001b[0m\u001b[32m.\u001b[0m\u001b[32m.\u001b[0m\u001b[32m.\u001b[0m\u001b[32m.\u001b[0m\u001b[32m.\u001b[0m\u001b[32m.\u001b[0m\u001b[32m.\u001b[0m\u001b[32m.\u001b[0m\u001b[32m.\u001b[0m\u001b[32m.\u001b[0m\u001b[32m.\u001b[0m\u001b[32m.\u001b[0m\u001b[32m.\u001b[0m\u001b[32m.\u001b[0m\u001b[32m.\u001b[0m\u001b[32m.\u001b[0m\u001b[32m.\u001b[0m\u001b[32m.\u001b[0m\u001b[32m.\u001b[0m\u001b[32m.\u001b[0m\u001b[32m.\u001b[0m\u001b[32m.\u001b[0m\u001b[32m.\u001b[0m\u001b[32m.\u001b[0m\u001b[32m.\u001b[0m\u001b[32m.\u001b[0m\u001b[32m.\u001b[0m\u001b[32m.\u001b[0m\u001b[32m.\u001b[0m\u001b[32m.\u001b[0m\u001b[32m.\u001b[0m\u001b[32m.\u001b[0m\u001b[32m.\u001b[0m\u001b[32m.\u001b[0m\u001b[32m.\u001b[0m\u001b[32m.\u001b[0m\u001b[32m.\u001b[0m\u001b[32m.\u001b[0m\u001b[32m.\u001b[0m\u001b[32m.\u001b[0m\u001b[32m.\u001b[0m\u001b[32m.\u001b[0m\u001b[32m.\u001b[0m\u001b[32m.\u001b[0m\u001b[32m.\u001b[0m\u001b[32m.\u001b[0m\u001b[32m.\u001b[0m\u001b[32m.\u001b[0m\u001b[32m.\u001b[0m\u001b[32m.\u001b[0m\u001b[32m.\u001b[0m\u001b[32m.\u001b[0m\u001b[32m.\u001b[0m\u001b[32m.\u001b[0m\u001b[32m.\u001b[0m\u001b[32m.\u001b[0m\u001b[32m.\u001b[0m\u001b[32m.\u001b[0m\u001b[32m.\u001b[0m\u001b[32m.\u001b[0m\u001b[32m.\u001b[0m\u001b[32m.\u001b[0m\u001b[32m.\u001b[0m\u001b[32m.\u001b[0m\u001b[32m.\u001b[0m\u001b[32m.\u001b[0m\u001b[32m.\u001b[0m\u001b[32m.\u001b[0m\u001b[32m.\u001b[0m\u001b[32m [  6%]\n",
      "\u001b[0m\u001b[32m.\u001b[0m\u001b[32m.\u001b[0m\u001b[32m.\u001b[0m\u001b[32m.\u001b[0m\u001b[32m.\u001b[0m\u001b[32m.\u001b[0m\u001b[32m.\u001b[0m\u001b[32m.\u001b[0m\u001b[32m.\u001b[0m\u001b[32m.\u001b[0m\u001b[32m.\u001b[0m\u001b[32m.\u001b[0m\u001b[32m.\u001b[0m\u001b[32m.\u001b[0m\u001b[32m.\u001b[0m\u001b[32m.\u001b[0m\u001b[32m.\u001b[0m\u001b[32m.\u001b[0m\u001b[32m.\u001b[0m\u001b[32m.\u001b[0m\u001b[32m.\u001b[0m\u001b[32m.\u001b[0m\u001b[32m.\u001b[0m\u001b[32m.\u001b[0m\u001b[32m.\u001b[0m\u001b[32m.\u001b[0m\u001b[32m.\u001b[0m\u001b[32m.\u001b[0m\u001b[32m.\u001b[0m\u001b[32m.\u001b[0m\u001b[32m.\u001b[0m\u001b[32m.\u001b[0m\u001b[32m.\u001b[0m\u001b[32m.\u001b[0m\u001b[32m.\u001b[0m\u001b[32m.\u001b[0m\u001b[32m.\u001b[0m\u001b[32m.\u001b[0m\u001b[32m.\u001b[0m\u001b[32m.\u001b[0m\u001b[32m.\u001b[0m\u001b[32m.\u001b[0m\u001b[32m.\u001b[0m\u001b[32m.\u001b[0m\u001b[32m.\u001b[0m\u001b[32m.\u001b[0m\u001b[32m.\u001b[0m\u001b[32m.\u001b[0m\u001b[32m.\u001b[0m\u001b[32m.\u001b[0m\u001b[32m.\u001b[0m\u001b[32m.\u001b[0m\u001b[32m.\u001b[0m\u001b[32m.\u001b[0m\u001b[32m.\u001b[0m\u001b[32m.\u001b[0m\u001b[32m.\u001b[0m\u001b[32m.\u001b[0m\u001b[32m.\u001b[0m\u001b[32m.\u001b[0m\u001b[32m.\u001b[0m\u001b[32m.\u001b[0m\u001b[32m.\u001b[0m\u001b[32m.\u001b[0m\u001b[32m.\u001b[0m\u001b[32m.\u001b[0m\u001b[32m.\u001b[0m\u001b[32m.\u001b[0m\u001b[32m.\u001b[0m\u001b[32m.\u001b[0m\u001b[32m.\u001b[0m\u001b[32m.\u001b[0m\u001b[32m.\u001b[0m\u001b[32m.\u001b[0m\u001b[32m.\u001b[0m\u001b[32m.\u001b[0m\u001b[32m.\u001b[0m\u001b[32m.\u001b[0m\u001b[32m.\u001b[0m\u001b[32m.\u001b[0m\u001b[32m.\u001b[0m\u001b[32m.\u001b[0m\u001b[32m.\u001b[0m\u001b[32m.\u001b[0m\u001b[32m.\u001b[0m\u001b[32m.\u001b[0m\u001b[32m.\u001b[0m\u001b[32m.\u001b[0m\u001b[32m.\u001b[0m\u001b[32m.\u001b[0m\u001b[32m.\u001b[0m\u001b[32m.\u001b[0m\u001b[32m [ 15%]\n",
      "\u001b[0m\u001b[32m.\u001b[0m\u001b[32m.\u001b[0m\u001b[32m.\u001b[0m\u001b[32m.\u001b[0m\u001b[32m.\u001b[0m\u001b[32m.\u001b[0m\u001b[32m.\u001b[0m\u001b[32m.\u001b[0m\u001b[32m.\u001b[0m\u001b[32m.\u001b[0m\u001b[32m.\u001b[0m\u001b[32m.\u001b[0m\u001b[32m.\u001b[0m\u001b[32m.\u001b[0m\u001b[32m.\u001b[0m\u001b[32m.\u001b[0m\u001b[32m.\u001b[0m\u001b[32m.\u001b[0m\u001b[32m.\u001b[0m\u001b[32m.\u001b[0m\u001b[32m.\u001b[0m\u001b[32m.\u001b[0m\u001b[32m.\u001b[0m\u001b[32m.\u001b[0m\u001b[32m.\u001b[0m\u001b[32m.\u001b[0m\u001b[32m.\u001b[0m\u001b[32m.\u001b[0m\u001b[32m.\u001b[0m\u001b[32m.\u001b[0m\u001b[32m.\u001b[0m\u001b[32m.\u001b[0m\u001b[32m.\u001b[0m\u001b[32m.\u001b[0m\u001b[32m.\u001b[0m\u001b[32m.\u001b[0m\u001b[32m.\u001b[0m\u001b[32m.\u001b[0m\u001b[32m.\u001b[0m\u001b[32m.\u001b[0m\u001b[32m.\u001b[0m\u001b[32m.\u001b[0m\u001b[32m.\u001b[0m\u001b[32m.\u001b[0m\u001b[32m.\u001b[0m\u001b[32m.\u001b[0m\u001b[32m.\u001b[0m\u001b[32m.\u001b[0m\u001b[32m.\u001b[0m\u001b[32m.\u001b[0m\u001b[32m.\u001b[0m\u001b[32m.\u001b[0m\u001b[32m.\u001b[0m\u001b[32m.\u001b[0m\u001b[32m.\u001b[0m\u001b[32m.\u001b[0m\u001b[32m.\u001b[0m\u001b[32m.\u001b[0m\u001b[32m.\u001b[0m\u001b[32m.\u001b[0m\u001b[32m.\u001b[0m\u001b[32m.\u001b[0m\u001b[32m.\u001b[0m\u001b[32m.\u001b[0m\u001b[32m.\u001b[0m\u001b[32m.\u001b[0m\u001b[32m.\u001b[0m\u001b[32m.\u001b[0m\u001b[32m.\u001b[0m\u001b[32m.\u001b[0m\u001b[32m.\u001b[0m\u001b[32m.\u001b[0m\u001b[32m.\u001b[0m\u001b[32m.\u001b[0m\u001b[32m.\u001b[0m\u001b[32m.\u001b[0m\u001b[32m.\u001b[0m\u001b[32m.\u001b[0m\u001b[32m.\u001b[0m\u001b[32m.\u001b[0m\u001b[32m.\u001b[0m\u001b[32m.\u001b[0m\u001b[32m.\u001b[0m\u001b[32m.\u001b[0m\u001b[32m.\u001b[0m\u001b[32m.\u001b[0m\u001b[32m.\u001b[0m\u001b[32m.\u001b[0m\u001b[32m.\u001b[0m\u001b[32m.\u001b[0m\u001b[32m.\u001b[0m\u001b[32m.\u001b[0m\u001b[32m [ 25%]\n",
      "\u001b[0m\u001b[32m.\u001b[0m\u001b[32m.\u001b[0m\u001b[32m.\u001b[0m\u001b[32m.\u001b[0m\u001b[32m.\u001b[0m\u001b[32m.\u001b[0m\u001b[32m.\u001b[0m\u001b[32m.\u001b[0m\u001b[32m.\u001b[0m\u001b[32m.\u001b[0m\u001b[32m.\u001b[0m\u001b[32m.\u001b[0m\u001b[32m.\u001b[0m\u001b[32m.\u001b[0m\u001b[32m.\u001b[0m\u001b[32m.\u001b[0m\u001b[32m.\u001b[0m\u001b[32m.\u001b[0m\u001b[32m.\u001b[0m\u001b[32m.\u001b[0m\u001b[32m.\u001b[0m\u001b[32m.\u001b[0m\u001b[32m.\u001b[0m\u001b[32m.\u001b[0m\u001b[32m.\u001b[0m\u001b[32m.\u001b[0m\u001b[32m.\u001b[0m\u001b[32m.\u001b[0m\u001b[32m.\u001b[0m\u001b[32m.\u001b[0m\u001b[32m.\u001b[0m\u001b[32m.\u001b[0m\u001b[32m.\u001b[0m\u001b[32m.\u001b[0m\u001b[32m.\u001b[0m\u001b[32m.\u001b[0m\u001b[32m.\u001b[0m\u001b[32m.\u001b[0m\u001b[32m.\u001b[0m\u001b[32m.\u001b[0m\u001b[32m.\u001b[0m\u001b[32m.\u001b[0m\u001b[32m.\u001b[0m\u001b[32m.\u001b[0m\u001b[32m.\u001b[0m\u001b[32m.\u001b[0m\u001b[32m.\u001b[0m\u001b[32m.\u001b[0m\u001b[32m.\u001b[0m\u001b[32m.\u001b[0m\u001b[32m.\u001b[0m\u001b[32m.\u001b[0m\u001b[32m.\u001b[0m\u001b[32m.\u001b[0m\u001b[32m.\u001b[0m\u001b[32m.\u001b[0m\u001b[32m.\u001b[0m\u001b[32m.\u001b[0m\u001b[32m.\u001b[0m\u001b[32m.\u001b[0m\u001b[32m.\u001b[0m\u001b[32m.\u001b[0m\u001b[32m.\u001b[0m\u001b[32m.\u001b[0m\u001b[32m.\u001b[0m\u001b[32m.\u001b[0m\u001b[32m.\u001b[0m\u001b[32m.\u001b[0m\u001b[32m.\u001b[0m\u001b[32m.\u001b[0m\u001b[32m.\u001b[0m\u001b[32m.\u001b[0m\u001b[32m.\u001b[0m\u001b[32m.\u001b[0m\u001b[32m.\u001b[0m\u001b[32m.\u001b[0m\u001b[32m.\u001b[0m\u001b[32m.\u001b[0m\u001b[32m.\u001b[0m\u001b[32m.\u001b[0m\u001b[32m.\u001b[0m\u001b[32m.\u001b[0m\u001b[32m.\u001b[0m\u001b[32m.\u001b[0m\u001b[32m.\u001b[0m\u001b[32m.\u001b[0m\u001b[32m.\u001b[0m\u001b[32m.\u001b[0m\u001b[32m.\u001b[0m\u001b[32m.\u001b[0m\u001b[32m.\u001b[0m\u001b[32m.\u001b[0m\u001b[32m [ 34%]\n",
      "\u001b[0m\u001b[32m.\u001b[0m\u001b[32m.\u001b[0m\u001b[32m.\u001b[0m\u001b[32m.\u001b[0m\u001b[32m.\u001b[0m\u001b[32m.\u001b[0m\u001b[32m.\u001b[0m\u001b[32m.\u001b[0m\u001b[32m.\u001b[0m\u001b[32m.\u001b[0m\u001b[32m.\u001b[0m\u001b[32m.\u001b[0m\u001b[32m.\u001b[0m\u001b[32m.\u001b[0m\u001b[32m.\u001b[0m\u001b[32m.\u001b[0m\u001b[32m.\u001b[0m\u001b[32m.\u001b[0m\u001b[32m.\u001b[0m\u001b[32m.\u001b[0m\u001b[32m.\u001b[0m\u001b[32m.\u001b[0m\u001b[32m.\u001b[0m\u001b[32m.\u001b[0m\u001b[32m.\u001b[0m\u001b[32m.\u001b[0m\u001b[32m.\u001b[0m\u001b[32m.\u001b[0m\u001b[32m.\u001b[0m\u001b[32m.\u001b[0m\u001b[32m.\u001b[0m\u001b[32m.\u001b[0m\u001b[32m.\u001b[0m\u001b[32m.\u001b[0m\u001b[32m.\u001b[0m\u001b[32m.\u001b[0m\u001b[32m.\u001b[0m\u001b[32m.\u001b[0m\u001b[32m.\u001b[0m\u001b[32m.\u001b[0m\u001b[32m.\u001b[0m\u001b[32m.\u001b[0m\u001b[32m.\u001b[0m\u001b[32m.\u001b[0m\u001b[32m.\u001b[0m\u001b[32m.\u001b[0m\u001b[32m.\u001b[0m\u001b[32m.\u001b[0m\u001b[32m.\u001b[0m\u001b[32m.\u001b[0m\u001b[32m.\u001b[0m\u001b[32m.\u001b[0m\u001b[32m.\u001b[0m\u001b[32m.\u001b[0m\u001b[32m.\u001b[0m\u001b[32m.\u001b[0m\u001b[32m.\u001b[0m\u001b[32m.\u001b[0m\u001b[32m.\u001b[0m\u001b[32m.\u001b[0m\u001b[32m.\u001b[0m\u001b[32m.\u001b[0m\u001b[32m.\u001b[0m\u001b[32m.\u001b[0m\u001b[32m.\u001b[0m\u001b[32m.\u001b[0m\u001b[32m.\u001b[0m\u001b[32m.\u001b[0m\u001b[32m.\u001b[0m\u001b[32m.\u001b[0m\u001b[32m.\u001b[0m\u001b[32m.\u001b[0m\u001b[32m.\u001b[0m\u001b[32m.\u001b[0m\u001b[32m.\u001b[0m\u001b[32m.\u001b[0m\u001b[32m.\u001b[0m\u001b[32m.\u001b[0m\u001b[32m.\u001b[0m\u001b[32m.\u001b[0m\u001b[32m.\u001b[0m\u001b[32m.\u001b[0m\u001b[32m.\u001b[0m\u001b[32m.\u001b[0m\u001b[32m.\u001b[0m\u001b[32m.\u001b[0m\u001b[32m.\u001b[0m\u001b[32m.\u001b[0m\u001b[32m.\u001b[0m\u001b[32m.\u001b[0m\u001b[32m.\u001b[0m\u001b[32m.\u001b[0m\u001b[32m [ 43%]\n",
      "\u001b[0m\u001b[32m.\u001b[0m\u001b[32m.\u001b[0m\u001b[32m.\u001b[0m\u001b[32m.\u001b[0m\u001b[32m.\u001b[0m\u001b[32m.\u001b[0m\u001b[32m.\u001b[0m\u001b[32m.\u001b[0m\u001b[32m.\u001b[0m\u001b[32m.\u001b[0m\u001b[32m.\u001b[0m\u001b[32m.\u001b[0m\u001b[32m.\u001b[0m\u001b[32m.\u001b[0m\u001b[32m.\u001b[0m\u001b[32m.\u001b[0m\u001b[32m.\u001b[0m\u001b[32m.\u001b[0m\u001b[32m.\u001b[0m\u001b[32m.\u001b[0m\u001b[32m.\u001b[0m\u001b[32m.\u001b[0m\u001b[32m.\u001b[0m\u001b[32m.\u001b[0m\u001b[32m.\u001b[0m\u001b[32m.\u001b[0m\u001b[32m.\u001b[0m\u001b[32m.\u001b[0m\u001b[32m.\u001b[0m\u001b[32m.\u001b[0m\u001b[32m.\u001b[0m\u001b[32m.\u001b[0m\u001b[32m.\u001b[0m\u001b[32m.\u001b[0m\u001b[32m.\u001b[0m\u001b[32m.\u001b[0m\u001b[32m.\u001b[0m\u001b[32m.\u001b[0m\u001b[32m.\u001b[0m\u001b[32m.\u001b[0m\u001b[32m.\u001b[0m\u001b[32m.\u001b[0m\u001b[32m.\u001b[0m\u001b[32m.\u001b[0m\u001b[32m.\u001b[0m\u001b[32m.\u001b[0m\u001b[32m.\u001b[0m\u001b[32m.\u001b[0m\u001b[32m.\u001b[0m\u001b[32m.\u001b[0m\u001b[32m.\u001b[0m\u001b[32m.\u001b[0m\u001b[32m.\u001b[0m\u001b[32m.\u001b[0m\u001b[32m.\u001b[0m\u001b[32m.\u001b[0m\u001b[32m.\u001b[0m\u001b[32m.\u001b[0m\u001b[32m.\u001b[0m\u001b[32m.\u001b[0m\u001b[32m.\u001b[0m\u001b[32m.\u001b[0m\u001b[32m.\u001b[0m\u001b[32m.\u001b[0m\u001b[32m.\u001b[0m\u001b[32m.\u001b[0m\u001b[32m.\u001b[0m\u001b[32m.\u001b[0m\u001b[32m.\u001b[0m\u001b[32m.\u001b[0m\u001b[32m.\u001b[0m\u001b[32m.\u001b[0m\u001b[32m.\u001b[0m\u001b[32m.\u001b[0m\u001b[32m.\u001b[0m\u001b[32m.\u001b[0m\u001b[32m.\u001b[0m\u001b[32m.\u001b[0m\u001b[32m.\u001b[0m\u001b[32m.\u001b[0m\u001b[32m.\u001b[0m\u001b[32m.\u001b[0m\u001b[32m.\u001b[0m\u001b[32m.\u001b[0m\u001b[32m.\u001b[0m\u001b[32m.\u001b[0m\u001b[32m.\u001b[0m\u001b[32m.\u001b[0m\u001b[32m.\u001b[0m\u001b[32m.\u001b[0m\u001b[32m.\u001b[0m\u001b[32m.\u001b[0m\u001b[32m [ 52%]\n",
      "\u001b[0m\u001b[32m.\u001b[0m\u001b[32m.\u001b[0m\u001b[32m.\u001b[0m\u001b[32m.\u001b[0m\u001b[32m.\u001b[0m\u001b[32m.\u001b[0m\u001b[32m.\u001b[0m\u001b[32m.\u001b[0m\u001b[32m.\u001b[0m\u001b[32m.\u001b[0m\u001b[32m.\u001b[0m\u001b[32m.\u001b[0m\u001b[32m.\u001b[0m\u001b[32m.\u001b[0m\u001b[32m.\u001b[0m\u001b[32m.\u001b[0m\u001b[32m.\u001b[0m\u001b[32m.\u001b[0m\u001b[32m.\u001b[0m\u001b[32m.\u001b[0m\u001b[32m.\u001b[0m\u001b[32m.\u001b[0m\u001b[32m.\u001b[0m\u001b[32m.\u001b[0m\u001b[32m.\u001b[0m\u001b[32m.\u001b[0m\u001b[32m.\u001b[0m\u001b[32m.\u001b[0m\u001b[32m.\u001b[0m\u001b[32m.\u001b[0m\u001b[32m.\u001b[0m\u001b[32m.\u001b[0m\u001b[32m.\u001b[0m\u001b[32m.\u001b[0m\u001b[32m.\u001b[0m\u001b[32m.\u001b[0m\u001b[32m.\u001b[0m\u001b[32m.\u001b[0m\u001b[32m.\u001b[0m\u001b[32m.\u001b[0m\u001b[32m.\u001b[0m\u001b[32m.\u001b[0m\u001b[32m.\u001b[0m\u001b[32m.\u001b[0m\u001b[32m.\u001b[0m\u001b[32m.\u001b[0m\u001b[32m.\u001b[0m\u001b[32m.\u001b[0m\u001b[32m.\u001b[0m\u001b[32m.\u001b[0m\u001b[32m.\u001b[0m\u001b[32m.\u001b[0m\u001b[32m.\u001b[0m\u001b[32m.\u001b[0m\u001b[32m.\u001b[0m\u001b[32m.\u001b[0m\u001b[32m.\u001b[0m\u001b[32m.\u001b[0m\u001b[32m.\u001b[0m\u001b[32m.\u001b[0m\u001b[32m.\u001b[0m\u001b[32m.\u001b[0m\u001b[32m.\u001b[0m\u001b[32m.\u001b[0m\u001b[32m.\u001b[0m\u001b[32m.\u001b[0m\u001b[32m.\u001b[0m\u001b[32m.\u001b[0m\u001b[32m.\u001b[0m\u001b[32m.\u001b[0m\u001b[32m.\u001b[0m\u001b[32m.\u001b[0m\u001b[32m.\u001b[0m\u001b[32m.\u001b[0m\u001b[32m.\u001b[0m\u001b[32m.\u001b[0m\u001b[32m.\u001b[0m\u001b[32m.\u001b[0m\u001b[32m.\u001b[0m\u001b[32m.\u001b[0m\u001b[32m.\u001b[0m\u001b[32m.\u001b[0m\u001b[32m.\u001b[0m\u001b[32m.\u001b[0m\u001b[32m.\u001b[0m\u001b[32m.\u001b[0m\u001b[32m.\u001b[0m\u001b[32m.\u001b[0m\u001b[32m.\u001b[0m\u001b[32m.\u001b[0m\u001b[32m.\u001b[0m\u001b[32m.\u001b[0m\u001b[32m [ 61%]\n",
      "\u001b[0m\u001b[32m.\u001b[0m\u001b[32m.\u001b[0m\u001b[32m.\u001b[0m\u001b[32m.\u001b[0m\u001b[32m.\u001b[0m\u001b[32m.\u001b[0m\u001b[32m.\u001b[0m\u001b[32m.\u001b[0m\u001b[32m.\u001b[0m\u001b[32m.\u001b[0m\u001b[32m.\u001b[0m\u001b[32m.\u001b[0m\u001b[32m.\u001b[0m\u001b[32m.\u001b[0m\u001b[32m.\u001b[0m\u001b[32m.\u001b[0m\u001b[32m.\u001b[0m\u001b[32m.\u001b[0m\u001b[32m.\u001b[0m\u001b[32m.\u001b[0m\u001b[32m.\u001b[0m\u001b[32m.\u001b[0m\u001b[32m.\u001b[0m\u001b[32m.\u001b[0m\u001b[32m.\u001b[0m\u001b[32m.\u001b[0m\u001b[32m.\u001b[0m\u001b[32m.\u001b[0m\u001b[32m.\u001b[0m\u001b[32m.\u001b[0m\u001b[32m.\u001b[0m\u001b[32m.\u001b[0m\u001b[32m.\u001b[0m\u001b[32m.\u001b[0m\u001b[32m.\u001b[0m\u001b[32m.\u001b[0m\u001b[32m.\u001b[0m\u001b[32m.\u001b[0m\u001b[32m.\u001b[0m\u001b[32m.\u001b[0m\u001b[32m.\u001b[0m\u001b[32m.\u001b[0m\u001b[32m.\u001b[0m\u001b[32m.\u001b[0m\u001b[32m.\u001b[0m\u001b[32m.\u001b[0m\u001b[32m.\u001b[0m\u001b[32m.\u001b[0m\u001b[32m.\u001b[0m\u001b[32m.\u001b[0m\u001b[32m.\u001b[0m\u001b[32m.\u001b[0m\u001b[32m.\u001b[0m\u001b[32m.\u001b[0m\u001b[32m.\u001b[0m\u001b[32m.\u001b[0m\u001b[32m.\u001b[0m\u001b[32m.\u001b[0m\u001b[32m.\u001b[0m\u001b[32m.\u001b[0m\u001b[32m.\u001b[0m\u001b[32m.\u001b[0m\u001b[32m.\u001b[0m\u001b[32m.\u001b[0m\u001b[32m.\u001b[0m\u001b[32m.\u001b[0m\u001b[32m.\u001b[0m\u001b[32m.\u001b[0m\u001b[32m.\u001b[0m\u001b[32m.\u001b[0m\u001b[32m.\u001b[0m\u001b[32m.\u001b[0m\u001b[32m.\u001b[0m\u001b[32m.\u001b[0m\u001b[32m.\u001b[0m\u001b[32m.\u001b[0m\u001b[32m.\u001b[0m\u001b[32m.\u001b[0m\u001b[32m.\u001b[0m\u001b[32m.\u001b[0m\u001b[32m.\u001b[0m\u001b[32m.\u001b[0m\u001b[32m.\u001b[0m\u001b[32m.\u001b[0m\u001b[32m.\u001b[0m\u001b[32m.\u001b[0m\u001b[32m.\u001b[0m\u001b[32m.\u001b[0m\u001b[32m.\u001b[0m\u001b[32m.\u001b[0m\u001b[32m.\u001b[0m\u001b[32m.\u001b[0m\u001b[32m [ 70%]\n",
      "\u001b[0m\u001b[32m.\u001b[0m\u001b[32m.\u001b[0m\u001b[32m.\u001b[0m\u001b[32m.\u001b[0m\u001b[32m.\u001b[0m\u001b[32m.\u001b[0m\u001b[32m.\u001b[0m\u001b[32m.\u001b[0m\u001b[32m.\u001b[0m\u001b[32m.\u001b[0m\u001b[32m.\u001b[0m\u001b[32m.\u001b[0m\u001b[32m.\u001b[0m\u001b[32m.\u001b[0m\u001b[32m.\u001b[0m\u001b[32m.\u001b[0m\u001b[32m.\u001b[0m\u001b[32m.\u001b[0m\u001b[32m.\u001b[0m\u001b[32m.\u001b[0m\u001b[32m.\u001b[0m\u001b[32m.\u001b[0m\u001b[32m.\u001b[0m\u001b[32m.\u001b[0m\u001b[32m.\u001b[0m\u001b[32m.\u001b[0m\u001b[32m.\u001b[0m\u001b[32m.\u001b[0m\u001b[32m.\u001b[0m\u001b[32m.\u001b[0m\u001b[32m.\u001b[0m\u001b[32m.\u001b[0m\u001b[32m.\u001b[0m\u001b[32m.\u001b[0m\u001b[32m.\u001b[0m\u001b[32m.\u001b[0m\u001b[32m.\u001b[0m\u001b[32m.\u001b[0m\u001b[32m.\u001b[0m\u001b[32m.\u001b[0m\u001b[32m.\u001b[0m\u001b[32m.\u001b[0m\u001b[32m.\u001b[0m\u001b[32m.\u001b[0m\u001b[32m.\u001b[0m\u001b[32m.\u001b[0m\u001b[32m.\u001b[0m\u001b[32m.\u001b[0m\u001b[32m.\u001b[0m\u001b[32m.\u001b[0m\u001b[32m.\u001b[0m\u001b[32m.\u001b[0m\u001b[32m.\u001b[0m\u001b[32m.\u001b[0m\u001b[32m.\u001b[0m\u001b[32m.\u001b[0m\u001b[32m.\u001b[0m\u001b[32m.\u001b[0m\u001b[32m.\u001b[0m\u001b[32m.\u001b[0m\u001b[32m.\u001b[0m\u001b[32m.\u001b[0m\u001b[32m.\u001b[0m\u001b[32m.\u001b[0m\u001b[32m.\u001b[0m\u001b[32m.\u001b[0m\u001b[32m.\u001b[0m\u001b[32m.\u001b[0m\u001b[32m.\u001b[0m\u001b[32m.\u001b[0m\u001b[32m.\u001b[0m\u001b[32m.\u001b[0m\u001b[32m.\u001b[0m\u001b[32m.\u001b[0m\u001b[32m.\u001b[0m\u001b[32m.\u001b[0m\u001b[32m.\u001b[0m\u001b[32m.\u001b[0m\u001b[32m.\u001b[0m\u001b[32m.\u001b[0m\u001b[32m.\u001b[0m\u001b[32m.\u001b[0m\u001b[32m.\u001b[0m\u001b[32m.\u001b[0m\u001b[32m.\u001b[0m\u001b[32m.\u001b[0m\u001b[32m.\u001b[0m\u001b[32m.\u001b[0m\u001b[32m.\u001b[0m\u001b[32m.\u001b[0m\u001b[32m.\u001b[0m\u001b[32m.\u001b[0m\u001b[32m [ 79%]\n",
      "\u001b[0m\u001b[32m.\u001b[0m\u001b[32m.\u001b[0m\u001b[32m.\u001b[0m\u001b[32m.\u001b[0m\u001b[32m.\u001b[0m\u001b[32m.\u001b[0m\u001b[32m.\u001b[0m\u001b[32m.\u001b[0m\u001b[32m.\u001b[0m\u001b[32m.\u001b[0m\u001b[32m.\u001b[0m\u001b[32m.\u001b[0m\u001b[32m.\u001b[0m\u001b[32m.\u001b[0m\u001b[32m.\u001b[0m\u001b[32m.\u001b[0m\u001b[32m.\u001b[0m\u001b[32m.\u001b[0m\u001b[32m.\u001b[0m\u001b[32m.\u001b[0m\u001b[32m.\u001b[0m\u001b[32m.\u001b[0m\u001b[32m.\u001b[0m\u001b[32m.\u001b[0m\u001b[32m.\u001b[0m\u001b[32m.\u001b[0m\u001b[32m.\u001b[0m\u001b[32m.\u001b[0m\u001b[32m.\u001b[0m\u001b[32m.\u001b[0m\u001b[32m.\u001b[0m\u001b[32m.\u001b[0m\u001b[32m.\u001b[0m\u001b[32m.\u001b[0m\u001b[32m.\u001b[0m\u001b[32m.\u001b[0m\u001b[32m.\u001b[0m\u001b[32m.\u001b[0m\u001b[32m.\u001b[0m\u001b[32m.\u001b[0m\u001b[32m.\u001b[0m\u001b[32m.\u001b[0m\u001b[32m.\u001b[0m\u001b[32m.\u001b[0m\u001b[32m.\u001b[0m\u001b[32m.\u001b[0m\u001b[32m.\u001b[0m\u001b[32m.\u001b[0m\u001b[32m.\u001b[0m\u001b[32m.\u001b[0m\u001b[32m.\u001b[0m\u001b[32m.\u001b[0m\u001b[32m.\u001b[0m\u001b[32m.\u001b[0m\u001b[32m.\u001b[0m\u001b[32m.\u001b[0m\u001b[32m.\u001b[0m\u001b[32m.\u001b[0m\u001b[32m.\u001b[0m\u001b[32m.\u001b[0m\u001b[32m.\u001b[0m\u001b[32m.\u001b[0m\u001b[32m.\u001b[0m\u001b[32m.\u001b[0m\u001b[32m.\u001b[0m\u001b[32m.\u001b[0m\u001b[32m.\u001b[0m\u001b[32m.\u001b[0m\u001b[32m.\u001b[0m\u001b[32m.\u001b[0m\u001b[32m.\u001b[0m\u001b[32m.\u001b[0m\u001b[32m.\u001b[0m\u001b[32m.\u001b[0m\u001b[32m.\u001b[0m\u001b[32m.\u001b[0m\u001b[32m.\u001b[0m\u001b[32m.\u001b[0m\u001b[32m.\u001b[0m\u001b[32m.\u001b[0m\u001b[32m.\u001b[0m\u001b[32m.\u001b[0m\u001b[32m.\u001b[0m\u001b[32m.\u001b[0m\u001b[32m.\u001b[0m\u001b[32m.\u001b[0m\u001b[32m.\u001b[0m\u001b[32m.\u001b[0m\u001b[32m.\u001b[0m\u001b[32m.\u001b[0m\u001b[32m.\u001b[0m\u001b[32m.\u001b[0m\u001b[32m [ 88%]\n",
      "\u001b[0m\u001b[32m.\u001b[0m\u001b[32m.\u001b[0m\u001b[32m.\u001b[0m\u001b[32m.\u001b[0m\u001b[32m.\u001b[0m\u001b[32m.\u001b[0m\u001b[32m.\u001b[0m\u001b[32m.\u001b[0m\u001b[32m.\u001b[0m\u001b[32m.\u001b[0m\u001b[32m.\u001b[0m\u001b[32m.\u001b[0m\u001b[32m.\u001b[0m\u001b[32m.\u001b[0m\u001b[32m.\u001b[0m\u001b[32m.\u001b[0m\u001b[32m.\u001b[0m\u001b[32m.\u001b[0m\u001b[32m.\u001b[0m\u001b[32m.\u001b[0m\u001b[32m.\u001b[0m\u001b[32m.\u001b[0m\u001b[32m.\u001b[0m\u001b[32m.\u001b[0m\u001b[32m.\u001b[0m\u001b[32m.\u001b[0m\u001b[32m.\u001b[0m\u001b[32m.\u001b[0m\u001b[32m.\u001b[0m\u001b[32m.\u001b[0m\u001b[32m.\u001b[0m\u001b[32m.\u001b[0m\u001b[32m.\u001b[0m\u001b[32m.\u001b[0m\u001b[32m.\u001b[0m\u001b[32m.\u001b[0m\u001b[32m.\u001b[0m\u001b[32m.\u001b[0m\u001b[32m.\u001b[0m\u001b[32m.\u001b[0m\u001b[32m.\u001b[0m\u001b[32m.\u001b[0m\u001b[32m.\u001b[0m\u001b[32m.\u001b[0m\u001b[32m.\u001b[0m\u001b[32m.\u001b[0m\u001b[32m.\u001b[0m\u001b[32m.\u001b[0m\u001b[32m.\u001b[0m\u001b[32m.\u001b[0m\u001b[32m.\u001b[0m\u001b[32m.\u001b[0m\u001b[32m.\u001b[0m\u001b[32m.\u001b[0m\u001b[32m.\u001b[0m\u001b[32m.\u001b[0m\u001b[32m.\u001b[0m\u001b[32m.\u001b[0m\u001b[32m.\u001b[0m\u001b[32m.\u001b[0m\u001b[32m.\u001b[0m\u001b[32m.\u001b[0m\u001b[32m.\u001b[0m\u001b[32m.\u001b[0m\u001b[32m.\u001b[0m\u001b[32m.\u001b[0m\u001b[32m.\u001b[0m\u001b[32m.\u001b[0m\u001b[32m.\u001b[0m\u001b[32m.\u001b[0m\u001b[32m.\u001b[0m\u001b[32m.\u001b[0m\u001b[32m.\u001b[0m\u001b[32m.\u001b[0m\u001b[32m.\u001b[0m\u001b[32m.\u001b[0m\u001b[32m.\u001b[0m\u001b[32m.\u001b[0m\u001b[32m.\u001b[0m\u001b[32m.\u001b[0m\u001b[32m.\u001b[0m\u001b[32m.\u001b[0m\u001b[32m.\u001b[0m\u001b[32m.\u001b[0m\u001b[32m.\u001b[0m\u001b[32m.\u001b[0m\u001b[32m.\u001b[0m\u001b[32m.\u001b[0m\u001b[32m.\u001b[0m\u001b[32m.\u001b[0m\u001b[32m.\u001b[0m\u001b[32m.\u001b[0m\u001b[32m [ 97%]\n",
      "\u001b[0m\u001b[32m.\u001b[0m\u001b[32m.\u001b[0m\u001b[32m.\u001b[0m\u001b[32m.\u001b[0m\u001b[32m.\u001b[0m\u001b[32m.\u001b[0m\u001b[32m.\u001b[0m\u001b[32m.\u001b[0m\u001b[32m.\u001b[0m\u001b[32m.\u001b[0m\u001b[32m.\u001b[0m\u001b[32m.\u001b[0m\u001b[32m.\u001b[0m\u001b[32m.\u001b[0m\u001b[32m.\u001b[0m\u001b[32m.\u001b[0m\u001b[32m.\u001b[0m\u001b[32m.\u001b[0m\u001b[32m.\u001b[0m\u001b[32m.\u001b[0m\u001b[32m.\u001b[0m\u001b[32m.\u001b[0m\u001b[32m.\u001b[0m\u001b[32m.\u001b[0m\u001b[32m.\u001b[0m\u001b[32m.\u001b[0m\u001b[32m.\u001b[0m\u001b[32m.\u001b[0m\u001b[32m                                                                 [100%]\u001b[0m\n",
      "\n",
      "\u001b[32m====================================== \u001b[32m\u001b[1m1019 passed\u001b[0m\u001b[32m in 5.92s\u001b[0m\u001b[32m =======================================\u001b[0m\n"
     ]
    }
   ],
   "source": [
    "!pytest --no-header test/test_neurons.py"
   ]
  },
  {
   "attachments": {},
   "cell_type": "markdown",
   "id": "b6f7008d",
   "metadata": {},
   "source": [
    "### Pruebas clase Neurons\n"
   ]
  },
  {
   "cell_type": "code",
   "execution_count": null,
   "id": "0fad44d9",
   "metadata": {},
   "outputs": [],
   "source": [
    "neurons = Neurons()\n",
    "\n",
    "arr_patternes_bce=[(\"pattern_a\",BCE().sample()),(\"pattern_b\",BCE().sample()),(\"pattern_c\",BCE().sample()),(\"pattern_d\",BCE().sample())]\n",
    "\n",
    "neurons.init_patterns(arr_patternes_bce)\n",
    "\n",
    "neurons.set_event(\"pattern_a:event_a\")\n",
    "print(neurons.update_neuron_to_learn(BCE().sample()))\n",
    "neurons.set_event(\"pattern_b:event_b\")\n",
    "print(neurons.update_neuron_to_learn(BCE().sample()))\n",
    "print(neurons.set_event(\"pattern_b:event_b\"))\n",
    "print(neurons.set_event(\"event_b:event_X\"))\n",
    "print(neurons.update_neuron_to_learn(BCE().sample()))\n",
    "print(neurons.set_event(\"event_X:event_1\"))\n",
    "print(neurons.update_neuron_to_learn(BCE().sample()))\n",
    "print(neurons.get_neurons())\n",
    "print(neurons.neuron_to_learn)\n",
    "\n",
    "\n",
    "print(neurons.learned_neurons)"
   ]
  },
  {
   "attachments": {},
   "cell_type": "markdown",
   "id": "ed192002",
   "metadata": {},
   "source": [
    "### Diccionario de events a modo de simular la historia de los BCE generico de pruebas\n"
   ]
  },
  {
   "cell_type": "code",
   "execution_count": null,
   "id": "451c1a2e",
   "metadata": {},
   "outputs": [],
   "source": [
    "#Creador de dicionario de events\n",
    "\n",
    "dict_event_bce={}\n",
    "for i in range(20):\n",
    "    dict_event_bce[f\"event_{i}\"]=BCE( Need(random.randint(0,1),random.randint(0,3)), Need(random.randint(0,1),random.randint(0,3)), Need(random.randint(0,1),random.randint(0,3)) )\n",
    "\n",
    "for event in dict_event_bce.items():\n",
    "    print(event)\n",
    "    \n",
    "#print(dict_event_bce)\n",
    "\n",
    "#str(dict_event_bce[\"event_0\"])"
   ]
  },
  {
   "attachments": {},
   "cell_type": "markdown",
   "id": "1333260a",
   "metadata": {},
   "source": [
    "### Diccionario manual para pruebas"
   ]
  },
  {
   "cell_type": "code",
   "execution_count": null,
   "id": "99f4c944",
   "metadata": {},
   "outputs": [],
   "source": [
    "#Cosas predeterminadas del body\n",
    "\n",
    "#Sentidos\n",
    "##Vista\n",
    "dict_sight = {\n",
    "    \"Tesis\": BCE(Need(0,0), Need(0,3), Need(0,1)),\n",
    "    \"Television\": BCE(Need(0,0), Need(1,1), Need(0,0)),\n",
    "    \"Vista_Montaña\": BCE(Need(0,1), Need(0,1), Need(0,2)),\n",
    "    \"Dulces\": BCE(Need(1,1), Need(0,0), Need(1,1)),\n",
    "    \"Obra_de_Arte\": BCE(Need(0,0), Need(0,2), Need(0,2)),\n",
    "    \"Neutro\": BCE(Need(0,0), Need(0,0), Need(0,0))\n",
    "}\n",
    "\n",
    "##Oido\n",
    "dict_hearing = {\n",
    "    \"Ruido\": BCE(Need(1,1), Need(1,1), Need(0,0)),\n",
    "    \"Musica\": BCE(Need(0,1), Need(0,1), Need(0,1)),\n",
    "    \"Llamada_telefonica\": BCE(Need(1,1), Need(1,1), Need(1,1)),\n",
    "    \"Sonidos_ciudad\": BCE(Need(0,0), Need(1,1), Need(1,1)),\n",
    "    \"Led_Zeppelin\": BCE(Need(0,1), Need(0,2), Need(0,3)),\n",
    "    \"Neutro\": BCE(Need(0,0), Need(0,0), Need(0,0))\n",
    "}\n",
    "\n",
    "\n",
    "##Olfato\n",
    "dict_smell = {\n",
    "    \"Cafe_olor\": BCE(Need(0,1), Need(0,1), Need(0,2)),\n",
    "    \"Flores\": BCE(Need(0,2), Need(0,1), Need(0,2)),\n",
    "    \"Olor_comida\": BCE(Need(0,2), Need(0,2), Need(0,2)),\n",
    "    \"Aromatizantes\": BCE(Need(1,1), Need(0,1), Need(0,3)),\n",
    "    \"Rocio\": BCE(Need(0,2), Need(0,1), Need(0,3)),\n",
    "    \"Neutro\": BCE(Need(0,0), Need(0,0), Need(0,0))\n",
    "}\n",
    "\n",
    "##Gusto\n",
    "dict_taste = {\n",
    "    \"Cafe_taste\": BCE(Need(0,3), Need(0,1), Need(0,2)),\n",
    "    \"Te\": BCE(Need(0,2), Need(0,1), Need(0,2)),\n",
    "    \"Jugo_naranja\": BCE(Need(0,2), Need(0,2), Need(0,2)),\n",
    "    \"Agua\": BCE(Need(0,1), Need(0,1), Need(0,3)),\n",
    "    \"Refresco\": BCE(Need(1,2), Need(0,2), Need(0,2)),\n",
    "    \"Neutro\": BCE(Need(0,0), Need(0,0), Need(0,0))\n",
    "}\n",
    "\n",
    "##Tacto\n",
    "dict_touch = {\n",
    "    \"Textura_mesa\": BCE(Need(0,2), Need(0,1), Need(0,2)),\n",
    "    \"Temperatura_lapiz\": BCE(Need(0,2), Need(0,1), Need(0,2)),\n",
    "    \"Textura_silla\": BCE(Need(0,2), Need(0,1), Need(0,3)),\n",
    "    \"Textura_papel\": BCE(Need(0,2), Need(0,1), Need(0,3)),\n",
    "    \"Frio\": BCE(Need(0,2), Need(0,1), Need(0,3)),\n",
    "    \"Neutro\": BCE(Need(0,0), Need(0,0), Need(0,0))\n",
    "}\n",
    "\n",
    "##Cuerpo\n",
    "dict_body = {\n",
    "    \"Dolor_espalda\": BCE(Need(1, 3), Need(0, 3), Need(1, 2)),\n",
    "    \"Molestia_abdominal\": BCE(Need(1, 3), Need(0, 3), Need(1, 2)),\n",
    "    \"Sentirse_Bien\": BCE(Need(1, 4), Need(1, 4), Need(1, 4)),\n",
    "    \"Sentirse_Mal\": BCE(Need(0, 4), Need(0, 4), Need(0, 4)),\n",
    "    \"Fatiga\": BCE(Need(1, 3), Need(0, 2), Need(0, 1)),\n",
    "    \"Neutro\": BCE(Need(0,0), Need(0,0), Need(0,0))\n",
    "}\n",
    "\n",
    "##Tiempo\n",
    "dict_time = {\n",
    "    \"Sed\": BCE(Need(1, 2), Need(0, 2), Need(0, 0)),\n",
    "    \"Hambre\": BCE(Need(1, 2), Need(0, 3), Need(0, 3)),\n",
    "    \"Sentirse_ignorante\": BCE(Need(0, 0), Need(1, 3), Need(1, 2)),\n",
    "    \"No_entender\": BCE(Need(0, 0), Need(1, 2), Need(1, 2)),\n",
    "    \"Aburrimiento\": BCE(Need(0, 0), Need(0, 0), Need(1, 2)),\n",
    "    \"Neutro\": BCE(Need(0,0), Need(0,0), Need(0,0))\n",
    "}\n",
    "\n",
    "\n",
    "dict_event_bce_manual  =  {}\n",
    "dict_event_bce_manual.update(dict_sight)\n",
    "dict_event_bce_manual.update(dict_hearing)\n",
    "dict_event_bce_manual.update(dict_smell)\n",
    "dict_event_bce_manual.update(dict_taste)\n",
    "dict_event_bce_manual.update(dict_touch)\n",
    "dict_event_bce_manual.update(dict_body)\n",
    "dict_event_bce_manual.update(dict_time)\n",
    "\n",
    "##Ventanas de time?\n",
    "# Vista | Oido   | Olfato | Gusto   | Tacto   | Cuerpo |  Tiempo   \n",
    "#T1\n",
    "\"Tesis\",\"Tesis\",\"olor_cafe\",\"neutro\",\"neutro\",\"frio\",\"neutro\"\n",
    "#T2\n",
    "\"Tesis\",\"Led_Zeppelin\",\"olor_cafe\",\"neutro\",\"neutro\",\"frio\",\"neutro\"\n",
    "#T3\n",
    "\"Tesis\",\"Led_Zeppelin\",\"olor_cafe\",\"neutro\",\"neutro\",\"frio\",\"neutro\"\n",
    "#T4\n",
    "\n",
    "\n",
    "#\"sight\",\"hearing\",\"smell\",\"taste\",\"touch\",\"body\",\"time\"\n",
    "\n",
    "\n",
    "#Biologico\n",
    "\n",
    "#Cultural\n",
    "\n",
    "#Emocional\n",
    "\n",
    "bce_sensaciones_biologicas_vista = {\n",
    "\n",
    "    # Elementos positivos relacionados a lo biológico\n",
    "\n",
    "    \"Placer\": BCE(Need(0, 1), Need(0, 1), Need(0, 1)),\n",
    "    \"Relajación\": BCE(Need(0, 1), Need(0, 1), Need(0, 1)),\n",
    "    \"Efecto placebo\": BCE(Need(0, 0), Need(0, 0), Need(0, 1)),\n",
    "\n",
    "    # Elementos negativos relacionados a lo biológico\n",
    "    \"Sed\": BCE(Need(1, 1), Need(0, 0), Need(0, 0)),\n",
    "    \"Hambre\": BCE(Need(1, 1), Need(0, 0), Need(1, 1)),\n",
    "    \"Náuseas\": BCE(Need(1, 2), Need(0, 0), Need(1, 1)),\n",
    "    \"Peligro\": BCE(Need(0, 3), Need(0, 1), Need(1, 1)),\n",
    "    \"Sueño\": BCE(Need(1, 1), Need(1, 1), Need(1, 1))\n",
    "}\n",
    "\n",
    "bce_sensaciones_culturales_vista = {\n",
    "    \"Asombro\": BCE(Need(0, 0), Need(0, 1), Need(0, 0)),\n",
    "    \"Respeto\": BCE(Need(0, 0), Need(0, 1), Need(0, 1)),\n",
    "    \"Identidad\": BCE(Need(0, 0), Need(0, 1), Need(0, 1)),\n",
    "    \"Orgullo\": BCE(Need(0, 0), Need(0, 1), Need(0, 0)),\n",
    "    \"Enriquecimiento\": BCE(Need(0, 0), Need(0, 1), Need(0, 0)),\n",
    "    \"Intriga\": BCE(Need(0, 0), Need(1, 1), Need(1, 1)),\n",
    "    \"Curiosidad\": BCE(Need(0, 0), Need(1, 1), Need(0, 0)),\n",
    "    \"Nostalgia\": BCE(Need(0, 0), Need(1, 1), Need(1, 1)),\n",
    "    \"Ignorancia\": BCE(Need(0, 0), Need(1, 2), Need(1, 1)),\n",
    "    \"Estres\": BCE(Need(1, 1), Need(1, 3), Need(1, 2))\n",
    "\n",
    "}\n",
    "\n",
    "bce_sensaciones_emocionales = {\n",
    "    \"Felicidad\": BCE(Need(0, 1), Need(0, 0), Need(0, 1)),\n",
    "    \"Asombro\": BCE(Need(0, 0), Need(0, 0), Need(0, 1)),\n",
    "    \"Amor\": BCE(Need(0, 1), Need(0, 0), Need(0, 1)),\n",
    "    \"Empatía\": BCE(Need(0, 0), Need(0, 1), Need(0, 1)),\n",
    "    \"Gratitud\": BCE(Need(0, 0), Need(0, 0), Need(0, 1)),\n",
    "    \"Tristeza\": BCE(Need(1, 1), Need(0, 1), Need(1, 1)),\n",
    "    \"Miedo\": BCE(Need(1, 1), Need(0, 0), Need(1, 1)),\n",
    "    \"Ira\": BCE(Need(1, 1), Need(0, 0), Need(1, 2)),\n",
    "    \"Confusión\": BCE(Need(1, 0), Need(1, 0), Need(1, 1)),\n",
    "    \"Repulsión\": BCE(Need(0, 0), Need(0, 0), Need(1, 1)),\n",
    "    \n",
    "}\n",
    "\n",
    "\n",
    "\n",
    "dict_patters_sight = { \"\", \"\", \"\"\n",
    "\n",
    "\n",
    "}\n",
    "\n"
   ]
  },
  {
   "cell_type": "code",
   "execution_count": null,
   "id": "1656b85c",
   "metadata": {},
   "outputs": [],
   "source": [
    "# Diccionario de patrones para el sentido de la Vista\n",
    "bce_sensaciones_vista = {\n",
    "    # Elementos positivos relacionados a lo biológico\n",
    "    \"Energizante visual\": BCE(Need(1, 0), Need(0, 0), Need(0, 0)),\n",
    "    \"Refrescante visual\": BCE(Need(1, 0), Need(0, 0), Need(0, 0)),\n",
    "    \"Revitalizante visual\": BCE(Need(1, 0), Need(0, 0), Need(0, 0)),\n",
    "    \"Estimulante visual\": BCE(Need(1, 0), Need(0, 0), Need(0, 0)),\n",
    "    \"Nutritivo visual\": BCE(Need(1, 0), Need(0, 0), Need(0, 0)),\n",
    "    \"Fortalecedor visual\": BCE(Need(1, 0), Need(0, 0), Need(0, 0)),\n",
    "    \"Vitalizador visual\": BCE(Need(1, 0), Need(0, 0), Need(0, 0)),\n",
    "\n",
    "    # Elementos negativos relacionados a lo biológico\n",
    "    \"Fatigante visual\": BCE(Need(1, 0), Need(0, 0), Need(0, 0)),\n",
    "    \"Desgastante visual\": BCE(Need(1, 0), Need(0, 0), Need(0, 0)),\n",
    "    \"Agotador visual\": BCE(Need(1, 0), Need(0, 0), Need(0, 0)),\n",
    "    \"Sacrificante visual\": BCE(Need(1, 0), Need(0, 0), Need(0, 0)),\n",
    "    \"Demandante visual\": BCE(Need(1, 0), Need(0, 0), Need(0, 0)),\n",
    "    \"Estresante visual\": BCE(Need(1, 0), Need(0, 0), Need(0, 0)),\n",
    "    \"Exigente visual\": BCE(Need(1, 0), Need(0, 0), Need(0, 0)),\n",
    "\n",
    "    # Elementos positivos relacionados a lo cultural\n",
    "    \"Enriquecedor visual\": BCE(Need(0, 1), Need(0, 0), Need(0, 0)),\n",
    "    \"Inspirador visual\": BCE(Need(0, 1), Need(0, 0), Need(0, 0)),\n",
    "    \"Educativo visual\": BCE(Need(0, 1), Need(0, 0), Need(0, 0)),\n",
    "    \"Creativo visual\": BCE(Need(0, 1), Need(0, 0), Need(0, 0)),\n",
    "    \"Motivador visual\": BCE(Need(0, 1), Need(0, 0), Need(0, 0)),\n",
    "    \"Ilustrativo visual\": BCE(Need(0, 1), Need(0, 0), Need(0, 0)),\n",
    "    \"Culturalmente significativo visual\": BCE(Need(0, 1), Need(0, 0), Need(0, 0)),\n",
    "\n",
    "    # Elementos negativos relacionados a lo cultural\n",
    "    \"Desalentador visual\": BCE(Need(0, 1), Need(0, 0), Need(0, 0)),\n",
    "    \"Incomprensible visual\": BCE(Need(0, 1), Need(0, 0), Need(0, 0)),\n",
    "    \"Desafiante visual\": BCE(Need(0, 1), Need(0, 0), Need(0, 0)),\n",
    "    \"Inapropiado visual\": BCE(Need(0, 1), Need(0, 0), Need(0, 0)),\n",
    "    \"Confuso visual\": BCE(Need(0, 1), Need(0, 0), Need(0, 0)),\n",
    "    \"De mal gusto visual\": BCE(Need(0, 1), Need(0, 0), Need(0, 0)),\n",
    "    \"Descontextualizado visual\": BCE(Need(0, 1), Need(0, 0), Need(0, 0)),\n",
    "\n",
    "    # Elementos positivos relacionados a lo emocional\n",
    "    \"Encantador visual\": BCE(Need(0, 0), Need(0, 3), Need(0, 0)),\n",
    "    \"Maravilloso visual\": BCE(Need(0, 0), Need(0, 3), Need(0, 0)),\n",
    "    \"Agradable visual\": BCE(Need(0, 0), Need(0, 3), Need(0, 0)),\n",
    "    \"Emocionante visual\": BCE(Need(0, 0), Need(0, 3), Need(0, 0)),\n",
    "    \"Satisfactorio visual\": BCE(Need(0, 0), Need(0, 3), Need(0, 0)),\n",
    "    \"Esperanzador visual\": BCE(Need(0, 0), Need(0, 3), Need(0, 0)),\n",
    "    \"Positivo visual\": BCE(Need(0, 0), Need(0, 3), Need(0, 0)),\n",
    "\n",
    "    # Elementos negativos relacionados a lo emocional\n",
    "    \"Doloroso visual\": BCE(Need(0, 0), Need(0, 3), Need(0, 0)),\n",
    "    \"Triste visual\": BCE(Need(0, 0), Need(0, 3), Need(0, 0)),\n",
    "    \"Inquietante visual\": BCE(Need(0, 0), Need(0, 3), Need(0, 0)),\n",
    "    \"Angustiante visual\": BCE(Need(0, 0), Need(0, 3), Need(0, 0)),\n",
    "    \"Frustrante visual\": BCE(Need(0, 0), Need(0, 3), Need(0, 0)),\n",
    "    \"Negativo visual\": BCE(Need(0, 0), Need(0, 3), Need(0, 0)),\n",
    "    \"Desesperanzador visual\": BCE(Need(0, 0), Need(0, 3), Need(0, 0))\n",
    "}\n"
   ]
  },
  {
   "attachments": {},
   "cell_type": "markdown",
   "id": "a6081e61",
   "metadata": {},
   "source": [
    "### Clase Sensory_NN,  clase base para RN de todos los senses"
   ]
  },
  {
   "cell_type": "code",
   "execution_count": 91,
   "id": "5508aabf",
   "metadata": {},
   "outputs": [],
   "source": [
    "from src.sensory_nn import Sensory_NN"
   ]
  },
  {
   "cell_type": "code",
   "execution_count": 98,
   "id": "1b27e51c",
   "metadata": {},
   "outputs": [
    {
     "data": {
      "text/html": [
       "<pre style=\"white-space:pre;overflow-x:auto;line-height:normal;font-family:Menlo,'DejaVu Sans Mono',consolas,'Courier New',monospace\"><span style=\"font-weight: bold\">[</span>\n",
       "    <span style=\"font-weight: bold\">(</span><span style=\"color: #008080; text-decoration-color: #008080; font-weight: bold\">0</span>, <span style=\"color: #008000; text-decoration-color: #008000\">'pattern_a'</span>, Bio:+<span style=\"color: #008080; text-decoration-color: #008080; font-weight: bold\">0.25</span> Cul:<span style=\"color: #008080; text-decoration-color: #008080; font-weight: bold\">-0.5</span> Emo:+<span style=\"color: #008080; text-decoration-color: #008080; font-weight: bold\">0.25</span><span style=\"font-weight: bold\">)</span>,\n",
       "    <span style=\"font-weight: bold\">(</span><span style=\"color: #008080; text-decoration-color: #008080; font-weight: bold\">1</span>, <span style=\"color: #008000; text-decoration-color: #008000\">'pattern_b'</span>, Bio:+<span style=\"color: #008080; text-decoration-color: #008080; font-weight: bold\">0.25</span> Cul:+<span style=\"color: #008080; text-decoration-color: #008080; font-weight: bold\">0.5</span> Emo:<span style=\"color: #008080; text-decoration-color: #008080; font-weight: bold\">-0.0</span><span style=\"font-weight: bold\">)</span>,\n",
       "    <span style=\"font-weight: bold\">(</span><span style=\"color: #008080; text-decoration-color: #008080; font-weight: bold\">2</span>, <span style=\"color: #008000; text-decoration-color: #008000\">'pattern_c'</span>, Bio:+<span style=\"color: #008080; text-decoration-color: #008080; font-weight: bold\">0.0</span> Cul:+<span style=\"color: #008080; text-decoration-color: #008080; font-weight: bold\">0.0</span> Emo:<span style=\"color: #008080; text-decoration-color: #008080; font-weight: bold\">-0.25</span><span style=\"font-weight: bold\">)</span>,\n",
       "    <span style=\"font-weight: bold\">(</span><span style=\"color: #008080; text-decoration-color: #008080; font-weight: bold\">3</span>, <span style=\"color: #008000; text-decoration-color: #008000\">'pattern_d'</span>, Bio:+<span style=\"color: #008080; text-decoration-color: #008080; font-weight: bold\">0.0</span> Cul:+<span style=\"color: #008080; text-decoration-color: #008080; font-weight: bold\">0.5</span> Emo:<span style=\"color: #008080; text-decoration-color: #008080; font-weight: bold\">-0.5</span><span style=\"font-weight: bold\">)</span>\n",
       "<span style=\"font-weight: bold\">]</span>\n",
       "</pre>\n"
      ],
      "text/plain": [
       "\u001b[1m[\u001b[0m\n",
       "    \u001b[1m(\u001b[0m\u001b[1;36m0\u001b[0m, \u001b[32m'pattern_a'\u001b[0m, Bio:+\u001b[1;36m0.25\u001b[0m Cul:\u001b[1;36m-0.5\u001b[0m Emo:+\u001b[1;36m0.25\u001b[0m\u001b[1m)\u001b[0m,\n",
       "    \u001b[1m(\u001b[0m\u001b[1;36m1\u001b[0m, \u001b[32m'pattern_b'\u001b[0m, Bio:+\u001b[1;36m0.25\u001b[0m Cul:+\u001b[1;36m0.5\u001b[0m Emo:\u001b[1;36m-0.0\u001b[0m\u001b[1m)\u001b[0m,\n",
       "    \u001b[1m(\u001b[0m\u001b[1;36m2\u001b[0m, \u001b[32m'pattern_c'\u001b[0m, Bio:+\u001b[1;36m0.0\u001b[0m Cul:+\u001b[1;36m0.0\u001b[0m Emo:\u001b[1;36m-0.25\u001b[0m\u001b[1m)\u001b[0m,\n",
       "    \u001b[1m(\u001b[0m\u001b[1;36m3\u001b[0m, \u001b[32m'pattern_d'\u001b[0m, Bio:+\u001b[1;36m0.0\u001b[0m Cul:+\u001b[1;36m0.5\u001b[0m Emo:\u001b[1;36m-0.5\u001b[0m\u001b[1m)\u001b[0m\n",
       "\u001b[1m]\u001b[0m\n"
      ]
     },
     "metadata": {},
     "output_type": "display_data"
    },
    {
     "data": {
      "text/html": [
       "<pre style=\"white-space:pre;overflow-x:auto;line-height:normal;font-family:Menlo,'DejaVu Sans Mono',consolas,'Courier New',monospace\"><span style=\"font-weight: bold\">[</span><span style=\"color: #008080; text-decoration-color: #008080; font-weight: bold\">4</span>, Bio:+<span style=\"color: #008080; text-decoration-color: #008080; font-weight: bold\">0.25</span> Cul:<span style=\"color: #008080; text-decoration-color: #008080; font-weight: bold\">-0.5</span> Emo:+<span style=\"color: #008080; text-decoration-color: #008080; font-weight: bold\">0.25</span>, <span style=\"color: #008000; text-decoration-color: #008000\">'pattern_a'</span>, <span style=\"color: #008000; text-decoration-color: #008000\">'event0'</span>, <span style=\"color: #008000; text-decoration-color: #008000\">'sight'</span><span style=\"font-weight: bold\">]</span>\n",
       "</pre>\n"
      ],
      "text/plain": [
       "\u001b[1m[\u001b[0m\u001b[1;36m4\u001b[0m, Bio:+\u001b[1;36m0.25\u001b[0m Cul:\u001b[1;36m-0.5\u001b[0m Emo:+\u001b[1;36m0.25\u001b[0m, \u001b[32m'pattern_a'\u001b[0m, \u001b[32m'event0'\u001b[0m, \u001b[32m'sight'\u001b[0m\u001b[1m]\u001b[0m\n"
      ]
     },
     "metadata": {},
     "output_type": "display_data"
    },
    {
     "data": {
      "text/html": [
       "<pre style=\"white-space:pre;overflow-x:auto;line-height:normal;font-family:Menlo,'DejaVu Sans Mono',consolas,'Courier New',monospace\"><span style=\"font-weight: bold\">[</span><span style=\"color: #008080; text-decoration-color: #008080; font-weight: bold\">4</span>, Bio:+<span style=\"color: #008080; text-decoration-color: #008080; font-weight: bold\">0.0</span> Cul:+<span style=\"color: #008080; text-decoration-color: #008080; font-weight: bold\">0.0</span> Emo:<span style=\"color: #008080; text-decoration-color: #008080; font-weight: bold\">-0.0</span>, <span style=\"color: #008000; text-decoration-color: #008000\">'pattern_a'</span>, <span style=\"color: #008000; text-decoration-color: #008000\">'event0'</span>, <span style=\"color: #008000; text-decoration-color: #008000\">'sight'</span><span style=\"font-weight: bold\">]</span>\n",
       "</pre>\n"
      ],
      "text/plain": [
       "\u001b[1m[\u001b[0m\u001b[1;36m4\u001b[0m, Bio:+\u001b[1;36m0.0\u001b[0m Cul:+\u001b[1;36m0.0\u001b[0m Emo:\u001b[1;36m-0.0\u001b[0m, \u001b[32m'pattern_a'\u001b[0m, \u001b[32m'event0'\u001b[0m, \u001b[32m'sight'\u001b[0m\u001b[1m]\u001b[0m\n"
      ]
     },
     "metadata": {},
     "output_type": "display_data"
    }
   ],
   "source": [
    "a=BCE().sample()\n",
    "b=BCE().sample()\n",
    "c=BCE().sample()\n",
    "d=BCE().sample()\n",
    "event=BCE().sample()\n",
    "event1=BCE().sample()\n",
    "event2=BCE().sample()\n",
    "event3=BCE().sample()\n",
    "arr_patternes_bce=[(\"pattern_a\",a),(\"pattern_b\",b),(\"pattern_c\",c),(\"pattern_d\",d)]\n",
    "arr_patternes_bce2=[(\"pattern_e\",a),(\"pattern_f\",b),(\"pattern_g\",c),(\"pattern_h\",d)]\n",
    "\n",
    "\n",
    "\n",
    "instance=Sensory_NN(\"sight\")\n",
    "arr_patternes_bce=[(\"pattern_a\",a),(\"pattern_b\",b),(\"pattern_c\",c),(\"pattern_d\",d)]\n",
    "print(instance.init_patterns(arr_patternes_bce))\n",
    "print(instance.set_event(\"pattern_a:event0\"))\n",
    "print(instance.update_neuron(event))\n",
    "#instance.set_event(\"pattern_b:event1\")\n",
    "#instance.update_neuron(event1)\n",
    "#instance.set_event(\"pattern_c:event3\")\n",
    "#instance.update_neuron(event3)\n"
   ]
  },
  {
   "cell_type": "code",
   "execution_count": 128,
   "id": "19321e0d",
   "metadata": {},
   "outputs": [],
   "source": [
    "# Generación de valores aleatorios para los patrones\n",
    "num_patterns = 1000  # Número de patrones\n",
    "# Generar casos de prueba para pytest.mark.parametrize\n",
    "parameters_sensory_nn_behavior = []\n",
    "# Crear lista de patrones con valores BCE aleatorios\n",
    "arr_patternes_bce = []\n",
    "\n",
    "sense=\"sight\"\n",
    "for i in range(num_patterns):\n",
    "    pattern_name = f\"pattern_{i:02d}\"\n",
    "    bce_value = BCE().sample()\n",
    "    arr_patternes_bce.append((pattern_name, bce_value, i))\n",
    "\n",
    "# Lista de eventos aleatorios\n",
    "\n",
    "events_list = [(f\"{random.choice(arr_patternes_bce)[0]}:event_{random.randint(0, 99):02d}\",BCE().sample()) for _ in range(num_patterns//2)]\n",
    "events_list2 = [(f\"{random.choice(arr_patternes_bce)[0]}:{random.choice(arr_patternes_bce)[0]}\",BCE().sample()) for _ in range(num_patterns//2)]\n",
    "events_list+=events_list2\n",
    "\n",
    "\n",
    "num_test_cases = num_patterns\n",
    "for i in range(num_test_cases):\n",
    "    pattern = events_list[i][0].split(':')[0]\n",
    "    event = events_list[i][0].split(':')[1]\n",
    "    bce_pattern = next((data for p, data, _ in arr_patternes_bce if p == pattern ), None)\n",
    "    bce_event = events_list[i][1]\n",
    "    index = next((index for e, _, index in arr_patternes_bce if e == event), len(arr_patternes_bce))\n",
    "    combined_info = [\n",
    "        index,  # Índice del elemento seleccionado de pattern\n",
    "        BCE.average(bce_event, bce_pattern) if index == len(arr_patternes_bce) else arr_patternes_bce[index][1],\n",
    "        pattern if index == len(arr_patternes_bce) else '',  # El pattern seleccionado\n",
    "        event,       # El evento seleccionado\n",
    "        sense\n",
    "    ]\n",
    "    pattern_event = f\"{pattern}:{event}\"\n",
    "    output = combined_info\n",
    "    arr_patternes_bce_2 = [(pattern, bce_value) for pattern, bce_value, _ in arr_patternes_bce]\n",
    "    parameters_sensory_nn_behavior.append((arr_patternes_bce_2, pattern_event, bce_event, output))\n",
    "   \n",
    "\n",
    "    #print(parameters_sensory_nn_behavior)"
   ]
  },
  {
   "cell_type": "code",
   "execution_count": 113,
   "id": "a556f4e0",
   "metadata": {},
   "outputs": [
    {
     "name": "stdout",
     "output_type": "stream",
     "text": [
      "\u001b[1m======================================= test session starts =======================================\u001b[0m\n",
      "collected 1000 items\n",
      "\n",
      "t_6e163d0322154d9285cf2ac85a374487.py \u001b[32m                                                       [100%]\u001b[0m\n",
      "\n",
      "\u001b[32m====================================== \u001b[32m\u001b[1m1000 passed\u001b[0m\u001b[32m in 6.52s\u001b[0m\u001b[32m =======================================\u001b[0m\n"
     ]
    }
   ],
   "source": [
    "%%ipytest -v --no-header --report-passed=\"\"\n",
    "\n",
    "@pytest.fixture\n",
    "def sensory_nn():\n",
    "    return Sensory_NN()\n",
    "\n",
    "@pytest.mark.parametrize(\"arr_patterns_bce, pattern_events, bce_event, expected_output\",parameters_sensory_nn_behavior)\n",
    "def test_sensory_nn_behavior(sensory_nn, arr_patterns_bce, pattern_events, bce_event, expected_output):\n",
    "    sensory_nn.init_patterns(arr_patterns_bce)\n",
    "\n",
    "    sensory_nn.set_event(pattern_events)\n",
    "    output = sensory_nn.update_neuron(bce_event)\n",
    "    \n",
    "    assert output == expected_output"
   ]
  },
  {
   "cell_type": "markdown",
   "id": "aaae45a3",
   "metadata": {},
   "source": [
    "### Pruebas Unitarias Sensory_NN"
   ]
  },
  {
   "attachments": {},
   "cell_type": "markdown",
   "id": "e4cc2fe4",
   "metadata": {},
   "source": [
    "### Prueba clase Sensory_NN"
   ]
  },
  {
   "cell_type": "code",
   "execution_count": 232,
   "id": "6d190dc3",
   "metadata": {},
   "outputs": [
    {
     "name": "stdout",
     "output_type": "stream",
     "text": [
      "\u001b[1m======================================= test session starts =======================================\u001b[0m\n",
      "collected 1019 items\n",
      "\n",
      "test\\test_sensory_nn.py \u001b[32m.\u001b[0m\u001b[32m.\u001b[0m\u001b[32m.\u001b[0m\u001b[32m.\u001b[0m\u001b[32m.\u001b[0m\u001b[32m.\u001b[0m\u001b[32m.\u001b[0m\u001b[32m.\u001b[0m\u001b[32m.\u001b[0m\u001b[32m.\u001b[0m\u001b[32m.\u001b[0m\u001b[32m.\u001b[0m\u001b[32m.\u001b[0m\u001b[32m.\u001b[0m\u001b[32m.\u001b[0m\u001b[32m.\u001b[0m\u001b[32m.\u001b[0m\u001b[32m.\u001b[0m\u001b[32m.\u001b[0m\u001b[32m.\u001b[0m\u001b[32m.\u001b[0m\u001b[32m.\u001b[0m\u001b[32m.\u001b[0m\u001b[32m.\u001b[0m\u001b[32m.\u001b[0m\u001b[32m.\u001b[0m\u001b[32m.\u001b[0m\u001b[32m.\u001b[0m\u001b[32m.\u001b[0m\u001b[32m.\u001b[0m\u001b[32m.\u001b[0m\u001b[32m.\u001b[0m\u001b[32m.\u001b[0m\u001b[32m.\u001b[0m\u001b[32m.\u001b[0m\u001b[32m.\u001b[0m\u001b[32m.\u001b[0m\u001b[32m.\u001b[0m\u001b[32m.\u001b[0m\u001b[32m.\u001b[0m\u001b[32m.\u001b[0m\u001b[32m.\u001b[0m\u001b[32m.\u001b[0m\u001b[32m.\u001b[0m\u001b[32m.\u001b[0m\u001b[32m.\u001b[0m\u001b[32m.\u001b[0m\u001b[32m.\u001b[0m\u001b[32m.\u001b[0m\u001b[32m.\u001b[0m\u001b[32m.\u001b[0m\u001b[32m.\u001b[0m\u001b[32m.\u001b[0m\u001b[32m.\u001b[0m\u001b[32m.\u001b[0m\u001b[32m.\u001b[0m\u001b[32m.\u001b[0m\u001b[32m.\u001b[0m\u001b[32m.\u001b[0m\u001b[32m.\u001b[0m\u001b[32m.\u001b[0m\u001b[32m.\u001b[0m\u001b[32m.\u001b[0m\u001b[32m.\u001b[0m\u001b[32m.\u001b[0m\u001b[32m.\u001b[0m\u001b[32m.\u001b[0m\u001b[32m.\u001b[0m\u001b[32m [  6%]\n",
      "\u001b[0m\u001b[32m.\u001b[0m\u001b[32m.\u001b[0m\u001b[32m.\u001b[0m\u001b[32m.\u001b[0m\u001b[32m.\u001b[0m\u001b[32m.\u001b[0m\u001b[32m.\u001b[0m\u001b[32m.\u001b[0m\u001b[32m.\u001b[0m\u001b[32m.\u001b[0m\u001b[32m.\u001b[0m\u001b[32m.\u001b[0m\u001b[32m.\u001b[0m\u001b[32m.\u001b[0m\u001b[32m.\u001b[0m\u001b[32m.\u001b[0m\u001b[32m.\u001b[0m\u001b[32m.\u001b[0m\u001b[32m.\u001b[0m\u001b[32m.\u001b[0m\u001b[32m.\u001b[0m\u001b[32m.\u001b[0m\u001b[32m.\u001b[0m\u001b[32m.\u001b[0m\u001b[32m.\u001b[0m\u001b[32m.\u001b[0m\u001b[32m.\u001b[0m\u001b[32m.\u001b[0m\u001b[32m.\u001b[0m\u001b[32m.\u001b[0m\u001b[32m.\u001b[0m\u001b[32m.\u001b[0m\u001b[32m.\u001b[0m\u001b[32m.\u001b[0m\u001b[32m.\u001b[0m\u001b[32m.\u001b[0m\u001b[32m.\u001b[0m\u001b[32m.\u001b[0m\u001b[32m.\u001b[0m\u001b[32m.\u001b[0m\u001b[32m.\u001b[0m\u001b[32m.\u001b[0m\u001b[32m.\u001b[0m\u001b[32m.\u001b[0m\u001b[32m.\u001b[0m\u001b[32m.\u001b[0m\u001b[32m.\u001b[0m\u001b[32m.\u001b[0m\u001b[32m.\u001b[0m\u001b[32m.\u001b[0m\u001b[32m.\u001b[0m\u001b[32m.\u001b[0m\u001b[32m.\u001b[0m\u001b[32m.\u001b[0m\u001b[32m.\u001b[0m\u001b[32m.\u001b[0m\u001b[32m.\u001b[0m\u001b[32m.\u001b[0m\u001b[32m.\u001b[0m\u001b[32m.\u001b[0m\u001b[32m.\u001b[0m\u001b[32m.\u001b[0m\u001b[32m.\u001b[0m\u001b[32m.\u001b[0m\u001b[32m.\u001b[0m\u001b[32m.\u001b[0m\u001b[32m.\u001b[0m\u001b[32m.\u001b[0m\u001b[32m.\u001b[0m\u001b[32m.\u001b[0m\u001b[32m.\u001b[0m\u001b[32m.\u001b[0m\u001b[32m.\u001b[0m\u001b[32m.\u001b[0m\u001b[32m.\u001b[0m\u001b[32m.\u001b[0m\u001b[32m.\u001b[0m\u001b[32m.\u001b[0m\u001b[32m.\u001b[0m\u001b[32m.\u001b[0m\u001b[32m.\u001b[0m\u001b[32m.\u001b[0m\u001b[32m.\u001b[0m\u001b[32m.\u001b[0m\u001b[32m.\u001b[0m\u001b[32m.\u001b[0m\u001b[32m.\u001b[0m\u001b[32m.\u001b[0m\u001b[32m.\u001b[0m\u001b[32m.\u001b[0m\u001b[32m.\u001b[0m\u001b[32m.\u001b[0m\u001b[32m [ 15%]\n",
      "\u001b[0m\u001b[32m.\u001b[0m\u001b[32m.\u001b[0m\u001b[32m.\u001b[0m\u001b[32m.\u001b[0m\u001b[32m.\u001b[0m\u001b[32m.\u001b[0m\u001b[32m.\u001b[0m\u001b[32m.\u001b[0m\u001b[32m.\u001b[0m\u001b[32m.\u001b[0m\u001b[32m.\u001b[0m\u001b[32m.\u001b[0m\u001b[32m.\u001b[0m\u001b[32m.\u001b[0m\u001b[32m.\u001b[0m\u001b[32m.\u001b[0m\u001b[32m.\u001b[0m\u001b[32m.\u001b[0m\u001b[32m.\u001b[0m\u001b[32m.\u001b[0m\u001b[32m.\u001b[0m\u001b[32m.\u001b[0m\u001b[32m.\u001b[0m\u001b[32m.\u001b[0m\u001b[32m.\u001b[0m\u001b[32m.\u001b[0m\u001b[32m.\u001b[0m\u001b[32m.\u001b[0m\u001b[32m.\u001b[0m\u001b[32m.\u001b[0m\u001b[32m.\u001b[0m\u001b[32m.\u001b[0m\u001b[32m.\u001b[0m\u001b[32m.\u001b[0m\u001b[32m.\u001b[0m\u001b[32m.\u001b[0m\u001b[32m.\u001b[0m\u001b[32m.\u001b[0m\u001b[32m.\u001b[0m\u001b[32m.\u001b[0m\u001b[32m.\u001b[0m\u001b[32m.\u001b[0m\u001b[32m.\u001b[0m\u001b[32m.\u001b[0m\u001b[32m.\u001b[0m\u001b[32m.\u001b[0m\u001b[32m.\u001b[0m\u001b[32m.\u001b[0m\u001b[32m.\u001b[0m\u001b[32m.\u001b[0m\u001b[32m.\u001b[0m\u001b[32m.\u001b[0m\u001b[32m.\u001b[0m\u001b[32m.\u001b[0m\u001b[32m.\u001b[0m\u001b[32m.\u001b[0m\u001b[32m.\u001b[0m\u001b[32m.\u001b[0m\u001b[32m.\u001b[0m\u001b[32m.\u001b[0m\u001b[32m.\u001b[0m\u001b[32m.\u001b[0m\u001b[32m.\u001b[0m\u001b[32m.\u001b[0m\u001b[32m.\u001b[0m\u001b[32m.\u001b[0m\u001b[32m.\u001b[0m\u001b[32m.\u001b[0m\u001b[32m.\u001b[0m\u001b[32m.\u001b[0m\u001b[32m.\u001b[0m\u001b[32m.\u001b[0m\u001b[32m.\u001b[0m\u001b[32m.\u001b[0m\u001b[32m.\u001b[0m\u001b[32m.\u001b[0m\u001b[32m.\u001b[0m\u001b[32m.\u001b[0m\u001b[32m.\u001b[0m\u001b[32m.\u001b[0m\u001b[32m.\u001b[0m\u001b[32m.\u001b[0m\u001b[32m.\u001b[0m\u001b[32m.\u001b[0m\u001b[32m.\u001b[0m\u001b[32m.\u001b[0m\u001b[32m.\u001b[0m\u001b[32m.\u001b[0m\u001b[32m.\u001b[0m\u001b[32m.\u001b[0m\u001b[32m.\u001b[0m\u001b[32m.\u001b[0m\u001b[32m [ 24%]\n",
      "\u001b[0m\u001b[32m.\u001b[0m\u001b[32m.\u001b[0m\u001b[32m.\u001b[0m\u001b[32m.\u001b[0m\u001b[32m.\u001b[0m\u001b[32m.\u001b[0m\u001b[32m.\u001b[0m\u001b[32m.\u001b[0m\u001b[32m.\u001b[0m\u001b[32m.\u001b[0m\u001b[32m.\u001b[0m\u001b[32m.\u001b[0m\u001b[32m.\u001b[0m\u001b[32m.\u001b[0m\u001b[32m.\u001b[0m\u001b[32m.\u001b[0m\u001b[32m.\u001b[0m\u001b[32m.\u001b[0m\u001b[32m.\u001b[0m\u001b[32m.\u001b[0m\u001b[32m.\u001b[0m\u001b[32m.\u001b[0m\u001b[32m.\u001b[0m\u001b[32m.\u001b[0m\u001b[32m.\u001b[0m\u001b[32m.\u001b[0m\u001b[32m.\u001b[0m\u001b[32m.\u001b[0m\u001b[32m.\u001b[0m\u001b[32m.\u001b[0m\u001b[32m.\u001b[0m\u001b[32m.\u001b[0m\u001b[32m.\u001b[0m\u001b[32m.\u001b[0m\u001b[32m.\u001b[0m\u001b[32m.\u001b[0m\u001b[32m.\u001b[0m\u001b[32m.\u001b[0m\u001b[32m.\u001b[0m\u001b[32m.\u001b[0m\u001b[32m.\u001b[0m\u001b[32m.\u001b[0m\u001b[32m.\u001b[0m\u001b[32m.\u001b[0m\u001b[32m.\u001b[0m\u001b[32m.\u001b[0m\u001b[32m.\u001b[0m\u001b[32m.\u001b[0m\u001b[32m.\u001b[0m\u001b[32m.\u001b[0m\u001b[32m.\u001b[0m\u001b[32m.\u001b[0m\u001b[32m.\u001b[0m\u001b[32m.\u001b[0m\u001b[32m.\u001b[0m\u001b[32m.\u001b[0m\u001b[32m.\u001b[0m\u001b[32m.\u001b[0m\u001b[32m.\u001b[0m\u001b[32m.\u001b[0m\u001b[32m.\u001b[0m\u001b[32m.\u001b[0m\u001b[32m.\u001b[0m\u001b[32m.\u001b[0m\u001b[32m.\u001b[0m\u001b[32m.\u001b[0m\u001b[32m.\u001b[0m\u001b[32m.\u001b[0m\u001b[32m.\u001b[0m\u001b[32m.\u001b[0m\u001b[32m.\u001b[0m\u001b[32m.\u001b[0m\u001b[32m.\u001b[0m\u001b[32m.\u001b[0m\u001b[32m.\u001b[0m\u001b[32m.\u001b[0m\u001b[32m.\u001b[0m\u001b[32m.\u001b[0m\u001b[32m.\u001b[0m\u001b[32m.\u001b[0m\u001b[32m.\u001b[0m\u001b[32m.\u001b[0m\u001b[32m.\u001b[0m\u001b[32m.\u001b[0m\u001b[32m.\u001b[0m\u001b[32m.\u001b[0m\u001b[32m.\u001b[0m\u001b[32m.\u001b[0m\u001b[32m.\u001b[0m\u001b[32m.\u001b[0m\u001b[32m.\u001b[0m\u001b[32m.\u001b[0m\u001b[32m [ 33%]\n",
      "\u001b[0m\u001b[32m.\u001b[0m\u001b[32m.\u001b[0m\u001b[32m.\u001b[0m\u001b[32m.\u001b[0m\u001b[32m.\u001b[0m\u001b[32m.\u001b[0m\u001b[32m.\u001b[0m\u001b[32m.\u001b[0m\u001b[32m.\u001b[0m\u001b[32m.\u001b[0m\u001b[32m.\u001b[0m\u001b[32m.\u001b[0m\u001b[32m.\u001b[0m\u001b[32m.\u001b[0m\u001b[32m.\u001b[0m\u001b[32m.\u001b[0m\u001b[32m.\u001b[0m\u001b[32m.\u001b[0m\u001b[32m.\u001b[0m\u001b[32m.\u001b[0m\u001b[32m.\u001b[0m\u001b[32m.\u001b[0m\u001b[32m.\u001b[0m\u001b[32m.\u001b[0m\u001b[32m.\u001b[0m\u001b[32m.\u001b[0m\u001b[32m.\u001b[0m\u001b[32m.\u001b[0m\u001b[32m.\u001b[0m\u001b[32m.\u001b[0m\u001b[32m.\u001b[0m\u001b[32m.\u001b[0m\u001b[32m.\u001b[0m\u001b[32m.\u001b[0m\u001b[32m.\u001b[0m\u001b[32m.\u001b[0m\u001b[32m.\u001b[0m\u001b[32m.\u001b[0m\u001b[32m.\u001b[0m\u001b[32m.\u001b[0m\u001b[32m.\u001b[0m\u001b[32m.\u001b[0m\u001b[32m.\u001b[0m\u001b[32m.\u001b[0m\u001b[32m.\u001b[0m\u001b[32m.\u001b[0m\u001b[32m.\u001b[0m\u001b[32m.\u001b[0m\u001b[32m.\u001b[0m\u001b[32m.\u001b[0m\u001b[32m.\u001b[0m\u001b[32m.\u001b[0m\u001b[32m.\u001b[0m\u001b[32m.\u001b[0m\u001b[32m.\u001b[0m\u001b[32m.\u001b[0m\u001b[32m.\u001b[0m\u001b[32m.\u001b[0m\u001b[32m.\u001b[0m\u001b[32m.\u001b[0m\u001b[32m.\u001b[0m\u001b[32m.\u001b[0m\u001b[32m.\u001b[0m\u001b[32m.\u001b[0m\u001b[32m.\u001b[0m\u001b[32m.\u001b[0m\u001b[32m.\u001b[0m\u001b[32m.\u001b[0m\u001b[32m.\u001b[0m\u001b[32m.\u001b[0m\u001b[32m.\u001b[0m\u001b[32m.\u001b[0m\u001b[32m.\u001b[0m\u001b[32m.\u001b[0m\u001b[32m.\u001b[0m\u001b[32m.\u001b[0m\u001b[32m.\u001b[0m\u001b[32m.\u001b[0m\u001b[32m.\u001b[0m\u001b[32m.\u001b[0m\u001b[32m.\u001b[0m\u001b[32m.\u001b[0m\u001b[32m.\u001b[0m\u001b[32m.\u001b[0m\u001b[32m.\u001b[0m\u001b[32m.\u001b[0m\u001b[32m.\u001b[0m\u001b[32m.\u001b[0m\u001b[32m.\u001b[0m\u001b[32m.\u001b[0m\u001b[32m.\u001b[0m\u001b[32m.\u001b[0m\u001b[32m [ 42%]\n",
      "\u001b[0m\u001b[32m.\u001b[0m\u001b[32m.\u001b[0m\u001b[32m.\u001b[0m\u001b[32m.\u001b[0m\u001b[32m.\u001b[0m\u001b[32m.\u001b[0m\u001b[32m.\u001b[0m\u001b[32m.\u001b[0m\u001b[32m.\u001b[0m\u001b[32m.\u001b[0m\u001b[32m.\u001b[0m\u001b[32m.\u001b[0m\u001b[32m.\u001b[0m\u001b[32m.\u001b[0m\u001b[32m.\u001b[0m\u001b[32m.\u001b[0m\u001b[32m.\u001b[0m\u001b[32m.\u001b[0m\u001b[32m.\u001b[0m\u001b[32m.\u001b[0m\u001b[32m.\u001b[0m\u001b[32m.\u001b[0m\u001b[32m.\u001b[0m\u001b[32m.\u001b[0m\u001b[32m.\u001b[0m\u001b[32m.\u001b[0m\u001b[32m.\u001b[0m\u001b[32m.\u001b[0m\u001b[32m.\u001b[0m\u001b[32m.\u001b[0m\u001b[32m.\u001b[0m\u001b[32m.\u001b[0m\u001b[32m.\u001b[0m\u001b[32m.\u001b[0m\u001b[32m.\u001b[0m\u001b[32m.\u001b[0m\u001b[32m.\u001b[0m\u001b[32m.\u001b[0m\u001b[32m.\u001b[0m\u001b[32m.\u001b[0m\u001b[32m.\u001b[0m\u001b[32m.\u001b[0m\u001b[32m.\u001b[0m\u001b[32m.\u001b[0m\u001b[32m.\u001b[0m\u001b[32m.\u001b[0m\u001b[32m.\u001b[0m\u001b[32m.\u001b[0m\u001b[32m.\u001b[0m\u001b[32m.\u001b[0m\u001b[32m.\u001b[0m\u001b[32m.\u001b[0m\u001b[32m.\u001b[0m\u001b[32m.\u001b[0m\u001b[32m.\u001b[0m\u001b[32m.\u001b[0m\u001b[32m.\u001b[0m\u001b[32m.\u001b[0m\u001b[32m.\u001b[0m\u001b[32m.\u001b[0m\u001b[32m.\u001b[0m\u001b[32m.\u001b[0m\u001b[32m.\u001b[0m\u001b[32m.\u001b[0m\u001b[32m.\u001b[0m\u001b[32m.\u001b[0m\u001b[32m.\u001b[0m\u001b[32m.\u001b[0m\u001b[32m.\u001b[0m\u001b[32m.\u001b[0m\u001b[32m.\u001b[0m\u001b[32m.\u001b[0m\u001b[32m.\u001b[0m\u001b[32m.\u001b[0m\u001b[32m.\u001b[0m\u001b[32m.\u001b[0m\u001b[32m.\u001b[0m\u001b[32m.\u001b[0m\u001b[32m.\u001b[0m\u001b[32m.\u001b[0m\u001b[32m.\u001b[0m\u001b[32m.\u001b[0m\u001b[32m.\u001b[0m\u001b[32m.\u001b[0m\u001b[32m.\u001b[0m\u001b[32m.\u001b[0m\u001b[32m.\u001b[0m\u001b[32m.\u001b[0m\u001b[32m.\u001b[0m\u001b[32m.\u001b[0m\u001b[32m.\u001b[0m\u001b[32m.\u001b[0m\u001b[32m [ 51%]\n",
      "\u001b[0m\u001b[32m.\u001b[0m\u001b[32m.\u001b[0m\u001b[32m.\u001b[0m\u001b[32m.\u001b[0m\u001b[32m.\u001b[0m\u001b[32m.\u001b[0m\u001b[32m.\u001b[0m\u001b[32m.\u001b[0m\u001b[32m.\u001b[0m\u001b[32m.\u001b[0m\u001b[32m.\u001b[0m\u001b[32m.\u001b[0m\u001b[32m.\u001b[0m\u001b[32m.\u001b[0m\u001b[32m.\u001b[0m\u001b[32m.\u001b[0m\u001b[32m.\u001b[0m\u001b[32m.\u001b[0m\u001b[32m.\u001b[0m\u001b[32m.\u001b[0m\u001b[32m.\u001b[0m\u001b[32m.\u001b[0m\u001b[32m.\u001b[0m\u001b[32m.\u001b[0m\u001b[32m.\u001b[0m\u001b[32m.\u001b[0m\u001b[32m.\u001b[0m\u001b[32m.\u001b[0m\u001b[32m.\u001b[0m\u001b[32m.\u001b[0m\u001b[32m.\u001b[0m\u001b[32m.\u001b[0m\u001b[32m.\u001b[0m\u001b[32m.\u001b[0m\u001b[32m.\u001b[0m\u001b[32m.\u001b[0m\u001b[32m.\u001b[0m\u001b[32m.\u001b[0m\u001b[32m.\u001b[0m\u001b[32m.\u001b[0m\u001b[32m.\u001b[0m\u001b[32m.\u001b[0m\u001b[32m.\u001b[0m\u001b[32m.\u001b[0m\u001b[32m.\u001b[0m\u001b[32m.\u001b[0m\u001b[32m.\u001b[0m\u001b[32m.\u001b[0m\u001b[32m.\u001b[0m\u001b[32m.\u001b[0m\u001b[32m.\u001b[0m\u001b[32m.\u001b[0m\u001b[32m.\u001b[0m\u001b[32m.\u001b[0m\u001b[32m.\u001b[0m\u001b[32m.\u001b[0m\u001b[32m.\u001b[0m\u001b[32m.\u001b[0m\u001b[32m.\u001b[0m\u001b[32m.\u001b[0m\u001b[32m.\u001b[0m\u001b[32m.\u001b[0m\u001b[32m.\u001b[0m\u001b[32m.\u001b[0m\u001b[32m.\u001b[0m\u001b[32m.\u001b[0m\u001b[32m.\u001b[0m\u001b[32m.\u001b[0m\u001b[32m.\u001b[0m\u001b[32m.\u001b[0m\u001b[32m.\u001b[0m\u001b[32m.\u001b[0m\u001b[32m.\u001b[0m\u001b[32m.\u001b[0m\u001b[32m.\u001b[0m\u001b[32m.\u001b[0m\u001b[32m.\u001b[0m\u001b[32m.\u001b[0m\u001b[32m.\u001b[0m\u001b[32m.\u001b[0m\u001b[32m.\u001b[0m\u001b[32m.\u001b[0m\u001b[32m.\u001b[0m\u001b[32m.\u001b[0m\u001b[32m.\u001b[0m\u001b[32m.\u001b[0m\u001b[32m.\u001b[0m\u001b[32m.\u001b[0m\u001b[32m.\u001b[0m\u001b[32m.\u001b[0m\u001b[32m.\u001b[0m\u001b[32m.\u001b[0m\u001b[32m [ 60%]\n",
      "\u001b[0m\u001b[32m.\u001b[0m\u001b[32m.\u001b[0m\u001b[32m.\u001b[0m\u001b[32m.\u001b[0m\u001b[32m.\u001b[0m\u001b[32m.\u001b[0m\u001b[32m.\u001b[0m\u001b[32m.\u001b[0m\u001b[32m.\u001b[0m\u001b[32m.\u001b[0m\u001b[32m.\u001b[0m\u001b[32m.\u001b[0m\u001b[32m.\u001b[0m\u001b[32m.\u001b[0m\u001b[32m.\u001b[0m\u001b[32m.\u001b[0m\u001b[32m.\u001b[0m\u001b[32m.\u001b[0m\u001b[32m.\u001b[0m\u001b[32m.\u001b[0m\u001b[32m.\u001b[0m\u001b[32m.\u001b[0m\u001b[32m.\u001b[0m\u001b[32m.\u001b[0m\u001b[32m.\u001b[0m\u001b[32m.\u001b[0m\u001b[32m.\u001b[0m\u001b[32m.\u001b[0m\u001b[32m.\u001b[0m\u001b[32m.\u001b[0m\u001b[32m.\u001b[0m\u001b[32m.\u001b[0m\u001b[32m.\u001b[0m\u001b[32m.\u001b[0m\u001b[32m.\u001b[0m\u001b[32m.\u001b[0m\u001b[32m.\u001b[0m\u001b[32m.\u001b[0m\u001b[32m.\u001b[0m\u001b[32m.\u001b[0m\u001b[32m.\u001b[0m\u001b[32m.\u001b[0m\u001b[32m.\u001b[0m\u001b[32m.\u001b[0m\u001b[32m.\u001b[0m\u001b[32m.\u001b[0m\u001b[32m.\u001b[0m\u001b[32m.\u001b[0m\u001b[32m.\u001b[0m\u001b[32m.\u001b[0m\u001b[32m.\u001b[0m\u001b[32m.\u001b[0m\u001b[32m.\u001b[0m\u001b[32m.\u001b[0m\u001b[32m.\u001b[0m\u001b[32m.\u001b[0m\u001b[32m.\u001b[0m\u001b[32m.\u001b[0m\u001b[32m.\u001b[0m\u001b[32m.\u001b[0m\u001b[32m.\u001b[0m\u001b[32m.\u001b[0m\u001b[32m.\u001b[0m\u001b[32m.\u001b[0m\u001b[32m.\u001b[0m\u001b[32m.\u001b[0m\u001b[32m.\u001b[0m\u001b[32m.\u001b[0m\u001b[32m.\u001b[0m\u001b[32m.\u001b[0m\u001b[32m.\u001b[0m\u001b[32m.\u001b[0m\u001b[32m.\u001b[0m\u001b[32m.\u001b[0m\u001b[32m.\u001b[0m\u001b[32m.\u001b[0m\u001b[32m.\u001b[0m\u001b[32m.\u001b[0m\u001b[32m.\u001b[0m\u001b[32m.\u001b[0m\u001b[32m.\u001b[0m\u001b[32m.\u001b[0m\u001b[32m.\u001b[0m\u001b[32m.\u001b[0m\u001b[32m.\u001b[0m\u001b[32m.\u001b[0m\u001b[32m.\u001b[0m\u001b[32m.\u001b[0m\u001b[32m.\u001b[0m\u001b[32m.\u001b[0m\u001b[32m.\u001b[0m\u001b[32m.\u001b[0m\u001b[32m [ 69%]\n",
      "\u001b[0m\u001b[32m.\u001b[0m\u001b[32m.\u001b[0m\u001b[32m.\u001b[0m\u001b[32m.\u001b[0m\u001b[32m.\u001b[0m\u001b[32m.\u001b[0m\u001b[32m.\u001b[0m\u001b[32m.\u001b[0m\u001b[32m.\u001b[0m\u001b[32m.\u001b[0m\u001b[32m.\u001b[0m\u001b[32m.\u001b[0m\u001b[32m.\u001b[0m\u001b[32m.\u001b[0m\u001b[32m.\u001b[0m\u001b[32m.\u001b[0m\u001b[32m.\u001b[0m\u001b[32m.\u001b[0m\u001b[32m.\u001b[0m\u001b[32m.\u001b[0m\u001b[32m.\u001b[0m\u001b[32m.\u001b[0m\u001b[32m.\u001b[0m\u001b[32m.\u001b[0m\u001b[32m.\u001b[0m\u001b[32m.\u001b[0m\u001b[32m.\u001b[0m\u001b[32m.\u001b[0m\u001b[32m.\u001b[0m\u001b[32m.\u001b[0m\u001b[32m.\u001b[0m\u001b[32m.\u001b[0m\u001b[32m.\u001b[0m\u001b[32m.\u001b[0m\u001b[32m.\u001b[0m\u001b[32m.\u001b[0m\u001b[32m.\u001b[0m\u001b[32m.\u001b[0m\u001b[32m.\u001b[0m\u001b[32m.\u001b[0m\u001b[32m.\u001b[0m\u001b[32m.\u001b[0m\u001b[32m.\u001b[0m\u001b[32m.\u001b[0m\u001b[32m.\u001b[0m\u001b[32m.\u001b[0m\u001b[32m.\u001b[0m\u001b[32m.\u001b[0m\u001b[32m.\u001b[0m\u001b[32m.\u001b[0m\u001b[32m.\u001b[0m\u001b[32m.\u001b[0m\u001b[32m.\u001b[0m\u001b[32m.\u001b[0m\u001b[32m.\u001b[0m\u001b[32m.\u001b[0m\u001b[32m.\u001b[0m\u001b[32m.\u001b[0m\u001b[32m.\u001b[0m\u001b[32m.\u001b[0m\u001b[32m.\u001b[0m\u001b[32m.\u001b[0m\u001b[32m.\u001b[0m\u001b[32m.\u001b[0m\u001b[32m.\u001b[0m\u001b[32m.\u001b[0m\u001b[32m.\u001b[0m\u001b[32m.\u001b[0m\u001b[32m.\u001b[0m\u001b[32m.\u001b[0m\u001b[32m.\u001b[0m\u001b[32m.\u001b[0m\u001b[32m.\u001b[0m\u001b[32m.\u001b[0m\u001b[32m.\u001b[0m\u001b[32m.\u001b[0m\u001b[32m.\u001b[0m\u001b[32m.\u001b[0m\u001b[32m.\u001b[0m\u001b[32m.\u001b[0m\u001b[32m.\u001b[0m\u001b[32m.\u001b[0m\u001b[32m.\u001b[0m\u001b[32m.\u001b[0m\u001b[32m.\u001b[0m\u001b[32m.\u001b[0m\u001b[32m.\u001b[0m\u001b[32m.\u001b[0m\u001b[32m.\u001b[0m\u001b[32m.\u001b[0m\u001b[32m.\u001b[0m\u001b[32m.\u001b[0m\u001b[32m [ 78%]\n",
      "\u001b[0m\u001b[32m.\u001b[0m\u001b[32m.\u001b[0m\u001b[32m.\u001b[0m\u001b[32m.\u001b[0m\u001b[32m.\u001b[0m\u001b[32m.\u001b[0m\u001b[32m.\u001b[0m\u001b[32m.\u001b[0m\u001b[32m.\u001b[0m\u001b[32m.\u001b[0m\u001b[32m.\u001b[0m\u001b[32m.\u001b[0m\u001b[32m.\u001b[0m\u001b[32m.\u001b[0m\u001b[32m.\u001b[0m\u001b[32m.\u001b[0m\u001b[32m.\u001b[0m\u001b[32m.\u001b[0m\u001b[32m.\u001b[0m\u001b[32m.\u001b[0m\u001b[32m.\u001b[0m\u001b[32m.\u001b[0m\u001b[32m.\u001b[0m\u001b[32m.\u001b[0m\u001b[32m.\u001b[0m\u001b[32m.\u001b[0m\u001b[32m.\u001b[0m\u001b[32m.\u001b[0m\u001b[32m.\u001b[0m\u001b[32m.\u001b[0m\u001b[32m.\u001b[0m\u001b[32m.\u001b[0m\u001b[32m.\u001b[0m\u001b[32m.\u001b[0m\u001b[32m.\u001b[0m\u001b[32m.\u001b[0m\u001b[32m.\u001b[0m\u001b[32m.\u001b[0m\u001b[32m.\u001b[0m\u001b[32m.\u001b[0m\u001b[32m.\u001b[0m\u001b[32m.\u001b[0m\u001b[32m.\u001b[0m\u001b[32m.\u001b[0m\u001b[32m.\u001b[0m\u001b[32m.\u001b[0m\u001b[32m.\u001b[0m\u001b[32m.\u001b[0m\u001b[32m.\u001b[0m\u001b[32m.\u001b[0m\u001b[32m.\u001b[0m\u001b[32m.\u001b[0m\u001b[32m.\u001b[0m\u001b[32m.\u001b[0m\u001b[32m.\u001b[0m\u001b[32m.\u001b[0m\u001b[32m.\u001b[0m\u001b[32m.\u001b[0m\u001b[32m.\u001b[0m\u001b[32m.\u001b[0m\u001b[32m.\u001b[0m\u001b[32m.\u001b[0m\u001b[32m.\u001b[0m\u001b[32m.\u001b[0m\u001b[32m.\u001b[0m\u001b[32m.\u001b[0m\u001b[32m.\u001b[0m\u001b[32m.\u001b[0m\u001b[32m.\u001b[0m\u001b[32m.\u001b[0m\u001b[32m.\u001b[0m\u001b[32m.\u001b[0m\u001b[32m.\u001b[0m\u001b[32m.\u001b[0m\u001b[32m.\u001b[0m\u001b[32m.\u001b[0m\u001b[32m.\u001b[0m\u001b[32m.\u001b[0m\u001b[32m.\u001b[0m\u001b[32m.\u001b[0m\u001b[32m.\u001b[0m\u001b[32m.\u001b[0m\u001b[32m.\u001b[0m\u001b[32m.\u001b[0m\u001b[32m.\u001b[0m\u001b[32m.\u001b[0m\u001b[32m.\u001b[0m\u001b[32m.\u001b[0m\u001b[32m.\u001b[0m\u001b[32m.\u001b[0m\u001b[32m.\u001b[0m\u001b[32m.\u001b[0m\u001b[32m [ 87%]\n",
      "\u001b[0m\u001b[32m.\u001b[0m\u001b[32m.\u001b[0m\u001b[32m.\u001b[0m\u001b[32m.\u001b[0m\u001b[32m.\u001b[0m\u001b[32m.\u001b[0m\u001b[32m.\u001b[0m\u001b[32m.\u001b[0m\u001b[32m.\u001b[0m\u001b[32m.\u001b[0m\u001b[32m.\u001b[0m\u001b[32m.\u001b[0m\u001b[32m.\u001b[0m\u001b[32m.\u001b[0m\u001b[32m.\u001b[0m\u001b[32m.\u001b[0m\u001b[32m.\u001b[0m\u001b[32m.\u001b[0m\u001b[32m.\u001b[0m\u001b[32m.\u001b[0m\u001b[32m.\u001b[0m\u001b[32m.\u001b[0m\u001b[32m.\u001b[0m\u001b[32m.\u001b[0m\u001b[32m.\u001b[0m\u001b[32m.\u001b[0m\u001b[32m.\u001b[0m\u001b[32m.\u001b[0m\u001b[32m.\u001b[0m\u001b[32m.\u001b[0m\u001b[32m.\u001b[0m\u001b[32m.\u001b[0m\u001b[32m.\u001b[0m\u001b[32m.\u001b[0m\u001b[32m.\u001b[0m\u001b[32m.\u001b[0m\u001b[32m.\u001b[0m\u001b[32m.\u001b[0m\u001b[32m.\u001b[0m\u001b[32m.\u001b[0m\u001b[32m.\u001b[0m\u001b[32m.\u001b[0m\u001b[32m.\u001b[0m\u001b[32m.\u001b[0m\u001b[32m.\u001b[0m\u001b[32m.\u001b[0m\u001b[32m.\u001b[0m\u001b[32m.\u001b[0m\u001b[32m.\u001b[0m\u001b[32m.\u001b[0m\u001b[32m.\u001b[0m\u001b[32m.\u001b[0m\u001b[32m.\u001b[0m\u001b[32m.\u001b[0m\u001b[32m.\u001b[0m\u001b[32m.\u001b[0m\u001b[32m.\u001b[0m\u001b[32m.\u001b[0m\u001b[32m.\u001b[0m\u001b[32m.\u001b[0m\u001b[32m.\u001b[0m\u001b[32m.\u001b[0m\u001b[32m.\u001b[0m\u001b[32m.\u001b[0m\u001b[32m.\u001b[0m\u001b[32m.\u001b[0m\u001b[32m.\u001b[0m\u001b[32m.\u001b[0m\u001b[32m.\u001b[0m\u001b[32m.\u001b[0m\u001b[32m.\u001b[0m\u001b[32m.\u001b[0m\u001b[32m.\u001b[0m\u001b[32m.\u001b[0m\u001b[32m.\u001b[0m\u001b[32m.\u001b[0m\u001b[32m.\u001b[0m\u001b[32m.\u001b[0m\u001b[32m.\u001b[0m\u001b[32m.\u001b[0m\u001b[32m.\u001b[0m\u001b[32m.\u001b[0m\u001b[32m.\u001b[0m\u001b[32m.\u001b[0m\u001b[32m.\u001b[0m\u001b[32m.\u001b[0m\u001b[32m.\u001b[0m\u001b[32m.\u001b[0m\u001b[32m.\u001b[0m\u001b[32m.\u001b[0m\u001b[32m.\u001b[0m\u001b[32m.\u001b[0m\u001b[32m [ 96%]\n",
      "\u001b[0m\u001b[32m.\u001b[0m\u001b[32m.\u001b[0m\u001b[32m.\u001b[0m\u001b[32m.\u001b[0m\u001b[32m.\u001b[0m\u001b[32m.\u001b[0m\u001b[32m.\u001b[0m\u001b[32m.\u001b[0m\u001b[32m.\u001b[0m\u001b[32m.\u001b[0m\u001b[32m.\u001b[0m\u001b[32m.\u001b[0m\u001b[32m.\u001b[0m\u001b[32m.\u001b[0m\u001b[32m.\u001b[0m\u001b[32m.\u001b[0m\u001b[32m.\u001b[0m\u001b[32m.\u001b[0m\u001b[32m.\u001b[0m\u001b[32m.\u001b[0m\u001b[32m.\u001b[0m\u001b[32m.\u001b[0m\u001b[32m.\u001b[0m\u001b[32m.\u001b[0m\u001b[32m.\u001b[0m\u001b[32m.\u001b[0m\u001b[32m.\u001b[0m\u001b[32m.\u001b[0m\u001b[32m.\u001b[0m\u001b[32m.\u001b[0m\u001b[32m.\u001b[0m\u001b[32m                                                              [100%]\u001b[0m\n",
      "\n",
      "\u001b[32m====================================== \u001b[32m\u001b[1m1019 passed\u001b[0m\u001b[32m in 6.39s\u001b[0m\u001b[32m =======================================\u001b[0m\n"
     ]
    }
   ],
   "source": [
    "!pytest --no-header test/test_sensory_nn.py"
   ]
  },
  {
   "attachments": {},
   "cell_type": "markdown",
   "id": "f834c891",
   "metadata": {},
   "source": [
    "### Clase Sensory_system"
   ]
  },
  {
   "cell_type": "code",
   "execution_count": 238,
   "id": "1858d016",
   "metadata": {},
   "outputs": [],
   "source": [
    "from src.sensory_system import Sensory_system"
   ]
  },
  {
   "cell_type": "markdown",
   "id": "82024d5c",
   "metadata": {},
   "source": [
    "def generar_lista_patrones(num_elementos,sense,index):\n",
    "    senses=[\"sight\",\"hearing\",\"smell\",\"taste\",\"touch\",\"body\",\"time\"]\n",
    "    arr_patterns_bce = []\n",
    "    for i in range(num_elementos):\n",
    "        nombre = f\"pattern_{i+index:02d}_{sense}\"\n",
    "        patron = BCE().sample()\n",
    "        arr_patterns_bce.append((nombre, patron))\n",
    "    return arr_patterns_bce\n",
    "\n",
    "def generar_lista_eventos(num_elementos,sense,index):\n",
    "    senses=[\"sight\",\"hearing\",\"smell\",\"taste\",\"touch\",\"body\",\"time\"]\n",
    "    arr_events_bce = []\n",
    "    for i in range(num_elementos):\n",
    "        nombre = f\"{random.choice(arr_patterns_bce[senses.index(sense)])[0]}:event_{i+index:02d}_{sense}\"\n",
    "        patron = BCE().sample()\n",
    "        arr_events_bce.append((nombre,patron))\n",
    "    return arr_events_bce\n",
    "\n",
    "def gen_arr_patterns_bce(num_items,index):\n",
    "    senses=[\"sight\",\"hearing\",\"smell\",\"taste\",\"touch\",\"body\",\"time\"]\n",
    "    arr_patterns_bce = []\n",
    "    for sense in senses:\n",
    "        arr_patterns_bce.append(generar_lista_patrones(num_items,sense,index))\n",
    "    return arr_patterns_bce\n",
    "\n",
    "def gen_arr_events_bce(num_items,index):\n",
    "    senses=[\"sight\",\"hearing\",\"smell\",\"taste\",\"touch\",\"body\",\"time\"]\n",
    "    arr_patterns_bce = []\n",
    "    for sense in senses:\n",
    "        arr_patterns_bce.append(generar_lista_eventos(num_items,sense,index))\n",
    "    return arr_patterns_bce\n",
    "\n",
    "senses=[\"sight\",\"hearing\",\"smell\",\"taste\",\"touch\",\"body\",\"time\"]\n",
    "\n",
    "arr_patterns_bce=gen_arr_patterns_bce(2,0)\n",
    "arr_events_bce2=gen_arr_events_bce(2,0)\n",
    "\n",
    "\n",
    "events_bce_00 = [sensory_events[0] for sensory_events in arr_events_bce2]\n",
    "\n",
    "event_00 = [tupla[0] for tupla in events_bce_00]\n",
    "bce_00 = [tupla[1] for tupla in events_bce_00]\n",
    "\n",
    "#print(arr_patterns_bce)\n",
    "\n",
    "instance=Sensory_system()\n",
    "instance.init_patterns(arr_patterns_bce)\n",
    "print(instance.set_event(event_00))\n",
    "#print(instance.update_neuron(bce_00))\n"
   ]
  },
  {
   "cell_type": "code",
   "execution_count": 205,
   "id": "48b6efc5",
   "metadata": {},
   "outputs": [],
   "source": [
    "# Generación de valores aleatorios para los patrones\n",
    "num_patterns = 1000  # Número de patrones\n",
    "\n",
    "senses=[\"sight\",\"hearing\",\"smell\",\"taste\",\"touch\",\"body\",\"time\"]\n",
    "# Generar casos de prueba para pytest.mark.parametrize\n",
    "\n",
    "# Crear lista de patrones con valores BCE aleatorios\n",
    "\n",
    "arr_patternes_7_senses = []\n",
    "for sense in senses:\n",
    "    arr_patternes_bce = []\n",
    "    for i in range(num_patterns):\n",
    "        pattern_name = f\"{sense}_pattern_{i:02d}\"\n",
    "        bce_value = BCE().sample()\n",
    "        arr_patternes_bce.append((pattern_name, bce_value, i))\n",
    "    arr_patternes_7_senses.append(arr_patternes_bce)\n",
    "\n",
    "# Lista de eventos aleatorios\n",
    "event_list_7_senses=[]\n",
    "for i, sense in enumerate(senses):\n",
    "    #print(sense,i)\n",
    "    events_list = [(f\"{random.choice(arr_patternes_7_senses[i])[0]}:{sense}_event_{random.randint(0, 99):02d}\",BCE().sample()) for _ in range(num_patterns//2)]\n",
    "    events_list2 = [(f\"{random.choice(arr_patternes_7_senses[i])[0]}:{random.choice(arr_patternes_7_senses[i])[0]}\",BCE().sample()) for _ in range(num_patterns//2)]\n",
    "    events_list+=events_list2\n",
    "    event_list_7_senses.append(events_list)\n",
    "\n",
    "\n",
    "num_test_cases = num_patterns\n",
    "\n",
    "parameters_sensory_system_behavior = []\n",
    "\n",
    "for i in range(num_test_cases):\n",
    "\n",
    "    list_arr_sense=[]\n",
    "    list_pattern_event=[]\n",
    "    list_bce_event=[]\n",
    "    list_output=[]\n",
    "    \n",
    "    for index_sense, sense in enumerate(senses):\n",
    "        pattern = event_list_7_senses[index_sense][i][0].split(':')[0]\n",
    "        event = event_list_7_senses[index_sense][i][0].split(':')[1]\n",
    "        bce_pattern = next((data for p, data, _ in arr_patternes_7_senses[index_sense] if p == pattern ), None)\n",
    "        bce_event = event_list_7_senses[index_sense][i][1]\n",
    "        index = next((index for e, _, index in arr_patternes_7_senses[index_sense] if e == event), len(arr_patternes_7_senses[index_sense]))\n",
    "        \n",
    "        combined_info = [\n",
    "            index,  # Índice del elemento seleccionado de pattern\n",
    "            BCE.average(bce_event, bce_pattern) if index == len(arr_patternes_7_senses[index_sense]) else arr_patternes_7_senses[index_sense][index][1],\n",
    "            pattern if index == len(arr_patternes_7_senses[index_sense]) else '',  # El pattern seleccionado\n",
    "            event,       # El evento seleccionado\n",
    "            sense\n",
    "        ]\n",
    "        pattern_event = f\"{pattern}:{event}\"\n",
    "        output = combined_info\n",
    "        arr_patternes_bce_2 = [(pattern, bce_value) for pattern, bce_value, _ in arr_patternes_7_senses[index_sense]]\n",
    "\n",
    "        list_arr_sense.append(arr_patternes_bce_2)\n",
    "        list_pattern_event.append(pattern_event)\n",
    "        list_bce_event.append(bce_event)\n",
    "        list_output.append(output)\n",
    "\n",
    "\n",
    "    parameters_sensory_system_behavior.append((list_arr_sense,list_pattern_event,list_bce_event,list_output))\n",
    "\n",
    "\n",
    "\n",
    "   "
   ]
  },
  {
   "cell_type": "code",
   "execution_count": 206,
   "id": "31cf3e19",
   "metadata": {},
   "outputs": [
    {
     "name": "stdout",
     "output_type": "stream",
     "text": [
      "\u001b[1m======================================= test session starts =======================================\u001b[0m\n",
      "collected 1000 items\n",
      "\n",
      "t_6e163d0322154d9285cf2ac85a374487.py \u001b[32m                                                       [100%]\u001b[0m\n",
      "\n",
      "\u001b[32m====================================== \u001b[32m\u001b[1m1000 passed\u001b[0m\u001b[32m in 16.66s\u001b[0m\u001b[32m ======================================\u001b[0m\n"
     ]
    }
   ],
   "source": [
    "%%ipytest -v --no-header --report-passed=\"\"\n",
    "\n",
    "\n",
    "@pytest.fixture\n",
    "def sensory_system():\n",
    "    return Sensory_system()\n",
    "\n",
    "\n",
    "@pytest.mark.parametrize(\"arr_patterns_bce, pattern_events, bce_event, expected_output\", parameters_sensory_system_behavior)\n",
    "def test_sensory_system_behavior(sensory_system, arr_patterns_bce, pattern_events, bce_event, expected_output):\n",
    "    sensory_system.init_patterns(arr_patterns_bce)\n",
    "    sensory_system.set_event(pattern_events)\n",
    "    output = sensory_system.update_neuron(bce_event)\n",
    "\n",
    "    assert output == expected_output"
   ]
  },
  {
   "cell_type": "markdown",
   "id": "5329fe9b",
   "metadata": {},
   "source": [
    "### Pruebas Unitarias Sensory_system"
   ]
  },
  {
   "cell_type": "code",
   "execution_count": 239,
   "id": "0ec6e2c1",
   "metadata": {},
   "outputs": [
    {
     "name": "stdout",
     "output_type": "stream",
     "text": [
      "\u001b[1m======================================= test session starts =======================================\u001b[0m\n",
      "collected 1002 items\n",
      "\n",
      "test\\test_sensory_system.py \u001b[32m.\u001b[0m\u001b[32m.\u001b[0m\u001b[32m.\u001b[0m\u001b[32m.\u001b[0m\u001b[32m.\u001b[0m\u001b[32m.\u001b[0m\u001b[32m.\u001b[0m\u001b[32m.\u001b[0m\u001b[32m.\u001b[0m\u001b[32m.\u001b[0m\u001b[32m.\u001b[0m\u001b[32m.\u001b[0m\u001b[32m.\u001b[0m\u001b[32m.\u001b[0m\u001b[32m.\u001b[0m\u001b[32m.\u001b[0m\u001b[32m.\u001b[0m\u001b[32m.\u001b[0m\u001b[32m.\u001b[0m\u001b[32m.\u001b[0m\u001b[32m.\u001b[0m\u001b[32m.\u001b[0m\u001b[32m.\u001b[0m\u001b[32m.\u001b[0m\u001b[32m.\u001b[0m\u001b[32m.\u001b[0m\u001b[32m.\u001b[0m\u001b[32m.\u001b[0m\u001b[32m.\u001b[0m\u001b[32m.\u001b[0m\u001b[32m.\u001b[0m\u001b[32m.\u001b[0m\u001b[32m.\u001b[0m\u001b[32m.\u001b[0m\u001b[32m.\u001b[0m\u001b[32m.\u001b[0m\u001b[32m.\u001b[0m\u001b[32m.\u001b[0m\u001b[32m.\u001b[0m\u001b[32m.\u001b[0m\u001b[32m.\u001b[0m\u001b[32m.\u001b[0m\u001b[32m.\u001b[0m\u001b[32m.\u001b[0m\u001b[32m.\u001b[0m\u001b[32m.\u001b[0m\u001b[32m.\u001b[0m\u001b[32m.\u001b[0m\u001b[32m.\u001b[0m\u001b[32m.\u001b[0m\u001b[32m.\u001b[0m\u001b[32m.\u001b[0m\u001b[32m.\u001b[0m\u001b[32m.\u001b[0m\u001b[32m.\u001b[0m\u001b[32m.\u001b[0m\u001b[32m.\u001b[0m\u001b[32m.\u001b[0m\u001b[32m.\u001b[0m\u001b[32m.\u001b[0m\u001b[32m.\u001b[0m\u001b[32m.\u001b[0m\u001b[32m.\u001b[0m\u001b[32m.\u001b[0m\u001b[32m [  6%]\n",
      "\u001b[0m\u001b[32m.\u001b[0m\u001b[32m.\u001b[0m\u001b[32m.\u001b[0m\u001b[32m.\u001b[0m\u001b[32m.\u001b[0m\u001b[32m.\u001b[0m\u001b[32m.\u001b[0m\u001b[32m.\u001b[0m\u001b[32m.\u001b[0m\u001b[32m.\u001b[0m\u001b[32m.\u001b[0m\u001b[32m.\u001b[0m\u001b[32m.\u001b[0m\u001b[32m.\u001b[0m\u001b[32m.\u001b[0m\u001b[32m.\u001b[0m\u001b[32m.\u001b[0m\u001b[32m.\u001b[0m\u001b[32m.\u001b[0m\u001b[32m.\u001b[0m\u001b[32m.\u001b[0m\u001b[32m.\u001b[0m\u001b[32m.\u001b[0m\u001b[32m.\u001b[0m\u001b[32m.\u001b[0m\u001b[32m.\u001b[0m\u001b[32m.\u001b[0m\u001b[32m.\u001b[0m\u001b[32m.\u001b[0m\u001b[32m.\u001b[0m\u001b[32m.\u001b[0m\u001b[32m.\u001b[0m\u001b[32m.\u001b[0m\u001b[32m.\u001b[0m\u001b[32m.\u001b[0m\u001b[32m.\u001b[0m\u001b[32m.\u001b[0m\u001b[32m.\u001b[0m\u001b[32m.\u001b[0m\u001b[32m.\u001b[0m\u001b[32m.\u001b[0m\u001b[32m.\u001b[0m\u001b[32m.\u001b[0m\u001b[32m.\u001b[0m\u001b[32m.\u001b[0m\u001b[32m.\u001b[0m\u001b[32m.\u001b[0m\u001b[32m.\u001b[0m\u001b[32m.\u001b[0m\u001b[32m.\u001b[0m\u001b[32m.\u001b[0m\u001b[32m.\u001b[0m\u001b[32m.\u001b[0m\u001b[32m.\u001b[0m\u001b[32m.\u001b[0m\u001b[32m.\u001b[0m\u001b[32m.\u001b[0m\u001b[32m.\u001b[0m\u001b[32m.\u001b[0m\u001b[32m.\u001b[0m\u001b[32m.\u001b[0m\u001b[32m.\u001b[0m\u001b[32m.\u001b[0m\u001b[32m.\u001b[0m\u001b[32m.\u001b[0m\u001b[32m.\u001b[0m\u001b[32m.\u001b[0m\u001b[32m.\u001b[0m\u001b[32m.\u001b[0m\u001b[32m.\u001b[0m\u001b[32m.\u001b[0m\u001b[32m.\u001b[0m\u001b[32m.\u001b[0m\u001b[32m.\u001b[0m\u001b[32m.\u001b[0m\u001b[32m.\u001b[0m\u001b[32m.\u001b[0m\u001b[32m.\u001b[0m\u001b[32m.\u001b[0m\u001b[32m.\u001b[0m\u001b[32m.\u001b[0m\u001b[32m.\u001b[0m\u001b[32m.\u001b[0m\u001b[32m.\u001b[0m\u001b[32m.\u001b[0m\u001b[32m.\u001b[0m\u001b[32m.\u001b[0m\u001b[32m.\u001b[0m\u001b[32m.\u001b[0m\u001b[32m.\u001b[0m\u001b[32m.\u001b[0m\u001b[32m.\u001b[0m\u001b[32m [ 15%]\n",
      "\u001b[0m\u001b[32m.\u001b[0m\u001b[32m.\u001b[0m\u001b[32m.\u001b[0m\u001b[32m.\u001b[0m\u001b[32m.\u001b[0m\u001b[32m.\u001b[0m\u001b[32m.\u001b[0m\u001b[32m.\u001b[0m\u001b[32m.\u001b[0m\u001b[32m.\u001b[0m\u001b[32m.\u001b[0m\u001b[32m.\u001b[0m\u001b[32m.\u001b[0m\u001b[32m.\u001b[0m\u001b[32m.\u001b[0m\u001b[32m.\u001b[0m\u001b[32m.\u001b[0m\u001b[32m.\u001b[0m\u001b[32m.\u001b[0m\u001b[32m.\u001b[0m\u001b[32m.\u001b[0m\u001b[32m.\u001b[0m\u001b[32m.\u001b[0m\u001b[32m.\u001b[0m\u001b[32m.\u001b[0m\u001b[32m.\u001b[0m\u001b[32m.\u001b[0m\u001b[32m.\u001b[0m\u001b[32m.\u001b[0m\u001b[32m.\u001b[0m\u001b[32m.\u001b[0m\u001b[32m.\u001b[0m\u001b[32m.\u001b[0m\u001b[32m.\u001b[0m\u001b[32m.\u001b[0m\u001b[32m.\u001b[0m\u001b[32m.\u001b[0m\u001b[32m.\u001b[0m\u001b[32m.\u001b[0m\u001b[32m.\u001b[0m\u001b[32m.\u001b[0m\u001b[32m.\u001b[0m\u001b[32m.\u001b[0m\u001b[32m.\u001b[0m\u001b[32m.\u001b[0m\u001b[32m.\u001b[0m\u001b[32m.\u001b[0m\u001b[32m.\u001b[0m\u001b[32m.\u001b[0m\u001b[32m.\u001b[0m\u001b[32m.\u001b[0m\u001b[32m.\u001b[0m\u001b[32m.\u001b[0m\u001b[32m.\u001b[0m\u001b[32m.\u001b[0m\u001b[32m.\u001b[0m\u001b[32m.\u001b[0m\u001b[32m.\u001b[0m\u001b[32m.\u001b[0m\u001b[32m.\u001b[0m\u001b[32m.\u001b[0m\u001b[32m.\u001b[0m\u001b[32m.\u001b[0m\u001b[32m.\u001b[0m\u001b[32m.\u001b[0m\u001b[32m.\u001b[0m\u001b[32m.\u001b[0m\u001b[32m.\u001b[0m\u001b[32m.\u001b[0m\u001b[32m.\u001b[0m\u001b[32m.\u001b[0m\u001b[32m.\u001b[0m\u001b[32m.\u001b[0m\u001b[32m.\u001b[0m\u001b[32m.\u001b[0m\u001b[32m.\u001b[0m\u001b[32m.\u001b[0m\u001b[32m.\u001b[0m\u001b[32m.\u001b[0m\u001b[32m.\u001b[0m\u001b[32m.\u001b[0m\u001b[32m.\u001b[0m\u001b[32m.\u001b[0m\u001b[32m.\u001b[0m\u001b[32m.\u001b[0m\u001b[32m.\u001b[0m\u001b[32m.\u001b[0m\u001b[32m.\u001b[0m\u001b[32m.\u001b[0m\u001b[32m.\u001b[0m\u001b[32m.\u001b[0m\u001b[32m.\u001b[0m\u001b[32m [ 24%]\n",
      "\u001b[0m\u001b[32m.\u001b[0m\u001b[32m.\u001b[0m\u001b[32m.\u001b[0m\u001b[32m.\u001b[0m\u001b[32m.\u001b[0m\u001b[32m.\u001b[0m\u001b[32m.\u001b[0m\u001b[32m.\u001b[0m\u001b[32m.\u001b[0m\u001b[32m.\u001b[0m\u001b[32m.\u001b[0m\u001b[32m.\u001b[0m\u001b[32m.\u001b[0m\u001b[32m.\u001b[0m\u001b[32m.\u001b[0m\u001b[32m.\u001b[0m\u001b[32m.\u001b[0m\u001b[32m.\u001b[0m\u001b[32m.\u001b[0m\u001b[32m.\u001b[0m\u001b[32m.\u001b[0m\u001b[32m.\u001b[0m\u001b[32m.\u001b[0m\u001b[32m.\u001b[0m\u001b[32m.\u001b[0m\u001b[32m.\u001b[0m\u001b[32m.\u001b[0m\u001b[32m.\u001b[0m\u001b[32m.\u001b[0m\u001b[32m.\u001b[0m\u001b[32m.\u001b[0m\u001b[32m.\u001b[0m\u001b[32m.\u001b[0m\u001b[32m.\u001b[0m\u001b[32m.\u001b[0m\u001b[32m.\u001b[0m\u001b[32m.\u001b[0m\u001b[32m.\u001b[0m\u001b[32m.\u001b[0m\u001b[32m.\u001b[0m\u001b[32m.\u001b[0m\u001b[32m.\u001b[0m\u001b[32m.\u001b[0m\u001b[32m.\u001b[0m\u001b[32m.\u001b[0m\u001b[32m.\u001b[0m\u001b[32m.\u001b[0m\u001b[32m.\u001b[0m\u001b[32m.\u001b[0m\u001b[32m.\u001b[0m\u001b[32m.\u001b[0m\u001b[32m.\u001b[0m\u001b[32m.\u001b[0m\u001b[32m.\u001b[0m\u001b[32m.\u001b[0m\u001b[32m.\u001b[0m\u001b[32m.\u001b[0m\u001b[32m.\u001b[0m\u001b[32m.\u001b[0m\u001b[32m.\u001b[0m\u001b[32m.\u001b[0m\u001b[32m.\u001b[0m\u001b[32m.\u001b[0m\u001b[32m.\u001b[0m\u001b[32m.\u001b[0m\u001b[32m.\u001b[0m\u001b[32m.\u001b[0m\u001b[32m.\u001b[0m\u001b[32m.\u001b[0m\u001b[32m.\u001b[0m\u001b[32m.\u001b[0m\u001b[32m.\u001b[0m\u001b[32m.\u001b[0m\u001b[32m.\u001b[0m\u001b[32m.\u001b[0m\u001b[32m.\u001b[0m\u001b[32m.\u001b[0m\u001b[32m.\u001b[0m\u001b[32m.\u001b[0m\u001b[32m.\u001b[0m\u001b[32m.\u001b[0m\u001b[32m.\u001b[0m\u001b[32m.\u001b[0m\u001b[32m.\u001b[0m\u001b[32m.\u001b[0m\u001b[32m.\u001b[0m\u001b[32m.\u001b[0m\u001b[32m.\u001b[0m\u001b[32m.\u001b[0m\u001b[32m.\u001b[0m\u001b[32m.\u001b[0m\u001b[32m.\u001b[0m\u001b[32m [ 33%]\n",
      "\u001b[0m\u001b[32m.\u001b[0m\u001b[32m.\u001b[0m\u001b[32m.\u001b[0m\u001b[32m.\u001b[0m\u001b[32m.\u001b[0m\u001b[32m.\u001b[0m\u001b[32m.\u001b[0m\u001b[32m.\u001b[0m\u001b[32m.\u001b[0m\u001b[32m.\u001b[0m\u001b[32m.\u001b[0m\u001b[32m.\u001b[0m\u001b[32m.\u001b[0m\u001b[32m.\u001b[0m\u001b[32m.\u001b[0m\u001b[32m.\u001b[0m\u001b[32m.\u001b[0m\u001b[32m.\u001b[0m\u001b[32m.\u001b[0m\u001b[32m.\u001b[0m\u001b[32m.\u001b[0m\u001b[32m.\u001b[0m\u001b[32m.\u001b[0m\u001b[32m.\u001b[0m\u001b[32m.\u001b[0m\u001b[32m.\u001b[0m\u001b[32m.\u001b[0m\u001b[32m.\u001b[0m\u001b[32m.\u001b[0m\u001b[32m.\u001b[0m\u001b[32m.\u001b[0m\u001b[32m.\u001b[0m\u001b[32m.\u001b[0m\u001b[32m.\u001b[0m\u001b[32m.\u001b[0m\u001b[32m.\u001b[0m\u001b[32m.\u001b[0m\u001b[32m.\u001b[0m\u001b[32m.\u001b[0m\u001b[32m.\u001b[0m\u001b[32m.\u001b[0m\u001b[32m.\u001b[0m\u001b[32m.\u001b[0m\u001b[32m.\u001b[0m\u001b[32m.\u001b[0m\u001b[32m.\u001b[0m\u001b[32m.\u001b[0m\u001b[32m.\u001b[0m\u001b[32m.\u001b[0m\u001b[32m.\u001b[0m\u001b[32m.\u001b[0m\u001b[32m.\u001b[0m\u001b[32m.\u001b[0m\u001b[32m.\u001b[0m\u001b[32m.\u001b[0m\u001b[32m.\u001b[0m\u001b[32m.\u001b[0m\u001b[32m.\u001b[0m\u001b[32m.\u001b[0m\u001b[32m.\u001b[0m\u001b[32m.\u001b[0m\u001b[32m.\u001b[0m\u001b[32m.\u001b[0m\u001b[32m.\u001b[0m\u001b[32m.\u001b[0m\u001b[32m.\u001b[0m\u001b[32m.\u001b[0m\u001b[32m.\u001b[0m\u001b[32m.\u001b[0m\u001b[32m.\u001b[0m\u001b[32m.\u001b[0m\u001b[32m.\u001b[0m\u001b[32m.\u001b[0m\u001b[32m.\u001b[0m\u001b[32m.\u001b[0m\u001b[32m.\u001b[0m\u001b[32m.\u001b[0m\u001b[32m.\u001b[0m\u001b[32m.\u001b[0m\u001b[32m.\u001b[0m\u001b[32m.\u001b[0m\u001b[32m.\u001b[0m\u001b[32m.\u001b[0m\u001b[32m.\u001b[0m\u001b[32m.\u001b[0m\u001b[32m.\u001b[0m\u001b[32m.\u001b[0m\u001b[32m.\u001b[0m\u001b[32m.\u001b[0m\u001b[32m.\u001b[0m\u001b[32m.\u001b[0m\u001b[32m.\u001b[0m\u001b[32m [ 43%]\n",
      "\u001b[0m\u001b[32m.\u001b[0m\u001b[32m.\u001b[0m\u001b[32m.\u001b[0m\u001b[32m.\u001b[0m\u001b[32m.\u001b[0m\u001b[32m.\u001b[0m\u001b[32m.\u001b[0m\u001b[32m.\u001b[0m\u001b[32m.\u001b[0m\u001b[32m.\u001b[0m\u001b[32m.\u001b[0m\u001b[32m.\u001b[0m\u001b[32m.\u001b[0m\u001b[32m.\u001b[0m\u001b[32m.\u001b[0m\u001b[32m.\u001b[0m\u001b[32m.\u001b[0m\u001b[32m.\u001b[0m\u001b[32m.\u001b[0m\u001b[32m.\u001b[0m\u001b[32m.\u001b[0m\u001b[32m.\u001b[0m\u001b[32m.\u001b[0m\u001b[32m.\u001b[0m\u001b[32m.\u001b[0m\u001b[32m.\u001b[0m\u001b[32m.\u001b[0m\u001b[32m.\u001b[0m\u001b[32m.\u001b[0m\u001b[32m.\u001b[0m\u001b[32m.\u001b[0m\u001b[32m.\u001b[0m\u001b[32m.\u001b[0m\u001b[32m.\u001b[0m\u001b[32m.\u001b[0m\u001b[32m.\u001b[0m\u001b[32m.\u001b[0m\u001b[32m.\u001b[0m\u001b[32m.\u001b[0m\u001b[32m.\u001b[0m\u001b[32m.\u001b[0m\u001b[32m.\u001b[0m\u001b[32m.\u001b[0m\u001b[32m.\u001b[0m\u001b[32m.\u001b[0m\u001b[32m.\u001b[0m\u001b[32m.\u001b[0m\u001b[32m.\u001b[0m\u001b[32m.\u001b[0m\u001b[32m.\u001b[0m\u001b[32m.\u001b[0m\u001b[32m.\u001b[0m\u001b[32m.\u001b[0m\u001b[32m.\u001b[0m\u001b[32m.\u001b[0m\u001b[32m.\u001b[0m\u001b[32m.\u001b[0m\u001b[32m.\u001b[0m\u001b[32m.\u001b[0m\u001b[32m.\u001b[0m\u001b[32m.\u001b[0m\u001b[32m.\u001b[0m\u001b[32m.\u001b[0m\u001b[32m.\u001b[0m\u001b[32m.\u001b[0m\u001b[32m.\u001b[0m\u001b[32m.\u001b[0m\u001b[32m.\u001b[0m\u001b[32m.\u001b[0m\u001b[32m.\u001b[0m\u001b[32m.\u001b[0m\u001b[32m.\u001b[0m\u001b[32m.\u001b[0m\u001b[32m.\u001b[0m\u001b[32m.\u001b[0m\u001b[32m.\u001b[0m\u001b[32m.\u001b[0m\u001b[32m.\u001b[0m\u001b[32m.\u001b[0m\u001b[32m.\u001b[0m\u001b[32m.\u001b[0m\u001b[32m.\u001b[0m\u001b[32m.\u001b[0m\u001b[32m.\u001b[0m\u001b[32m.\u001b[0m\u001b[32m.\u001b[0m\u001b[32m.\u001b[0m\u001b[32m.\u001b[0m\u001b[32m.\u001b[0m\u001b[32m.\u001b[0m\u001b[32m.\u001b[0m\u001b[32m.\u001b[0m\u001b[32m [ 52%]\n",
      "\u001b[0m\u001b[32m.\u001b[0m\u001b[32m.\u001b[0m\u001b[32m.\u001b[0m\u001b[32m.\u001b[0m\u001b[32m.\u001b[0m\u001b[32m.\u001b[0m\u001b[32m.\u001b[0m\u001b[32m.\u001b[0m\u001b[32m.\u001b[0m\u001b[32m.\u001b[0m\u001b[32m.\u001b[0m\u001b[32m.\u001b[0m\u001b[32m.\u001b[0m\u001b[32m.\u001b[0m\u001b[32m.\u001b[0m\u001b[32m.\u001b[0m\u001b[32m.\u001b[0m\u001b[32m.\u001b[0m\u001b[32m.\u001b[0m\u001b[32m.\u001b[0m\u001b[32m.\u001b[0m\u001b[32m.\u001b[0m\u001b[32m.\u001b[0m\u001b[32m.\u001b[0m\u001b[32m.\u001b[0m\u001b[32m.\u001b[0m\u001b[32m.\u001b[0m\u001b[32m.\u001b[0m\u001b[32m.\u001b[0m\u001b[32m.\u001b[0m\u001b[32m.\u001b[0m\u001b[32m.\u001b[0m\u001b[32m.\u001b[0m\u001b[32m.\u001b[0m\u001b[32m.\u001b[0m\u001b[32m.\u001b[0m\u001b[32m.\u001b[0m\u001b[32m.\u001b[0m\u001b[32m.\u001b[0m\u001b[32m.\u001b[0m\u001b[32m.\u001b[0m\u001b[32m.\u001b[0m\u001b[32m.\u001b[0m\u001b[32m.\u001b[0m\u001b[32m.\u001b[0m\u001b[32m.\u001b[0m\u001b[32m.\u001b[0m\u001b[32m.\u001b[0m\u001b[32m.\u001b[0m\u001b[32m.\u001b[0m\u001b[32m.\u001b[0m\u001b[32m.\u001b[0m\u001b[32m.\u001b[0m\u001b[32m.\u001b[0m\u001b[32m.\u001b[0m\u001b[32m.\u001b[0m\u001b[32m.\u001b[0m\u001b[32m.\u001b[0m\u001b[32m.\u001b[0m\u001b[32m.\u001b[0m\u001b[32m.\u001b[0m\u001b[32m.\u001b[0m\u001b[32m.\u001b[0m\u001b[32m.\u001b[0m\u001b[32m.\u001b[0m\u001b[32m.\u001b[0m\u001b[32m.\u001b[0m\u001b[32m.\u001b[0m\u001b[32m.\u001b[0m\u001b[32m.\u001b[0m\u001b[32m.\u001b[0m\u001b[32m.\u001b[0m\u001b[32m.\u001b[0m\u001b[32m.\u001b[0m\u001b[32m.\u001b[0m\u001b[32m.\u001b[0m\u001b[32m.\u001b[0m\u001b[32m.\u001b[0m\u001b[32m.\u001b[0m\u001b[32m.\u001b[0m\u001b[32m.\u001b[0m\u001b[32m.\u001b[0m\u001b[32m.\u001b[0m\u001b[32m.\u001b[0m\u001b[32m.\u001b[0m\u001b[32m.\u001b[0m\u001b[32m.\u001b[0m\u001b[32m.\u001b[0m\u001b[32m.\u001b[0m\u001b[32m.\u001b[0m\u001b[32m.\u001b[0m\u001b[32m.\u001b[0m\u001b[32m [ 61%]\n",
      "\u001b[0m\u001b[32m.\u001b[0m\u001b[32m.\u001b[0m\u001b[32m.\u001b[0m\u001b[32m.\u001b[0m\u001b[32m.\u001b[0m\u001b[32m.\u001b[0m\u001b[32m.\u001b[0m\u001b[32m.\u001b[0m\u001b[32m.\u001b[0m\u001b[32m.\u001b[0m\u001b[32m.\u001b[0m\u001b[32m.\u001b[0m\u001b[32m.\u001b[0m\u001b[32m.\u001b[0m\u001b[32m.\u001b[0m\u001b[32m.\u001b[0m\u001b[32m.\u001b[0m\u001b[32m.\u001b[0m\u001b[32m.\u001b[0m\u001b[32m.\u001b[0m\u001b[32m.\u001b[0m\u001b[32m.\u001b[0m\u001b[32m.\u001b[0m\u001b[32m.\u001b[0m\u001b[32m.\u001b[0m\u001b[32m.\u001b[0m\u001b[32m.\u001b[0m\u001b[32m.\u001b[0m\u001b[32m.\u001b[0m\u001b[32m.\u001b[0m\u001b[32m.\u001b[0m\u001b[32m.\u001b[0m\u001b[32m.\u001b[0m\u001b[32m.\u001b[0m\u001b[32m.\u001b[0m\u001b[32m.\u001b[0m\u001b[32m.\u001b[0m\u001b[32m.\u001b[0m\u001b[32m.\u001b[0m\u001b[32m.\u001b[0m\u001b[32m.\u001b[0m\u001b[32m.\u001b[0m\u001b[32m.\u001b[0m\u001b[32m.\u001b[0m\u001b[32m.\u001b[0m\u001b[32m.\u001b[0m\u001b[32m.\u001b[0m\u001b[32m.\u001b[0m\u001b[32m.\u001b[0m\u001b[32m.\u001b[0m\u001b[32m.\u001b[0m\u001b[32m.\u001b[0m\u001b[32m.\u001b[0m\u001b[32m.\u001b[0m\u001b[32m.\u001b[0m\u001b[32m.\u001b[0m\u001b[32m.\u001b[0m\u001b[32m.\u001b[0m\u001b[32m.\u001b[0m\u001b[32m.\u001b[0m\u001b[32m.\u001b[0m\u001b[32m.\u001b[0m\u001b[32m.\u001b[0m\u001b[32m.\u001b[0m\u001b[32m.\u001b[0m\u001b[32m.\u001b[0m\u001b[32m.\u001b[0m\u001b[32m.\u001b[0m\u001b[32m.\u001b[0m\u001b[32m.\u001b[0m\u001b[32m.\u001b[0m\u001b[32m.\u001b[0m\u001b[32m.\u001b[0m\u001b[32m.\u001b[0m\u001b[32m.\u001b[0m\u001b[32m.\u001b[0m\u001b[32m.\u001b[0m\u001b[32m.\u001b[0m\u001b[32m.\u001b[0m\u001b[32m.\u001b[0m\u001b[32m.\u001b[0m\u001b[32m.\u001b[0m\u001b[32m.\u001b[0m\u001b[32m.\u001b[0m\u001b[32m.\u001b[0m\u001b[32m.\u001b[0m\u001b[32m.\u001b[0m\u001b[32m.\u001b[0m\u001b[32m.\u001b[0m\u001b[32m.\u001b[0m\u001b[32m.\u001b[0m\u001b[32m.\u001b[0m\u001b[32m [ 70%]\n",
      "\u001b[0m\u001b[32m.\u001b[0m\u001b[32m.\u001b[0m\u001b[32m.\u001b[0m\u001b[32m.\u001b[0m\u001b[32m.\u001b[0m\u001b[32m.\u001b[0m\u001b[32m.\u001b[0m\u001b[32m.\u001b[0m\u001b[32m.\u001b[0m\u001b[32m.\u001b[0m\u001b[32m.\u001b[0m\u001b[32m.\u001b[0m\u001b[32m.\u001b[0m\u001b[32m.\u001b[0m\u001b[32m.\u001b[0m\u001b[32m.\u001b[0m\u001b[32m.\u001b[0m\u001b[32m.\u001b[0m\u001b[32m.\u001b[0m\u001b[32m.\u001b[0m\u001b[32m.\u001b[0m\u001b[32m.\u001b[0m\u001b[32m.\u001b[0m\u001b[32m.\u001b[0m\u001b[32m.\u001b[0m\u001b[32m.\u001b[0m\u001b[32m.\u001b[0m\u001b[32m.\u001b[0m\u001b[32m.\u001b[0m\u001b[32m.\u001b[0m\u001b[32m.\u001b[0m\u001b[32m.\u001b[0m\u001b[32m.\u001b[0m\u001b[32m.\u001b[0m\u001b[32m.\u001b[0m\u001b[32m.\u001b[0m\u001b[32m.\u001b[0m\u001b[32m.\u001b[0m\u001b[32m.\u001b[0m\u001b[32m.\u001b[0m\u001b[32m.\u001b[0m\u001b[32m.\u001b[0m\u001b[32m.\u001b[0m\u001b[32m.\u001b[0m\u001b[32m.\u001b[0m\u001b[32m.\u001b[0m\u001b[32m.\u001b[0m\u001b[32m.\u001b[0m\u001b[32m.\u001b[0m\u001b[32m.\u001b[0m\u001b[32m.\u001b[0m\u001b[32m.\u001b[0m\u001b[32m.\u001b[0m\u001b[32m.\u001b[0m\u001b[32m.\u001b[0m\u001b[32m.\u001b[0m\u001b[32m.\u001b[0m\u001b[32m.\u001b[0m\u001b[32m.\u001b[0m\u001b[32m.\u001b[0m\u001b[32m.\u001b[0m\u001b[32m.\u001b[0m\u001b[32m.\u001b[0m\u001b[32m.\u001b[0m\u001b[32m.\u001b[0m\u001b[32m.\u001b[0m\u001b[32m.\u001b[0m\u001b[32m.\u001b[0m\u001b[32m.\u001b[0m\u001b[32m.\u001b[0m\u001b[32m.\u001b[0m\u001b[32m.\u001b[0m\u001b[32m.\u001b[0m\u001b[32m.\u001b[0m\u001b[32m.\u001b[0m\u001b[32m.\u001b[0m\u001b[32m.\u001b[0m\u001b[32m.\u001b[0m\u001b[32m.\u001b[0m\u001b[32m.\u001b[0m\u001b[32m.\u001b[0m\u001b[32m.\u001b[0m\u001b[32m.\u001b[0m\u001b[32m.\u001b[0m\u001b[32m.\u001b[0m\u001b[32m.\u001b[0m\u001b[32m.\u001b[0m\u001b[32m.\u001b[0m\u001b[32m.\u001b[0m\u001b[32m.\u001b[0m\u001b[32m.\u001b[0m\u001b[32m.\u001b[0m\u001b[32m [ 79%]\n",
      "\u001b[0m\u001b[32m.\u001b[0m\u001b[32m.\u001b[0m\u001b[32m.\u001b[0m\u001b[32m.\u001b[0m\u001b[32m.\u001b[0m\u001b[32m.\u001b[0m\u001b[32m.\u001b[0m\u001b[32m.\u001b[0m\u001b[32m.\u001b[0m\u001b[32m.\u001b[0m\u001b[32m.\u001b[0m\u001b[32m.\u001b[0m\u001b[32m.\u001b[0m\u001b[32m.\u001b[0m\u001b[32m.\u001b[0m\u001b[32m.\u001b[0m\u001b[32m.\u001b[0m\u001b[32m.\u001b[0m\u001b[32m.\u001b[0m\u001b[32m.\u001b[0m\u001b[32m.\u001b[0m\u001b[32m.\u001b[0m\u001b[32m.\u001b[0m\u001b[32m.\u001b[0m\u001b[32m.\u001b[0m\u001b[32m.\u001b[0m\u001b[32m.\u001b[0m\u001b[32m.\u001b[0m\u001b[32m.\u001b[0m\u001b[32m.\u001b[0m\u001b[32m.\u001b[0m\u001b[32m.\u001b[0m\u001b[32m.\u001b[0m\u001b[32m.\u001b[0m\u001b[32m.\u001b[0m\u001b[32m.\u001b[0m\u001b[32m.\u001b[0m\u001b[32m.\u001b[0m\u001b[32m.\u001b[0m\u001b[32m.\u001b[0m\u001b[32m.\u001b[0m\u001b[32m.\u001b[0m\u001b[32m.\u001b[0m\u001b[32m.\u001b[0m\u001b[32m.\u001b[0m\u001b[32m.\u001b[0m\u001b[32m.\u001b[0m\u001b[32m.\u001b[0m\u001b[32m.\u001b[0m\u001b[32m.\u001b[0m\u001b[32m.\u001b[0m\u001b[32m.\u001b[0m\u001b[32m.\u001b[0m\u001b[32m.\u001b[0m\u001b[32m.\u001b[0m\u001b[32m.\u001b[0m\u001b[32m.\u001b[0m\u001b[32m.\u001b[0m\u001b[32m.\u001b[0m\u001b[32m.\u001b[0m\u001b[32m.\u001b[0m\u001b[32m.\u001b[0m\u001b[32m.\u001b[0m\u001b[32m.\u001b[0m\u001b[32m.\u001b[0m\u001b[32m.\u001b[0m\u001b[32m.\u001b[0m\u001b[32m.\u001b[0m\u001b[32m.\u001b[0m\u001b[32m.\u001b[0m\u001b[32m.\u001b[0m\u001b[32m.\u001b[0m\u001b[32m.\u001b[0m\u001b[32m.\u001b[0m\u001b[32m.\u001b[0m\u001b[32m.\u001b[0m\u001b[32m.\u001b[0m\u001b[32m.\u001b[0m\u001b[32m.\u001b[0m\u001b[32m.\u001b[0m\u001b[32m.\u001b[0m\u001b[32m.\u001b[0m\u001b[32m.\u001b[0m\u001b[32m.\u001b[0m\u001b[32m.\u001b[0m\u001b[32m.\u001b[0m\u001b[32m.\u001b[0m\u001b[32m.\u001b[0m\u001b[32m.\u001b[0m\u001b[32m.\u001b[0m\u001b[32m.\u001b[0m\u001b[32m.\u001b[0m\u001b[32m [ 89%]\n",
      "\u001b[0m\u001b[32m.\u001b[0m\u001b[32m.\u001b[0m\u001b[32m.\u001b[0m\u001b[32m.\u001b[0m\u001b[32m.\u001b[0m\u001b[32m.\u001b[0m\u001b[32m.\u001b[0m\u001b[32m.\u001b[0m\u001b[32m.\u001b[0m\u001b[32m.\u001b[0m\u001b[32m.\u001b[0m\u001b[32m.\u001b[0m\u001b[32m.\u001b[0m\u001b[32m.\u001b[0m\u001b[32m.\u001b[0m\u001b[32m.\u001b[0m\u001b[32m.\u001b[0m\u001b[32m.\u001b[0m\u001b[32m.\u001b[0m\u001b[32m.\u001b[0m\u001b[32m.\u001b[0m\u001b[32m.\u001b[0m\u001b[32m.\u001b[0m\u001b[32m.\u001b[0m\u001b[32m.\u001b[0m\u001b[32m.\u001b[0m\u001b[32m.\u001b[0m\u001b[32m.\u001b[0m\u001b[32m.\u001b[0m\u001b[32m.\u001b[0m\u001b[32m.\u001b[0m\u001b[32m.\u001b[0m\u001b[32m.\u001b[0m\u001b[32m.\u001b[0m\u001b[32m.\u001b[0m\u001b[32m.\u001b[0m\u001b[32m.\u001b[0m\u001b[32m.\u001b[0m\u001b[32m.\u001b[0m\u001b[32m.\u001b[0m\u001b[32m.\u001b[0m\u001b[32m.\u001b[0m\u001b[32m.\u001b[0m\u001b[32m.\u001b[0m\u001b[32m.\u001b[0m\u001b[32m.\u001b[0m\u001b[32m.\u001b[0m\u001b[32m.\u001b[0m\u001b[32m.\u001b[0m\u001b[32m.\u001b[0m\u001b[32m.\u001b[0m\u001b[32m.\u001b[0m\u001b[32m.\u001b[0m\u001b[32m.\u001b[0m\u001b[32m.\u001b[0m\u001b[32m.\u001b[0m\u001b[32m.\u001b[0m\u001b[32m.\u001b[0m\u001b[32m.\u001b[0m\u001b[32m.\u001b[0m\u001b[32m.\u001b[0m\u001b[32m.\u001b[0m\u001b[32m.\u001b[0m\u001b[32m.\u001b[0m\u001b[32m.\u001b[0m\u001b[32m.\u001b[0m\u001b[32m.\u001b[0m\u001b[32m.\u001b[0m\u001b[32m.\u001b[0m\u001b[32m.\u001b[0m\u001b[32m.\u001b[0m\u001b[32m.\u001b[0m\u001b[32m.\u001b[0m\u001b[32m.\u001b[0m\u001b[32m.\u001b[0m\u001b[32m.\u001b[0m\u001b[32m.\u001b[0m\u001b[32m.\u001b[0m\u001b[32m.\u001b[0m\u001b[32m.\u001b[0m\u001b[32m.\u001b[0m\u001b[32m.\u001b[0m\u001b[32m.\u001b[0m\u001b[32m.\u001b[0m\u001b[32m.\u001b[0m\u001b[32m.\u001b[0m\u001b[32m.\u001b[0m\u001b[32m.\u001b[0m\u001b[32m.\u001b[0m\u001b[32m.\u001b[0m\u001b[32m.\u001b[0m\u001b[32m.\u001b[0m\u001b[32m [ 98%]\n",
      "\u001b[0m\u001b[32m.\u001b[0m\u001b[32m.\u001b[0m\u001b[32m.\u001b[0m\u001b[32m.\u001b[0m\u001b[32m.\u001b[0m\u001b[32m.\u001b[0m\u001b[32m.\u001b[0m\u001b[32m.\u001b[0m\u001b[32m.\u001b[0m\u001b[32m.\u001b[0m\u001b[32m.\u001b[0m\u001b[32m.\u001b[0m\u001b[32m.\u001b[0m\u001b[32m.\u001b[0m\u001b[32m.\u001b[0m\u001b[32m.\u001b[0m\u001b[32m.\u001b[0m\u001b[32m.\u001b[0m\u001b[32m                                                                           [100%]\u001b[0m\n",
      "\n",
      "\u001b[32m====================================== \u001b[32m\u001b[1m1002 passed\u001b[0m\u001b[32m in 16.13s\u001b[0m\u001b[32m ======================================\u001b[0m\n"
     ]
    }
   ],
   "source": [
    "!pytest --no-header test/test_sensory_system.py"
   ]
  },
  {
   "attachments": {},
   "cell_type": "markdown",
   "id": "5c7f04da",
   "metadata": {},
   "source": [
    "### Prueba clase Sensory_system\n"
   ]
  },
  {
   "cell_type": "code",
   "execution_count": null,
   "id": "f2043b2f",
   "metadata": {},
   "outputs": [],
   "source": [
    "rn_senses = Sensory_system()\n",
    "\n",
    "arr_patternes_bce_sight=[(\"pattern_sight_a\",BCE().sample()),(\"pattern_sight_b\",BCE().sample()),(\"pattern_sight_c\",BCE().sample()),(\"pattern_sight_d\",BCE().sample())]\n",
    "arr_patternes_bce_hearing=[(\"pattern_hearing_a\",BCE().sample()),(\"pattern_hearing_b\",BCE().sample()),(\"pattern_hearing_c\",BCE().sample()),(\"pattern_hearing_d\",BCE().sample())]\n",
    "arr_patternes_bce_smell=[(\"pattern_smell_a\",BCE().sample()),(\"pattern_smell_b\",BCE().sample()),(\"pattern_smell_c\",BCE().sample()),(\"pattern_smell_d\",BCE().sample())]\n",
    "arr_patternes_bce_taste=[(\"pattern_taste_a\",BCE().sample()),(\"pattern_taste_b\",BCE().sample()),(\"pattern_taste_c\",BCE().sample()),(\"pattern_taste_d\",BCE().sample())]\n",
    "arr_patternes_bce_touch=[(\"pattern_touch_a\",BCE().sample()),(\"pattern_touch_b\",BCE().sample()),(\"pattern_touch_c\",BCE().sample()),(\"pattern_touch_d\",BCE().sample())]\n",
    "arr_patternes_bce_body=[(\"pattern_body_a\",BCE().sample()),(\"pattern_body_b\",BCE().sample()),(\"pattern_body_c\",BCE().sample()),(\"pattern_body_d\",BCE().sample())]\n",
    "arr_patternes_bce_time=[(\"pattern_time_a\",BCE().sample()),(\"pattern_time_b\",BCE().sample()),(\"pattern_time_c\",BCE().sample()),(\"pattern_time_d\",BCE().sample())]\n",
    "\n",
    "\n",
    "arr_patternes_bce=[arr_patternes_bce_sight,arr_patternes_bce_hearing,arr_patternes_bce_smell,arr_patternes_bce_taste,arr_patternes_bce_touch,arr_patternes_bce_body,arr_patternes_bce_time]\n",
    "\n",
    "sensory_event=(\"pattern_sight_a:Tesis\",\"pattern_hearing_b:Ruido\",\"pattern_smell_c:Cafe_olor\",\"pattern_taste_c:Cafe_taste\",\n",
    "                  \"pattern_touch_a:Textura_silla\",\"pattern_body_b:Neutro\",\"pattern_time_c:Neutro\")\n",
    "bce_sensory_event=[]\n",
    "for event in sensory_event:\n",
    "    bce_sensory_event.append(BCE().sample())\n",
    "\n",
    "rn_senses.init_patterns(arr_patternes_bce)\n",
    "\n",
    "#print(Sensory_system().senses)\n",
    "print(rn_senses.set_event(sensory_event))\n",
    "rn_senses.update_neuron(bce_sensory_event)\n",
    "\n",
    "sensory_event=(\"Tesis:Tesis2\",\"pattern_hearing_b:Musica\",\"pattern_smell_c:cafe_olor\",\"pattern_taste_c:Cafe_taste\",\n",
    "                  \"Textura_silla:Textura_cojin\",\"pattern_body_b:Neutro\",\"pattern_time_c:Neutro2\")\n",
    "\n",
    "for event in sensory_event:\n",
    "    bce_sensory_event.append(BCE().sample())\n",
    "\n",
    "#print(Sensory_system().senses)\n",
    "rn_senses.set_event(sensory_event)\n",
    "rn_senses.update_neuron(bce_sensory_event)\n",
    "\n",
    "sensory_event=(\"Tesis:Tesis3\",\"Musica:Salsa\",\"cafe_olor:azucar\",\"pattern_taste_d:Azufre\",\n",
    "                  \"Textura_silla:Textura_cojin\",\"Neutro:Neutro3\",\"pattern_time_a:Neutro4\")\n",
    "\n",
    "for event in sensory_event:\n",
    "    bce_sensory_event.append(BCE().sample())\n",
    "\n",
    "#print(Sensory_system().senses)\n",
    "rn_senses.set_event(sensory_event)\n",
    "rn_senses.update_neuron(bce_sensory_event)\n",
    "rn_senses.status()\n"
   ]
  },
  {
   "attachments": {},
   "cell_type": "markdown",
   "id": "23d0ff94",
   "metadata": {},
   "source": [
    "## Clase Agent Inteligente\n"
   ]
  },
  {
   "cell_type": "code",
   "execution_count": 4,
   "id": "66abac54",
   "metadata": {},
   "outputs": [],
   "source": [
    "from src.intelligent_agent import Intelligent_agent"
   ]
  },
  {
   "cell_type": "code",
   "execution_count": 8,
   "id": "382837d5",
   "metadata": {},
   "outputs": [
    {
     "data": {
      "text/html": [
       "<pre style=\"white-space:pre;overflow-x:auto;line-height:normal;font-family:Menlo,'DejaVu Sans Mono',consolas,'Courier New',monospace\">len possible_combinations:<span style=\"color: #008080; text-decoration-color: #008080; font-weight: bold\">262144</span>\n",
       "</pre>\n"
      ],
      "text/plain": [
       "len possible_combinations:\u001b[1;36m262144\u001b[0m\n"
      ]
     },
     "metadata": {},
     "output_type": "display_data"
    }
   ],
   "source": [
    "possible_combinations = list(itertools.product([0, 1], range(4), repeat=6))\n",
    "print(f\"len possible_combinations:{len(possible_combinations)}\")\n",
    "\n",
    "\n",
    "parameters_add_bce = []\n",
    "for need in possible_combinations:\n",
    "\n",
    "    current_bce = BCE(Need(*need[0:2]), Need(*need[2:4]), Need(*need[4:6]))\n",
    "    input_bce = BCE(Need(*need[6:8]), Need(*need[8:10]), Need(*need[10:12]))\n",
    "\n",
    "    bce_resul=current_bce+input_bce\n",
    "    \n",
    "\n",
    "    ret_val=(current_bce,input_bce,bce_resul)\n",
    "    parameters_add_bce.append(ret_val)"
   ]
  },
  {
   "cell_type": "markdown",
   "id": "9a39f993",
   "metadata": {},
   "source": [
    "#### Pruebas "
   ]
  },
  {
   "cell_type": "code",
   "execution_count": 9,
   "id": "a6643c38",
   "metadata": {},
   "outputs": [
    {
     "name": "stdout",
     "output_type": "stream",
     "text": [
      "\u001b[1m======================================= test session starts =======================================\u001b[0m\n",
      "collected 262144 items\n",
      "\n",
      "t_a7ee98eca71f4eb5bbafc263c26f11fd.py \u001b[32m                                                       [100%]\u001b[0m\n",
      "\n",
      "\u001b[32m=============================== \u001b[32m\u001b[1m262144 passed\u001b[0m\u001b[32m in 411.48s (0:06:51)\u001b[0m\u001b[32m ================================\u001b[0m\n"
     ]
    }
   ],
   "source": [
    "%%ipytest -v --no-header --report-passed=\"\"\n",
    "\n",
    "@pytest.fixture\n",
    "def agent():\n",
    "    return Intelligent_agent()\n",
    "\n",
    "@pytest.mark.parametrize(\"current_bce, input_bce, expected_status\", parameters_add_bce)\n",
    "def test_add_bce(agent, current_bce, input_bce, expected_status):\n",
    "    agent.status_bce = current_bce\n",
    "    agent.add_bce(input_bce)\n",
    "\n",
    "    assert agent.status() == expected_status\n"
   ]
  },
  {
   "cell_type": "code",
   "execution_count": null,
   "id": "088913c6",
   "metadata": {},
   "outputs": [],
   "source": [
    "%%ipytest\n",
    "\n",
    "@pytest.fixture\n",
    "def agent():\n",
    "    return Intelligent_agent()\n",
    "\n",
    "bce_samples=[]\n",
    "\n",
    "for _ in range(100):\n",
    "    index = _ % 4  # Ciclar entre 0, 1, 2, 3\n",
    "    bce_samples.append([BCE().sample() for _ in range(index)])\n",
    "\n",
    "\n",
    "def calculate_total_sum(bce_list):\n",
    "    total_sum = BCE().zero()\n",
    "    if len(bce_list) == 1:\n",
    "        total_sum += bce_list[0]\n",
    "        return total_sum\n",
    "     \n",
    "    for bce in bce_list:\n",
    "        total_sum += bce\n",
    "    return total_sum\n",
    "\n",
    "cases=[]\n",
    "for i,_ in enumerate(bce_samples):\n",
    "    cases.append((bce_samples[i], calculate_total_sum(bce_samples[i])))\n",
    "\n",
    "@pytest.mark.parametrize(\"bce_values, expected_status\", cases)\n",
    "def test_add_bce(agent, bce_values, expected_status):\n",
    "    for bce_value in bce_values:\n",
    "        agent.add_bce(bce_value)\n",
    "    assert agent.status() == expected_status\n",
    "\n",
    "def test_str_representation(agent):\n",
    "    assert str(agent) == str(agent.status())\n",
    "\n",
    "def test_repr_representation(agent):\n",
    "    assert repr(agent) == str(agent.status())"
   ]
  },
  {
   "cell_type": "code",
   "execution_count": null,
   "id": "e0652f09",
   "metadata": {},
   "outputs": [],
   "source": [
    "intelligent_agent = Intelligent_agent()\n",
    "\n",
    "print(intelligent_agent.add_bce(BCE().sample()))"
   ]
  },
  {
   "attachments": {},
   "cell_type": "markdown",
   "id": "e52202f1",
   "metadata": {},
   "source": [
    "### test de clases Agents\n"
   ]
  },
  {
   "cell_type": "code",
   "execution_count": null,
   "id": "cbc4b980",
   "metadata": {},
   "outputs": [],
   "source": [
    "from src.agent_a import Agent_A\n",
    "from src.agent_maria import Agent_Maria"
   ]
  },
  {
   "cell_type": "code",
   "execution_count": null,
   "metadata": {},
   "outputs": [],
   "source": [
    "generic_pattern_arr = [\"pattern_{:03d}\".format(i) for i in range(99)]\n",
    "print(generic_pattern_arr)\n",
    "\n"
   ]
  },
  {
   "attachments": {},
   "cell_type": "markdown",
   "id": "88eb773f",
   "metadata": {},
   "source": [
    "### Prueba Agents"
   ]
  },
  {
   "cell_type": "code",
   "execution_count": null,
   "id": "29f8ff7b",
   "metadata": {},
   "outputs": [],
   "source": [
    "class Generator():\n",
    "\n",
    "    def __init__(self):\n",
    "        n_items=2\n",
    "        self.generic_pattern_arr=[\"pattern_zero\",\"pattern_zero2\"]+[\"pattern_{:03d}\".format(i) for i in range(n_items)]\n",
    "        self.arr_senses=[\"sight\",\"hearing\",\"smell\",\"taste\",\"touch\",\"body\",\"time\"]\n",
    "        self.generic_event_arr=[\"event_{:03d}\".format(i) for i in range(n_items)]\n",
    "        self.arr_patternes_bce=[]\n",
    "\n",
    "    def gen_patterns(self):\n",
    "        arr_patternes_bce=[]\n",
    "        for sense in self.arr_senses:\n",
    "            arr_senses = []\n",
    "            for pattenr in self.generic_pattern_arr:\n",
    "                if pattenr == \"pattern_zero\" or pattenr == \"pattern_zero2\" and sense != \"time\":\n",
    "                    arr_senses.append([f\"{pattenr}\",BCE().zero()])\n",
    "                elif sense == \"time\":\n",
    "                    arr_senses.append([f\"{pattenr}\",BCE().time_sample()])\n",
    "                else:\n",
    "                    arr_senses.append([f\"{pattenr}\",BCE().sample()])\n",
    "            arr_patternes_bce.append(arr_senses)\n",
    "        self.arr_patternes_bce=arr_patternes_bce\n",
    "        return self.arr_patternes_bce\n",
    "\n",
    "    def gen_event(self):\n",
    "        #self.gen_patterns()\n",
    "        sensory_event=[]\n",
    "        for index, sense in enumerate(self.arr_senses):\n",
    "            pattenr = random.choice(self.arr_patternes_bce[index])[0]\n",
    "            event = random.choice(self.generic_event_arr)\n",
    "            sensory_event.append(f\"{pattenr}:{event}\")\n",
    "        return sensory_event\n",
    "\n",
    "    #gen_event(arr_senses,arr_events,patternes_init)\n",
    "\n",
    "\n",
    "#patternes_init\n"
   ]
  },
  {
   "cell_type": "code",
   "execution_count": null,
   "id": "5c9a0274",
   "metadata": {},
   "outputs": [],
   "source": [
    "gen = Generator()\n",
    "\n",
    "gen.gen_patterns()[0][0]\n",
    "\n",
    "gen.gen_event()"
   ]
  },
  {
   "cell_type": "code",
   "execution_count": null,
   "id": "9a8a92a0",
   "metadata": {},
   "outputs": [],
   "source": [
    "agent = Agent_A()\n",
    "gen  = Generator()\n",
    "\n",
    "generic_event_arr = gen.gen_patterns()\n",
    "\n",
    "patter_edu = [ [[\"educación\",BCE(Need(0,0),Need(0,2),Need(0,1))]],\n",
    "                [[\"musica\",BCE(Need(0,0),Need(0,0),Need(1,2))]],\n",
    "                [[\"cafe\",BCE(Need(0,0),Need(0,0),Need(1,2))]],\n",
    "                [[\"dulce\",BCE(Need(0,0),Need(0,0),Need(1,2))]],\n",
    "                [[\"confortante\",BCE(Need(0,0),Need(0,0),Need(1,2))]],\n",
    "                [[\"saludable\",BCE(Need(0,0),Need(0,0),Need(1,2))]],\n",
    "                [[\"neutro\",BCE(Need(0,0),Need(0,0),Need(1,2))]]]\n",
    "\n",
    "generic_event_arr[0]+=[[\"educación\",BCE(Need(0,0),Need(0,2),Need(0,1))]]\n",
    "generic_event_arr[1]+=[[\"musica\",BCE(Need(0,0),Need(0,0),Need(1,2))]]\n",
    "generic_event_arr[2]+=[[\"cafe\",BCE(Need(0,0),Need(0,0),Need(1,2))]]\n",
    "generic_event_arr[3]+=[[\"dulce\",BCE(Need(0,0),Need(0,0),Need(1,2))]]\n",
    "generic_event_arr[4]+=[[\"confortante\",BCE(Need(0,0),Need(0,0),Need(1,2))]]\n",
    "generic_event_arr[5]+=[[\"saludable\",BCE(Need(0,0),Need(0,0),Need(1,2))]]\n",
    "generic_event_arr[6]+=[[\"neutro\",BCE(Need(0,0),Need(0,0),Need(1,2))]]\n",
    "\n",
    "\n",
    "\n",
    "\n",
    "\n",
    "\n",
    "#print(patter_edu+generic_event_arr)\n",
    "\n",
    "print(patter_edu)\n",
    "for item in generic_event_arr:\n",
    "    print(item)\n",
    "#print(generic_event_arr)\n",
    "agent.init_patterns(generic_event_arr)"
   ]
  },
  {
   "cell_type": "code",
   "execution_count": null,
   "id": "34811929",
   "metadata": {},
   "outputs": [],
   "source": [
    "agent = Agent_A()\n",
    "gen  = Generator()\n",
    "agent_maria=Agent_Maria()\n",
    "\n",
    "\n",
    "generic_patterns_arr = gen.gen_patterns()\n",
    "\n",
    "generic_patterns_arr[0]+=[[\"educación\",BCE(Need(0,0),Need(0,2),Need(0,1))]]\n",
    "generic_patterns_arr[1]+=[[\"infancia\",BCE(Need(0,0),Need(0,0),Need(1,2))],[\"neutro\",BCE(Need(0,0),Need(0,0),Need(0,0))]]\n",
    "generic_patterns_arr[2]+=[[\"cafe\",BCE(Need(0,0),Need(0,0),Need(1,2))]]\n",
    "generic_patterns_arr[3]+=[[\"dulce\",BCE(Need(0,0),Need(0,0),Need(1,2))]]\n",
    "generic_patterns_arr[4]+=[[\"confortante\",BCE(Need(0,0),Need(0,0),Need(1,2))]]\n",
    "generic_patterns_arr[5]+=[[\"saludable\",BCE(Need(0,0),Need(0,0),Need(1,2))]]\n",
    "generic_patterns_arr[6]+=[[\"neutro\",BCE(Need(0,0),Need(0,0),Need(1,2))]]\n",
    "\n",
    "#print(generic_patterns_arr[0])\n",
    "\n",
    "event_0 =[f\"tesis:educación\"] + [f\"ruido:neutro\"] + [\"event_{:03d}\".format(i)+\":\"+random.choice(generic_patterns_arr[i+2])[0] for i in range(5)]\n",
    "event_1 =[f\"tesis:educación\"] + [f\"musica:infancia\"] + [\"event_{:03d}\".format(i)+\":\"+random.choice(generic_patterns_arr[i+2])[0] for i in range(5)]\n",
    "event_2 =[f\"tesis:educación\"] + [f\"musica:infancia\"] + [\"event_{:03d}\".format(i)+\":\"+random.choice(generic_patterns_arr[i+2])[0] for i in range(5)]\n",
    "event_3 =[f\"tesis:educación\"] + [f\"musica:infancia\"] + [\"event_{:03d}\".format(i)+\":\"+random.choice(generic_patterns_arr[i+2])[0] for i in range(5)]\n",
    "event_4 =[f\"tesis:educación\"] + [f\"ruido:neutro\"] + [\"event_{:03d}\".format(i)+\":\"+random.choice(generic_patterns_arr[i+2])[0] for i in range(5)]\n",
    "\n",
    "#print(event_0)\n",
    "#print(gen.gen_event())\n",
    "\n",
    "bce_event_1 = BCE(Need(0,0), Need(0,0), Need(0,1)),BCE(Need(0,0), Need(0,0), Need(0,0)),BCE(),BCE(),BCE(),BCE(),BCE()\n",
    "\n",
    "bce_list = []\n",
    "\n",
    "event_list = [ event_0, event_1, event_2, event_3, event_4]\n",
    "\n",
    "break_loop = False\n",
    "for i in range(10):\n",
    "    pass\n",
    "    #agent.set_event()\n",
    "#print(len(event_1))\n",
    "\n",
    "agent.init_patterns(generic_patterns_arr)\n",
    "\n",
    "\n",
    "agent.set_event(event_0)\n",
    "arr_bce = agent_maria.comparator(agent.status_ai_bce())\n",
    "bce_7 = agent.update_neuron(arr_bce)\n",
    "#bce_to_add = agent_maria.general_evaluator_bce(bce_7)[0][1]\n",
    "#print(bce_7)\n",
    "#agent_maria.general_evaluator_bce(bce_7)[0][1]\n",
    "\n",
    "\n",
    "agent.init_patterns(gen.gen_patterns())\n",
    "\n",
    "print(agent.status_ai_bce())\n",
    "\n",
    "\n",
    "agent.set_event(gen.gen_event())\n",
    "arr_bce = agent_maria.comparator(agent.status_ai_bce())\n",
    "bce_7 = agent.update_neuron(arr_bce)\n",
    "bce_to_add = agent_maria.general_evaluator_bce(bce_7)[0][1]\n",
    "estado = agent.update_bce(bce_to_add)\n",
    "print(estado)"
   ]
  },
  {
   "cell_type": "code",
   "execution_count": null,
   "id": "c0463837",
   "metadata": {},
   "outputs": [],
   "source": [
    "print(agent.status_ai_bce())\n",
    "break_loop = False\n",
    "for event in event_list:\n",
    "    agent.set_event(event)\n",
    "    arr_bce = agent_maria.comparator(agent.status_ai_bce())\n",
    "    bce_7 = agent.update_neuron(arr_bce)\n",
    "    bce_to_add = agent_maria.general_evaluator_bce(bce_7)[0][1]\n",
    "    estado = agent.update_bce(bce_to_add)\n",
    "    print(estado)\n",
    "    for factor in agent.status_ai_bce().state():\n",
    "        if factor[1] == LEN_DEGREE:\n",
    "            print(\"DEAD\")\n",
    "            break_loop = True\n",
    "            break\n",
    "    if break_loop:\n",
    "        break"
   ]
  },
  {
   "cell_type": "code",
   "execution_count": null,
   "id": "9d7a85a5",
   "metadata": {},
   "outputs": [],
   "source": [
    "agent_maria=Agent_Maria()\n",
    "agent = Agent_A()\n",
    "gen  = Generator()\n",
    "\n",
    "print()\n",
    "agent.init_patterns(gen.gen_patterns())\n",
    "agent.status_rn()\n",
    "print(agent.status_rn())\n",
    "\n",
    "print(agent.status_ai_bce())\n",
    "break_loop = False\n",
    "for i in range(10):\n",
    "    event=gen.gen_event()\n",
    "    print(\"Evento de entrada: \",event)\n",
    "    #agent.set_event(event)\n",
    "    print(agent.set_event(event))\n",
    "    arr_bce = agent_maria.comparator(agent.status_ai_bce())\n",
    "    bce_7 = agent.update_neuron(arr_bce)\n",
    "    bce_to_add = agent_maria.general_evaluator_bce(bce_7)[0][1]\n",
    "    estado = agent.update_bce(bce_to_add)\n",
    "    #print(estado)\n",
    "    for factor in agent.status_ai_bce().state():\n",
    "        if factor[1] == LEN_DEGREE:\n",
    "            print(\"DEAD\")\n",
    "            break_loop = True\n",
    "            break\n",
    "    if break_loop:\n",
    "        break\n",
    "\n",
    "\n",
    "\n",
    "\n",
    "#print(agent.status_ai_bce())\n",
    "#agent.status_rn()\n",
    "\n",
    "#bce_salida = \n",
    "#print(bce_salida)\n",
    "#bce_entrada = agent_maria.recibir_7_bce(bce_salida)\n",
    "#print(bce_entrada)\n",
    "#print(agent.status_ai_bce())\n",
    "\n",
    "#print(bce_entrada+agent.status_bce)\n",
    "#rn_senses.set_event(sensory_event)"
   ]
  },
  {
   "attachments": {},
   "cell_type": "markdown",
   "id": "e872024a",
   "metadata": {},
   "source": [
    "### Otros"
   ]
  },
  {
   "attachments": {},
   "cell_type": "markdown",
   "id": "eaaad626",
   "metadata": {},
   "source": [
    "## Definición de l os estados de BCE\n",
    "\n",
    "### Biological\n",
    "-1 Muerte corporal\n",
    "-0.75 enfermedad corporal\n",
    "-.50 ansiedad corporal\n",
    "-.25 incomodidad\n",
    "-0 menos incomodidad\n",
    "+0 menos comodidad \n",
    "+.25 comodidad\n",
    "+.50 ansiedad mental\n",
    "+.75 enfermedad mental\n",
    "+1 Muerte Mental\n",
    "\n",
    "### Emocion\n",
    "-1 Muerte corporal\n",
    "-0.75 depresivo corporal\n",
    "-.50 agitado corporal\n",
    "-.25 Triste\n",
    "-0 menos Triste\n",
    "+0 menos Alegre \n",
    "+.25 Alegre\n",
    "+.50 euforico mental\n",
    "+.75 maniaco mental\n",
    "+1 Muerte Mental\n",
    "\n",
    "### Culture\n",
    "-1 Muerte Vegatativo\n",
    "-0.75 ignorante\n",
    "-.50 torpe\n",
    "-.25 inseguro\n",
    "-0 menos inseguro\n",
    "+0 menos Seguro \n",
    "+.25 Seguro\n",
    "+.50 soberbia\n",
    "+.75 delirio\n",
    "+1 Muerte Mental"
   ]
  }
 ],
 "metadata": {
  "kernelspec": {
   "display_name": "Python 3 (ipykernel)",
   "language": "python",
   "name": "python3"
  },
  "language_info": {
   "codemirror_mode": {
    "name": "ipython",
    "version": 3
   },
   "file_extension": ".py",
   "mimetype": "text/x-python",
   "name": "python",
   "nbconvert_exporter": "python",
   "pygments_lexer": "ipython3",
   "version": "3.9.16"
  }
 },
 "nbformat": 4,
 "nbformat_minor": 5
}
