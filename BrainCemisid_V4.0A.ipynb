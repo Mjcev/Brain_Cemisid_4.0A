{
 "cells": [
  {
   "cell_type": "markdown",
   "id": "9b83a758",
   "metadata": {},
   "source": [
    "### Imports"
   ]
  },
  {
   "cell_type": "code",
   "execution_count": 1,
   "id": "d0df5613",
   "metadata": {},
   "outputs": [],
   "source": [
    "import random\n",
    "import numpy as np"
   ]
  },
  {
   "cell_type": "markdown",
   "id": "4fdaa055",
   "metadata": {},
   "source": [
    "### Clase Need,  es una clase base para crear la clase BCE\n"
   ]
  },
  {
   "cell_type": "code",
   "execution_count": 2,
   "id": "f91f0155",
   "metadata": {},
   "outputs": [],
   "source": [
    "#random.seed(2)\n",
    "class Need():\n",
    "    def __init__(self, sign=0, degree=0,len_degree=4):\n",
    "\n",
    "        self.len_sign=2\n",
    "        self.len_degree=len_degree\n",
    "        \n",
    "        self.state = np.array([sign,degree], dtype=np.int8) \n",
    "        self.sign_str={0:\"+\",1:\"-\"}\n",
    "\n",
    "    def __str__(self):\n",
    "        return f\"{self.sign_str[self.state[0]]}{self.state[1]/self.len_degree}\"\n",
    "    \n",
    "    def __repr__(self):\n",
    "        return f\"{self.sign_str[self.state[0]]}{self.state[1]/self.len_degree}\"\n",
    "    \n",
    "    def __add__(self, other):\n",
    "        \n",
    "        if self.state[1] == 0 and other.state[1] == 0:\n",
    "            return Need(self.state[0],self.state[1])\n",
    "        \n",
    "        elif self.state[0]==0:\n",
    "            if other.state[0] == 0:\n",
    "                sign = 0\n",
    "                degree = min(self.state[1]+other.state[1],self.len_degree)\n",
    "            else:\n",
    "                if self.state[1] >= other.state[1]:\n",
    "                    sign = 0\n",
    "                    degree = self.state[1]-other.state[1]\n",
    "                else:\n",
    "                    sign = 1\n",
    "                    degree = abs(self.state[1]-other.state[1])\n",
    "        else:\n",
    "            if other.state[0] == 1:\n",
    "                sign = 1\n",
    "                degree = min(self.state[1]+other.state[1],self.len_degree)\n",
    "            else:\n",
    "                if self.state[1] >= other.state[1]:\n",
    "                    sign = 1\n",
    "                    degree = self.state[1]-other.state[1]\n",
    "                else:\n",
    "                    sign = 0\n",
    "                    degree = abs(self.state[1]-other.state[1])\n",
    "                    \n",
    "        return Need(sign,degree)\n",
    "    \n",
    "    def reset(self):\n",
    "        sign=random.randint(0,1)\n",
    "        degree=random.randint(0,2)\n",
    "        self.state=np.array([sign,degree], dtype=np.int8) \n",
    "\n",
    "\n",
    "#ejemplos de otroso metodos magicos\n",
    "#__add__(self, other)\tTo get called on add operation using + operator\n",
    "#__sub__(self, other)\tTo get called on subtraction operation using - operator.  \n",
    "#__lt__(self, other)\tTo get called on comparison using < operator.\n",
    "#__le__(self, other)\tTo get called on comparison using <= operator.\n",
    "#__ge__(self, other)\tTo get called on comparison using >= operator.\n",
    "#__gt__(self, other)\tTo get called on comparison using > operator.\n",
    "#__eq__(self, other)\tTo get called on comparison using == operator.\n",
    "#__ne__(self, other)\tTo get called on comparison using != operator.\n",
    "\n"
   ]
  },
  {
   "cell_type": "markdown",
   "id": "e9f826b7",
   "metadata": {},
   "source": [
    "### Pruebas de la clase need"
   ]
  },
  {
   "cell_type": "code",
   "execution_count": 3,
   "id": "ae971ab4",
   "metadata": {},
   "outputs": [
    {
     "name": "stdout",
     "output_type": "stream",
     "text": [
      "+0.75\n"
     ]
    }
   ],
   "source": [
    "need1 = Need(0,0)\n",
    "need2 = Need(0,3)\n",
    "print(need1+need2)\n",
    "    \n"
   ]
  },
  {
   "cell_type": "markdown",
   "id": "17e57dd6",
   "metadata": {},
   "source": [
    "###  Clase BCE "
   ]
  },
  {
   "cell_type": "code",
   "execution_count": 4,
   "id": "af342a44",
   "metadata": {},
   "outputs": [],
   "source": [
    "class BCE():\n",
    "    \n",
    "    def __init__(self,need_bio=Need(),need_cul=Need(),need_emo=Need(),size=4):\n",
    "        #action  6*3+1 =>19\n",
    "        \n",
    "        self.biologico = need_bio\n",
    "        self.cultural = need_cul\n",
    "        self.emocional = need_emo\n",
    "    \n",
    "    def state(self):\n",
    "        return np.array([ self.biologico.state, self.cultural.state, self.emocional.state ], dtype=np.int8)  \n",
    "        \n",
    "        #self.sign_str={0:\"+\",1:\"-\"}\n",
    "    def __str__(self):\n",
    "        return f\"Biologico:{str(self.biologico)} Cultural:{str(self.cultural)} Emocional:{str(self.emocional)}\"\n",
    "\n",
    "    def __repr__(self):\n",
    "        return f\"Biologico:{str(self.biologico)} Cultural:{str(self.cultural)} Emocional:{str(self.emocional)}\"\n",
    "    \n",
    "    def __add__(self, other):\n",
    "        return BCE(self.biologico+other.biologico,self.cultural+other.cultural,self.emocional+other.emocional)\n",
    "    \n",
    "    def reset(self):\n",
    "        self.biologico.reset()\n",
    "        self.cultural.reset()\n",
    "        self.emocional.reset()\n",
    "\n"
   ]
  },
  {
   "cell_type": "markdown",
   "id": "57dd4e3d",
   "metadata": {},
   "source": [
    "### Pruebas Clase BCE"
   ]
  },
  {
   "cell_type": "code",
   "execution_count": 5,
   "id": "9d54cb71",
   "metadata": {},
   "outputs": [
    {
     "name": "stdout",
     "output_type": "stream",
     "text": [
      "Biologico:-0.5 Cultural:+0.25 Emocional:-0.5\n",
      "[[1 2]\n",
      " [0 1]\n",
      " [1 2]]\n"
     ]
    }
   ],
   "source": [
    "\n",
    "bio1=Need(0,0)\n",
    "cul1=Need(1,1)\n",
    "emo1=Need(0,2)\n",
    "\n",
    "bio2=Need(0,0)\n",
    "cul2=Need(0,1)\n",
    "emo2=Need(1,3)\n",
    "    \n",
    "bce1=BCE()\n",
    "bce2=BCE()\n",
    "\n",
    "bce1.reset()\n",
    "bce2.reset()\n",
    "print(bce1)\n",
    "print(bce1.state())"
   ]
  },
  {
   "cell_type": "markdown",
   "id": "bd3952b3",
   "metadata": {},
   "source": [
    "### Clase Neuronas"
   ]
  },
  {
   "cell_type": "code",
   "execution_count": 10,
   "id": "5253a29a",
   "metadata": {},
   "outputs": [],
   "source": [
    "class Neuronas():\n",
    "    def __init__(self):\n",
    "        self.neuronas = {}\n",
    "    \n",
    "    def set_neurona(self, evento):\n",
    "        if evento not in self.neuronas:\n",
    "            self.neuronas[evento]=len(self.neuronas)\n",
    "        return self.neuronas[evento]\n",
    "            \n",
    "    def get_neuronas(self):\n",
    "        return self.neuronas\n",
    "\n"
   ]
  },
  {
   "cell_type": "markdown",
   "id": "b6f7008d",
   "metadata": {},
   "source": [
    "### Pruebas clase Neuronas"
   ]
  },
  {
   "cell_type": "code",
   "execution_count": 13,
   "id": "0fad44d9",
   "metadata": {},
   "outputs": [
    {
     "data": {
      "text/plain": [
       "{'evento_a': 0, 'evento_b': 1}"
      ]
     },
     "execution_count": 13,
     "metadata": {},
     "output_type": "execute_result"
    }
   ],
   "source": [
    "neuronas = Neuronas()\n",
    "neuronas.set_neurona(\"evento_a\")\n",
    "neuronas.set_neurona(\"evento_b\")\n",
    "neuronas.set_neurona(\"evento_a\")\n",
    "neuronas.get_neuronas()"
   ]
  },
  {
   "cell_type": "markdown",
   "id": "ed192002",
   "metadata": {},
   "source": [
    "### Diccionario de eventos a modo de simular la historia de los BCE generico de pruebas\n"
   ]
  },
  {
   "cell_type": "code",
   "execution_count": 9,
   "id": "451c1a2e",
   "metadata": {},
   "outputs": [
    {
     "name": "stdout",
     "output_type": "stream",
     "text": [
      "('event_0', Biologico:+0.5 Cultural:-0.75 Emocional:+0.25)\n",
      "('event_1', Biologico:-0.25 Cultural:-0.75 Emocional:-0.25)\n",
      "('event_2', Biologico:+0.0 Cultural:-0.75 Emocional:-0.25)\n",
      "('event_3', Biologico:+0.75 Cultural:+0.0 Emocional:-0.5)\n",
      "('event_4', Biologico:-0.75 Cultural:+0.0 Emocional:+0.25)\n",
      "('event_5', Biologico:+0.0 Cultural:+0.0 Emocional:+0.0)\n",
      "('event_6', Biologico:+0.5 Cultural:+0.75 Emocional:+0.0)\n",
      "('event_7', Biologico:-0.0 Cultural:-0.5 Emocional:-0.25)\n",
      "('event_8', Biologico:-0.25 Cultural:+0.75 Emocional:-0.5)\n",
      "('event_9', Biologico:+0.5 Cultural:+0.5 Emocional:+0.25)\n",
      "('event_10', Biologico:+0.5 Cultural:-0.25 Emocional:-0.0)\n",
      "('event_11', Biologico:-0.0 Cultural:-0.5 Emocional:-0.5)\n",
      "('event_12', Biologico:+0.0 Cultural:-0.0 Emocional:-0.75)\n",
      "('event_13', Biologico:-0.0 Cultural:+0.0 Emocional:-0.5)\n",
      "('event_14', Biologico:-0.25 Cultural:-0.5 Emocional:+0.5)\n",
      "('event_15', Biologico:+0.75 Cultural:+0.75 Emocional:+0.25)\n",
      "('event_16', Biologico:-0.75 Cultural:+0.5 Emocional:+0.0)\n",
      "('event_17', Biologico:+0.0 Cultural:-0.25 Emocional:-0.0)\n",
      "('event_18', Biologico:-0.75 Cultural:+0.5 Emocional:+0.0)\n",
      "('event_19', Biologico:-0.5 Cultural:-0.0 Emocional:-0.0)\n"
     ]
    }
   ],
   "source": [
    "#Creador de dicionario de eventos\n",
    "\n",
    "diccionario_evento_bce={}\n",
    "for i in range(20):\n",
    "    diccionario_evento_bce[f\"event_{i}\"]=BCE( Need(random.randint(0,1),random.randint(0,3)), Need(random.randint(0,1),random.randint(0,3)), Need(random.randint(0,1),random.randint(0,3)) )\n",
    "\n",
    "for event in diccionario_evento_bce.items():\n",
    "    print(event)\n",
    "    \n",
    "#print(diccionario_evento_bce)\n",
    "\n",
    "#str(diccionario_evento_bce[\"event_0\"])"
   ]
  },
  {
   "cell_type": "markdown",
   "id": "1333260a",
   "metadata": {},
   "source": [
    "### Diccionario manual para pruebas"
   ]
  },
  {
   "cell_type": "code",
   "execution_count": null,
   "id": "99f4c944",
   "metadata": {},
   "outputs": [],
   "source": [
    "#Cosas predeterminadas del cuerpo\n",
    "\n",
    "#Sentidos\n",
    "##Vista\n",
    "diccionario2_evento_bce[\"Tesis\"]==BCE( Need(0,0), Need(0,2), Need(0,0) )\n",
    "##Oido\n",
    "diccionario2_evento_bce[\"Led_Zeppelin\"]==BCE( Need(0,0), Need(0,0), Need(0,3) )\n",
    "\n",
    "##Olfato\n",
    "\n",
    "##Gusto\n",
    "\n",
    "##Tacto\n",
    "\n",
    "##Cuerpo\n",
    "\n",
    "##Tiempo\n",
    "\n",
    "##Ventanas de tiempo?\n",
    "# Vista | Oido   | Olfato | Gusto   | Tacto   | Cuerpo |  Tiempo   \n",
    "#T1\n",
    "\"Tesis\",\"Led_Zeppelin\",\"olor_cafe\",\"neutro\",\"neutro\",\"frio\",\"neutro\"\n",
    "#T2\n",
    "\"Tesis\",\"Led_Zeppelin_coro\",\"olor_cafe\",\"neutro\",\"neutro\",\"frio\",\"neutro\"\n",
    "#T3\n",
    "\"Tesis\",\"Led_Zeppelin\",\"olor_cafe\",\"neutro\",\"neutro\",\"frio\",\"neutro\"\n",
    "#T4\n",
    "\n",
    "\n",
    "#\"vista\",\"oido\",\"olfato\",\"gusto\",\"tacto\",\"cuerpo\",\"tiempo\""
   ]
  },
  {
   "cell_type": "markdown",
   "id": "a6081e61",
   "metadata": {},
   "source": [
    "### Clase RN_sentido,  clase base para RN de todos los sentidos"
   ]
  },
  {
   "cell_type": "code",
   "execution_count": 14,
   "id": "0593dddc",
   "metadata": {},
   "outputs": [],
   "source": [
    "#Entran QR (Eventos)\n",
    "#Salen ID_Neurona, BCE\n",
    "\n",
    "#Eventos nuevos y eventos conocidos.\n",
    "\n",
    "#Nuevos eventos \n",
    "\n",
    "class RN_sentido():\n",
    "    \n",
    "    def __init__(self,sentido=\"vista\"):\n",
    "        self.neuronas = Neuronas()\n",
    "        self.id = sentido\n",
    "        \n",
    "    def recibir_evento(self,evento):\n",
    "        \n",
    "        id_neurona=(self.neuronas.set_neurona(evento),self.id)\n",
    "        bce=diccionario_evento_bce[evento]\n",
    "        \n",
    "        return [id_neurona,bce]\n",
    "        \n",
    "        \n",
    "        \n",
    "\n"
   ]
  },
  {
   "cell_type": "code",
   "execution_count": 18,
   "id": "cf771d20",
   "metadata": {},
   "outputs": [
    {
     "name": "stdout",
     "output_type": "stream",
     "text": [
      "[(0, 'vista'), Biologico:+0.5 Cultural:-0.75 Emocional:+0.25]\n",
      "[(1, 'vista'), Biologico:+0.0 Cultural:+0.0 Emocional:+0.0]\n",
      "[(0, 'vista'), Biologico:+0.5 Cultural:-0.75 Emocional:+0.25]\n"
     ]
    }
   ],
   "source": [
    "rn_sentido_1 = RN_sentido()        \n",
    "\n",
    "print(rn_sentido_1.recibir_evento(\"event_0\"))\n",
    "print(rn_sentido_1.recibir_evento(\"event_5\"))\n",
    "print(rn_sentido_1.recibir_evento(\"event_0\"))\n",
    "\n"
   ]
  },
  {
   "cell_type": "code",
   "execution_count": 19,
   "id": "ac9a1ef3",
   "metadata": {},
   "outputs": [],
   "source": [
    "class RN_7_sentidos():\n",
    "    \n",
    "    def __init__(self):\n",
    "        \n",
    "        self.list_sentidos = {\"vista\",\"oido\",\"olfato\",\"gusto\",\"tacto\",\"cuerpo\",\"tiempo\"}\n",
    "        self.sentidos = {}\n",
    "        for sentido in self.list_sentidos:\n",
    "            self.sentidos[sentido]=RN_sentido(sentido)\n",
    "        \n",
    "        #self.sentido_vista=RN_sentido(\"vista\")\n",
    "        #self.sentido_oido=RN_sentido(\"oido\")\n",
    "        #self.sentido_olfato=RN_sentido(\"olfato\")\n",
    "        #self.sentido_gusto=RN_sentido(\"gusto\")\n",
    "        #self.sentido_tacto=RN_sentido(\"tacto\")\n",
    "        #self.sentido_cuerpo=RN_sentido(\"cuerpo\")\n",
    "        #self.sentido_tiempo=RN_sentido(\"tiempo\")\n",
    "        \n",
    "    def recibir_evento(self,arr_evento):\n",
    "        list_id_bce=[]\n",
    "        for index, sentido in enumerate(self.list_sentidos):\n",
    "            list_id_bce.append(self.sentidos[sentido].recibir_evento(arr_evento[index]))\n",
    "        return list_id_bce\n",
    "        \n",
    "    \n",
    "    \n"
   ]
  },
  {
   "cell_type": "code",
   "execution_count": 21,
   "id": "f2043b2f",
   "metadata": {},
   "outputs": [
    {
     "name": "stdout",
     "output_type": "stream",
     "text": [
      "dict_keys(['vista', 'tacto', 'olfato', 'cuerpo', 'tiempo', 'gusto', 'oido'])\n"
     ]
    },
    {
     "data": {
      "text/plain": [
       "[[(0, 'vista'), Biologico:+0.5 Cultural:-0.75 Emocional:+0.25],\n",
       " [(0, 'tacto'), Biologico:-0.25 Cultural:-0.75 Emocional:-0.25],\n",
       " [(0, 'olfato'), Biologico:+0.0 Cultural:-0.75 Emocional:-0.25],\n",
       " [(0, 'cuerpo'), Biologico:+0.75 Cultural:+0.0 Emocional:-0.5],\n",
       " [(0, 'tiempo'), Biologico:-0.75 Cultural:+0.0 Emocional:+0.25],\n",
       " [(0, 'gusto'), Biologico:+0.0 Cultural:+0.0 Emocional:+0.0],\n",
       " [(0, 'oido'), Biologico:+0.5 Cultural:+0.75 Emocional:+0.0]]"
      ]
     },
     "execution_count": 21,
     "metadata": {},
     "output_type": "execute_result"
    }
   ],
   "source": [
    "rn_sentidos = RN_7_sentidos()\n",
    "evento_sensorial=(\"event_0\",\"event_1\",\"event_2\",\"event_3\",\n",
    "                  \"event_4\",\"event_5\",\"event_6\")\n",
    "\n",
    "print(RN_7_sentidos().sentidos.keys())\n",
    "rn_sentidos.recibir_evento(evento_sensorial)\n",
    "    "
   ]
  },
  {
   "cell_type": "code",
   "execution_count": null,
   "id": "e872024a",
   "metadata": {},
   "outputs": [],
   "source": []
  },
  {
   "cell_type": "markdown",
   "id": "dc8fc59d",
   "metadata": {},
   "source": [
    "-1 Muerte\n",
    "-0.75 Necesidad muy alto, muriendo del hambre\n",
    "-.50 Necesidad medio, tiene mucha hambre\n",
    "-.25 Necesidad baja, tiene hambre\n",
    "-0 Necesidad nula, negativo\n",
    "+0 Exceso nulo, positivo  \n",
    "+.25 Exceso bajo, satisfecho\n",
    "+.50 Exceso medio, comio de mas\n",
    "+.75 Exceso alto, comio en exceso\n",
    "+1 Muerte\n",
    "\n",
    "comer 1/8 pizza +.25\n",
    "\n",
    "BCE en ese momento\n",
    "Biologico, Emocional, Cultural\n",
    "-0  ,  +0 ,  +.25\n",
    "\n",
    "BCE Evento\n",
    "+0 o null? , +.50 ,  0 o null\n",
    "\n",
    "1. Si iguales gana el estado acual\n",
    "\n",
    "\n",
    "\n",
    "\n",
    "Comparador\n",
    "\n",
    "#BCE Evento entrante \n",
    "#vs\n",
    "#BCE_AI +.25 Exceso bajo, satisfecho"
   ]
  }
 ],
 "metadata": {
  "kernelspec": {
   "display_name": "Python 3 (ipykernel)",
   "language": "python",
   "name": "python3"
  },
  "language_info": {
   "codemirror_mode": {
    "name": "ipython",
    "version": 3
   },
   "file_extension": ".py",
   "mimetype": "text/x-python",
   "name": "python",
   "nbconvert_exporter": "python",
   "pygments_lexer": "ipython3",
   "version": "3.9.16"
  }
 },
 "nbformat": 4,
 "nbformat_minor": 5
}
